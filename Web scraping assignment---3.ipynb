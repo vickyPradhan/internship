{
 "cells": [
  {
   "cell_type": "code",
   "execution_count": 2,
   "id": "ce827fdd",
   "metadata": {},
   "outputs": [],
   "source": [
    "import selenium\n",
    "from selenium import webdriver\n",
    "import warnings\n",
    "warnings.filterwarnings('ignore')\n",
    "import time\n",
    "from selenium.common.exceptions import StaleElementReferenceException, NoSuchElementException\n",
    "import pandas as pd\n",
    "import numpy as np"
   ]
  },
  {
   "cell_type": "markdown",
   "id": "26683fdf",
   "metadata": {},
   "source": [
    "1. Write a python program which searches all the product under a particular product from www.amazon.in. \n",
    "The product to be searched will be taken as input from user. For e.g. If user input is ‘guitar’. Then search \n",
    "for guitars.\n"
   ]
  },
  {
   "cell_type": "code",
   "execution_count": 12,
   "id": "a74a54fd",
   "metadata": {},
   "outputs": [
    {
     "data": {
      "text/plain": [
       "<selenium.webdriver.chrome.webdriver.WebDriver (session=\"a28e5b2dc054ceaf6790451829088f64\")>"
      ]
     },
     "execution_count": 12,
     "metadata": {},
     "output_type": "execute_result"
    }
   ],
   "source": [
    "driver=webdriver.Chrome(\"chromedriver.exe\")\n",
    "driver"
   ]
  },
  {
   "cell_type": "code",
   "execution_count": 13,
   "id": "df76fa2a",
   "metadata": {},
   "outputs": [],
   "source": [
    "driver.get('https://www.amazon.in/')\n",
    "time.sleep(2)"
   ]
  },
  {
   "cell_type": "code",
   "execution_count": 14,
   "id": "e56b5ff5",
   "metadata": {},
   "outputs": [
    {
     "name": "stdout",
     "output_type": "stream",
     "text": [
      "Enter the product you want to search :- bat\n"
     ]
    }
   ],
   "source": [
    "user_inp=input('Enter the product you want to search :- ')"
   ]
  },
  {
   "cell_type": "code",
   "execution_count": null,
   "id": "bef58d52",
   "metadata": {},
   "outputs": [],
   "source": []
  },
  {
   "cell_type": "markdown",
   "id": "4c2c0470",
   "metadata": {},
   "source": [
    "2.In the above question, now scrape the following details of each product listed in first 3 pages of your search results and save it in a data frame and csv. In case if any product has less than 3 pages in search results then scrape all the products available under that product name. Details to be scraped are: \"Brand Name\", \"Name of the Product\", \"Price\", \"Return/Exchange\", \"Expected Delivery\", \"Availability\" and “Product URL”. In case, if any of the details are missing for any of the product then replace it by “-“."
   ]
  },
  {
   "cell_type": "code",
   "execution_count": 15,
   "id": "f987791e",
   "metadata": {},
   "outputs": [],
   "source": [
    "search_product=driver.find_element_by_xpath('/html/body/div[1]/header/div/div[1]/div[2]/div/form/div[2]/div[1]/input')\n",
    "search_button=driver.find_element_by_xpath(\"/html/body/div[1]/header/div/div[1]/div[2]/div/form/div[3]/div/span\")\n",
    "search_product.send_keys(user_inp)\n",
    "search_button.click()"
   ]
  },
  {
   "cell_type": "code",
   "execution_count": 16,
   "id": "2dd26677",
   "metadata": {},
   "outputs": [],
   "source": [
    "urls=[]"
   ]
  },
  {
   "cell_type": "code",
   "execution_count": 17,
   "id": "c2ac2738",
   "metadata": {},
   "outputs": [],
   "source": [
    "for i in range(3):\n",
    "    url=driver.find_elements_by_xpath('//a[@class=\"a-link-normal s-underline-text s-underline-link-text s-link-style a-text-normal\"]')\n",
    "    for j in url:\n",
    "        urls.append(j.get_attribute('href'))\n",
    "    \n",
    "    time.sleep(5)"
   ]
  },
  {
   "cell_type": "code",
   "execution_count": 18,
   "id": "12bd2d83",
   "metadata": {},
   "outputs": [
    {
     "data": {
      "text/plain": [
       "180"
      ]
     },
     "execution_count": 18,
     "metadata": {},
     "output_type": "execute_result"
    }
   ],
   "source": [
    "len(urls)"
   ]
  },
  {
   "cell_type": "code",
   "execution_count": 19,
   "id": "aebb159d",
   "metadata": {},
   "outputs": [],
   "source": [
    "product_name=[]\n",
    "brand_name=[]\n",
    "price=[]\n",
    "return_exchange=[]\n",
    "expected_delhivery=[]\n",
    "availability=[]\n",
    "product_url=[]"
   ]
  },
  {
   "cell_type": "code",
   "execution_count": 20,
   "id": "eac06de9",
   "metadata": {},
   "outputs": [],
   "source": [
    "for j in urls:\n",
    "    driver.get(j)\n",
    "    time.sleep(5)\n",
    "    \n",
    "    try:\n",
    "        title=driver.find_element_by_xpath('/html/body/div[2]/div[2]/div[6]/div[4]/div[4]/div[1]/div/h1/span')\n",
    "        product_name.append(title.text)\n",
    "    except NoSuchElementException:\n",
    "        \n",
    "        product_name.append('-')\n",
    "        \n",
    "    try:\n",
    "        brand=driver.find_element_by_xpath('/html/body/div[2]/div[2]/div[6]/div[4]/div[4]/div[39]/div/table/tbody/tr[3]/td[2]/span')\n",
    "        brand_name.append(brand.text)\n",
    "    except NoSuchElementException:\n",
    "        brand_name.append('-')\n",
    "        \n",
    "    try:\n",
    "        prices=driver.find_element_by_xpath('/html/body/div[2]/div[2]/div[6]/div[4]/div[4]/div[9]/div[1]/div[1]/span[2]/span[2]/span[2]')\n",
    "        price.append(prices.text)\n",
    "    except NoSuchElementException:\n",
    "        price.append('NaN')\n",
    "        \n",
    "    try:\n",
    "        rtrn=driver.find_element_by_xpath('/html/body/div[2]/div[2]/div[6]/div[4]/div[4]/div[21]/div[2]/div/div/div/div[2]/span/div[2]/a')\n",
    "        return_exchange.append(rtrn.text)\n",
    "    except NoSuchElementException:\n",
    "        return_exchange.append('-')\n",
    "        \n",
    "    try:\n",
    "        delivry=driver.find_element_by_xpath('/html/body/div[2]/div[2]/div[6]/div[4]/div[1]/div[5]/div/div/div/div/form/div/div/div/div/div[3]/div/div[2]/div[8]/div[1]/div/div/div[1]/b')\n",
    "        expected_delhivery.append(delivry.text)\n",
    "    except NoSuchElementException:\n",
    "        expected_delhivery.append('-')\n",
    "        \n",
    "    "
   ]
  },
  {
   "cell_type": "code",
   "execution_count": 21,
   "id": "913b8d93",
   "metadata": {},
   "outputs": [
    {
     "name": "stdout",
     "output_type": "stream",
     "text": [
      "180 180 180 180 180 180\n"
     ]
    }
   ],
   "source": [
    "print(len(product_name),len(brand_name),len(price),len(return_exchange),len(expected_delhivery),len(urls))"
   ]
  },
  {
   "cell_type": "code",
   "execution_count": 22,
   "id": "b152d88b",
   "metadata": {},
   "outputs": [],
   "source": [
    "df=pd.DataFrame({'Product Name':product_name,'Brand':brand_name,'Price':price,'Return/Exchange':return_exchange,'Expected Delhivery':expected_delhivery,'Product URLS':urls})"
   ]
  },
  {
   "cell_type": "code",
   "execution_count": 23,
   "id": "226f0e8b",
   "metadata": {},
   "outputs": [
    {
     "data": {
      "text/html": [
       "<div>\n",
       "<style scoped>\n",
       "    .dataframe tbody tr th:only-of-type {\n",
       "        vertical-align: middle;\n",
       "    }\n",
       "\n",
       "    .dataframe tbody tr th {\n",
       "        vertical-align: top;\n",
       "    }\n",
       "\n",
       "    .dataframe thead th {\n",
       "        text-align: right;\n",
       "    }\n",
       "</style>\n",
       "<table border=\"1\" class=\"dataframe\">\n",
       "  <thead>\n",
       "    <tr style=\"text-align: right;\">\n",
       "      <th></th>\n",
       "      <th>Product Name</th>\n",
       "      <th>Brand</th>\n",
       "      <th>Price</th>\n",
       "      <th>Return/Exchange</th>\n",
       "      <th>Expected Delhivery</th>\n",
       "      <th>Product URLS</th>\n",
       "    </tr>\n",
       "  </thead>\n",
       "  <tbody>\n",
       "    <tr>\n",
       "      <th>0</th>\n",
       "      <td>Astaad Run Machine English Willow Premium Hand...</td>\n",
       "      <td>Wood</td>\n",
       "      <td>6,500</td>\n",
       "      <td>10 Days Returnable</td>\n",
       "      <td>Tuesday, May 31</td>\n",
       "      <td>https://www.amazon.in/gp/slredirect/picassoRed...</td>\n",
       "    </tr>\n",
       "    <tr>\n",
       "      <th>1</th>\n",
       "      <td>ZUBYCO Plain Popular Willow Full Size Wooden C...</td>\n",
       "      <td>Generic</td>\n",
       "      <td>2,334</td>\n",
       "      <td>-</td>\n",
       "      <td>Friday, June 3</td>\n",
       "      <td>https://www.amazon.in/gp/slredirect/picassoRed...</td>\n",
       "    </tr>\n",
       "    <tr>\n",
       "      <th>2</th>\n",
       "      <td>Full Cane Handle Cricket Bat</td>\n",
       "      <td>Generic</td>\n",
       "      <td>1,499</td>\n",
       "      <td>10 Days Returnable</td>\n",
       "      <td>Sunday, June 5</td>\n",
       "      <td>https://www.amazon.in/gp/slredirect/picassoRed...</td>\n",
       "    </tr>\n",
       "    <tr>\n",
       "      <th>3</th>\n",
       "      <td>Aurion Half Cane Kashmir Willow Cricket Bat | ...</td>\n",
       "      <td>AURION</td>\n",
       "      <td>899</td>\n",
       "      <td>10 Days Returnable</td>\n",
       "      <td>Thursday, June 2</td>\n",
       "      <td>https://www.amazon.in/gp/slredirect/picassoRed...</td>\n",
       "    </tr>\n",
       "    <tr>\n",
       "      <th>4</th>\n",
       "      <td>Lycan Junior Cricket Bat (Size 3, Age 6-10 Yea...</td>\n",
       "      <td>LYCAN</td>\n",
       "      <td>199</td>\n",
       "      <td>10 day Refund/Replacement</td>\n",
       "      <td>Thursday, June 2</td>\n",
       "      <td>https://www.amazon.in/Lycan-Junior-Size-Number...</td>\n",
       "    </tr>\n",
       "    <tr>\n",
       "      <th>...</th>\n",
       "      <td>...</td>\n",
       "      <td>...</td>\n",
       "      <td>...</td>\n",
       "      <td>...</td>\n",
       "      <td>...</td>\n",
       "      <td>...</td>\n",
       "    </tr>\n",
       "    <tr>\n",
       "      <th>175</th>\n",
       "      <td>Cricket Bat Full Size Popular Willow Cricket B...</td>\n",
       "      <td>Wood</td>\n",
       "      <td>NaN</td>\n",
       "      <td>-</td>\n",
       "      <td>-</td>\n",
       "      <td>https://www.amazon.in/Cricket-Popular-Willow-T...</td>\n",
       "    </tr>\n",
       "    <tr>\n",
       "      <th>176</th>\n",
       "      <td>Lycan Dynamic Power Hard Plastic Cricket Bat f...</td>\n",
       "      <td>Plastic</td>\n",
       "      <td>379</td>\n",
       "      <td>10 day Refund/Replacement</td>\n",
       "      <td>Thursday, June 2</td>\n",
       "      <td>https://www.amazon.in/Lycan-Dynamic-Plastic-Cr...</td>\n",
       "    </tr>\n",
       "    <tr>\n",
       "      <th>177</th>\n",
       "      <td>SUNLEY Cricket Set with Sarthak Youth Popular ...</td>\n",
       "      <td>SUNLEY</td>\n",
       "      <td>529</td>\n",
       "      <td>10 Days Returnable</td>\n",
       "      <td>Thursday, June 2</td>\n",
       "      <td>https://www.amazon.in/SUNLEY-Cricket-Sarthak-P...</td>\n",
       "    </tr>\n",
       "    <tr>\n",
       "      <th>178</th>\n",
       "      <td>Popular Willow Wooden Kukaburra Cricket Bat Fu...</td>\n",
       "      <td>PMG</td>\n",
       "      <td>490</td>\n",
       "      <td>-</td>\n",
       "      <td>Thursday, June 2</td>\n",
       "      <td>https://www.amazon.in/Popular-Willow-Wooden-Ku...</td>\n",
       "    </tr>\n",
       "    <tr>\n",
       "      <th>179</th>\n",
       "      <td>R.D.G.S Hard Willow CT128/VK18 MRF Sticker Ful...</td>\n",
       "      <td>R.D.G</td>\n",
       "      <td>499</td>\n",
       "      <td>-</td>\n",
       "      <td>Thursday, June 2</td>\n",
       "      <td>https://www.amazon.in/R-D-G-S-Willow-Sticker-C...</td>\n",
       "    </tr>\n",
       "  </tbody>\n",
       "</table>\n",
       "<p>180 rows × 6 columns</p>\n",
       "</div>"
      ],
      "text/plain": [
       "                                          Product Name    Brand  Price  \\\n",
       "0    Astaad Run Machine English Willow Premium Hand...     Wood  6,500   \n",
       "1    ZUBYCO Plain Popular Willow Full Size Wooden C...  Generic  2,334   \n",
       "2                         Full Cane Handle Cricket Bat  Generic  1,499   \n",
       "3    Aurion Half Cane Kashmir Willow Cricket Bat | ...   AURION    899   \n",
       "4    Lycan Junior Cricket Bat (Size 3, Age 6-10 Yea...    LYCAN    199   \n",
       "..                                                 ...      ...    ...   \n",
       "175  Cricket Bat Full Size Popular Willow Cricket B...     Wood    NaN   \n",
       "176  Lycan Dynamic Power Hard Plastic Cricket Bat f...  Plastic    379   \n",
       "177  SUNLEY Cricket Set with Sarthak Youth Popular ...   SUNLEY    529   \n",
       "178  Popular Willow Wooden Kukaburra Cricket Bat Fu...      PMG    490   \n",
       "179  R.D.G.S Hard Willow CT128/VK18 MRF Sticker Ful...    R.D.G    499   \n",
       "\n",
       "               Return/Exchange Expected Delhivery  \\\n",
       "0           10 Days Returnable    Tuesday, May 31   \n",
       "1                            -     Friday, June 3   \n",
       "2           10 Days Returnable     Sunday, June 5   \n",
       "3           10 Days Returnable   Thursday, June 2   \n",
       "4    10 day Refund/Replacement   Thursday, June 2   \n",
       "..                         ...                ...   \n",
       "175                          -                  -   \n",
       "176  10 day Refund/Replacement   Thursday, June 2   \n",
       "177         10 Days Returnable   Thursday, June 2   \n",
       "178                          -   Thursday, June 2   \n",
       "179                          -   Thursday, June 2   \n",
       "\n",
       "                                          Product URLS  \n",
       "0    https://www.amazon.in/gp/slredirect/picassoRed...  \n",
       "1    https://www.amazon.in/gp/slredirect/picassoRed...  \n",
       "2    https://www.amazon.in/gp/slredirect/picassoRed...  \n",
       "3    https://www.amazon.in/gp/slredirect/picassoRed...  \n",
       "4    https://www.amazon.in/Lycan-Junior-Size-Number...  \n",
       "..                                                 ...  \n",
       "175  https://www.amazon.in/Cricket-Popular-Willow-T...  \n",
       "176  https://www.amazon.in/Lycan-Dynamic-Plastic-Cr...  \n",
       "177  https://www.amazon.in/SUNLEY-Cricket-Sarthak-P...  \n",
       "178  https://www.amazon.in/Popular-Willow-Wooden-Ku...  \n",
       "179  https://www.amazon.in/R-D-G-S-Willow-Sticker-C...  \n",
       "\n",
       "[180 rows x 6 columns]"
      ]
     },
     "execution_count": 23,
     "metadata": {},
     "output_type": "execute_result"
    }
   ],
   "source": [
    "df"
   ]
  },
  {
   "cell_type": "code",
   "execution_count": null,
   "id": "bd898600",
   "metadata": {},
   "outputs": [],
   "source": []
  },
  {
   "cell_type": "markdown",
   "id": "2ab2422f",
   "metadata": {},
   "source": [
    "3. Write a python program to access the search bar and search button on images.google.com and scrape 10\n",
    "images each for keywords ‘fruits’, ‘cars’ and ‘Machine Learning’, ‘Guitar’, ‘Cakes’"
   ]
  },
  {
   "cell_type": "code",
   "execution_count": 13,
   "id": "d356ba6d",
   "metadata": {},
   "outputs": [],
   "source": [
    "import selenium\n",
    "from selenium import webdriver\n",
    "import warnings\n",
    "warnings.filterwarnings('ignore')\n",
    "import time\n",
    "from selenium.common.exceptions import StaleElementReferenceException, NoSuchElementException\n",
    "import pandas as pd\n",
    "import numpy as np\n",
    "from bs4 import BeautifulSoup\n",
    "import requests"
   ]
  },
  {
   "cell_type": "code",
   "execution_count": 24,
   "id": "024a02fc",
   "metadata": {},
   "outputs": [
    {
     "data": {
      "text/plain": [
       "<selenium.webdriver.chrome.webdriver.WebDriver (session=\"c121c2a6ff2fc012c0287697c0709f38\")>"
      ]
     },
     "execution_count": 24,
     "metadata": {},
     "output_type": "execute_result"
    }
   ],
   "source": [
    "driver=webdriver.Chrome(\"chromedriver.exe\")\n",
    "driver"
   ]
  },
  {
   "cell_type": "code",
   "execution_count": 25,
   "id": "03acd442",
   "metadata": {},
   "outputs": [],
   "source": [
    "driver.get('https://www.google.com/')\n",
    "time.sleep(2)"
   ]
  },
  {
   "cell_type": "markdown",
   "id": "09dcbb35",
   "metadata": {},
   "source": [
    "# for fruits"
   ]
  },
  {
   "cell_type": "code",
   "execution_count": 28,
   "id": "6503e897",
   "metadata": {},
   "outputs": [],
   "source": [
    "search_product=driver.find_element_by_xpath('//input[@class=\"gLFyf gsfi\"]')\n",
    "search_product.send_keys('fruits')"
   ]
  },
  {
   "cell_type": "code",
   "execution_count": 29,
   "id": "9e4c71cf",
   "metadata": {},
   "outputs": [],
   "source": [
    "search_button=driver.find_element_by_xpath('/html/body/div[1]/div[3]/form/div[1]/div[1]/div[2]/div[2]/div[2]/ul[1]/div/ul/li[2]/div/div[2]/div[1]/span')\n",
    "search_button.click()"
   ]
  },
  {
   "cell_type": "code",
   "execution_count": 30,
   "id": "e4f59b3a",
   "metadata": {},
   "outputs": [],
   "source": [
    "image_clk=driver.find_element_by_xpath('/html/body/div[7]/div/div[4]/div/div[1]/div/div[1]/div/div[2]/a')\n",
    "image_clk.click()"
   ]
  },
  {
   "cell_type": "code",
   "execution_count": 31,
   "id": "ac68afd5",
   "metadata": {},
   "outputs": [],
   "source": [
    "fruit_images=driver.find_elements_by_xpath('//img[@class=\"rg_i Q4LuWd\"]')"
   ]
  },
  {
   "cell_type": "code",
   "execution_count": 32,
   "id": "158fa249",
   "metadata": {},
   "outputs": [],
   "source": [
    "fruit_data=[]\n",
    "fruit_urls=[]"
   ]
  },
  {
   "cell_type": "code",
   "execution_count": 35,
   "id": "34326577",
   "metadata": {},
   "outputs": [
    {
     "name": "stdout",
     "output_type": "stream",
     "text": [
      "Downloading 0 of 10 images\n",
      "Downloading 1 of 10 images\n",
      "Downloading 2 of 10 images\n",
      "Downloading 3 of 10 images\n",
      "Downloading 4 of 10 images\n",
      "Downloading 5 of 10 images\n",
      "Downloading 6 of 10 images\n",
      "Downloading 7 of 10 images\n",
      "Downloading 8 of 10 images\n",
      "Downloading 9 of 10 images\n",
      "Downloading 10 of 10 images\n"
     ]
    }
   ],
   "source": [
    "for fruit_image in fruit_images:\n",
    "    source=fruit_image.get_attribute('src')\n",
    "    if source is not None:\n",
    "        if(source[0:4]=='http'):\n",
    "            fruit_urls.append(source)\n",
    "            \n",
    "for i in range(len(fruit_urls)):\n",
    "    if i>10:\n",
    "        break\n",
    "    print(\"Downloading {0} of {1} images\".format(i,10))\n",
    "    response=requests.get(fruit_urls[i])\n",
    "    file=open(\"‪C:\\fruit images\"+str(i)+\".jpg\",\"wb\")\n",
    "    file.write(response.content)"
   ]
  },
  {
   "cell_type": "markdown",
   "id": "9cb25f66",
   "metadata": {},
   "source": [
    "# For car"
   ]
  },
  {
   "cell_type": "code",
   "execution_count": 187,
   "id": "d105a7e0",
   "metadata": {},
   "outputs": [
    {
     "data": {
      "text/plain": [
       "<selenium.webdriver.chrome.webdriver.WebDriver (session=\"3ccf4c27c09efd68c267a176ba91ca3c\")>"
      ]
     },
     "execution_count": 187,
     "metadata": {},
     "output_type": "execute_result"
    }
   ],
   "source": [
    "driver=webdriver.Chrome(\"chromedriver.exe\")\n",
    "driver"
   ]
  },
  {
   "cell_type": "code",
   "execution_count": 188,
   "id": "24813f41",
   "metadata": {},
   "outputs": [],
   "source": [
    "driver.get('https://www.google.com/')\n",
    "time.sleep(2)"
   ]
  },
  {
   "cell_type": "code",
   "execution_count": 189,
   "id": "6927f389",
   "metadata": {},
   "outputs": [],
   "source": [
    "search_product=driver.find_element_by_xpath('//input[@class=\"gLFyf gsfi\"]')\n",
    "search_product.send_keys('cars')"
   ]
  },
  {
   "cell_type": "code",
   "execution_count": 190,
   "id": "398fad5f",
   "metadata": {},
   "outputs": [],
   "source": [
    "search_button=driver.find_element_by_xpath('/html/body/div[1]/div[3]/form/div[1]/div[1]/div[2]/div[2]/div[2]/ul[1]/div/ul/li[2]/div/div[2]/div[1]/span')\n",
    "search_button.click()"
   ]
  },
  {
   "cell_type": "code",
   "execution_count": 191,
   "id": "e418d923",
   "metadata": {},
   "outputs": [],
   "source": [
    "image_clk=driver.find_element_by_xpath('/html/body/div[7]/div/div[4]/div/div[1]/div/div[1]/div/div[2]/a')\n",
    "image_clk.click()"
   ]
  },
  {
   "cell_type": "code",
   "execution_count": 192,
   "id": "f67d8c24",
   "metadata": {},
   "outputs": [],
   "source": [
    "car_images=driver.find_elements_by_xpath('//img[@class=\"rg_i Q4LuWd\"]')"
   ]
  },
  {
   "cell_type": "code",
   "execution_count": 193,
   "id": "520b9c8e",
   "metadata": {},
   "outputs": [],
   "source": [
    "car_data=[]\n",
    "car_urls=[]"
   ]
  },
  {
   "cell_type": "code",
   "execution_count": 195,
   "id": "f9511279",
   "metadata": {},
   "outputs": [],
   "source": [
    "for car_image in car_images:\n",
    "    source=car_image.get_attribute('src')\n",
    "    if source is not None:\n",
    "        if(source[0:4]=='http'):\n",
    "            car_urls.append(source)\n",
    "            \n",
    "for i in range(len(car_urls)):\n",
    "    if i>10:\n",
    "        break\n",
    "    print(\"Downloading {0} of {1} images\".format(i,10))\n",
    "    response=requests.get(fruit_urls[i])\n",
    "    file=open(r\"‪‪C:\\car images\"+str(i)+\".jpg\",\"wb\")\n",
    "    file.write(response.content)"
   ]
  },
  {
   "cell_type": "markdown",
   "id": "49775cc8",
   "metadata": {},
   "source": [
    "# For Machine Learning"
   ]
  },
  {
   "cell_type": "code",
   "execution_count": 128,
   "id": "c7cc1e2c",
   "metadata": {},
   "outputs": [
    {
     "data": {
      "text/plain": [
       "<selenium.webdriver.chrome.webdriver.WebDriver (session=\"52f051106ae6004c0ae4447ba7abcd22\")>"
      ]
     },
     "execution_count": 128,
     "metadata": {},
     "output_type": "execute_result"
    }
   ],
   "source": [
    "driver=webdriver.Chrome(\"chromedriver.exe\")\n",
    "driver"
   ]
  },
  {
   "cell_type": "code",
   "execution_count": 129,
   "id": "8855be2b",
   "metadata": {},
   "outputs": [],
   "source": [
    "driver.get('https://www.google.com/')\n",
    "time.sleep(2)"
   ]
  },
  {
   "cell_type": "code",
   "execution_count": 130,
   "id": "5c9b8c03",
   "metadata": {},
   "outputs": [],
   "source": [
    "search_product=driver.find_element_by_xpath('//input[@class=\"gLFyf gsfi\"]')\n",
    "search_product.send_keys('machine learning')"
   ]
  },
  {
   "cell_type": "code",
   "execution_count": 132,
   "id": "1f56ea4d",
   "metadata": {},
   "outputs": [],
   "source": [
    "search_button=driver.find_element_by_xpath('/html/body/div[1]/div[3]/form/div[1]/div[1]/div[2]/div[2]/div[2]/ul[1]/div/ul/li[1]/div/div[2]/div[1]/span')\n",
    "search_button.click()"
   ]
  },
  {
   "cell_type": "code",
   "execution_count": 133,
   "id": "cde7b694",
   "metadata": {},
   "outputs": [],
   "source": [
    "image_clk=driver.find_element_by_xpath('/html/body/div[7]/div/div[4]/div/div[1]/div/div[1]/div/div[3]/a')\n",
    "image_clk.click()"
   ]
  },
  {
   "cell_type": "code",
   "execution_count": 138,
   "id": "71d13eee",
   "metadata": {},
   "outputs": [],
   "source": [
    "ml_images=driver.find_elements_by_xpath('//img[@class=\"rg_i Q4LuWd\"]')"
   ]
  },
  {
   "cell_type": "code",
   "execution_count": 139,
   "id": "1f93710a",
   "metadata": {},
   "outputs": [],
   "source": [
    "ml_data=[]\n",
    "ml_urls=[]"
   ]
  },
  {
   "cell_type": "code",
   "execution_count": 196,
   "id": "30d8fcfd",
   "metadata": {},
   "outputs": [],
   "source": [
    "for ml_image in ml_images:\n",
    "    source=ml_image.get_attribute('src')\n",
    "    if source is not None:\n",
    "        if(source[0:10]=='http'):\n",
    "            ml_urls.append(source)\n",
    "            \n",
    "for i in range(len(ml_urls)):\n",
    "    if i>10:\n",
    "        break\n",
    "    print(\"Downloading {0} of {1} images\".format(i,10))\n",
    "    response=requests.get(fruit_urls[i])\n",
    "    file=open(r\"‪‪C:/car images\"+str(i)+\".jpg\",\"wb\")\n",
    "    file.write(response.content)"
   ]
  },
  {
   "cell_type": "markdown",
   "id": "ca00b0db",
   "metadata": {},
   "source": [
    "# For guitar"
   ]
  },
  {
   "cell_type": "code",
   "execution_count": 142,
   "id": "7706e554",
   "metadata": {},
   "outputs": [
    {
     "data": {
      "text/plain": [
       "<selenium.webdriver.chrome.webdriver.WebDriver (session=\"a2dc7e56cfd6c2f1e1b69340b13bf093\")>"
      ]
     },
     "execution_count": 142,
     "metadata": {},
     "output_type": "execute_result"
    }
   ],
   "source": [
    "driver=webdriver.Chrome(\"chromedriver.exe\")\n",
    "driver"
   ]
  },
  {
   "cell_type": "code",
   "execution_count": 143,
   "id": "d0b5eb5f",
   "metadata": {},
   "outputs": [],
   "source": [
    "driver.get('https://www.google.com/')\n",
    "time.sleep(2)"
   ]
  },
  {
   "cell_type": "code",
   "execution_count": 146,
   "id": "583c8d35",
   "metadata": {},
   "outputs": [],
   "source": [
    "search_product=driver.find_element_by_xpath('//input[@class=\"gLFyf gsfi\"]')\n",
    "search_product.send_keys('Guitar')"
   ]
  },
  {
   "cell_type": "code",
   "execution_count": 147,
   "id": "4d02b488",
   "metadata": {},
   "outputs": [],
   "source": [
    "search_button=driver.find_element_by_xpath('/html/body/div[4]/div[2]/form/div[1]/div[1]/div[3]/div[2]/div[2]/ul[1]/div/ul/li[2]/div/div[2]/div[1]/span')\n",
    "search_button.click()"
   ]
  },
  {
   "cell_type": "code",
   "execution_count": 149,
   "id": "ad0bc98b",
   "metadata": {},
   "outputs": [],
   "source": [
    "image_clk=driver.find_element_by_xpath('/html/body/div[6]/div/div[2]/div/div[1]/div/div[1]/div/div[2]/a')\n",
    "image_clk.click()"
   ]
  },
  {
   "cell_type": "code",
   "execution_count": 176,
   "id": "47080fe8",
   "metadata": {},
   "outputs": [],
   "source": [
    "guitar_images=driver.find_elements_by_xpath('//img[@class=\"rg_i Q4LuWd\"]')"
   ]
  },
  {
   "cell_type": "code",
   "execution_count": 177,
   "id": "b5829395",
   "metadata": {},
   "outputs": [],
   "source": [
    "guitar_data=[]\n",
    "guitar_urls=[]"
   ]
  },
  {
   "cell_type": "code",
   "execution_count": 185,
   "id": "923441a1",
   "metadata": {},
   "outputs": [
    {
     "name": "stdout",
     "output_type": "stream",
     "text": [
      "Downloading 0 of 10 images\n",
      "Downloading 1 of 10 images\n",
      "Downloading 2 of 10 images\n",
      "Downloading 3 of 10 images\n",
      "Downloading 4 of 10 images\n",
      "Downloading 5 of 10 images\n",
      "Downloading 6 of 10 images\n",
      "Downloading 7 of 10 images\n",
      "Downloading 8 of 10 images\n",
      "Downloading 9 of 10 images\n",
      "Downloading 10 of 10 images\n"
     ]
    }
   ],
   "source": [
    "for guitar_image in guitar_images:\n",
    "    source=guitar_image.get_attribute('src')\n",
    "    if source is not None:\n",
    "        if(source[0:4]=='http'):\n",
    "            guitar_urls.append(source)\n",
    "            \n",
    "for i in range(len(guitar_urls)):\n",
    "    if i>10:\n",
    "        \n",
    "        break\n",
    "    print(\"Downloading {0} of {1} images\".format(i,10))\n",
    "    response=requests.get(guitar_urls[i])\n",
    "    file=open(r\"‪‪‪C:\\images\"+str(i)+\".jpg\")\n",
    "    file.write(responce.content)\n",
    "    \n",
    "   "
   ]
  },
  {
   "cell_type": "markdown",
   "id": "a537db7c",
   "metadata": {},
   "source": [
    "# For Cakes"
   ]
  },
  {
   "cell_type": "code",
   "execution_count": 197,
   "id": "911eb8a5",
   "metadata": {},
   "outputs": [
    {
     "data": {
      "text/plain": [
       "<selenium.webdriver.chrome.webdriver.WebDriver (session=\"fea6a79f87c6644e7111a82590eef19b\")>"
      ]
     },
     "execution_count": 197,
     "metadata": {},
     "output_type": "execute_result"
    }
   ],
   "source": [
    "driver=webdriver.Chrome(\"chromedriver.exe\")\n",
    "driver"
   ]
  },
  {
   "cell_type": "code",
   "execution_count": 198,
   "id": "190996da",
   "metadata": {},
   "outputs": [],
   "source": [
    "driver.get('https://www.google.com/')\n",
    "time.sleep(2)"
   ]
  },
  {
   "cell_type": "code",
   "execution_count": 199,
   "id": "678b0edf",
   "metadata": {},
   "outputs": [],
   "source": [
    "search_product=driver.find_element_by_xpath('//input[@class=\"gLFyf gsfi\"]')\n",
    "search_product.send_keys('cakes')"
   ]
  },
  {
   "cell_type": "code",
   "execution_count": 201,
   "id": "e254b360",
   "metadata": {},
   "outputs": [],
   "source": [
    "search_button=driver.find_element_by_xpath('/html/body/div[4]/div[2]/form/div[1]/div[1]/div[3]/div[2]/div[2]/ul[1]/div/ul/li[3]/div/div[2]/div[1]/span')\n",
    "search_button.click()"
   ]
  },
  {
   "cell_type": "code",
   "execution_count": 202,
   "id": "2f3fb7de",
   "metadata": {},
   "outputs": [],
   "source": [
    "image_clk=driver.find_element_by_xpath('/html/body/div[7]/div/div[4]/div/div[1]/div/div[1]/div/div[2]/a')\n",
    "image_clk.click()"
   ]
  },
  {
   "cell_type": "code",
   "execution_count": 203,
   "id": "6b3e10a6",
   "metadata": {},
   "outputs": [],
   "source": [
    "cake_images=driver.find_elements_by_xpath('//img[@class=\"rg_i Q4LuWd\"]')"
   ]
  },
  {
   "cell_type": "code",
   "execution_count": 204,
   "id": "0e24cce3",
   "metadata": {},
   "outputs": [],
   "source": [
    "cake_data=[]\n",
    "cake_urls=[]"
   ]
  },
  {
   "cell_type": "code",
   "execution_count": 208,
   "id": "3fa90638",
   "metadata": {},
   "outputs": [
    {
     "name": "stdout",
     "output_type": "stream",
     "text": [
      "Downloading 0 of 10 images\n",
      "Downloading 1 of 10 images\n",
      "Downloading 2 of 10 images\n",
      "Downloading 3 of 10 images\n",
      "Downloading 4 of 10 images\n",
      "Downloading 5 of 10 images\n",
      "Downloading 6 of 10 images\n",
      "Downloading 7 of 10 images\n",
      "Downloading 8 of 10 images\n",
      "Downloading 9 of 10 images\n",
      "Downloading 10 of 10 images\n"
     ]
    }
   ],
   "source": [
    "for cake_image in cake_images:\n",
    "    source=cake_image.get_attribute('src')\n",
    "    if source is not None:\n",
    "        if(source[0:4]=='http'):\n",
    "            cake_urls.append(source)\n",
    "            \n",
    "for i in range(len(cake_urls)):\n",
    "    if i>10:\n",
    "        \n",
    "        break\n",
    "    print(\"Downloading {0} of {1} images\".format(i,10))\n",
    "    response=requests.get(cake_urls[i])\n",
    "    file=open(r\"‪‪‪C:\\images\"+str(i)+\".jpg\")\n",
    "    file.write(responce.content)"
   ]
  },
  {
   "cell_type": "markdown",
   "id": "d9be22a2",
   "metadata": {},
   "source": [
    "4. Write a python program to search for a smartphone(e.g.: Oneplus Nord, pixel 4A, etc.) on\n",
    "www.flipkart.com and scrape following details for all the search results displayed on 1st page. Details to be \n",
    "scraped: “Brand Name”, “Smartphone name”, “Colour”, “RAM”, “Storage(ROM)”, “Primary Camera”, \n",
    "“Secondary Camera”, “Display Size”, “Battery Capacity”, “Price”, “Product URL”. Incase if any of the \n",
    "details is missing then replace it by “- “. Save your results in a dataframe and CSV."
   ]
  },
  {
   "cell_type": "code",
   "execution_count": 24,
   "id": "5d7eb7df",
   "metadata": {},
   "outputs": [
    {
     "data": {
      "text/plain": [
       "<selenium.webdriver.chrome.webdriver.WebDriver (session=\"2c383efa91281eed09689a6e63444349\")>"
      ]
     },
     "execution_count": 24,
     "metadata": {},
     "output_type": "execute_result"
    }
   ],
   "source": [
    "driver=webdriver.Chrome(\"chromedriver.exe\")\n",
    "driver"
   ]
  },
  {
   "cell_type": "code",
   "execution_count": 25,
   "id": "762f647c",
   "metadata": {},
   "outputs": [],
   "source": [
    "driver.get('https://www.flipkart.com/')\n",
    "time.sleep(2)"
   ]
  },
  {
   "cell_type": "code",
   "execution_count": 26,
   "id": "6903c594",
   "metadata": {},
   "outputs": [],
   "source": [
    "search_bar=driver.find_element_by_class_name(\"_3704LK\")\n",
    "search_bar.send_keys('realme phone')\n",
    "time.sleep(2)\n",
    "button=driver.find_element_by_class_name('L0Z3Pu')\n",
    "button.click()"
   ]
  },
  {
   "cell_type": "code",
   "execution_count": 27,
   "id": "1c7135d5",
   "metadata": {},
   "outputs": [],
   "source": [
    "url=driver.find_elements_by_xpath('//a[@class=\"_1fQZEK\"]')"
   ]
  },
  {
   "cell_type": "code",
   "execution_count": 28,
   "id": "cc452c4a",
   "metadata": {},
   "outputs": [],
   "source": [
    "urls=[]"
   ]
  },
  {
   "cell_type": "code",
   "execution_count": 29,
   "id": "83151ff5",
   "metadata": {},
   "outputs": [],
   "source": [
    "for i in url:\n",
    "    urls.append(i.get_attribute('href'))"
   ]
  },
  {
   "cell_type": "code",
   "execution_count": 30,
   "id": "38588b1c",
   "metadata": {},
   "outputs": [
    {
     "data": {
      "text/plain": [
       "24"
      ]
     },
     "execution_count": 30,
     "metadata": {},
     "output_type": "execute_result"
    }
   ],
   "source": [
    "len(urls)"
   ]
  },
  {
   "cell_type": "code",
   "execution_count": 31,
   "id": "4b054e8a",
   "metadata": {},
   "outputs": [],
   "source": [
    "brand_name=[]\n",
    "phone_name=[]\n",
    "color=[]\n",
    "ram=[]\n",
    "storage=[]\n",
    "primary_camera=[]\n",
    "secondary_camera=[]\n",
    "display_size=[]\n",
    "battery=[]\n",
    "price=[]"
   ]
  },
  {
   "cell_type": "code",
   "execution_count": 32,
   "id": "5fbee284",
   "metadata": {},
   "outputs": [],
   "source": [
    "for j in urls:\n",
    "    driver.get(j)\n",
    "    time.sleep(5)\n",
    "    clickon=driver.find_element_by_xpath('//button[@class=\"_2KpZ6l _1FH0tX\"]')\n",
    "    clickon.click()\n",
    "    try:\n",
    "        ph_name=driver.find_element_by_xpath('//span[@class=\"B_NuCI\"]')\n",
    "        phone_name.append(ph_name.text)\n",
    "    except NoSuchElementException:\n",
    "        phone_name.append('-')\n",
    "        \n",
    "    try:\n",
    "        clr=driver.find_element_by_xpath('/html/body/div[1]/div/div[3]/div[1]/div[2]/div[9]/div[5]/div/div[2]/div/div[1]/table/tbody/tr[4]/td[2]/ul/li')\n",
    "        color.append(clr.text)\n",
    "    except NoSuchElementException:\n",
    "        color.append('-')\n",
    "        \n",
    "    try:\n",
    "        rm=driver.find_element_by_xpath('/html/body/div[1]/div/div[3]/div[1]/div[2]/div[9]/div[5]/div/div[2]/div[1]/div[4]/table/tbody/tr[2]/td[2]')\n",
    "        ram.append(rm.text)\n",
    "    except NoSuchElementException:\n",
    "        ram.append('-')\n",
    "        \n",
    "    try:\n",
    "        rom=driver.find_element_by_xpath('/html/body/div[1]/div/div[3]/div[1]/div[2]/div[9]/div[5]/div/div[2]/div[1]/div[4]/table/tbody/tr[1]/td[2]/ul/li')\n",
    "        storage.append(rom.text)\n",
    "    except NoSuchElementException:\n",
    "        storage.append('-') \n",
    "        \n",
    "    try:\n",
    "        p_cam=driver.find_element_by_xpath('/html/body/div[1]/div/div[3]/div[1]/div[2]/div[9]/div[5]/div/div[2]/div[1]/div[5]/table/tbody/tr[2]/td[2]/ul/li')\n",
    "        primary_camera.append(p_cam.text)\n",
    "    except NoSuchElementException:\n",
    "        primary_camera.append('-') \n",
    "        \n",
    "    try:\n",
    "        display=driver.find_element_by_xpath('/html/body/div[1]/div/div[3]/div[1]/div[2]/div[9]/div[5]/div/div[2]/div[1]/div[2]/table/tbody/tr[1]/td[2]/ul/li')\n",
    "        display_size.append(display.text)\n",
    "    except NoSuchElementException:\n",
    "        display_size.append('-')\n",
    "        \n",
    "    try:\n",
    "        bttry=driver.find_element_by_xpath('/html/body/div[1]/div/div[3]/div[1]/div[2]/div[9]/div[5]/div/div[2]/div[1]/div[10]/table/tbody/tr/td[2]/ul/li')\n",
    "        battery.append(bttry.text)\n",
    "    except NoSuchElementException:\n",
    "        battery.append('-')\n",
    "        \n",
    "    try:\n",
    "        prices=driver.find_element_by_xpath('//div[@class=\"_30jeq3 _16Jk6d\"]')\n",
    "        price.append(prices.text)\n",
    "    except NoSuchElementException:\n",
    "        price.append('-')\n",
    "        \n",
    "    try:\n",
    "        s_cam=driver.find_element_by_xpath('/html/body/div[1]/div/div[3]/div[1]/div[2]/div[9]/div[5]/div/div[2]/div[1]/div[5]/table/tbody/tr[5]/td[2]/ul/li')\n",
    "        secondary_camera.append(s_cam.text)\n",
    "    except NoSuchElementException:\n",
    "        secondary_camera.append('-')"
   ]
  },
  {
   "cell_type": "code",
   "execution_count": 33,
   "id": "bd4deb3b",
   "metadata": {},
   "outputs": [
    {
     "name": "stdout",
     "output_type": "stream",
     "text": [
      "24 24 24 24 24 24 24 24 24\n"
     ]
    }
   ],
   "source": [
    "print(len(price),len(display_size),len(primary_camera),len(ram),len(storage),len(battery),len(color),len(phone_name),len(urls))"
   ]
  },
  {
   "cell_type": "code",
   "execution_count": 34,
   "id": "581ef307",
   "metadata": {},
   "outputs": [],
   "source": [
    "df=pd.DataFrame({'Phone Name':phone_name,'Price':price,'Colour':color,'Ram':ram,'Storage':storage,'Battery':battery,'Display Size':display_size,'Primary Camera':primary_camera,'Secondary camera':secondary_camera,'Product URL':urls})"
   ]
  },
  {
   "cell_type": "code",
   "execution_count": 47,
   "id": "dc21f55e",
   "metadata": {},
   "outputs": [
    {
     "data": {
      "text/html": [
       "<div>\n",
       "<style scoped>\n",
       "    .dataframe tbody tr th:only-of-type {\n",
       "        vertical-align: middle;\n",
       "    }\n",
       "\n",
       "    .dataframe tbody tr th {\n",
       "        vertical-align: top;\n",
       "    }\n",
       "\n",
       "    .dataframe thead th {\n",
       "        text-align: right;\n",
       "    }\n",
       "</style>\n",
       "<table border=\"1\" class=\"dataframe\">\n",
       "  <thead>\n",
       "    <tr style=\"text-align: right;\">\n",
       "      <th></th>\n",
       "      <th>Phone Name</th>\n",
       "      <th>Price</th>\n",
       "      <th>Colour</th>\n",
       "      <th>Ram</th>\n",
       "      <th>Storage</th>\n",
       "      <th>Battery</th>\n",
       "      <th>Display Size</th>\n",
       "      <th>Primary Camera</th>\n",
       "      <th>Secondary camera</th>\n",
       "      <th>Product URL</th>\n",
       "    </tr>\n",
       "  </thead>\n",
       "  <tbody>\n",
       "    <tr>\n",
       "      <th>0</th>\n",
       "      <td>realme C35 (Glowing Black, 64 GB)  (4 GB RAM)</td>\n",
       "      <td>₹11,999</td>\n",
       "      <td>Glowing Black</td>\n",
       "      <td>4 GB</td>\n",
       "      <td>64 GB</td>\n",
       "      <td>5000 mAh</td>\n",
       "      <td>16.76 cm (6.6 inch)</td>\n",
       "      <td>50MP + 2MP + 0.3MP</td>\n",
       "      <td>8MP Front Camera</td>\n",
       "      <td>https://www.flipkart.com/realme-c35-glowing-bl...</td>\n",
       "    </tr>\n",
       "    <tr>\n",
       "      <th>1</th>\n",
       "      <td>realme C35 (Glowing Green, 64 GB)  (4 GB RAM)</td>\n",
       "      <td>₹11,999</td>\n",
       "      <td>Glowing Green</td>\n",
       "      <td>4 GB</td>\n",
       "      <td>64 GB</td>\n",
       "      <td>5000 mAh</td>\n",
       "      <td>16.76 cm (6.6 inch)</td>\n",
       "      <td>50MP + 2MP + 0.3MP</td>\n",
       "      <td>8MP Front Camera</td>\n",
       "      <td>https://www.flipkart.com/realme-c35-glowing-gr...</td>\n",
       "    </tr>\n",
       "    <tr>\n",
       "      <th>2</th>\n",
       "      <td>realme C35 (Glowing Black, 128 GB)  (4 GB RAM)</td>\n",
       "      <td>₹12,999</td>\n",
       "      <td>Glowing Black</td>\n",
       "      <td>4 GB</td>\n",
       "      <td>128 GB</td>\n",
       "      <td>5000 mAh</td>\n",
       "      <td>16.76 cm (6.6 inch)</td>\n",
       "      <td>50MP + 2MP + 0.3MP</td>\n",
       "      <td>8MP Front Camera</td>\n",
       "      <td>https://www.flipkart.com/realme-c35-glowing-bl...</td>\n",
       "    </tr>\n",
       "  </tbody>\n",
       "</table>\n",
       "</div>"
      ],
      "text/plain": [
       "                                       Phone Name    Price         Colour  \\\n",
       "0   realme C35 (Glowing Black, 64 GB)  (4 GB RAM)  ₹11,999  Glowing Black   \n",
       "1   realme C35 (Glowing Green, 64 GB)  (4 GB RAM)  ₹11,999  Glowing Green   \n",
       "2  realme C35 (Glowing Black, 128 GB)  (4 GB RAM)  ₹12,999  Glowing Black   \n",
       "\n",
       "    Ram Storage   Battery         Display Size      Primary Camera  \\\n",
       "0  4 GB   64 GB  5000 mAh  16.76 cm (6.6 inch)  50MP + 2MP + 0.3MP   \n",
       "1  4 GB   64 GB  5000 mAh  16.76 cm (6.6 inch)  50MP + 2MP + 0.3MP   \n",
       "2  4 GB  128 GB  5000 mAh  16.76 cm (6.6 inch)  50MP + 2MP + 0.3MP   \n",
       "\n",
       "   Secondary camera                                        Product URL  \n",
       "0  8MP Front Camera  https://www.flipkart.com/realme-c35-glowing-bl...  \n",
       "1  8MP Front Camera  https://www.flipkart.com/realme-c35-glowing-gr...  \n",
       "2  8MP Front Camera  https://www.flipkart.com/realme-c35-glowing-bl...  "
      ]
     },
     "execution_count": 47,
     "metadata": {},
     "output_type": "execute_result"
    }
   ],
   "source": [
    "df.head(3)"
   ]
  },
  {
   "cell_type": "code",
   "execution_count": 46,
   "id": "0803436d",
   "metadata": {},
   "outputs": [],
   "source": [
    "df.to_csv(\"Q4.csv\")"
   ]
  },
  {
   "cell_type": "code",
   "execution_count": null,
   "id": "fa2b0cca",
   "metadata": {},
   "outputs": [],
   "source": []
  },
  {
   "cell_type": "markdown",
   "id": "41c7e93d",
   "metadata": {},
   "source": [
    "5.Write a program to scrap geospatial coordinates (latitude, longitude) of a city searched on google\n",
    "maps."
   ]
  },
  {
   "cell_type": "code",
   "execution_count": 113,
   "id": "52206478",
   "metadata": {},
   "outputs": [],
   "source": [
    "import selenium\n",
    "from selenium import webdriver\n",
    "import warnings\n",
    "warnings.filterwarnings('ignore')\n",
    "import time\n",
    "from selenium.common.exceptions import StaleElementReferenceException, NoSuchElementException\n",
    "import pandas as pd\n",
    "import numpy as np\n",
    "from bs4 import BeautifulSoup\n",
    "import requests"
   ]
  },
  {
   "cell_type": "code",
   "execution_count": 114,
   "id": "12a69545",
   "metadata": {},
   "outputs": [
    {
     "data": {
      "text/plain": [
       "<selenium.webdriver.chrome.webdriver.WebDriver (session=\"4119403a7f692f1fda53d5ca550b67ca\")>"
      ]
     },
     "execution_count": 114,
     "metadata": {},
     "output_type": "execute_result"
    }
   ],
   "source": [
    "driver=webdriver.Chrome(\"chromedriver.exe\")\n",
    "driver"
   ]
  },
  {
   "cell_type": "code",
   "execution_count": 115,
   "id": "4181b760",
   "metadata": {},
   "outputs": [],
   "source": [
    "driver.get('https://maps.google.com/')\n",
    "time.sleep(2)"
   ]
  },
  {
   "cell_type": "code",
   "execution_count": 116,
   "id": "8ee2d0f7",
   "metadata": {},
   "outputs": [],
   "source": [
    "search_area=driver.find_element_by_xpath('/html/body/div[3]/div[9]/div[3]/div[1]/div[1]/div[1]/div[2]/form/div[2]/div[3]/div/input[1]')\n",
    "search_area.send_keys('bhubaneswar')"
   ]
  },
  {
   "cell_type": "code",
   "execution_count": 118,
   "id": "48278a6e",
   "metadata": {},
   "outputs": [],
   "source": [
    "search_button=driver.find_element_by_xpath('/html/body/div[3]/div[9]/div[3]/div[1]/div[1]/div[1]/div[2]/div[1]/button')\n",
    "search_button.click()"
   ]
  },
  {
   "cell_type": "code",
   "execution_count": 122,
   "id": "6af160a3",
   "metadata": {},
   "outputs": [
    {
     "name": "stdout",
     "output_type": "stream",
     "text": [
      "URL extracted:-  https://www.google.com/maps/place/Bhubaneswar,+Odisha/@20.3011505,85.680363,11z/data=!3m1!4b1!4m5!3m4!1s0x3a1909d2d5170aa5:0xfc580e2b68b33fa8!8m2!3d20.2960587!4d85.8245398\n"
     ]
    }
   ],
   "source": [
    "url_string=driver.current_url\n",
    "print('URL extracted:- ',url_string)"
   ]
  },
  {
   "cell_type": "code",
   "execution_count": 125,
   "id": "294c179f",
   "metadata": {},
   "outputs": [
    {
     "data": {
      "text/plain": [
       "['https://www.google.com/maps/place/Bhubaneswar,+Odisha/@20.3011505,85.680363,11z/data=!3m1!4b1!4m5!3m4!1s0x3a1909d2d5170aa5:0xfc580e2b68b33fa8!8m2!3d20.2960587!4d85.8245398']"
      ]
     },
     "execution_count": 125,
     "metadata": {},
     "output_type": "execute_result"
    }
   ],
   "source": [
    "url_string.split()"
   ]
  },
  {
   "cell_type": "code",
   "execution_count": 140,
   "id": "6cd1438d",
   "metadata": {},
   "outputs": [],
   "source": [
    "latitude=url_string.replace('https://www.google.com/maps/place/Bhubaneswar,+Odisha/@','').replace('11z/data=!3m1!4b1!4m5!3m4!1s0x3a1909d2d5170aa5:0xfc580e2b68b33fa8!8m2!3d20.2960587!4d85.8245398','')"
   ]
  },
  {
   "cell_type": "code",
   "execution_count": 141,
   "id": "af5942c0",
   "metadata": {},
   "outputs": [
    {
     "data": {
      "text/plain": [
       "'20.3011505,85.680363,'"
      ]
     },
     "execution_count": 141,
     "metadata": {},
     "output_type": "execute_result"
    }
   ],
   "source": [
    "latitude"
   ]
  },
  {
   "cell_type": "code",
   "execution_count": null,
   "id": "f5cefea7",
   "metadata": {},
   "outputs": [],
   "source": []
  },
  {
   "cell_type": "code",
   "execution_count": null,
   "id": "85b6857a",
   "metadata": {},
   "outputs": [],
   "source": []
  },
  {
   "cell_type": "markdown",
   "id": "f4a26bcc",
   "metadata": {},
   "source": [
    "6. Write a program to scrap details of all the funding deals for second quarter (i.e Jan 21 – March 21) \n",
    "from trak.in."
   ]
  },
  {
   "cell_type": "code",
   "execution_count": 42,
   "id": "d5a99aa6",
   "metadata": {},
   "outputs": [],
   "source": [
    "import selenium\n",
    "from selenium import webdriver\n",
    "import warnings\n",
    "warnings.filterwarnings('ignore')\n",
    "import time\n",
    "from selenium.common.exceptions import StaleElementReferenceException, NoSuchElementException\n",
    "import pandas as pd\n",
    "import numpy as np\n",
    "from bs4 import BeautifulSoup\n",
    "import requests"
   ]
  },
  {
   "cell_type": "code",
   "execution_count": 43,
   "id": "71bd4dc8",
   "metadata": {},
   "outputs": [
    {
     "data": {
      "text/plain": [
       "<selenium.webdriver.chrome.webdriver.WebDriver (session=\"3495ea11aaeec1aca655df4f9a0dfd08\")>"
      ]
     },
     "execution_count": 43,
     "metadata": {},
     "output_type": "execute_result"
    }
   ],
   "source": [
    "driver=webdriver.Chrome(\"chromedriver.exe\")\n",
    "driver"
   ]
  },
  {
   "cell_type": "code",
   "execution_count": 44,
   "id": "f276484c",
   "metadata": {},
   "outputs": [],
   "source": [
    "driver.get('https://www.trak.in/')\n",
    "time.sleep(2)"
   ]
  },
  {
   "cell_type": "code",
   "execution_count": 45,
   "id": "27cb5bdc",
   "metadata": {},
   "outputs": [],
   "source": [
    "funding_deal=driver.find_element_by_xpath('/html/body/div[1]/header/div[2]/div/div/div/div/nav/ul/li[9]')\n",
    "funding_deal.click()"
   ]
  },
  {
   "cell_type": "code",
   "execution_count": 57,
   "id": "2f2a50a2",
   "metadata": {},
   "outputs": [],
   "source": [
    "Date=[]"
   ]
  },
  {
   "cell_type": "code",
   "execution_count": 58,
   "id": "2e1570aa",
   "metadata": {},
   "outputs": [],
   "source": [
    "\n",
    "d=driver.find_elements_by_xpath(\"//table[@id='tablepress-56']/tbody/tr/td[2]\")\n",
    "for i in d:\n",
    "    Date.append(i.text)"
   ]
  },
  {
   "cell_type": "code",
   "execution_count": 59,
   "id": "a5a817eb",
   "metadata": {},
   "outputs": [],
   "source": [
    "d2=driver.find_elements_by_xpath(\"//table[@id='tablepress-55']/tbody/tr/td[2]\")\n",
    "for i in d2:\n",
    "    Date.append(i.text)"
   ]
  },
  {
   "cell_type": "code",
   "execution_count": 60,
   "id": "30c1f1e5",
   "metadata": {},
   "outputs": [],
   "source": [
    "d3=driver.find_elements_by_xpath(\"//table[@id='tablepress-54']/tbody/tr/td[2]\")\n",
    "for i in d3:\n",
    "    Date.append(i.text)"
   ]
  },
  {
   "cell_type": "code",
   "execution_count": null,
   "id": "d1854f48",
   "metadata": {},
   "outputs": [],
   "source": [
    "Date"
   ]
  },
  {
   "cell_type": "code",
   "execution_count": 71,
   "id": "85502db1",
   "metadata": {},
   "outputs": [],
   "source": [
    "startup_name=[]"
   ]
  },
  {
   "cell_type": "code",
   "execution_count": 72,
   "id": "67b138f0",
   "metadata": {},
   "outputs": [],
   "source": [
    "st=driver.find_elements_by_xpath(\"//table[@id='tablepress-56']/tbody/tr/td[3]\")\n",
    "for i in st:\n",
    "    startup_name.append(i.text)"
   ]
  },
  {
   "cell_type": "code",
   "execution_count": 73,
   "id": "521b9c69",
   "metadata": {},
   "outputs": [],
   "source": [
    "st2=driver.find_elements_by_xpath(\"//table[@id='tablepress-55']/tbody/tr/td[3]\")\n",
    "for i in st2:\n",
    "    startup_name.append(i.text)"
   ]
  },
  {
   "cell_type": "code",
   "execution_count": 74,
   "id": "a7ab0eb7",
   "metadata": {},
   "outputs": [],
   "source": [
    "st3=driver.find_elements_by_xpath(\"//table[@id='tablepress-54']/tbody/tr/td[3]\")\n",
    "for i in st3:\n",
    "    startup_name.append(i.text)"
   ]
  },
  {
   "cell_type": "code",
   "execution_count": null,
   "id": "3b6bddac",
   "metadata": {},
   "outputs": [],
   "source": [
    "startup_name"
   ]
  },
  {
   "cell_type": "code",
   "execution_count": 77,
   "id": "11ad855f",
   "metadata": {},
   "outputs": [],
   "source": [
    "industry=[]"
   ]
  },
  {
   "cell_type": "code",
   "execution_count": 78,
   "id": "75d1b357",
   "metadata": {},
   "outputs": [],
   "source": [
    "ind=driver.find_elements_by_xpath(\"//table[@id='tablepress-56']/tbody/tr/td[4]\")\n",
    "for i in ind:\n",
    "    industry.append(i.text)\n"
   ]
  },
  {
   "cell_type": "code",
   "execution_count": 79,
   "id": "6df38f37",
   "metadata": {},
   "outputs": [],
   "source": [
    "ind2=driver.find_elements_by_xpath(\"//table[@id='tablepress-55']/tbody/tr/td[4]\")\n",
    "for i in ind2:\n",
    "    industry.append(i.text)"
   ]
  },
  {
   "cell_type": "code",
   "execution_count": 80,
   "id": "4e872fc3",
   "metadata": {},
   "outputs": [],
   "source": [
    "ind3=driver.find_elements_by_xpath(\"//table[@id='tablepress-54']/tbody/tr/td[4]\")\n",
    "for i in ind3:\n",
    "    industry.append(i.text)"
   ]
  },
  {
   "cell_type": "code",
   "execution_count": null,
   "id": "248b73b2",
   "metadata": {},
   "outputs": [],
   "source": [
    "industry"
   ]
  },
  {
   "cell_type": "code",
   "execution_count": 82,
   "id": "d378ca83",
   "metadata": {},
   "outputs": [],
   "source": [
    "sub_vertical=[]"
   ]
  },
  {
   "cell_type": "code",
   "execution_count": 83,
   "id": "6b7ebd49",
   "metadata": {},
   "outputs": [],
   "source": [
    "sub=driver.find_elements_by_xpath(\"//table[@id='tablepress-56']/tbody/tr/td[5]\")\n",
    "for i in sub:\n",
    "    sub_vertical.append(i.text)\n"
   ]
  },
  {
   "cell_type": "code",
   "execution_count": 84,
   "id": "97ad3ba0",
   "metadata": {},
   "outputs": [],
   "source": [
    "sub2=driver.find_elements_by_xpath(\"//table[@id='tablepress-55']/tbody/tr/td[5]\")\n",
    "for i in sub2:\n",
    "    sub_vertical.append(i.text)\n"
   ]
  },
  {
   "cell_type": "code",
   "execution_count": 85,
   "id": "249d8546",
   "metadata": {},
   "outputs": [],
   "source": [
    "sub3=driver.find_elements_by_xpath(\"//table[@id='tablepress-54']/tbody/tr/td[5]\")\n",
    "for i in sub3:\n",
    "    sub_vertical.append(i.text)\n"
   ]
  },
  {
   "cell_type": "code",
   "execution_count": null,
   "id": "babc7c1b",
   "metadata": {},
   "outputs": [],
   "source": [
    "sub_vertical"
   ]
  },
  {
   "cell_type": "code",
   "execution_count": 88,
   "id": "0f576454",
   "metadata": {},
   "outputs": [],
   "source": [
    "city=[]"
   ]
  },
  {
   "cell_type": "code",
   "execution_count": 89,
   "id": "315603f5",
   "metadata": {},
   "outputs": [],
   "source": [
    "c=driver.find_elements_by_xpath(\"//table[@id='tablepress-56']/tbody/tr/td[6]\")\n",
    "for i in c:\n",
    "    city.append(i.text)"
   ]
  },
  {
   "cell_type": "code",
   "execution_count": 90,
   "id": "6aeaa034",
   "metadata": {},
   "outputs": [],
   "source": [
    "c2=driver.find_elements_by_xpath(\"//table[@id='tablepress-55']/tbody/tr/td[6]\")\n",
    "for i in c2:\n",
    "    city.append(i.text)"
   ]
  },
  {
   "cell_type": "code",
   "execution_count": 91,
   "id": "d637b623",
   "metadata": {},
   "outputs": [],
   "source": [
    "c3=driver.find_elements_by_xpath(\"//table[@id='tablepress-54']/tbody/tr/td[6]\")\n",
    "for i in c3:\n",
    "    city.append(i.text)"
   ]
  },
  {
   "cell_type": "code",
   "execution_count": null,
   "id": "d1eb574a",
   "metadata": {},
   "outputs": [],
   "source": [
    "city"
   ]
  },
  {
   "cell_type": "code",
   "execution_count": 94,
   "id": "17d0e126",
   "metadata": {},
   "outputs": [],
   "source": [
    "investor_name=[]"
   ]
  },
  {
   "cell_type": "code",
   "execution_count": 95,
   "id": "bdde2ef6",
   "metadata": {},
   "outputs": [],
   "source": [
    "i=driver.find_elements_by_xpath(\"//table[@id='tablepress-56']/tbody/tr/td[7]\")\n",
    "for i in i:\n",
    "    investor_name.append(i.text)"
   ]
  },
  {
   "cell_type": "code",
   "execution_count": 96,
   "id": "b9f7f3de",
   "metadata": {},
   "outputs": [],
   "source": [
    "i2=driver.find_elements_by_xpath(\"//table[@id='tablepress-55']/tbody/tr/td[7]\")\n",
    "for i in i2:\n",
    "    investor_name.append(i.text)"
   ]
  },
  {
   "cell_type": "code",
   "execution_count": 97,
   "id": "b4be957a",
   "metadata": {},
   "outputs": [],
   "source": [
    "i3=driver.find_elements_by_xpath(\"//table[@id='tablepress-54']/tbody/tr/td[7]\")\n",
    "for i in i3:\n",
    "    investor_name.append(i.text)"
   ]
  },
  {
   "cell_type": "code",
   "execution_count": null,
   "id": "ff3305ed",
   "metadata": {},
   "outputs": [],
   "source": [
    "investor_name"
   ]
  },
  {
   "cell_type": "code",
   "execution_count": 99,
   "id": "0af608d7",
   "metadata": {},
   "outputs": [],
   "source": [
    "investment_type=[]"
   ]
  },
  {
   "cell_type": "code",
   "execution_count": 100,
   "id": "0aa86704",
   "metadata": {},
   "outputs": [],
   "source": [
    "it=driver.find_elements_by_xpath(\"//table[@id='tablepress-56']/tbody/tr/td[8]\")\n",
    "for i in it:\n",
    "    investment_type.append(i.text)"
   ]
  },
  {
   "cell_type": "code",
   "execution_count": 101,
   "id": "f7b5e489",
   "metadata": {},
   "outputs": [],
   "source": [
    "it2=driver.find_elements_by_xpath(\"//table[@id='tablepress-55']/tbody/tr/td[8]\")\n",
    "for i in it2:\n",
    "    investment_type.append(i.text)"
   ]
  },
  {
   "cell_type": "code",
   "execution_count": 102,
   "id": "5398b673",
   "metadata": {},
   "outputs": [],
   "source": [
    "it3=driver.find_elements_by_xpath(\"//table[@id='tablepress-54']/tbody/tr/td[8]\")\n",
    "for i in it3:\n",
    "    investment_type.append(i.text)"
   ]
  },
  {
   "cell_type": "code",
   "execution_count": null,
   "id": "03a9f014",
   "metadata": {},
   "outputs": [],
   "source": [
    "investment_type"
   ]
  },
  {
   "cell_type": "code",
   "execution_count": 104,
   "id": "baccfbc1",
   "metadata": {},
   "outputs": [],
   "source": [
    "amount=[]"
   ]
  },
  {
   "cell_type": "code",
   "execution_count": 105,
   "id": "09cb5a01",
   "metadata": {},
   "outputs": [],
   "source": [
    "a=driver.find_elements_by_xpath(\"//table[@id='tablepress-56']/tbody/tr/td[9]\")\n",
    "for i in a:\n",
    "    amount.append(i.text)"
   ]
  },
  {
   "cell_type": "code",
   "execution_count": 106,
   "id": "4d2069ff",
   "metadata": {},
   "outputs": [],
   "source": [
    "a2=driver.find_elements_by_xpath(\"//table[@id='tablepress-55']/tbody/tr/td[9]\")\n",
    "for i in a2:\n",
    "    amount.append(i.text)"
   ]
  },
  {
   "cell_type": "code",
   "execution_count": 107,
   "id": "0e89e02b",
   "metadata": {},
   "outputs": [],
   "source": [
    "a3=driver.find_elements_by_xpath(\"//table[@id='tablepress-54']/tbody/tr/td[9]\")\n",
    "for i in a3:\n",
    "    amount.append(i.text)"
   ]
  },
  {
   "cell_type": "code",
   "execution_count": 109,
   "id": "bfc689e0",
   "metadata": {},
   "outputs": [
    {
     "name": "stdout",
     "output_type": "stream",
     "text": [
      "24 24 24 24 24 24 24 24\n"
     ]
    }
   ],
   "source": [
    "print(len(Date),len(startup_name),len(industry),len(sub_vertical),len(city),len(investor_name),len(investment_type),len(amount))"
   ]
  },
  {
   "cell_type": "code",
   "execution_count": 110,
   "id": "36cf4c45",
   "metadata": {},
   "outputs": [],
   "source": [
    "df=pd.DataFrame({'DATE':Date,'Startup Name':startup_name,'Industry':industry,'Sub Vertical':sub_vertical,'Investor Name':investor_name,'Investment Type':investment_type,'Amount':amount})"
   ]
  },
  {
   "cell_type": "code",
   "execution_count": 111,
   "id": "dd908dda",
   "metadata": {},
   "outputs": [
    {
     "data": {
      "text/html": [
       "<div>\n",
       "<style scoped>\n",
       "    .dataframe tbody tr th:only-of-type {\n",
       "        vertical-align: middle;\n",
       "    }\n",
       "\n",
       "    .dataframe tbody tr th {\n",
       "        vertical-align: top;\n",
       "    }\n",
       "\n",
       "    .dataframe thead th {\n",
       "        text-align: right;\n",
       "    }\n",
       "</style>\n",
       "<table border=\"1\" class=\"dataframe\">\n",
       "  <thead>\n",
       "    <tr style=\"text-align: right;\">\n",
       "      <th></th>\n",
       "      <th>DATE</th>\n",
       "      <th>Startup Name</th>\n",
       "      <th>Industry</th>\n",
       "      <th>Sub Vertical</th>\n",
       "      <th>Investor Name</th>\n",
       "      <th>Investment Type</th>\n",
       "      <th>Amount</th>\n",
       "    </tr>\n",
       "  </thead>\n",
       "  <tbody>\n",
       "    <tr>\n",
       "      <th>0</th>\n",
       "      <td>04/03/2021</td>\n",
       "      <td>DealShare</td>\n",
       "      <td>E-commerce</td>\n",
       "      <td>Online shopping platform</td>\n",
       "      <td>Innoven Capital</td>\n",
       "      <td>Debt Financing</td>\n",
       "      <td>250,000,000</td>\n",
       "    </tr>\n",
       "    <tr>\n",
       "      <th>1</th>\n",
       "      <td>31/03/2021</td>\n",
       "      <td>Uniphore</td>\n",
       "      <td>Technology</td>\n",
       "      <td>Conversational Service Automation (CSA)</td>\n",
       "      <td>Sorenson Capital Partners</td>\n",
       "      <td>Series D</td>\n",
       "      <td>140,000,000</td>\n",
       "    </tr>\n",
       "    <tr>\n",
       "      <th>2</th>\n",
       "      <td>30/03/2021</td>\n",
       "      <td>Dunzo</td>\n",
       "      <td>E-commerce</td>\n",
       "      <td>Hyper-local delivery app</td>\n",
       "      <td>Krishtal Advisors Pte Ltd</td>\n",
       "      <td>Series E</td>\n",
       "      <td>8,000,000</td>\n",
       "    </tr>\n",
       "    <tr>\n",
       "      <th>3</th>\n",
       "      <td>30/03/2021</td>\n",
       "      <td>BYJU’S</td>\n",
       "      <td>Edu-tech</td>\n",
       "      <td>Online tutoring</td>\n",
       "      <td>MC Global Edtech, B Capital, Baron, others</td>\n",
       "      <td>Series F</td>\n",
       "      <td>460,000,000</td>\n",
       "    </tr>\n",
       "    <tr>\n",
       "      <th>4</th>\n",
       "      <td>23/03/2021</td>\n",
       "      <td>SkilloVilla</td>\n",
       "      <td>Edu-tech</td>\n",
       "      <td>Career and job-oriented upskilling.</td>\n",
       "      <td>Titan Capital, others</td>\n",
       "      <td>Seed</td>\n",
       "      <td>300,000,000</td>\n",
       "    </tr>\n",
       "    <tr>\n",
       "      <th>5</th>\n",
       "      <td>25/03/2021</td>\n",
       "      <td>CityMall</td>\n",
       "      <td>E-commerce</td>\n",
       "      <td>Social ecommerce and online grocery platform</td>\n",
       "      <td>Accel Partners</td>\n",
       "      <td>Series A</td>\n",
       "      <td>11,000,000</td>\n",
       "    </tr>\n",
       "    <tr>\n",
       "      <th>6</th>\n",
       "      <td>26/03/2021</td>\n",
       "      <td>DotPe</td>\n",
       "      <td>FinTech</td>\n",
       "      <td>Commerce and payments platform to offline ente...</td>\n",
       "      <td>PayU</td>\n",
       "      <td>Series A</td>\n",
       "      <td>27,500,000</td>\n",
       "    </tr>\n",
       "    <tr>\n",
       "      <th>7</th>\n",
       "      <td>11/02/2021</td>\n",
       "      <td>Doubtnut</td>\n",
       "      <td>Edu Tech</td>\n",
       "      <td>E-Learning Platform</td>\n",
       "      <td>SIG Global, Sequoia Capital, WaterBridge Ventu...</td>\n",
       "      <td>Series B</td>\n",
       "      <td>2,500,000</td>\n",
       "    </tr>\n",
       "    <tr>\n",
       "      <th>8</th>\n",
       "      <td>22/02/2021</td>\n",
       "      <td>Zomato</td>\n",
       "      <td>Hospitality</td>\n",
       "      <td>Online Food Delivery Platform</td>\n",
       "      <td>Tiger Global, Kora</td>\n",
       "      <td>Venture</td>\n",
       "      <td>250,000,000</td>\n",
       "    </tr>\n",
       "    <tr>\n",
       "      <th>9</th>\n",
       "      <td>19/02/2021</td>\n",
       "      <td>Fingerlix</td>\n",
       "      <td>Hospitality</td>\n",
       "      <td>Semi-cooked food delivery app</td>\n",
       "      <td>Rhodium Trust, Accel Partners and Swiggy</td>\n",
       "      <td>Series C</td>\n",
       "      <td>2,747,045.20</td>\n",
       "    </tr>\n",
       "    <tr>\n",
       "      <th>10</th>\n",
       "      <td>17/02/2021</td>\n",
       "      <td>Zolve</td>\n",
       "      <td>FinTech</td>\n",
       "      <td>Global Neobank Venture</td>\n",
       "      <td>Accel Partners and Lightspeed Venture Partners</td>\n",
       "      <td>Seed</td>\n",
       "      <td>1,50,00,000</td>\n",
       "    </tr>\n",
       "    <tr>\n",
       "      <th>11</th>\n",
       "      <td>15/02/2021</td>\n",
       "      <td>KreditBee</td>\n",
       "      <td>Finance</td>\n",
       "      <td>Digital lending platform</td>\n",
       "      <td>Azim Premji’s PremjiInvest and South Korea’s M...</td>\n",
       "      <td>Series C</td>\n",
       "      <td>75,000,000</td>\n",
       "    </tr>\n",
       "    <tr>\n",
       "      <th>12</th>\n",
       "      <td>12/02/2021</td>\n",
       "      <td>Pepperfry</td>\n",
       "      <td>E-commerce</td>\n",
       "      <td>Multi-brand furniture brand</td>\n",
       "      <td>InnoVen Capital</td>\n",
       "      <td>Debt Financing</td>\n",
       "      <td>4,773,958</td>\n",
       "    </tr>\n",
       "    <tr>\n",
       "      <th>13</th>\n",
       "      <td>12/02/2021</td>\n",
       "      <td>Grofers</td>\n",
       "      <td>E-Commerce</td>\n",
       "      <td>Online supermarket</td>\n",
       "      <td>SoftBank Vision Fund (SVF)</td>\n",
       "      <td>Unspecified</td>\n",
       "      <td>55,000,000</td>\n",
       "    </tr>\n",
       "    <tr>\n",
       "      <th>14</th>\n",
       "      <td>09/02/2021</td>\n",
       "      <td>Nothing</td>\n",
       "      <td>Technology</td>\n",
       "      <td>Consumer Technology Venture</td>\n",
       "      <td>GV</td>\n",
       "      <td>Series A</td>\n",
       "      <td>15,000,000</td>\n",
       "    </tr>\n",
       "    <tr>\n",
       "      <th>15</th>\n",
       "      <td>09/02/2021</td>\n",
       "      <td>SplashLearn</td>\n",
       "      <td>EdTech</td>\n",
       "      <td>Game-based learning programme</td>\n",
       "      <td>Owl Ventures</td>\n",
       "      <td>Series C</td>\n",
       "      <td>18,000,000</td>\n",
       "    </tr>\n",
       "    <tr>\n",
       "      <th>16</th>\n",
       "      <td>15/01/2021</td>\n",
       "      <td>Digit Insurance</td>\n",
       "      <td>Financial Services</td>\n",
       "      <td>Insurance Services</td>\n",
       "      <td>A91 Partners, Faering Capital, TVS Capital Funds</td>\n",
       "      <td>Venture</td>\n",
       "      <td>1,80,00,000</td>\n",
       "    </tr>\n",
       "    <tr>\n",
       "      <th>17</th>\n",
       "      <td>28/01/2021</td>\n",
       "      <td>Bombay Shaving Company</td>\n",
       "      <td>Consumer Goods Company</td>\n",
       "      <td>Shave care, beard care, and skincare products</td>\n",
       "      <td>Reckitt Benckiser</td>\n",
       "      <td>Venture</td>\n",
       "      <td>6,172,258.50</td>\n",
       "    </tr>\n",
       "    <tr>\n",
       "      <th>18</th>\n",
       "      <td>19/01/2021</td>\n",
       "      <td>DeHaat</td>\n",
       "      <td>AgriTech Startup</td>\n",
       "      <td>online marketplace for farm products and services</td>\n",
       "      <td>Prosus Ventures</td>\n",
       "      <td>Series C</td>\n",
       "      <td>30,000,000</td>\n",
       "    </tr>\n",
       "    <tr>\n",
       "      <th>19</th>\n",
       "      <td>19/01/2021</td>\n",
       "      <td>Darwinbox</td>\n",
       "      <td>SaaS</td>\n",
       "      <td>HR Tech</td>\n",
       "      <td>Salesforce Ventures</td>\n",
       "      <td>Seed</td>\n",
       "      <td>15,000,000</td>\n",
       "    </tr>\n",
       "    <tr>\n",
       "      <th>20</th>\n",
       "      <td>18/01/2021</td>\n",
       "      <td>mfine</td>\n",
       "      <td>Health Tech Startup</td>\n",
       "      <td>AI-powered telemedicine mobile app</td>\n",
       "      <td>Heritas Capital Management</td>\n",
       "      <td>Venture Round</td>\n",
       "      <td>16,000,000</td>\n",
       "    </tr>\n",
       "    <tr>\n",
       "      <th>21</th>\n",
       "      <td>18/01/2021</td>\n",
       "      <td>Udayy</td>\n",
       "      <td>EdTech</td>\n",
       "      <td>Online learning platform for kids in class 1-5</td>\n",
       "      <td>Sequoia Capital</td>\n",
       "      <td>Seed Funding</td>\n",
       "      <td>15,000,000</td>\n",
       "    </tr>\n",
       "    <tr>\n",
       "      <th>22</th>\n",
       "      <td>11/01/2021</td>\n",
       "      <td>True Elements</td>\n",
       "      <td>Food Startup</td>\n",
       "      <td>Whole Food plant based Nashta</td>\n",
       "      <td>SIDBI Venture Capital</td>\n",
       "      <td>Series</td>\n",
       "      <td>100,000,000</td>\n",
       "    </tr>\n",
       "    <tr>\n",
       "      <th>23</th>\n",
       "      <td>13/01/2021</td>\n",
       "      <td>Saveo</td>\n",
       "      <td>B2B E-commerce</td>\n",
       "      <td>Pharmacies</td>\n",
       "      <td>Matrix Partners India, RTP Global, others</td>\n",
       "      <td>Seed</td>\n",
       "      <td>4,000,000</td>\n",
       "    </tr>\n",
       "  </tbody>\n",
       "</table>\n",
       "</div>"
      ],
      "text/plain": [
       "          DATE            Startup Name                Industry  \\\n",
       "0   04/03/2021               DealShare              E-commerce   \n",
       "1   31/03/2021                Uniphore              Technology   \n",
       "2   30/03/2021                   Dunzo              E-commerce   \n",
       "3   30/03/2021                  BYJU’S                Edu-tech   \n",
       "4   23/03/2021             SkilloVilla                Edu-tech   \n",
       "5   25/03/2021                CityMall              E-commerce   \n",
       "6   26/03/2021                   DotPe                 FinTech   \n",
       "7   11/02/2021                Doubtnut                Edu Tech   \n",
       "8   22/02/2021                  Zomato             Hospitality   \n",
       "9   19/02/2021               Fingerlix             Hospitality   \n",
       "10  17/02/2021                   Zolve                 FinTech   \n",
       "11  15/02/2021               KreditBee                 Finance   \n",
       "12  12/02/2021               Pepperfry              E-commerce   \n",
       "13  12/02/2021                 Grofers              E-Commerce   \n",
       "14  09/02/2021                 Nothing              Technology   \n",
       "15  09/02/2021             SplashLearn                  EdTech   \n",
       "16  15/01/2021         Digit Insurance      Financial Services   \n",
       "17  28/01/2021  Bombay Shaving Company  Consumer Goods Company   \n",
       "18  19/01/2021                  DeHaat        AgriTech Startup   \n",
       "19  19/01/2021               Darwinbox                    SaaS   \n",
       "20  18/01/2021                   mfine     Health Tech Startup   \n",
       "21  18/01/2021                   Udayy                  EdTech   \n",
       "22  11/01/2021           True Elements            Food Startup   \n",
       "23  13/01/2021                   Saveo          B2B E-commerce   \n",
       "\n",
       "                                         Sub Vertical  \\\n",
       "0                            Online shopping platform   \n",
       "1             Conversational Service Automation (CSA)   \n",
       "2                            Hyper-local delivery app   \n",
       "3                                     Online tutoring   \n",
       "4                 Career and job-oriented upskilling.   \n",
       "5        Social ecommerce and online grocery platform   \n",
       "6   Commerce and payments platform to offline ente...   \n",
       "7                                 E-Learning Platform   \n",
       "8                       Online Food Delivery Platform   \n",
       "9                       Semi-cooked food delivery app   \n",
       "10                             Global Neobank Venture   \n",
       "11                           Digital lending platform   \n",
       "12                        Multi-brand furniture brand   \n",
       "13                                 Online supermarket   \n",
       "14                        Consumer Technology Venture   \n",
       "15                      Game-based learning programme   \n",
       "16                                 Insurance Services   \n",
       "17      Shave care, beard care, and skincare products   \n",
       "18  online marketplace for farm products and services   \n",
       "19                                            HR Tech   \n",
       "20                 AI-powered telemedicine mobile app   \n",
       "21     Online learning platform for kids in class 1-5   \n",
       "22                      Whole Food plant based Nashta   \n",
       "23                                         Pharmacies   \n",
       "\n",
       "                                        Investor Name Investment Type  \\\n",
       "0                                     Innoven Capital  Debt Financing   \n",
       "1                           Sorenson Capital Partners        Series D   \n",
       "2                           Krishtal Advisors Pte Ltd        Series E   \n",
       "3          MC Global Edtech, B Capital, Baron, others        Series F   \n",
       "4                               Titan Capital, others            Seed   \n",
       "5                                      Accel Partners        Series A   \n",
       "6                                                PayU        Series A   \n",
       "7   SIG Global, Sequoia Capital, WaterBridge Ventu...        Series B   \n",
       "8                                  Tiger Global, Kora         Venture   \n",
       "9            Rhodium Trust, Accel Partners and Swiggy        Series C   \n",
       "10     Accel Partners and Lightspeed Venture Partners            Seed   \n",
       "11  Azim Premji’s PremjiInvest and South Korea’s M...        Series C   \n",
       "12                                    InnoVen Capital  Debt Financing   \n",
       "13                         SoftBank Vision Fund (SVF)     Unspecified   \n",
       "14                                                 GV        Series A   \n",
       "15                                       Owl Ventures        Series C   \n",
       "16   A91 Partners, Faering Capital, TVS Capital Funds         Venture   \n",
       "17                                  Reckitt Benckiser         Venture   \n",
       "18                                    Prosus Ventures        Series C   \n",
       "19                                Salesforce Ventures            Seed   \n",
       "20                         Heritas Capital Management   Venture Round   \n",
       "21                                    Sequoia Capital    Seed Funding   \n",
       "22                              SIDBI Venture Capital          Series   \n",
       "23          Matrix Partners India, RTP Global, others            Seed   \n",
       "\n",
       "          Amount  \n",
       "0    250,000,000  \n",
       "1    140,000,000  \n",
       "2      8,000,000  \n",
       "3    460,000,000  \n",
       "4    300,000,000  \n",
       "5     11,000,000  \n",
       "6     27,500,000  \n",
       "7      2,500,000  \n",
       "8    250,000,000  \n",
       "9   2,747,045.20  \n",
       "10   1,50,00,000  \n",
       "11    75,000,000  \n",
       "12     4,773,958  \n",
       "13    55,000,000  \n",
       "14    15,000,000  \n",
       "15    18,000,000  \n",
       "16   1,80,00,000  \n",
       "17  6,172,258.50  \n",
       "18    30,000,000  \n",
       "19    15,000,000  \n",
       "20    16,000,000  \n",
       "21    15,000,000  \n",
       "22   100,000,000  \n",
       "23     4,000,000  "
      ]
     },
     "execution_count": 111,
     "metadata": {},
     "output_type": "execute_result"
    }
   ],
   "source": [
    "df"
   ]
  },
  {
   "cell_type": "markdown",
   "id": "5eee4fa4",
   "metadata": {},
   "source": [
    "7. Write a program to scrap all the available details of best gaming laptops from digit.in.\n"
   ]
  },
  {
   "cell_type": "code",
   "execution_count": 1,
   "id": "7ae71094",
   "metadata": {},
   "outputs": [],
   "source": [
    "import selenium\n",
    "from selenium import webdriver\n",
    "import warnings\n",
    "warnings.filterwarnings('ignore')\n",
    "import time\n",
    "from selenium.common.exceptions import StaleElementReferenceException, NoSuchElementException\n",
    "import pandas as pd\n",
    "import numpy as np\n",
    "from bs4 import BeautifulSoup\n",
    "import requests"
   ]
  },
  {
   "cell_type": "code",
   "execution_count": 3,
   "id": "f4b7a321",
   "metadata": {},
   "outputs": [
    {
     "data": {
      "text/plain": [
       "<selenium.webdriver.chrome.webdriver.WebDriver (session=\"8654ee41aa893b958efebf02ff9f8ac6\")>"
      ]
     },
     "execution_count": 3,
     "metadata": {},
     "output_type": "execute_result"
    }
   ],
   "source": [
    "driver=webdriver.Chrome(\"chromedriver.exe\")\n",
    "driver"
   ]
  },
  {
   "cell_type": "code",
   "execution_count": 4,
   "id": "de8127d4",
   "metadata": {},
   "outputs": [],
   "source": [
    "driver.get('https://digit.in/')\n",
    "time.sleep(2)"
   ]
  },
  {
   "cell_type": "code",
   "execution_count": 5,
   "id": "95802a4b",
   "metadata": {},
   "outputs": [],
   "source": [
    "top_10=driver.find_element_by_xpath('/html/body/div[1]/div/div[4]/ul/li[4]/a')\n",
    "top_10.click()"
   ]
  },
  {
   "cell_type": "code",
   "execution_count": 6,
   "id": "6f2bd255",
   "metadata": {},
   "outputs": [],
   "source": [
    "cat_button=driver.find_element_by_xpath('/html/body/div[3]/div/div/div[2]/div[5]/div[1]/div/button[2]')\n",
    "cat_button.click()"
   ]
  },
  {
   "cell_type": "code",
   "execution_count": 7,
   "id": "828f44e1",
   "metadata": {},
   "outputs": [],
   "source": [
    "clk_on=driver.find_element_by_xpath('/html/body/div[3]/div/div/div[2]/div[5]/div[3]/div[3]/a/div[2]/p')\n",
    "clk_on.click()"
   ]
  },
  {
   "cell_type": "code",
   "execution_count": 9,
   "id": "3ea8d03a",
   "metadata": {},
   "outputs": [],
   "source": [
    "url=driver.find_elements_by_xpath('//div[@class=\"TopNumbeHeading active sticky-footer\"]/a')"
   ]
  },
  {
   "cell_type": "code",
   "execution_count": 8,
   "id": "34b8161f",
   "metadata": {},
   "outputs": [],
   "source": [
    "urls=[]"
   ]
  },
  {
   "cell_type": "code",
   "execution_count": 10,
   "id": "f3cfb036",
   "metadata": {},
   "outputs": [],
   "source": [
    "for i in url:\n",
    "    urls.append(i.get_attribute('href'))"
   ]
  },
  {
   "cell_type": "code",
   "execution_count": null,
   "id": "134f6129",
   "metadata": {},
   "outputs": [],
   "source": [
    "urls"
   ]
  },
  {
   "cell_type": "code",
   "execution_count": 16,
   "id": "f28165c4",
   "metadata": {},
   "outputs": [],
   "source": [
    "laptop_name=[]\n",
    "os=[]\n",
    "processor=[]\n",
    "ram=[]\n",
    "storage_capacity=[]\n",
    "launch_date=[]\n",
    "refresh_rate=[]\n",
    "connectivity=[]"
   ]
  },
  {
   "cell_type": "code",
   "execution_count": 18,
   "id": "c281f9ee",
   "metadata": {},
   "outputs": [],
   "source": [
    "for k in urls:\n",
    "    driver.get(k)\n",
    "    time.sleep(5)\n",
    "    \n",
    "    \n",
    "    try:\n",
    "        title=driver.find_element_by_xpath('/html/body/div[3]/div[2]/div[2]/h1')\n",
    "        laptop_name.append(title.text)\n",
    "    except NoSuchElementException:\n",
    "        laptop_name.append('-')\n",
    "        \n",
    "    try:\n",
    "        osys=driver.find_element_by_xpath('/html/body/div[3]/div[2]/div[3]/div[3]/div[3]/div/ul/li[1]/div/p[2]/strong')\n",
    "        os.append(osys.text)\n",
    "    except NoSuchElementException:\n",
    "        os.append('-')\n",
    "        \n",
    "    try:\n",
    "        pro=driver.find_element_by_xpath('/html/body/div[3]/div[2]/div[3]/div[3]/div[3]/div/ul/li[3]/div/p[2]/strong')\n",
    "        processor.append(pro.text)\n",
    "    except NoSuchElementException:\n",
    "        processor.append('-')\n",
    "        \n",
    "    try:\n",
    "        ra=driver.find_element_by_xpath('/html/body/div[3]/div[2]/div[3]/div[3]/div[3]/div/ul/li[4]/div/p[2]/strong')\n",
    "        storage_capacity.append(ra.text.split('/')[0])\n",
    "        ram.append(ra.text.split('/')[1])\n",
    "    except NoSuchElementException:\n",
    "        storage_capacity.append('-')\n",
    "        ram.append('-')\n",
    "        \n",
    "    try:\n",
    "        ld=driver.find_element_by_xpath('/html/body/div[3]/div[2]/div[3]/div[3]/div[1]/div[2]/strong')\n",
    "        launch_date.append(ld.text)\n",
    "    except NoSuchElementException:\n",
    "        launch_date.append('-')\n",
    "        \n",
    "    try:\n",
    "        r_rate=driver.find_element_by_xpath('/html/body/div[3]/div[2]/div[8]/div/div[1]/div[2]/table/tbody/tr[3]/td[3]')\n",
    "        refresh_rate.append(r_rate.text)\n",
    "    except NoSuchElementException:\n",
    "        refresh_rate.append('-')\n",
    "        \n",
    "    try:\n",
    "        con=driver.find_element_by_xpath('/html/body/div[3]/div[2]/div[8]/div/div[1]/div[3]/table/tbody/tr/td[3]')\n",
    "        connectivity.append(con.text)\n",
    "    except NoSuchElementException:\n",
    "        connectivity.append('-')"
   ]
  },
  {
   "cell_type": "code",
   "execution_count": 19,
   "id": "0ebb6575",
   "metadata": {},
   "outputs": [
    {
     "name": "stdout",
     "output_type": "stream",
     "text": [
      "10 10 10 10 10 10 10 10 10\n"
     ]
    }
   ],
   "source": [
    "print(len(laptop_name),len(os),len(processor),len(ram),len(storage_capacity),len(launch_date),len(refresh_rate),len(connectivity),len(urls))"
   ]
  },
  {
   "cell_type": "code",
   "execution_count": null,
   "id": "bf6285f1",
   "metadata": {},
   "outputs": [],
   "source": [
    "processor"
   ]
  },
  {
   "cell_type": "code",
   "execution_count": 24,
   "id": "9f48059d",
   "metadata": {},
   "outputs": [],
   "source": [
    "df=pd.DataFrame({'Laptop Name':laptop_name,'Launch Date':launch_date,'OS':os,'Processor':processor,'Ram':ram,'Storage':storage_capacity,'Refresh Rate':refresh_rate,\"Connectivity\":connectivity,\"URL\":urls})"
   ]
  },
  {
   "cell_type": "code",
   "execution_count": 25,
   "id": "c1e95861",
   "metadata": {},
   "outputs": [
    {
     "data": {
      "text/html": [
       "<div>\n",
       "<style scoped>\n",
       "    .dataframe tbody tr th:only-of-type {\n",
       "        vertical-align: middle;\n",
       "    }\n",
       "\n",
       "    .dataframe tbody tr th {\n",
       "        vertical-align: top;\n",
       "    }\n",
       "\n",
       "    .dataframe thead th {\n",
       "        text-align: right;\n",
       "    }\n",
       "</style>\n",
       "<table border=\"1\" class=\"dataframe\">\n",
       "  <thead>\n",
       "    <tr style=\"text-align: right;\">\n",
       "      <th></th>\n",
       "      <th>Laptop Name</th>\n",
       "      <th>Launch Date</th>\n",
       "      <th>OS</th>\n",
       "      <th>Processor</th>\n",
       "      <th>Ram</th>\n",
       "      <th>Storage</th>\n",
       "      <th>Refresh Rate</th>\n",
       "      <th>Connectivity</th>\n",
       "      <th>URL</th>\n",
       "    </tr>\n",
       "  </thead>\n",
       "  <tbody>\n",
       "    <tr>\n",
       "      <th>0</th>\n",
       "      <td>MSI Gaming Raider GE76 12th Gen Core i9-12900H...</td>\n",
       "      <td>08 Apr, 2022</td>\n",
       "      <td>Windows 11 Home</td>\n",
       "      <td>12th Gen Intel Core I9-12900HK | 5 GHz</td>\n",
       "      <td>16 GBGB DDR5</td>\n",
       "      <td>2 TB SSD</td>\n",
       "      <td>20Hz</td>\n",
       "      <td>Bluetooth, Wi-Fi</td>\n",
       "      <td>https://www.digit.in/laptops/msi-gaming-raider...</td>\n",
       "    </tr>\n",
       "    <tr>\n",
       "      <th>1</th>\n",
       "      <td>ASUS ROG Strix Scar 15 12th Gen Core i9-12900H...</td>\n",
       "      <td>04 Apr, 2022</td>\n",
       "      <td>Windows 11 Home</td>\n",
       "      <td>12th Gen Intel Core I9-12900H | 2.5 GHz</td>\n",
       "      <td>32 GBGB DDR5</td>\n",
       "      <td>2 TB SSD</td>\n",
       "      <td>240Hz</td>\n",
       "      <td>Bluetooth, Wi-Fi</td>\n",
       "      <td>https://www.digit.in/laptops/asus-rog-strix-sc...</td>\n",
       "    </tr>\n",
       "    <tr>\n",
       "      <th>2</th>\n",
       "      <td>Acer NITRO 5 Ryzen 9 (2021)</td>\n",
       "      <td>06 Oct, 2021</td>\n",
       "      <td>Windows 10</td>\n",
       "      <td>AMD Ryzen 9 Octa Core | 2.4 GHz</td>\n",
       "      <td>16 GBGB DDR4</td>\n",
       "      <td>1 TB HDD</td>\n",
       "      <td>144 Hz</td>\n",
       "      <td>-</td>\n",
       "      <td>https://www.digit.in/laptops/acer-nitro-5-ryze...</td>\n",
       "    </tr>\n",
       "    <tr>\n",
       "      <th>3</th>\n",
       "      <td>MSI Stealth 15M 11th Gen Core i7-11375H (2021)</td>\n",
       "      <td>06 Oct, 2021</td>\n",
       "      <td>Windows 10</td>\n",
       "      <td>Intel Core I7 11th Gen - 11375H | NA</td>\n",
       "      <td>16 GBGB DDR4</td>\n",
       "      <td>1 TB SSD</td>\n",
       "      <td>144 Hz</td>\n",
       "      <td>-</td>\n",
       "      <td>https://www.digit.in/laptops/msi-stealth-15m-1...</td>\n",
       "    </tr>\n",
       "    <tr>\n",
       "      <th>4</th>\n",
       "      <td>ASUS ROG Strix Scar 15 Ryzen 9-5900HX (2021)</td>\n",
       "      <td>06 Oct, 2021</td>\n",
       "      <td>Windows 10</td>\n",
       "      <td>AMD Ryzen 9 Octa Core - 5900HX | 3.3 GHz</td>\n",
       "      <td>32 GBGB DDR4</td>\n",
       "      <td>2 TB SSD</td>\n",
       "      <td>165 Hz</td>\n",
       "      <td>-</td>\n",
       "      <td>https://www.digit.in/laptops/asus-rog-strix-sc...</td>\n",
       "    </tr>\n",
       "    <tr>\n",
       "      <th>5</th>\n",
       "      <td>ASUS ROG Strix Scar 15</td>\n",
       "      <td>28 Apr, 2021</td>\n",
       "      <td>Windows 10 Home</td>\n",
       "      <td>AMD Ryzen™ 9 5900HX | 3.3 GHz</td>\n",
       "      <td>16 GBGB DDR4</td>\n",
       "      <td>1 TB SSD</td>\n",
       "      <td>-</td>\n",
       "      <td>-</td>\n",
       "      <td>https://www.digit.in/laptops/asus-rog-strix-sc...</td>\n",
       "    </tr>\n",
       "    <tr>\n",
       "      <th>6</th>\n",
       "      <td>Asus ROG Zephyrus G14</td>\n",
       "      <td>12 Aug, 2020</td>\n",
       "      <td>Windows 10 Home</td>\n",
       "      <td>AMD 3rd Gen Ryzen 9 | 3.3 GHz</td>\n",
       "      <td>16 GBGB DDR4</td>\n",
       "      <td>1 TB SSD</td>\n",
       "      <td>-</td>\n",
       "      <td>-</td>\n",
       "      <td>https://www.digit.in/laptops/asus-rog-zephyrus...</td>\n",
       "    </tr>\n",
       "    <tr>\n",
       "      <th>7</th>\n",
       "      <td>HP Omen 16-B1361TX 12th Gen Core i7-12700H (2022)</td>\n",
       "      <td>19 Apr, 2022</td>\n",
       "      <td>Windows 11 Home</td>\n",
       "      <td>12th Gen Intel Core I7-12700H | 4.7 GHz</td>\n",
       "      <td>16 GBGB DDR4</td>\n",
       "      <td>1 TB SSD</td>\n",
       "      <td>144 Hz</td>\n",
       "      <td>Bluetooth, Wi-Fi</td>\n",
       "      <td>https://www.digit.in/laptops/hp-omen-16-b1361t...</td>\n",
       "    </tr>\n",
       "    <tr>\n",
       "      <th>8</th>\n",
       "      <td>Asus ROG Zephyrus Duo 15</td>\n",
       "      <td>20 Nov, 2020</td>\n",
       "      <td>Windows 10</td>\n",
       "      <td>Intel Core I7 10th Gen 10875H | NA</td>\n",
       "      <td>4 GBGB DDR4</td>\n",
       "      <td>512 GB SSD</td>\n",
       "      <td>60 Hz</td>\n",
       "      <td>-</td>\n",
       "      <td>https://www.digit.in/laptops/asus-rog-zephyrus...</td>\n",
       "    </tr>\n",
       "    <tr>\n",
       "      <th>9</th>\n",
       "      <td>Acer Aspire 7 Gaming</td>\n",
       "      <td>09 Apr, 2021</td>\n",
       "      <td>Windows 10 Home</td>\n",
       "      <td>AMD Ryzen™ 5-5500U Hexa-Core | NA</td>\n",
       "      <td>8 GBGB DDR4</td>\n",
       "      <td>512 GB SSD</td>\n",
       "      <td>-</td>\n",
       "      <td>-</td>\n",
       "      <td>https://www.digit.in/laptops/acer-aspire-7-gam...</td>\n",
       "    </tr>\n",
       "  </tbody>\n",
       "</table>\n",
       "</div>"
      ],
      "text/plain": [
       "                                         Laptop Name   Launch Date  \\\n",
       "0  MSI Gaming Raider GE76 12th Gen Core i9-12900H...  08 Apr, 2022   \n",
       "1  ASUS ROG Strix Scar 15 12th Gen Core i9-12900H...  04 Apr, 2022   \n",
       "2                        Acer NITRO 5 Ryzen 9 (2021)  06 Oct, 2021   \n",
       "3     MSI Stealth 15M 11th Gen Core i7-11375H (2021)  06 Oct, 2021   \n",
       "4       ASUS ROG Strix Scar 15 Ryzen 9-5900HX (2021)  06 Oct, 2021   \n",
       "5                             ASUS ROG Strix Scar 15  28 Apr, 2021   \n",
       "6                              Asus ROG Zephyrus G14  12 Aug, 2020   \n",
       "7  HP Omen 16-B1361TX 12th Gen Core i7-12700H (2022)  19 Apr, 2022   \n",
       "8                           Asus ROG Zephyrus Duo 15  20 Nov, 2020   \n",
       "9                               Acer Aspire 7 Gaming  09 Apr, 2021   \n",
       "\n",
       "                OS                                 Processor           Ram  \\\n",
       "0  Windows 11 Home    12th Gen Intel Core I9-12900HK | 5 GHz  16 GBGB DDR5   \n",
       "1  Windows 11 Home   12th Gen Intel Core I9-12900H | 2.5 GHz  32 GBGB DDR5   \n",
       "2       Windows 10           AMD Ryzen 9 Octa Core | 2.4 GHz  16 GBGB DDR4   \n",
       "3       Windows 10      Intel Core I7 11th Gen - 11375H | NA  16 GBGB DDR4   \n",
       "4       Windows 10  AMD Ryzen 9 Octa Core - 5900HX | 3.3 GHz  32 GBGB DDR4   \n",
       "5  Windows 10 Home             AMD Ryzen™ 9 5900HX | 3.3 GHz  16 GBGB DDR4   \n",
       "6  Windows 10 Home             AMD 3rd Gen Ryzen 9 | 3.3 GHz  16 GBGB DDR4   \n",
       "7  Windows 11 Home   12th Gen Intel Core I7-12700H | 4.7 GHz  16 GBGB DDR4   \n",
       "8       Windows 10        Intel Core I7 10th Gen 10875H | NA   4 GBGB DDR4   \n",
       "9  Windows 10 Home         AMD Ryzen™ 5-5500U Hexa-Core | NA   8 GBGB DDR4   \n",
       "\n",
       "      Storage Refresh Rate      Connectivity  \\\n",
       "0    2 TB SSD         20Hz  Bluetooth, Wi-Fi   \n",
       "1    2 TB SSD        240Hz  Bluetooth, Wi-Fi   \n",
       "2    1 TB HDD       144 Hz                 -   \n",
       "3    1 TB SSD       144 Hz                 -   \n",
       "4    2 TB SSD       165 Hz                 -   \n",
       "5    1 TB SSD            -                 -   \n",
       "6    1 TB SSD            -                 -   \n",
       "7    1 TB SSD       144 Hz  Bluetooth, Wi-Fi   \n",
       "8  512 GB SSD        60 Hz                 -   \n",
       "9  512 GB SSD            -                 -   \n",
       "\n",
       "                                                 URL  \n",
       "0  https://www.digit.in/laptops/msi-gaming-raider...  \n",
       "1  https://www.digit.in/laptops/asus-rog-strix-sc...  \n",
       "2  https://www.digit.in/laptops/acer-nitro-5-ryze...  \n",
       "3  https://www.digit.in/laptops/msi-stealth-15m-1...  \n",
       "4  https://www.digit.in/laptops/asus-rog-strix-sc...  \n",
       "5  https://www.digit.in/laptops/asus-rog-strix-sc...  \n",
       "6  https://www.digit.in/laptops/asus-rog-zephyrus...  \n",
       "7  https://www.digit.in/laptops/hp-omen-16-b1361t...  \n",
       "8  https://www.digit.in/laptops/asus-rog-zephyrus...  \n",
       "9  https://www.digit.in/laptops/acer-aspire-7-gam...  "
      ]
     },
     "execution_count": 25,
     "metadata": {},
     "output_type": "execute_result"
    }
   ],
   "source": [
    "df"
   ]
  },
  {
   "cell_type": "markdown",
   "id": "67fe66b4",
   "metadata": {},
   "source": [
    "8. Write a python program to scrape the details for all billionaires from www.forbes.com. Details to be \n",
    "scrapped: “Rank”, “Name”, “Net worth”, “Age”, “Citizenship”, “Source”, “Industry”."
   ]
  },
  {
   "cell_type": "code",
   "execution_count": 180,
   "id": "fd6ff231",
   "metadata": {},
   "outputs": [],
   "source": [
    "import selenium\n",
    "from selenium import webdriver\n",
    "import warnings\n",
    "warnings.filterwarnings('ignore')\n",
    "import time\n",
    "from selenium.common.exceptions import StaleElementReferenceException, NoSuchElementException\n",
    "import pandas as pd\n",
    "import numpy as np\n",
    "from bs4 import BeautifulSoup\n",
    "import requests"
   ]
  },
  {
   "cell_type": "code",
   "execution_count": 41,
   "id": "96055379",
   "metadata": {},
   "outputs": [
    {
     "data": {
      "text/plain": [
       "<selenium.webdriver.chrome.webdriver.WebDriver (session=\"c471a94a5961c16f0128e9a96e377867\")>"
      ]
     },
     "execution_count": 41,
     "metadata": {},
     "output_type": "execute_result"
    }
   ],
   "source": [
    "driver=webdriver.Chrome(\"chromedriver.exe\")\n",
    "driver"
   ]
  },
  {
   "cell_type": "code",
   "execution_count": 42,
   "id": "d63ca80a",
   "metadata": {},
   "outputs": [],
   "source": [
    "driver.get('https://www.forbes.com/billionaires/')\n",
    "time.sleep(2)"
   ]
  },
  {
   "cell_type": "code",
   "execution_count": null,
   "id": "a0e98594",
   "metadata": {},
   "outputs": [],
   "source": [
    "nxt_btn=driver.find_element_by_xpath('/html/body/div[1]/div[1]/div/div/div[3]/div[2]/div[2]/div[2]/div[27]/div[2]/div[6]/div[1]/button[2]/div/span')\n",
    "nxt_btn.click()"
   ]
  },
  {
   "cell_type": "code",
   "execution_count": 8,
   "id": "526f32af",
   "metadata": {},
   "outputs": [],
   "source": [
    "name=[]"
   ]
  },
  {
   "cell_type": "code",
   "execution_count": 9,
   "id": "7e25025f",
   "metadata": {},
   "outputs": [],
   "source": [
    "for i in range(0,13):\n",
    "    names=driver.find_elements_by_xpath('//div[@class=\"personName\"]')\n",
    "    for j in names:\n",
    "        name.append(j.text)\n",
    "    nxt_btn=driver.find_element_by_xpath('/html/body/div[1]/div[1]/div/div/div[3]/div[2]/div[2]/div[2]/div[27]/div[2]/div[6]/div[1]/button[2]/div/span')\n",
    "    nxt_btn.click()\n",
    "    time.sleep(5)"
   ]
  },
  {
   "cell_type": "code",
   "execution_count": 10,
   "id": "8cee7fe1",
   "metadata": {},
   "outputs": [
    {
     "data": {
      "text/plain": [
       "2600"
      ]
     },
     "execution_count": 10,
     "metadata": {},
     "output_type": "execute_result"
    }
   ],
   "source": [
    "len(name)"
   ]
  },
  {
   "cell_type": "code",
   "execution_count": 14,
   "id": "1319b085",
   "metadata": {},
   "outputs": [],
   "source": [
    "fst_page=driver.find_element_by_xpath('/html/body/div[1]/div[1]/div/div/div[3]/div[2]/div[2]/div[2]/div[9]/div[2]/div[9]/div[1]/div/button[1]')\n",
    "fst_page.click()"
   ]
  },
  {
   "cell_type": "code",
   "execution_count": 15,
   "id": "9e760dee",
   "metadata": {},
   "outputs": [],
   "source": [
    "rank=[]"
   ]
  },
  {
   "cell_type": "code",
   "execution_count": 17,
   "id": "0e5a3f02",
   "metadata": {},
   "outputs": [],
   "source": [
    "for i in range(0,13):\n",
    "    ranks=driver.find_elements_by_xpath('//div[@class=\"rank\"]')\n",
    "    for j in ranks:\n",
    "        rank.append(j.text)\n",
    "    nxt_btn=driver.find_element_by_xpath('/html/body/div[1]/div[1]/div/div/div[3]/div[2]/div[2]/div[2]/div[27]/div[2]/div[6]/div[1]/button[2]/div/span')\n",
    "    nxt_btn.click()\n",
    "    time.sleep(5)"
   ]
  },
  {
   "cell_type": "code",
   "execution_count": 20,
   "id": "27889976",
   "metadata": {},
   "outputs": [
    {
     "data": {
      "text/plain": [
       "2600"
      ]
     },
     "execution_count": 20,
     "metadata": {},
     "output_type": "execute_result"
    }
   ],
   "source": [
    "len(rank)"
   ]
  },
  {
   "cell_type": "code",
   "execution_count": 22,
   "id": "7de392cf",
   "metadata": {},
   "outputs": [],
   "source": [
    "fst_page=driver.find_element_by_xpath('/html/body/div[1]/div[1]/div/div/div[3]/div[2]/div[2]/div[2]/div[9]/div[2]/div[9]/div[1]/div/button[1]')\n",
    "fst_page.click()"
   ]
  },
  {
   "cell_type": "code",
   "execution_count": 23,
   "id": "169e8a07",
   "metadata": {},
   "outputs": [],
   "source": [
    "net_worth=[]\n",
    "country_of_citizenship=[]"
   ]
  },
  {
   "cell_type": "code",
   "execution_count": null,
   "id": "dae93841",
   "metadata": {},
   "outputs": [],
   "source": [
    "for i in range(0,13):\n",
    "    net_w=driver.find_elements_by_xpath('//div[@class=\"netWorth\"]')\n",
    "    for j in net_w:\n",
    "        net_worth.append(j.text)\n",
    "    nxt_btn=driver.find_element_by_xpath('/html/body/div[1]/div[1]/div/div/div[3]/div[2]/div[2]/div[2]/div[27]/div[2]/div[6]/div[1]/button[2]/div/span')\n",
    "    nxt_btn.click()\n",
    "    time.sleep(5)"
   ]
  },
  {
   "cell_type": "code",
   "execution_count": 29,
   "id": "a026a493",
   "metadata": {},
   "outputs": [
    {
     "data": {
      "text/plain": [
       "2600"
      ]
     },
     "execution_count": 29,
     "metadata": {},
     "output_type": "execute_result"
    }
   ],
   "source": [
    "len(net_worth)"
   ]
  },
  {
   "cell_type": "code",
   "execution_count": 50,
   "id": "db13bc2d",
   "metadata": {},
   "outputs": [],
   "source": [
    "fst_page=driver.find_element_by_xpath('/html/body/div[1]/div[1]/div/div/div[3]/div[2]/div[2]/div[2]/div[9]/div[2]/div[9]/div[1]/div/button[1]')\n",
    "fst_page.click()"
   ]
  },
  {
   "cell_type": "code",
   "execution_count": 51,
   "id": "680aaf65",
   "metadata": {},
   "outputs": [],
   "source": [
    "for i in range(0,13):\n",
    "    cntry=driver.find_elements_by_xpath('//div[@class=\"countryOfCitizenship\"]')\n",
    "    for j in cntry:\n",
    "        country_of_citizenship.append(j.text)\n",
    "    nxt_btn=driver.find_element_by_xpath('/html/body/div[1]/div[1]/div/div/div[3]/div[2]/div[2]/div[2]/div[27]/div[2]/div[6]/div[1]/button[2]/div/span')\n",
    "    nxt_btn.click()\n",
    "    time.sleep(5)"
   ]
  },
  {
   "cell_type": "code",
   "execution_count": 53,
   "id": "f6b48aab",
   "metadata": {},
   "outputs": [],
   "source": [
    "country=[]"
   ]
  },
  {
   "cell_type": "code",
   "execution_count": 56,
   "id": "b01449e2",
   "metadata": {},
   "outputs": [
    {
     "data": {
      "text/plain": [
       "2600"
      ]
     },
     "execution_count": 56,
     "metadata": {},
     "output_type": "execute_result"
    }
   ],
   "source": [
    "country=country_of_citizenship[0:2600]\n",
    "len(country)"
   ]
  },
  {
   "cell_type": "code",
   "execution_count": null,
   "id": "1d38541c",
   "metadata": {},
   "outputs": [],
   "source": [
    "fst_page=driver.find_element_by_xpath('/html/body/div[1]/div[1]/div/div/div[3]/div[2]/div[2]/div[2]/div[9]/div[2]/div[9]/div[1]/div/button[1]')\n",
    "fst_page.click()"
   ]
  },
  {
   "cell_type": "code",
   "execution_count": 35,
   "id": "dc3e5bf9",
   "metadata": {},
   "outputs": [],
   "source": [
    "source=[]"
   ]
  },
  {
   "cell_type": "code",
   "execution_count": 36,
   "id": "5a260a29",
   "metadata": {},
   "outputs": [],
   "source": [
    "for i in range(0,13):\n",
    "    sorc=driver.find_elements_by_xpath('//div[@class=\"source\"]')\n",
    "    for j in sorc:\n",
    "        source.append(j.text)\n",
    "    nxt_btn=driver.find_element_by_xpath('/html/body/div[1]/div[1]/div/div/div[3]/div[2]/div[2]/div[2]/div[27]/div[2]/div[6]/div[1]/button[2]/div/span')\n",
    "    nxt_btn.click()\n",
    "    time.sleep(5)"
   ]
  },
  {
   "cell_type": "code",
   "execution_count": 37,
   "id": "ee7aa8cc",
   "metadata": {},
   "outputs": [
    {
     "data": {
      "text/plain": [
       "2600"
      ]
     },
     "execution_count": 37,
     "metadata": {},
     "output_type": "execute_result"
    }
   ],
   "source": [
    "len(source)"
   ]
  },
  {
   "cell_type": "code",
   "execution_count": null,
   "id": "178bfac7",
   "metadata": {},
   "outputs": [],
   "source": [
    "fst_page=driver.find_element_by_xpath('/html/body/div[1]/div[1]/div/div/div[3]/div[2]/div[2]/div[2]/div[9]/div[2]/div[9]/div[1]/div/button[1]')\n",
    "fst_page.click()"
   ]
  },
  {
   "cell_type": "code",
   "execution_count": 47,
   "id": "6e295def",
   "metadata": {},
   "outputs": [],
   "source": [
    "industry=[]"
   ]
  },
  {
   "cell_type": "code",
   "execution_count": 48,
   "id": "ef39c965",
   "metadata": {},
   "outputs": [],
   "source": [
    "for i in range(0,13):\n",
    "    ind=driver.find_elements_by_xpath('//div[@class=\"category\"]')\n",
    "    for j in ind:\n",
    "        industry.append(j.text)\n",
    "    nxt_btn=driver.find_element_by_xpath('/html/body/div[1]/div[1]/div/div/div[3]/div[2]/div[2]/div[2]/div[27]/div[2]/div[6]/div[1]/button[2]/div/span')\n",
    "    nxt_btn.click()\n",
    "    time.sleep(5)"
   ]
  },
  {
   "cell_type": "code",
   "execution_count": 49,
   "id": "feecd1e2",
   "metadata": {},
   "outputs": [
    {
     "data": {
      "text/plain": [
       "2600"
      ]
     },
     "execution_count": 49,
     "metadata": {},
     "output_type": "execute_result"
    }
   ],
   "source": [
    "len(industry)"
   ]
  },
  {
   "cell_type": "code",
   "execution_count": 57,
   "id": "616e1a8b",
   "metadata": {},
   "outputs": [
    {
     "name": "stdout",
     "output_type": "stream",
     "text": [
      "2600 2600 2600 2600 2600 2600\n"
     ]
    }
   ],
   "source": [
    "print(len(rank),len(name),len(net_worth),len(country),len(source),len(industry))"
   ]
  },
  {
   "cell_type": "code",
   "execution_count": 58,
   "id": "8a4e565a",
   "metadata": {},
   "outputs": [],
   "source": [
    "df=pd.DataFrame({'Rank':rank,'Name':name,'Net Worth':net_worth,'Country of citizenship':country,'Source':source,'Industry':industry})"
   ]
  },
  {
   "cell_type": "code",
   "execution_count": 59,
   "id": "86d0f7c5",
   "metadata": {},
   "outputs": [
    {
     "data": {
      "text/html": [
       "<div>\n",
       "<style scoped>\n",
       "    .dataframe tbody tr th:only-of-type {\n",
       "        vertical-align: middle;\n",
       "    }\n",
       "\n",
       "    .dataframe tbody tr th {\n",
       "        vertical-align: top;\n",
       "    }\n",
       "\n",
       "    .dataframe thead th {\n",
       "        text-align: right;\n",
       "    }\n",
       "</style>\n",
       "<table border=\"1\" class=\"dataframe\">\n",
       "  <thead>\n",
       "    <tr style=\"text-align: right;\">\n",
       "      <th></th>\n",
       "      <th>Rank</th>\n",
       "      <th>Name</th>\n",
       "      <th>Net Worth</th>\n",
       "      <th>Country of citizenship</th>\n",
       "      <th>Source</th>\n",
       "      <th>Industry</th>\n",
       "    </tr>\n",
       "  </thead>\n",
       "  <tbody>\n",
       "    <tr>\n",
       "      <th>0</th>\n",
       "      <td>1.</td>\n",
       "      <td>Elon Musk</td>\n",
       "      <td>$219 B</td>\n",
       "      <td>China</td>\n",
       "      <td>Tesla, SpaceX</td>\n",
       "      <td>Automotive</td>\n",
       "    </tr>\n",
       "    <tr>\n",
       "      <th>1</th>\n",
       "      <td>2.</td>\n",
       "      <td>Jeff Bezos</td>\n",
       "      <td>$171 B</td>\n",
       "      <td>Cyprus</td>\n",
       "      <td>Amazon</td>\n",
       "      <td>Technology</td>\n",
       "    </tr>\n",
       "    <tr>\n",
       "      <th>2</th>\n",
       "      <td>3.</td>\n",
       "      <td>Bernard Arnault &amp; family</td>\n",
       "      <td>$158 B</td>\n",
       "      <td>China</td>\n",
       "      <td>LVMH</td>\n",
       "      <td>Fashion &amp; Retail</td>\n",
       "    </tr>\n",
       "    <tr>\n",
       "      <th>3</th>\n",
       "      <td>4.</td>\n",
       "      <td>Bill Gates</td>\n",
       "      <td>$129 B</td>\n",
       "      <td>China</td>\n",
       "      <td>Microsoft</td>\n",
       "      <td>Technology</td>\n",
       "    </tr>\n",
       "    <tr>\n",
       "      <th>4</th>\n",
       "      <td>5.</td>\n",
       "      <td>Warren Buffett</td>\n",
       "      <td>$118 B</td>\n",
       "      <td>China</td>\n",
       "      <td>Berkshire Hathaway</td>\n",
       "      <td>Finance &amp; Investments</td>\n",
       "    </tr>\n",
       "    <tr>\n",
       "      <th>...</th>\n",
       "      <td>...</td>\n",
       "      <td>...</td>\n",
       "      <td>...</td>\n",
       "      <td>...</td>\n",
       "      <td>...</td>\n",
       "      <td>...</td>\n",
       "    </tr>\n",
       "    <tr>\n",
       "      <th>2595</th>\n",
       "      <td>2578.</td>\n",
       "      <td>Jorge Gallardo Ballart</td>\n",
       "      <td>$1 B</td>\n",
       "      <td>Brazil</td>\n",
       "      <td>pharmaceuticals</td>\n",
       "      <td>Healthcare</td>\n",
       "    </tr>\n",
       "    <tr>\n",
       "      <th>2596</th>\n",
       "      <td>2578.</td>\n",
       "      <td>Nari Genomal</td>\n",
       "      <td>$1 B</td>\n",
       "      <td>Canada</td>\n",
       "      <td>apparel</td>\n",
       "      <td>Fashion &amp; Retail</td>\n",
       "    </tr>\n",
       "    <tr>\n",
       "      <th>2597</th>\n",
       "      <td>2578.</td>\n",
       "      <td>Ramesh Genomal</td>\n",
       "      <td>$1 B</td>\n",
       "      <td>Canada</td>\n",
       "      <td>apparel</td>\n",
       "      <td>Fashion &amp; Retail</td>\n",
       "    </tr>\n",
       "    <tr>\n",
       "      <th>2598</th>\n",
       "      <td>2578.</td>\n",
       "      <td>Sunder Genomal</td>\n",
       "      <td>$1 B</td>\n",
       "      <td>China</td>\n",
       "      <td>garments</td>\n",
       "      <td>Fashion &amp; Retail</td>\n",
       "    </tr>\n",
       "    <tr>\n",
       "      <th>2599</th>\n",
       "      <td>2578.</td>\n",
       "      <td>Horst-Otto Gerberding</td>\n",
       "      <td>$1 B</td>\n",
       "      <td>China</td>\n",
       "      <td>flavors and fragrances</td>\n",
       "      <td>Food &amp; Beverage</td>\n",
       "    </tr>\n",
       "  </tbody>\n",
       "</table>\n",
       "<p>2600 rows × 6 columns</p>\n",
       "</div>"
      ],
      "text/plain": [
       "       Rank                      Name Net Worth Country of citizenship  \\\n",
       "0        1.                 Elon Musk    $219 B                  China   \n",
       "1        2.                Jeff Bezos    $171 B                 Cyprus   \n",
       "2        3.  Bernard Arnault & family    $158 B                  China   \n",
       "3        4.                Bill Gates    $129 B                  China   \n",
       "4        5.            Warren Buffett    $118 B                  China   \n",
       "...     ...                       ...       ...                    ...   \n",
       "2595  2578.    Jorge Gallardo Ballart      $1 B                 Brazil   \n",
       "2596  2578.              Nari Genomal      $1 B                 Canada   \n",
       "2597  2578.            Ramesh Genomal      $1 B                 Canada   \n",
       "2598  2578.            Sunder Genomal      $1 B                  China   \n",
       "2599  2578.     Horst-Otto Gerberding      $1 B                  China   \n",
       "\n",
       "                      Source               Industry  \n",
       "0              Tesla, SpaceX             Automotive  \n",
       "1                     Amazon             Technology  \n",
       "2                       LVMH       Fashion & Retail  \n",
       "3                  Microsoft             Technology  \n",
       "4         Berkshire Hathaway  Finance & Investments  \n",
       "...                      ...                    ...  \n",
       "2595         pharmaceuticals             Healthcare  \n",
       "2596                 apparel       Fashion & Retail  \n",
       "2597                 apparel       Fashion & Retail  \n",
       "2598                garments       Fashion & Retail  \n",
       "2599  flavors and fragrances        Food & Beverage  \n",
       "\n",
       "[2600 rows x 6 columns]"
      ]
     },
     "execution_count": 59,
     "metadata": {},
     "output_type": "execute_result"
    }
   ],
   "source": [
    "df"
   ]
  },
  {
   "cell_type": "markdown",
   "id": "19f7ad43",
   "metadata": {},
   "source": [
    "9. Write a program to extract at least 500 Comments, Comment upvote and time when comment was posted \n",
    "from any YouTube Video."
   ]
  },
  {
   "cell_type": "code",
   "execution_count": null,
   "id": "2b697663",
   "metadata": {},
   "outputs": [],
   "source": [
    "import selenium\n",
    "from selenium import webdriver\n",
    "import warnings\n",
    "warnings.filterwarnings('ignore')\n",
    "import time\n",
    "from selenium.common.exceptions import StaleElementReferenceException, NoSuchElementException\n",
    "import pandas as pd\n",
    "import numpy as np\n",
    "from bs4 import BeautifulSoup\n",
    "import requests"
   ]
  },
  {
   "cell_type": "code",
   "execution_count": 196,
   "id": "235d4a33",
   "metadata": {},
   "outputs": [
    {
     "data": {
      "text/plain": [
       "<selenium.webdriver.chrome.webdriver.WebDriver (session=\"4dc83b286d536587079891c2a651dee9\")>"
      ]
     },
     "execution_count": 196,
     "metadata": {},
     "output_type": "execute_result"
    }
   ],
   "source": [
    "driver=webdriver.Chrome(\"chromedriver.exe\")\n",
    "driver"
   ]
  },
  {
   "cell_type": "code",
   "execution_count": 197,
   "id": "8d177616",
   "metadata": {},
   "outputs": [],
   "source": [
    "driver.get('https://www.youtube.com/')\n",
    "time.sleep(2)"
   ]
  },
  {
   "cell_type": "code",
   "execution_count": 198,
   "id": "f7837708",
   "metadata": {},
   "outputs": [],
   "source": [
    "search_bar=driver.find_element_by_xpath('/html/body/ytd-app/div[1]/div/ytd-masthead/div[3]/div[2]/ytd-searchbox/form/div[1]/div[1]/input')\n",
    "search_bar.send_keys('hanuman chalisha')"
   ]
  },
  {
   "cell_type": "code",
   "execution_count": 199,
   "id": "38bb379c",
   "metadata": {},
   "outputs": [],
   "source": [
    "search_button=driver.find_element_by_xpath('/html/body/ytd-app/div[1]/div/ytd-masthead/div[3]/div[2]/ytd-searchbox/button/yt-icon')\n",
    "search_button.click()"
   ]
  },
  {
   "cell_type": "code",
   "execution_count": 200,
   "id": "919ef517",
   "metadata": {},
   "outputs": [],
   "source": [
    "opn=driver.find_element_by_xpath('/html/body/ytd-app/div[1]/ytd-page-manager/ytd-search/div[1]/ytd-two-column-search-results-renderer/div/ytd-section-list-renderer/div[2]/ytd-item-section-renderer/div[3]/ytd-video-renderer[1]/div[1]/div/div[1]/div/h3/a/yt-formatted-string')\n",
    "opn.click()"
   ]
  },
  {
   "cell_type": "code",
   "execution_count": 201,
   "id": "988d4fc2",
   "metadata": {},
   "outputs": [],
   "source": [
    "for _ in range(1000):\n",
    "    \n",
    "    driver.execute_script(\"window.scrollBy(0,10000)\")"
   ]
  },
  {
   "cell_type": "code",
   "execution_count": 210,
   "id": "de5552e0",
   "metadata": {},
   "outputs": [],
   "source": [
    "comment=driver.find_elements_by_id(\"content-text\")"
   ]
  },
  {
   "cell_type": "code",
   "execution_count": 211,
   "id": "f0590e4a",
   "metadata": {},
   "outputs": [],
   "source": [
    "comments=[]"
   ]
  },
  {
   "cell_type": "code",
   "execution_count": 212,
   "id": "d46d35e8",
   "metadata": {},
   "outputs": [],
   "source": [
    "for i in comment:\n",
    "    comments.append(i.text)"
   ]
  },
  {
   "cell_type": "code",
   "execution_count": 213,
   "id": "fd6420f7",
   "metadata": {},
   "outputs": [
    {
     "data": {
      "text/plain": [
       "500"
      ]
     },
     "execution_count": 213,
     "metadata": {},
     "output_type": "execute_result"
    }
   ],
   "source": [
    "len(comments)"
   ]
  },
  {
   "cell_type": "code",
   "execution_count": 214,
   "id": "27b43c5f",
   "metadata": {},
   "outputs": [],
   "source": [
    "upvotes=driver.find_elements_by_id(\"vote-count-middle\")"
   ]
  },
  {
   "cell_type": "code",
   "execution_count": 215,
   "id": "d2d0dc29",
   "metadata": {},
   "outputs": [],
   "source": [
    "upvote=[]"
   ]
  },
  {
   "cell_type": "code",
   "execution_count": 216,
   "id": "134ad8f0",
   "metadata": {},
   "outputs": [],
   "source": [
    "for i in upvotes:\n",
    "    upvote.append(i.text)"
   ]
  },
  {
   "cell_type": "code",
   "execution_count": 217,
   "id": "2d63d250",
   "metadata": {},
   "outputs": [
    {
     "data": {
      "text/plain": [
       "500"
      ]
     },
     "execution_count": 217,
     "metadata": {},
     "output_type": "execute_result"
    }
   ],
   "source": [
    "len(upvote)"
   ]
  },
  {
   "cell_type": "code",
   "execution_count": 218,
   "id": "3d8bd7f4",
   "metadata": {},
   "outputs": [],
   "source": [
    "times=driver.find_elements_by_xpath(\"//a[contains(text(),'ago')]\")"
   ]
  },
  {
   "cell_type": "code",
   "execution_count": 219,
   "id": "c343ecfa",
   "metadata": {},
   "outputs": [],
   "source": [
    "time=[]"
   ]
  },
  {
   "cell_type": "code",
   "execution_count": 220,
   "id": "f9cec552",
   "metadata": {},
   "outputs": [],
   "source": [
    "for i in times:\n",
    "    time.append(i.text)"
   ]
  },
  {
   "cell_type": "code",
   "execution_count": 221,
   "id": "ed538413",
   "metadata": {},
   "outputs": [
    {
     "data": {
      "text/plain": [
       "500"
      ]
     },
     "execution_count": 221,
     "metadata": {},
     "output_type": "execute_result"
    }
   ],
   "source": [
    "len(time)"
   ]
  },
  {
   "cell_type": "code",
   "execution_count": 222,
   "id": "23380a57",
   "metadata": {},
   "outputs": [],
   "source": [
    "df=pd.DataFrame({'Comments':comments,'Upvote':upvote,'Time':time})"
   ]
  },
  {
   "cell_type": "code",
   "execution_count": 228,
   "id": "4205e324",
   "metadata": {},
   "outputs": [
    {
     "data": {
      "text/html": [
       "<div>\n",
       "<style scoped>\n",
       "    .dataframe tbody tr th:only-of-type {\n",
       "        vertical-align: middle;\n",
       "    }\n",
       "\n",
       "    .dataframe tbody tr th {\n",
       "        vertical-align: top;\n",
       "    }\n",
       "\n",
       "    .dataframe thead th {\n",
       "        text-align: right;\n",
       "    }\n",
       "</style>\n",
       "<table border=\"1\" class=\"dataframe\">\n",
       "  <thead>\n",
       "    <tr style=\"text-align: right;\">\n",
       "      <th></th>\n",
       "      <th>Comments</th>\n",
       "      <th>Upvote</th>\n",
       "      <th>Time</th>\n",
       "    </tr>\n",
       "  </thead>\n",
       "  <tbody>\n",
       "    <tr>\n",
       "      <th>0</th>\n",
       "      <td>Jai shree ram ️️</td>\n",
       "      <td>43</td>\n",
       "      <td>5 days ago</td>\n",
       "    </tr>\n",
       "    <tr>\n",
       "      <th>1</th>\n",
       "      <td>Jai shree babaji Maharaj ️ jai shree ram ️</td>\n",
       "      <td>12</td>\n",
       "      <td>9 days ago</td>\n",
       "    </tr>\n",
       "    <tr>\n",
       "      <th>2</th>\n",
       "      <td>Bhusan kumar sir one of the bwst singer who si...</td>\n",
       "      <td>16</td>\n",
       "      <td>3 weeks ago</td>\n",
       "    </tr>\n",
       "    <tr>\n",
       "      <th>3</th>\n",
       "      <td>Jai shree ram ji</td>\n",
       "      <td>10</td>\n",
       "      <td>8 hours ago</td>\n",
       "    </tr>\n",
       "    <tr>\n",
       "      <th>4</th>\n",
       "      <td>my favourite artist ️</td>\n",
       "      <td>12</td>\n",
       "      <td>2 weeks ago</td>\n",
       "    </tr>\n",
       "    <tr>\n",
       "      <th>...</th>\n",
       "      <td>...</td>\n",
       "      <td>...</td>\n",
       "      <td>...</td>\n",
       "    </tr>\n",
       "    <tr>\n",
       "      <th>495</th>\n",
       "      <td>Kon dislike kar raha h \\nTum Saab maroge jisne...</td>\n",
       "      <td>111</td>\n",
       "      <td>1 year ago</td>\n",
       "    </tr>\n",
       "    <tr>\n",
       "      <th>496</th>\n",
       "      <td>एक नई अद्भुत शक्ति का आभास प्रतीत होता है मैं ...</td>\n",
       "      <td>1</td>\n",
       "      <td>7 days ago</td>\n",
       "    </tr>\n",
       "    <tr>\n",
       "      <th>497</th>\n",
       "      <td>It’s Beautiful.</td>\n",
       "      <td></td>\n",
       "      <td>1 day ago</td>\n",
       "    </tr>\n",
       "    <tr>\n",
       "      <th>498</th>\n",
       "      <td>jai shree ram</td>\n",
       "      <td>1</td>\n",
       "      <td>3 hours ago</td>\n",
       "    </tr>\n",
       "    <tr>\n",
       "      <th>499</th>\n",
       "      <td>When I listen to Hanuman Chalisa and close my ...</td>\n",
       "      <td>17</td>\n",
       "      <td>10 days ago (edited)</td>\n",
       "    </tr>\n",
       "  </tbody>\n",
       "</table>\n",
       "<p>500 rows × 3 columns</p>\n",
       "</div>"
      ],
      "text/plain": [
       "                                              Comments Upvote  \\\n",
       "0                                     Jai shree ram ️️     43   \n",
       "1           Jai shree babaji Maharaj ️ jai shree ram ️     12   \n",
       "2    Bhusan kumar sir one of the bwst singer who si...     16   \n",
       "3                                    Jai shree ram ji      10   \n",
       "4                                my favourite artist ️     12   \n",
       "..                                                 ...    ...   \n",
       "495  Kon dislike kar raha h \\nTum Saab maroge jisne...    111   \n",
       "496  एक नई अद्भुत शक्ति का आभास प्रतीत होता है मैं ...      1   \n",
       "497                                    It’s Beautiful.          \n",
       "498                                      jai shree ram      1   \n",
       "499  When I listen to Hanuman Chalisa and close my ...     17   \n",
       "\n",
       "                     Time  \n",
       "0              5 days ago  \n",
       "1              9 days ago  \n",
       "2             3 weeks ago  \n",
       "3             8 hours ago  \n",
       "4             2 weeks ago  \n",
       "..                    ...  \n",
       "495            1 year ago  \n",
       "496            7 days ago  \n",
       "497             1 day ago  \n",
       "498           3 hours ago  \n",
       "499  10 days ago (edited)  \n",
       "\n",
       "[500 rows x 3 columns]"
      ]
     },
     "execution_count": 228,
     "metadata": {},
     "output_type": "execute_result"
    }
   ],
   "source": [
    "df"
   ]
  },
  {
   "cell_type": "code",
   "execution_count": 227,
   "id": "207bfda2",
   "metadata": {},
   "outputs": [
    {
     "data": {
      "text/html": [
       "<div>\n",
       "<style scoped>\n",
       "    .dataframe tbody tr th:only-of-type {\n",
       "        vertical-align: middle;\n",
       "    }\n",
       "\n",
       "    .dataframe tbody tr th {\n",
       "        vertical-align: top;\n",
       "    }\n",
       "\n",
       "    .dataframe thead th {\n",
       "        text-align: right;\n",
       "    }\n",
       "</style>\n",
       "<table border=\"1\" class=\"dataframe\">\n",
       "  <thead>\n",
       "    <tr style=\"text-align: right;\">\n",
       "      <th></th>\n",
       "      <th>Comments</th>\n",
       "      <th>Upvote</th>\n",
       "      <th>Time</th>\n",
       "    </tr>\n",
       "  </thead>\n",
       "  <tbody>\n",
       "    <tr>\n",
       "      <th>0</th>\n",
       "      <td>Jai shree ram ️️</td>\n",
       "      <td>43</td>\n",
       "      <td>5 days ago</td>\n",
       "    </tr>\n",
       "    <tr>\n",
       "      <th>1</th>\n",
       "      <td>Jai shree babaji Maharaj ️ jai shree ram ️</td>\n",
       "      <td>12</td>\n",
       "      <td>9 days ago</td>\n",
       "    </tr>\n",
       "    <tr>\n",
       "      <th>2</th>\n",
       "      <td>Bhusan kumar sir one of the bwst singer who si...</td>\n",
       "      <td>16</td>\n",
       "      <td>3 weeks ago</td>\n",
       "    </tr>\n",
       "    <tr>\n",
       "      <th>3</th>\n",
       "      <td>Jai shree ram ji</td>\n",
       "      <td>10</td>\n",
       "      <td>8 hours ago</td>\n",
       "    </tr>\n",
       "    <tr>\n",
       "      <th>4</th>\n",
       "      <td>my favourite artist ️</td>\n",
       "      <td>12</td>\n",
       "      <td>2 weeks ago</td>\n",
       "    </tr>\n",
       "  </tbody>\n",
       "</table>\n",
       "</div>"
      ],
      "text/plain": [
       "                                            Comments Upvote         Time\n",
       "0                                   Jai shree ram ️️     43   5 days ago\n",
       "1         Jai shree babaji Maharaj ️ jai shree ram ️     12   9 days ago\n",
       "2  Bhusan kumar sir one of the bwst singer who si...     16  3 weeks ago\n",
       "3                                  Jai shree ram ji      10  8 hours ago\n",
       "4                              my favourite artist ️     12  2 weeks ago"
      ]
     },
     "execution_count": 227,
     "metadata": {},
     "output_type": "execute_result"
    }
   ],
   "source": [
    "df.head()"
   ]
  },
  {
   "cell_type": "markdown",
   "id": "3d637139",
   "metadata": {},
   "source": [
    "10. Write a python program to scrape a data for all available Hostels from https://www.hostelworld.com/ in \n",
    "“London” location. You have to scrape hostel name, distance from city centre, ratings, total reviews, \n",
    "overall reviews, privates from price, dorms from price, facilities and property description"
   ]
  },
  {
   "cell_type": "code",
   "execution_count": 111,
   "id": "a5032d60",
   "metadata": {},
   "outputs": [],
   "source": [
    "import selenium\n",
    "from selenium import webdriver\n",
    "import warnings\n",
    "warnings.filterwarnings('ignore')\n",
    "import time\n",
    "from selenium.common.exceptions import StaleElementReferenceException, NoSuchElementException\n",
    "import pandas as pd\n",
    "import numpy as np\n",
    "from bs4 import BeautifulSoup\n",
    "import requests"
   ]
  },
  {
   "cell_type": "code",
   "execution_count": 112,
   "id": "c605cc59",
   "metadata": {},
   "outputs": [
    {
     "data": {
      "text/plain": [
       "<selenium.webdriver.chrome.webdriver.WebDriver (session=\"b64844ebc41e98260c1738cb30a12d36\")>"
      ]
     },
     "execution_count": 112,
     "metadata": {},
     "output_type": "execute_result"
    }
   ],
   "source": [
    "driver=webdriver.Chrome(\"chromedriver.exe\")\n",
    "driver"
   ]
  },
  {
   "cell_type": "code",
   "execution_count": 113,
   "id": "af9be0f2",
   "metadata": {},
   "outputs": [],
   "source": [
    "driver.get('https://www.hostelworld.com/')"
   ]
  },
  {
   "cell_type": "code",
   "execution_count": 123,
   "id": "9fd956ee",
   "metadata": {},
   "outputs": [],
   "source": [
    "searchbar=driver.find_element_by_xpath('/html/body/div[3]/div/div/div[1]/div[1]/div/div[2]/div[4]/div/div[2]/div/div[1]/div/input')\n",
    "searchbar.click()"
   ]
  },
  {
   "cell_type": "code",
   "execution_count": 124,
   "id": "b1014701",
   "metadata": {},
   "outputs": [],
   "source": [
    "search_bar=driver.find_element_by_xpath('//input[@class=\"search-input\"]')\n",
    "search_bar.send_keys('london')"
   ]
  },
  {
   "cell_type": "code",
   "execution_count": 126,
   "id": "0d88a275",
   "metadata": {},
   "outputs": [],
   "source": [
    "srch=driver.find_element_by_xpath('/html/body/div[3]/div/div/div[1]/div[1]/div/div[2]/div[4]/div/div[2]/div/div[1]/div/div/ul/li[2]')\n",
    "srch.click()"
   ]
  },
  {
   "cell_type": "code",
   "execution_count": 127,
   "id": "f2b4fd78",
   "metadata": {},
   "outputs": [],
   "source": [
    "lets_go=driver.find_element_by_xpath('//button[@class=\"button primary large\"]')\n",
    "lets_go.click()"
   ]
  },
  {
   "cell_type": "code",
   "execution_count": 128,
   "id": "3d942319",
   "metadata": {},
   "outputs": [],
   "source": [
    "urls=[]"
   ]
  },
  {
   "cell_type": "code",
   "execution_count": 129,
   "id": "28ecd677",
   "metadata": {},
   "outputs": [],
   "source": [
    "url=driver.find_elements_by_xpath('//h2[@class=\"title title-6\"]/a')"
   ]
  },
  {
   "cell_type": "code",
   "execution_count": 130,
   "id": "d92d2e78",
   "metadata": {},
   "outputs": [],
   "source": [
    "for i in url:\n",
    "    urls.append(i.get_attribute('href'))"
   ]
  },
  {
   "cell_type": "code",
   "execution_count": 131,
   "id": "a7ed60da",
   "metadata": {},
   "outputs": [
    {
     "data": {
      "text/plain": [
       "21"
      ]
     },
     "execution_count": 131,
     "metadata": {},
     "output_type": "execute_result"
    }
   ],
   "source": [
    "len(urls)"
   ]
  },
  {
   "cell_type": "code",
   "execution_count": 167,
   "id": "81981306",
   "metadata": {},
   "outputs": [],
   "source": [
    "name=[]\n",
    "overall_reviews=[]\n",
    "facilities=[]\n",
    "property_description=[]\n",
    "ratings=[]\n",
    "total_reviews=[]"
   ]
  },
  {
   "cell_type": "code",
   "execution_count": 168,
   "id": "e3de929f",
   "metadata": {},
   "outputs": [],
   "source": [
    "for i in urls:\n",
    "    driver.get(i)\n",
    "    time.sleep(5)\n",
    "    \n",
    "    try:  \n",
    "        title=driver.find_element_by_xpath('/html/body/div[3]/div/div/div[1]/section/div[4]/div/div[1]/h1/div')\n",
    "        name.append(title.text)\n",
    "    except NoSuchElementException:\n",
    "        name.append('-')\n",
    "        \n",
    "    \n",
    "    try:\n",
    "        rating=driver.find_element_by_xpath('/html/body/div[3]/div/div/div[1]/section/div[6]/div/div[1]/div[1]/div[1]')\n",
    "        ratings.append(rating.text)\n",
    "    except NoSuchElementException:\n",
    "        ratings.append('-')\n",
    "        \n",
    "        \n",
    "    try:\n",
    "        ovrall_rv=driver.find_element_by_xpath('/html/body/div[3]/div/div/div[1]/section/div[6]/div/div[1]/div[1]/div[2]/div[1]/span')\n",
    "        overall_reviews.append(ovrall_rv.text)\n",
    "    except NoSuchElementException:\n",
    "        overall_reviews.append('-')\n",
    "        \n",
    "    try:\n",
    "        fac=driver.find_element_by_xpath('//ul[@class=\"facility-sections\"]')\n",
    "        facilities.append(fac.text)\n",
    "    except NoSuchElementException:\n",
    "        facilities.append('-')\n",
    "        \n",
    "    try:\n",
    "        property_dec=driver.find_element_by_xpath('//*[@id=\"__layout\"]/div/div[1]/section/div[6]/div/div[2]/div/div/div[2]')\n",
    "        property_description.append(property_dec.text)\n",
    "    except NoSuchElementException:\n",
    "        property_description.append('-')\n",
    "        \n",
    "    try:\n",
    "        total_rv=driver.find_element_by_xpath('/html/body/div[3]/div/div/div[1]/section/div[6]/div/div[1]/div[1]/div[2]/div[2]')\n",
    "        total_reviews.append(total_rv.text)\n",
    "    except NoSuchElementException:\n",
    "        total_reviews.append('-')\n",
    "        "
   ]
  },
  {
   "cell_type": "code",
   "execution_count": null,
   "id": "0e6d415b",
   "metadata": {},
   "outputs": [],
   "source": [
    "name"
   ]
  },
  {
   "cell_type": "code",
   "execution_count": null,
   "id": "f30b31b2",
   "metadata": {},
   "outputs": [],
   "source": [
    "ratings"
   ]
  },
  {
   "cell_type": "code",
   "execution_count": null,
   "id": "dc57a893",
   "metadata": {},
   "outputs": [],
   "source": [
    "overall_reviews"
   ]
  },
  {
   "cell_type": "code",
   "execution_count": null,
   "id": "87f40b46",
   "metadata": {},
   "outputs": [],
   "source": [
    "total_reviews"
   ]
  },
  {
   "cell_type": "code",
   "execution_count": null,
   "id": "daf35e41",
   "metadata": {},
   "outputs": [],
   "source": [
    "facilities"
   ]
  },
  {
   "cell_type": "code",
   "execution_count": null,
   "id": "6b821968",
   "metadata": {},
   "outputs": [],
   "source": [
    "property_description"
   ]
  },
  {
   "cell_type": "code",
   "execution_count": 133,
   "id": "d3d3d7b3",
   "metadata": {},
   "outputs": [],
   "source": [
    "distance=driver.find_elements_by_xpath('//span[@class=\"description\"]')"
   ]
  },
  {
   "cell_type": "code",
   "execution_count": 134,
   "id": "656dce51",
   "metadata": {},
   "outputs": [],
   "source": [
    "distance_fromcity_center=[]"
   ]
  },
  {
   "cell_type": "code",
   "execution_count": 135,
   "id": "b68af062",
   "metadata": {},
   "outputs": [],
   "source": [
    "for i in distance:\n",
    "    distance_fromcity_center.append(i.text)"
   ]
  },
  {
   "cell_type": "code",
   "execution_count": 136,
   "id": "7633a8c7",
   "metadata": {},
   "outputs": [
    {
     "data": {
      "text/plain": [
       "21"
      ]
     },
     "execution_count": 136,
     "metadata": {},
     "output_type": "execute_result"
    }
   ],
   "source": [
    "len(distance_fromcity_center)"
   ]
  },
  {
   "cell_type": "code",
   "execution_count": null,
   "id": "62a503b0",
   "metadata": {},
   "outputs": [],
   "source": [
    "distance_fromcity_center"
   ]
  },
  {
   "cell_type": "code",
   "execution_count": null,
   "id": "4c3755ca",
   "metadata": {},
   "outputs": [],
   "source": [
    "price=driver.find_elements_by_xpath('//div[@class=\"price title-5\"]')\n",
    "price"
   ]
  },
  {
   "cell_type": "code",
   "execution_count": 148,
   "id": "07620308",
   "metadata": {},
   "outputs": [],
   "source": [
    "prices=[]"
   ]
  },
  {
   "cell_type": "code",
   "execution_count": 150,
   "id": "594cee32",
   "metadata": {},
   "outputs": [],
   "source": [
    "for i in price:\n",
    "    prices.append(i.text)"
   ]
  },
  {
   "cell_type": "code",
   "execution_count": 173,
   "id": "ef9b065d",
   "metadata": {},
   "outputs": [
    {
     "data": {
      "text/plain": [
       "21"
      ]
     },
     "execution_count": 173,
     "metadata": {},
     "output_type": "execute_result"
    }
   ],
   "source": [
    "len(prices)"
   ]
  },
  {
   "cell_type": "code",
   "execution_count": 174,
   "id": "38957aea",
   "metadata": {},
   "outputs": [
    {
     "name": "stdout",
     "output_type": "stream",
     "text": [
      "21 21 21 21 21 21 21 21\n"
     ]
    }
   ],
   "source": [
    "print(len(name),len(ratings),len(overall_reviews),len(total_reviews),len(facilities),len(property_description),len(distance_fromcity_center),len(prices))"
   ]
  },
  {
   "cell_type": "code",
   "execution_count": 177,
   "id": "7444ee9e",
   "metadata": {},
   "outputs": [],
   "source": [
    "df=pd.DataFrame({'Name':name,'Rating':rating,'Distance From City center':distance_fromcity_center,'Overall Review':overall_reviews,'Total review':total_reviews,'Facilities':facilities,'Property Description':property_description,'Private from Price':prices})"
   ]
  },
  {
   "cell_type": "code",
   "execution_count": 178,
   "id": "2661850d",
   "metadata": {},
   "outputs": [
    {
     "data": {
      "text/html": [
       "<div>\n",
       "<style scoped>\n",
       "    .dataframe tbody tr th:only-of-type {\n",
       "        vertical-align: middle;\n",
       "    }\n",
       "\n",
       "    .dataframe tbody tr th {\n",
       "        vertical-align: top;\n",
       "    }\n",
       "\n",
       "    .dataframe thead th {\n",
       "        text-align: right;\n",
       "    }\n",
       "</style>\n",
       "<table border=\"1\" class=\"dataframe\">\n",
       "  <thead>\n",
       "    <tr style=\"text-align: right;\">\n",
       "      <th></th>\n",
       "      <th>Name</th>\n",
       "      <th>Rating</th>\n",
       "      <th>Distance From City center</th>\n",
       "      <th>Overall Review</th>\n",
       "      <th>Total review</th>\n",
       "      <th>Facilities</th>\n",
       "      <th>Property Description</th>\n",
       "      <th>Private from Price</th>\n",
       "    </tr>\n",
       "  </thead>\n",
       "  <tbody>\n",
       "    <tr>\n",
       "      <th>0</th>\n",
       "      <td>Selina Camden</td>\n",
       "      <td>&lt;selenium.webdriver.remote.webelement.WebEleme...</td>\n",
       "      <td>Hostel - 5.5km from city centre</td>\n",
       "      <td>Superb</td>\n",
       "      <td>25 Total Reviews</td>\n",
       "      <td>Free\\nLinen Included Towels Included Free WiFi...</td>\n",
       "      <td>Among underground music venues, innovative mus...</td>\n",
       "      <td>Rs35726.33 Rs30367</td>\n",
       "    </tr>\n",
       "    <tr>\n",
       "      <th>1</th>\n",
       "      <td>Urbany Hostel London</td>\n",
       "      <td>&lt;selenium.webdriver.remote.webelement.WebEleme...</td>\n",
       "      <td>Hostel - 5.4km from city centre</td>\n",
       "      <td>Superb</td>\n",
       "      <td>310 Total Reviews</td>\n",
       "      <td>Free\\nLinen Included Free WiFi\\nGeneral\\nSecur...</td>\n",
       "      <td>Welcome to Urbany Hostel London, our first int...</td>\n",
       "      <td>Rs14151</td>\n",
       "    </tr>\n",
       "    <tr>\n",
       "      <th>2</th>\n",
       "      <td>Safestay London Elephant &amp; Castle</td>\n",
       "      <td>&lt;selenium.webdriver.remote.webelement.WebEleme...</td>\n",
       "      <td>Hostel - 1.7km from city centre</td>\n",
       "      <td>Very Good</td>\n",
       "      <td>4251 Total Reviews</td>\n",
       "      <td>Free\\nLinen Included Free City Maps Free WiFi\\...</td>\n",
       "      <td>Safestay at Elephant &amp; Castle is ideal if you ...</td>\n",
       "      <td>Rs14133</td>\n",
       "    </tr>\n",
       "    <tr>\n",
       "      <th>3</th>\n",
       "      <td>London Backpackers</td>\n",
       "      <td>&lt;selenium.webdriver.remote.webelement.WebEleme...</td>\n",
       "      <td>Hostel - 11.9km from city centre</td>\n",
       "      <td>Fabulous</td>\n",
       "      <td>4242 Total Reviews</td>\n",
       "      <td>Free\\nFree Breakfast Linen Included Free City ...</td>\n",
       "      <td>IMPORTANT NOTICE: This hostel is for 18 - 35-y...</td>\n",
       "      <td>Rs4211</td>\n",
       "    </tr>\n",
       "    <tr>\n",
       "      <th>4</th>\n",
       "      <td>Smart Hyde Park View Hostel</td>\n",
       "      <td>&lt;selenium.webdriver.remote.webelement.WebEleme...</td>\n",
       "      <td>Hostel - 5km from city centre</td>\n",
       "      <td>Fabulous</td>\n",
       "      <td>4549 Total Reviews</td>\n",
       "      <td>Free\\nLinen Included Free City Maps Free WiFi\\...</td>\n",
       "      <td>Our Hyde Park View Hostel is in a superb locat...</td>\n",
       "      <td>Rs18623</td>\n",
       "    </tr>\n",
       "    <tr>\n",
       "      <th>5</th>\n",
       "      <td>Hostel One Notting Hill</td>\n",
       "      <td>&lt;selenium.webdriver.remote.webelement.WebEleme...</td>\n",
       "      <td>Hostel - 5.5km from city centre</td>\n",
       "      <td>Fabulous</td>\n",
       "      <td>1359 Total Reviews</td>\n",
       "      <td>Free\\nLinen Included Free WiFi Free Internet A...</td>\n",
       "      <td>The perfect place for solo travelers to connec...</td>\n",
       "      <td>Rs19514</td>\n",
       "    </tr>\n",
       "    <tr>\n",
       "      <th>6</th>\n",
       "      <td>Saint James Backpackers</td>\n",
       "      <td>&lt;selenium.webdriver.remote.webelement.WebEleme...</td>\n",
       "      <td>Hostel - 5.5km from city centre</td>\n",
       "      <td>Good</td>\n",
       "      <td>1789 Total Reviews</td>\n",
       "      <td>Free\\nFree Breakfast Linen Included Free City ...</td>\n",
       "      <td>We are located in central London - just 5 minu...</td>\n",
       "      <td>Rs10376.27 Rs9857</td>\n",
       "    </tr>\n",
       "    <tr>\n",
       "      <th>7</th>\n",
       "      <td>Barry House</td>\n",
       "      <td>&lt;selenium.webdriver.remote.webelement.WebEleme...</td>\n",
       "      <td>Bed and Breakfast - 4.2km from city centre</td>\n",
       "      <td>Fabulous</td>\n",
       "      <td>10 Total Reviews</td>\n",
       "      <td>Free\\nFree Breakfast Free City Maps Towels Inc...</td>\n",
       "      <td>Barry House is a Central London bed and breakf...</td>\n",
       "      <td>Rs13185</td>\n",
       "    </tr>\n",
       "    <tr>\n",
       "      <th>8</th>\n",
       "      <td>London House Hotel</td>\n",
       "      <td>&lt;selenium.webdriver.remote.webelement.WebEleme...</td>\n",
       "      <td>Hotel - 5.3km from city centre</td>\n",
       "      <td>Fabulous</td>\n",
       "      <td>1381 Total Reviews</td>\n",
       "      <td>Free\\nFree City Maps Free WiFi\\nGeneral\\nKey C...</td>\n",
       "      <td>Our lovely boutique hotel is conveniently loca...</td>\n",
       "      <td>Rs23380.09 Rs16366</td>\n",
       "    </tr>\n",
       "    <tr>\n",
       "      <th>9</th>\n",
       "      <td>Elmwood Hotel</td>\n",
       "      <td>&lt;selenium.webdriver.remote.webelement.WebEleme...</td>\n",
       "      <td>Hotel - 3.2km from city centre</td>\n",
       "      <td>Very Good</td>\n",
       "      <td>115 Total Reviews</td>\n",
       "      <td>Free\\nFree Internet Access\\nGeneral\\nHair Drye...</td>\n",
       "      <td>This central London hotel just 2-minutes from ...</td>\n",
       "      <td>Rs10469</td>\n",
       "    </tr>\n",
       "    <tr>\n",
       "      <th>10</th>\n",
       "      <td>The W14 Hotel &amp; Bar</td>\n",
       "      <td>&lt;selenium.webdriver.remote.webelement.WebEleme...</td>\n",
       "      <td>Hotel - 6.5km from city centre</td>\n",
       "      <td>Superb</td>\n",
       "      <td>278 Total Reviews</td>\n",
       "      <td>Free\\nFree Breakfast Linen Included Free City ...</td>\n",
       "      <td>The W14 Hotel London is a 3 star Superior Budg...</td>\n",
       "      <td>Rs11287</td>\n",
       "    </tr>\n",
       "    <tr>\n",
       "      <th>11</th>\n",
       "      <td>Hyde Park Court Hotel</td>\n",
       "      <td>&lt;selenium.webdriver.remote.webelement.WebEleme...</td>\n",
       "      <td>Hotel - 4.3km from city centre</td>\n",
       "      <td>Rating</td>\n",
       "      <td>138 Total Reviews</td>\n",
       "      <td>Free\\nFree Breakfast Free City Maps Free WiFi ...</td>\n",
       "      <td>The Hyde Park Court Hotel is a centrally locat...</td>\n",
       "      <td>Rs17176</td>\n",
       "    </tr>\n",
       "    <tr>\n",
       "      <th>12</th>\n",
       "      <td>City Hotel Carlton</td>\n",
       "      <td>&lt;selenium.webdriver.remote.webelement.WebEleme...</td>\n",
       "      <td>Hotel - 1.8km from city centre</td>\n",
       "      <td>Superb</td>\n",
       "      <td>40 Total Reviews</td>\n",
       "      <td>Free\\nFree Internet Access\\nGeneral\\nSwimming ...</td>\n",
       "      <td>Carlton hotel is conveniently situated within ...</td>\n",
       "      <td>Rs21102</td>\n",
       "    </tr>\n",
       "    <tr>\n",
       "      <th>13</th>\n",
       "      <td>Hotel Shepherds Bush London</td>\n",
       "      <td>&lt;selenium.webdriver.remote.webelement.WebEleme...</td>\n",
       "      <td>Hotel - 7.6km from city centre</td>\n",
       "      <td>-</td>\n",
       "      <td>-</td>\n",
       "      <td>Free\\nLinen Included Free City Maps Towels Inc...</td>\n",
       "      <td>Hotel Shepherds Bush London provide 4 star hot...</td>\n",
       "      <td>Rs20135.54 Rs16310</td>\n",
       "    </tr>\n",
       "    <tr>\n",
       "      <th>14</th>\n",
       "      <td>Tony's House Hotel</td>\n",
       "      <td>&lt;selenium.webdriver.remote.webelement.WebEleme...</td>\n",
       "      <td>Hotel - 4.3km from city centre</td>\n",
       "      <td>-</td>\n",
       "      <td>-</td>\n",
       "      <td>Free\\nFree Breakfast Free Internet Access\\nGen...</td>\n",
       "      <td>Central London Hotel Accommodation situated in...</td>\n",
       "      <td>Rs20873</td>\n",
       "    </tr>\n",
       "    <tr>\n",
       "      <th>15</th>\n",
       "      <td>Fairway Hotel</td>\n",
       "      <td>&lt;selenium.webdriver.remote.webelement.WebEleme...</td>\n",
       "      <td>Bed and Breakfast - 3.3km from city centre</td>\n",
       "      <td>-</td>\n",
       "      <td>-</td>\n",
       "      <td>Free\\nFree Breakfast Towels Included Free WiFi...</td>\n",
       "      <td>Comfortable family run B&amp;B hotel , very centra...</td>\n",
       "      <td>Rs12825</td>\n",
       "    </tr>\n",
       "    <tr>\n",
       "      <th>16</th>\n",
       "      <td>Beaconsfield</td>\n",
       "      <td>&lt;selenium.webdriver.remote.webelement.WebEleme...</td>\n",
       "      <td>Hotel - 8.6km from city centre</td>\n",
       "      <td>-</td>\n",
       "      <td>-</td>\n",
       "      <td>Free\\nFree WiFi\\nFood &amp; Drink\\nBar Tea &amp; Coffe...</td>\n",
       "      <td>Beaconsfield is a basic, budget hotel, situate...</td>\n",
       "      <td>Rs14624</td>\n",
       "    </tr>\n",
       "    <tr>\n",
       "      <th>17</th>\n",
       "      <td>London Town Hotel</td>\n",
       "      <td>&lt;selenium.webdriver.remote.webelement.WebEleme...</td>\n",
       "      <td>Hotel - 5.4km from city centre</td>\n",
       "      <td>-</td>\n",
       "      <td>-</td>\n",
       "      <td>Free\\nLinen Included Free City Maps Towels Inc...</td>\n",
       "      <td>The London Town Hotel is your ideal hotel for ...</td>\n",
       "      <td>Rs12596</td>\n",
       "    </tr>\n",
       "    <tr>\n",
       "      <th>18</th>\n",
       "      <td>Airways Hotel Victoria London</td>\n",
       "      <td>&lt;selenium.webdriver.remote.webelement.WebEleme...</td>\n",
       "      <td>Hotel - 2.1km from city centre</td>\n",
       "      <td>Good</td>\n",
       "      <td>46 Total Reviews</td>\n",
       "      <td>Free\\nFree Breakfast Free City Maps Free WiFi ...</td>\n",
       "      <td>Airways Hotel is a 3 star budget accommodation...</td>\n",
       "      <td>Rs13087</td>\n",
       "    </tr>\n",
       "    <tr>\n",
       "      <th>19</th>\n",
       "      <td>Park Hotel</td>\n",
       "      <td>&lt;selenium.webdriver.remote.webelement.WebEleme...</td>\n",
       "      <td>Hotel - 4.9km from city centre</td>\n",
       "      <td>-</td>\n",
       "      <td>-</td>\n",
       "      <td>Free\\nLinen Included Towels Included Free WiFi...</td>\n",
       "      <td>A friendly, family run hotel offering comforta...</td>\n",
       "      <td>Rs12923</td>\n",
       "    </tr>\n",
       "    <tr>\n",
       "      <th>20</th>\n",
       "      <td>Best Western Boltons London Kensington</td>\n",
       "      <td>&lt;selenium.webdriver.remote.webelement.WebEleme...</td>\n",
       "      <td>Hotel - 5.4km from city centre</td>\n",
       "      <td>Rating</td>\n",
       "      <td>2 Total Reviews</td>\n",
       "      <td>Free\\nTowels Included Free WiFi\\nGeneral\\nKey ...</td>\n",
       "      <td>Combining Victorian charm with Modern Luxury T...</td>\n",
       "      <td>Rs17897</td>\n",
       "    </tr>\n",
       "  </tbody>\n",
       "</table>\n",
       "</div>"
      ],
      "text/plain": [
       "                                      Name  \\\n",
       "0                            Selina Camden   \n",
       "1                     Urbany Hostel London   \n",
       "2        Safestay London Elephant & Castle   \n",
       "3                       London Backpackers   \n",
       "4              Smart Hyde Park View Hostel   \n",
       "5                  Hostel One Notting Hill   \n",
       "6                  Saint James Backpackers   \n",
       "7                              Barry House   \n",
       "8                       London House Hotel   \n",
       "9                            Elmwood Hotel   \n",
       "10                     The W14 Hotel & Bar   \n",
       "11                   Hyde Park Court Hotel   \n",
       "12                      City Hotel Carlton   \n",
       "13             Hotel Shepherds Bush London   \n",
       "14                      Tony's House Hotel   \n",
       "15                           Fairway Hotel   \n",
       "16                            Beaconsfield   \n",
       "17                       London Town Hotel   \n",
       "18           Airways Hotel Victoria London   \n",
       "19                              Park Hotel   \n",
       "20  Best Western Boltons London Kensington   \n",
       "\n",
       "                                               Rating  \\\n",
       "0   <selenium.webdriver.remote.webelement.WebEleme...   \n",
       "1   <selenium.webdriver.remote.webelement.WebEleme...   \n",
       "2   <selenium.webdriver.remote.webelement.WebEleme...   \n",
       "3   <selenium.webdriver.remote.webelement.WebEleme...   \n",
       "4   <selenium.webdriver.remote.webelement.WebEleme...   \n",
       "5   <selenium.webdriver.remote.webelement.WebEleme...   \n",
       "6   <selenium.webdriver.remote.webelement.WebEleme...   \n",
       "7   <selenium.webdriver.remote.webelement.WebEleme...   \n",
       "8   <selenium.webdriver.remote.webelement.WebEleme...   \n",
       "9   <selenium.webdriver.remote.webelement.WebEleme...   \n",
       "10  <selenium.webdriver.remote.webelement.WebEleme...   \n",
       "11  <selenium.webdriver.remote.webelement.WebEleme...   \n",
       "12  <selenium.webdriver.remote.webelement.WebEleme...   \n",
       "13  <selenium.webdriver.remote.webelement.WebEleme...   \n",
       "14  <selenium.webdriver.remote.webelement.WebEleme...   \n",
       "15  <selenium.webdriver.remote.webelement.WebEleme...   \n",
       "16  <selenium.webdriver.remote.webelement.WebEleme...   \n",
       "17  <selenium.webdriver.remote.webelement.WebEleme...   \n",
       "18  <selenium.webdriver.remote.webelement.WebEleme...   \n",
       "19  <selenium.webdriver.remote.webelement.WebEleme...   \n",
       "20  <selenium.webdriver.remote.webelement.WebEleme...   \n",
       "\n",
       "                     Distance From City center Overall Review  \\\n",
       "0              Hostel - 5.5km from city centre         Superb   \n",
       "1              Hostel - 5.4km from city centre         Superb   \n",
       "2              Hostel - 1.7km from city centre      Very Good   \n",
       "3             Hostel - 11.9km from city centre       Fabulous   \n",
       "4                Hostel - 5km from city centre       Fabulous   \n",
       "5              Hostel - 5.5km from city centre       Fabulous   \n",
       "6              Hostel - 5.5km from city centre           Good   \n",
       "7   Bed and Breakfast - 4.2km from city centre       Fabulous   \n",
       "8               Hotel - 5.3km from city centre       Fabulous   \n",
       "9               Hotel - 3.2km from city centre      Very Good   \n",
       "10              Hotel - 6.5km from city centre         Superb   \n",
       "11              Hotel - 4.3km from city centre         Rating   \n",
       "12              Hotel - 1.8km from city centre         Superb   \n",
       "13              Hotel - 7.6km from city centre              -   \n",
       "14              Hotel - 4.3km from city centre              -   \n",
       "15  Bed and Breakfast - 3.3km from city centre              -   \n",
       "16              Hotel - 8.6km from city centre              -   \n",
       "17              Hotel - 5.4km from city centre              -   \n",
       "18              Hotel - 2.1km from city centre           Good   \n",
       "19              Hotel - 4.9km from city centre              -   \n",
       "20              Hotel - 5.4km from city centre         Rating   \n",
       "\n",
       "          Total review                                         Facilities  \\\n",
       "0     25 Total Reviews  Free\\nLinen Included Towels Included Free WiFi...   \n",
       "1    310 Total Reviews  Free\\nLinen Included Free WiFi\\nGeneral\\nSecur...   \n",
       "2   4251 Total Reviews  Free\\nLinen Included Free City Maps Free WiFi\\...   \n",
       "3   4242 Total Reviews  Free\\nFree Breakfast Linen Included Free City ...   \n",
       "4   4549 Total Reviews  Free\\nLinen Included Free City Maps Free WiFi\\...   \n",
       "5   1359 Total Reviews  Free\\nLinen Included Free WiFi Free Internet A...   \n",
       "6   1789 Total Reviews  Free\\nFree Breakfast Linen Included Free City ...   \n",
       "7     10 Total Reviews  Free\\nFree Breakfast Free City Maps Towels Inc...   \n",
       "8   1381 Total Reviews  Free\\nFree City Maps Free WiFi\\nGeneral\\nKey C...   \n",
       "9    115 Total Reviews  Free\\nFree Internet Access\\nGeneral\\nHair Drye...   \n",
       "10   278 Total Reviews  Free\\nFree Breakfast Linen Included Free City ...   \n",
       "11   138 Total Reviews  Free\\nFree Breakfast Free City Maps Free WiFi ...   \n",
       "12    40 Total Reviews  Free\\nFree Internet Access\\nGeneral\\nSwimming ...   \n",
       "13                   -  Free\\nLinen Included Free City Maps Towels Inc...   \n",
       "14                   -  Free\\nFree Breakfast Free Internet Access\\nGen...   \n",
       "15                   -  Free\\nFree Breakfast Towels Included Free WiFi...   \n",
       "16                   -  Free\\nFree WiFi\\nFood & Drink\\nBar Tea & Coffe...   \n",
       "17                   -  Free\\nLinen Included Free City Maps Towels Inc...   \n",
       "18    46 Total Reviews  Free\\nFree Breakfast Free City Maps Free WiFi ...   \n",
       "19                   -  Free\\nLinen Included Towels Included Free WiFi...   \n",
       "20     2 Total Reviews  Free\\nTowels Included Free WiFi\\nGeneral\\nKey ...   \n",
       "\n",
       "                                 Property Description  Private from Price  \n",
       "0   Among underground music venues, innovative mus...  Rs35726.33 Rs30367  \n",
       "1   Welcome to Urbany Hostel London, our first int...             Rs14151  \n",
       "2   Safestay at Elephant & Castle is ideal if you ...             Rs14133  \n",
       "3   IMPORTANT NOTICE: This hostel is for 18 - 35-y...              Rs4211  \n",
       "4   Our Hyde Park View Hostel is in a superb locat...             Rs18623  \n",
       "5   The perfect place for solo travelers to connec...             Rs19514  \n",
       "6   We are located in central London - just 5 minu...   Rs10376.27 Rs9857  \n",
       "7   Barry House is a Central London bed and breakf...             Rs13185  \n",
       "8   Our lovely boutique hotel is conveniently loca...  Rs23380.09 Rs16366  \n",
       "9   This central London hotel just 2-minutes from ...             Rs10469  \n",
       "10  The W14 Hotel London is a 3 star Superior Budg...             Rs11287  \n",
       "11  The Hyde Park Court Hotel is a centrally locat...             Rs17176  \n",
       "12  Carlton hotel is conveniently situated within ...             Rs21102  \n",
       "13  Hotel Shepherds Bush London provide 4 star hot...  Rs20135.54 Rs16310  \n",
       "14  Central London Hotel Accommodation situated in...             Rs20873  \n",
       "15  Comfortable family run B&B hotel , very centra...             Rs12825  \n",
       "16  Beaconsfield is a basic, budget hotel, situate...             Rs14624  \n",
       "17  The London Town Hotel is your ideal hotel for ...             Rs12596  \n",
       "18  Airways Hotel is a 3 star budget accommodation...             Rs13087  \n",
       "19  A friendly, family run hotel offering comforta...             Rs12923  \n",
       "20  Combining Victorian charm with Modern Luxury T...             Rs17897  "
      ]
     },
     "execution_count": 178,
     "metadata": {},
     "output_type": "execute_result"
    }
   ],
   "source": [
    "df #there is no dorm price available"
   ]
  },
  {
   "cell_type": "code",
   "execution_count": null,
   "id": "6b7213e7",
   "metadata": {},
   "outputs": [],
   "source": []
  }
 ],
 "metadata": {
  "kernelspec": {
   "display_name": "Python 3 (ipykernel)",
   "language": "python",
   "name": "python3"
  },
  "language_info": {
   "codemirror_mode": {
    "name": "ipython",
    "version": 3
   },
   "file_extension": ".py",
   "mimetype": "text/x-python",
   "name": "python",
   "nbconvert_exporter": "python",
   "pygments_lexer": "ipython3",
   "version": "3.9.7"
  }
 },
 "nbformat": 4,
 "nbformat_minor": 5
}
