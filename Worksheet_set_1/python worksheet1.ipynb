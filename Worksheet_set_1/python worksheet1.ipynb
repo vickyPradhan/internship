{
 "cells": [
  {
   "cell_type": "markdown",
   "id": "040abf96",
   "metadata": {},
   "source": [
    "# 11. Write a python program to find the factorial of a number."
   ]
  },
  {
   "cell_type": "code",
   "execution_count": 1,
   "id": "ddfc8e71",
   "metadata": {},
   "outputs": [],
   "source": [
    "num=5  #here i take 5\n",
    "\n",
    "factorial=1"
   ]
  },
  {
   "cell_type": "code",
   "execution_count": 7,
   "id": "bfc6c34c",
   "metadata": {},
   "outputs": [
    {
     "name": "stdout",
     "output_type": "stream",
     "text": [
      "The factorial of 5 is 14400\n"
     ]
    }
   ],
   "source": [
    "if num<0:\n",
    "\n",
    "    print('factorial does not exist or a negative num')\n",
    "\n",
    "elif num==0:\n",
    "\n",
    "    print('The factorial of 0 is 1')\n",
    "\n",
    "else:\n",
    "\n",
    "    for i in range(1,num+1):\n",
    "\n",
    "        factorial=factorial*i\n",
    "\n",
    "    print('The factorial of',num, 'is',factorial)"
   ]
  },
  {
   "cell_type": "markdown",
   "id": "0859509e",
   "metadata": {},
   "source": [
    "# 12. Write a python program to find whether a number is prime or composite."
   ]
  },
  {
   "cell_type": "code",
   "execution_count": 8,
   "id": "30f8218f",
   "metadata": {},
   "outputs": [
    {
     "name": "stdout",
     "output_type": "stream",
     "text": [
      "Enter a number :- 5\n",
      "5 is a prime number.\n"
     ]
    }
   ],
   "source": [
    "num=int(input('Enter a number :- '))\n",
    "\n",
    "if num>1:\n",
    "    for i in range(2,num):\n",
    "        if (num%i)==0:\n",
    "            print(num,'is not a prime number.')\n",
    "            break\n",
    "    else:\n",
    "        print(num,'is a prime number.')\n",
    "elif num == 0 or 1:\n",
    "    print(num,'is neither prime nor composite number.')\n",
    "else:\n",
    "    print(num,'is not a prime number, it is a composite number')"
   ]
  },
  {
   "cell_type": "markdown",
   "id": "0876a645",
   "metadata": {},
   "source": [
    "# 13. Write a python program to check whether a given string is palindrome or not."
   ]
  },
  {
   "cell_type": "code",
   "execution_count": 9,
   "id": "5128f97b",
   "metadata": {},
   "outputs": [
    {
     "name": "stdout",
     "output_type": "stream",
     "text": [
      "Enter a string :- 8\n",
      "This is a Palindrome string\n"
     ]
    }
   ],
   "source": [
    "st=input('Enter a string :- ')\n",
    "\n",
    "if (st==st[::-1]):\n",
    "    print('This is a Palindrome string')\n",
    "else:\n",
    "    print('This is not a Palindrome string')"
   ]
  },
  {
   "cell_type": "markdown",
   "id": "b21da3f8",
   "metadata": {},
   "source": [
    "# 14. Write a Python program to get the third side of right-angled triangle from two given sides"
   ]
  },
  {
   "cell_type": "code",
   "execution_count": 11,
   "id": "4b6d0628",
   "metadata": {},
   "outputs": [],
   "source": [
    "import math\n"
   ]
  },
  {
   "cell_type": "code",
   "execution_count": 12,
   "id": "94caeaa1",
   "metadata": {},
   "outputs": [
    {
     "name": "stdout",
     "output_type": "stream",
     "text": [
      "Enter base:- 14\n",
      "Enter height:- 12\n",
      "Enter angle:- 90\n",
      "Hypotenuse or 3rd side is:-  18.439088914585774\n"
     ]
    }
   ],
   "source": [
    "a=float(input('Enter base:- '))\n",
    "b=float(input('Enter height:- '))\n",
    "x=float(input('Enter angle:- '))\n",
    "\n",
    "c=math.sqrt(a**2 + b**2)\n",
    "\n",
    "print('Hypotenuse or 3rd side is:- ',c)"
   ]
  },
  {
   "cell_type": "markdown",
   "id": "fec98a1f",
   "metadata": {},
   "source": [
    "# 15. Write a python program to print the frequency of each of the characters present in a given string."
   ]
  },
  {
   "cell_type": "code",
   "execution_count": 14,
   "id": "2ad2c94c",
   "metadata": {},
   "outputs": [
    {
     "name": "stdout",
     "output_type": "stream",
     "text": [
      "Given string oldisgold\n",
      "Frequency of each character :\n",
      " {'o': 2, 'l': 2, 'd': 2, 'i': 1, 's': 1, 'g': 1}\n"
     ]
    }
   ],
   "source": [
    "str1='oldisgold'\n",
    "print('Given string',str1)\n",
    "res={}\n",
    "for keys in str1:\n",
    "    res[keys]=res.get(keys,0)+1\n",
    "    \n",
    "print('Frequency of each character :\\n',res)"
   ]
  },
  {
   "cell_type": "code",
   "execution_count": null,
   "id": "0032a820",
   "metadata": {},
   "outputs": [],
   "source": []
  }
 ],
 "metadata": {
  "kernelspec": {
   "display_name": "Python 3 (ipykernel)",
   "language": "python",
   "name": "python3"
  },
  "language_info": {
   "codemirror_mode": {
    "name": "ipython",
    "version": 3
   },
   "file_extension": ".py",
   "mimetype": "text/x-python",
   "name": "python",
   "nbconvert_exporter": "python",
   "pygments_lexer": "ipython3",
   "version": "3.9.7"
  }
 },
 "nbformat": 4,
 "nbformat_minor": 5
}
