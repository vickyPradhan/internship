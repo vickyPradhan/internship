{
 "cells": [
  {
   "cell_type": "code",
   "execution_count": 1,
   "id": "4de1677e",
   "metadata": {},
   "outputs": [],
   "source": [
    "# Importing Libraries\n",
    "import selenium\n",
    "# Importing selenium webdriver \n",
    "from selenium import webdriver\n",
    "\n",
    "import pandas as pd\n",
    "import numpy as np\n",
    "\n",
    "import time\n",
    "from bs4 import BeautifulSoup\n",
    "\n",
    "import warnings\n",
    "warnings.filterwarnings('ignore')\n",
    "\n",
    "\n",
    "# Importing required Exceptions which needs to handled\n",
    "from selenium.common.exceptions import StaleElementReferenceException, NoSuchElementException\n",
    "\n",
    "#Importing requests\n",
    "import requests\n",
    "\n",
    "# importing regex\n",
    "import re"
   ]
  },
  {
   "cell_type": "raw",
   "id": "01a7a06a",
   "metadata": {},
   "source": [
    "1. Scrape the details of most viewed videos on YouTube from Wikipedia.\n",
    "Url = https://en.wikipedia.org/wiki/List_of_most-viewed_YouTube_videos\n",
    "You need to find following details:\n",
    "A) Rank\n",
    "B) Name\n",
    "C) Artist\n",
    "D) Upload date\n",
    "E) Views\n"
   ]
  },
  {
   "cell_type": "code",
   "execution_count": 44,
   "id": "32450422",
   "metadata": {},
   "outputs": [
    {
     "data": {
      "text/plain": [
       "<selenium.webdriver.chrome.webdriver.WebDriver (session=\"57fd96b53c85890d83fdcc037ce6260e\")>"
      ]
     },
     "execution_count": 44,
     "metadata": {},
     "output_type": "execute_result"
    }
   ],
   "source": [
    "driver=webdriver.Chrome(\"chromedriver.exe\")\n",
    "driver"
   ]
  },
  {
   "cell_type": "code",
   "execution_count": 45,
   "id": "04b53326",
   "metadata": {},
   "outputs": [],
   "source": [
    "driver.get('https://en.wikipedia.org/wiki/List_of_most-viewed_YouTube_videos')"
   ]
  },
  {
   "cell_type": "code",
   "execution_count": 58,
   "id": "08895a32",
   "metadata": {},
   "outputs": [],
   "source": [
    "rank=[]\n",
    "name=[]\n",
    "artist=[]\n",
    "upload_date=[]\n",
    "views=[]"
   ]
  },
  {
   "cell_type": "code",
   "execution_count": 59,
   "id": "c04e6695",
   "metadata": {},
   "outputs": [],
   "source": [
    "ranks=driver.find_elements_by_xpath(\"//table[@class='wikitable sortable jquery-tablesorter']/tbody/tr/td[1]\")"
   ]
  },
  {
   "cell_type": "code",
   "execution_count": 60,
   "id": "a1b21257",
   "metadata": {},
   "outputs": [],
   "source": [
    "for i in ranks[0:30]:\n",
    "    rank.append(i.text)"
   ]
  },
  {
   "cell_type": "code",
   "execution_count": 62,
   "id": "59f46145",
   "metadata": {},
   "outputs": [],
   "source": [
    "names=driver.find_elements_by_xpath(\"//table[@class='wikitable sortable jquery-tablesorter']/tbody/tr/td[2]\")"
   ]
  },
  {
   "cell_type": "code",
   "execution_count": 63,
   "id": "8b451e8a",
   "metadata": {},
   "outputs": [],
   "source": [
    "for i in names[0:30]:\n",
    "    name.append(i.text)"
   ]
  },
  {
   "cell_type": "code",
   "execution_count": 64,
   "id": "a811d6fc",
   "metadata": {},
   "outputs": [],
   "source": [
    "artists=driver.find_elements_by_xpath(\"//table[@class='wikitable sortable jquery-tablesorter']/tbody/tr/td[3]\")"
   ]
  },
  {
   "cell_type": "code",
   "execution_count": 65,
   "id": "eb64d47d",
   "metadata": {},
   "outputs": [],
   "source": [
    "for i in artists[0:30]:\n",
    "    artist.append(i.text)"
   ]
  },
  {
   "cell_type": "code",
   "execution_count": 66,
   "id": "1204f5a4",
   "metadata": {},
   "outputs": [],
   "source": [
    "up_date=driver.find_elements_by_xpath(\"//table[@class='wikitable sortable jquery-tablesorter']/tbody/tr/td[5]\")"
   ]
  },
  {
   "cell_type": "code",
   "execution_count": 67,
   "id": "389d205c",
   "metadata": {},
   "outputs": [],
   "source": [
    "for i in up_date[0:30]:\n",
    "    upload_date.append(i.text)"
   ]
  },
  {
   "cell_type": "code",
   "execution_count": 68,
   "id": "44ec64f8",
   "metadata": {},
   "outputs": [],
   "source": [
    "view=driver.find_elements_by_xpath(\"//table[@class='wikitable sortable jquery-tablesorter']/tbody/tr/td[4]\")"
   ]
  },
  {
   "cell_type": "code",
   "execution_count": 69,
   "id": "dbea50e7",
   "metadata": {},
   "outputs": [],
   "source": [
    "for i in view[0:30]:\n",
    "    views.append(i.text)"
   ]
  },
  {
   "cell_type": "code",
   "execution_count": 70,
   "id": "9d9ac5e4",
   "metadata": {},
   "outputs": [
    {
     "name": "stdout",
     "output_type": "stream",
     "text": [
      "30 30 30 30 30\n"
     ]
    }
   ],
   "source": [
    "print(len(rank),len(name),len(artist),len(upload_date),len(views))"
   ]
  },
  {
   "cell_type": "code",
   "execution_count": 71,
   "id": "31108aab",
   "metadata": {},
   "outputs": [],
   "source": [
    "df=pd.DataFrame({'Rank':rank,'Name':name,'Artist':artist,'Upload Date':upload_date,'Views(Billions)':views})"
   ]
  },
  {
   "cell_type": "code",
   "execution_count": 72,
   "id": "046dedd6",
   "metadata": {},
   "outputs": [
    {
     "data": {
      "text/html": [
       "<div>\n",
       "<style scoped>\n",
       "    .dataframe tbody tr th:only-of-type {\n",
       "        vertical-align: middle;\n",
       "    }\n",
       "\n",
       "    .dataframe tbody tr th {\n",
       "        vertical-align: top;\n",
       "    }\n",
       "\n",
       "    .dataframe thead th {\n",
       "        text-align: right;\n",
       "    }\n",
       "</style>\n",
       "<table border=\"1\" class=\"dataframe\">\n",
       "  <thead>\n",
       "    <tr style=\"text-align: right;\">\n",
       "      <th></th>\n",
       "      <th>Rank</th>\n",
       "      <th>Name</th>\n",
       "      <th>Artist</th>\n",
       "      <th>Upload Date</th>\n",
       "      <th>Views(Billions)</th>\n",
       "    </tr>\n",
       "  </thead>\n",
       "  <tbody>\n",
       "    <tr>\n",
       "      <th>0</th>\n",
       "      <td>1.</td>\n",
       "      <td>\"Baby Shark Dance\"[3]</td>\n",
       "      <td>Pinkfong Baby Shark - Kids' Songs &amp; Stories</td>\n",
       "      <td>June 17, 2016</td>\n",
       "      <td>10.77</td>\n",
       "    </tr>\n",
       "    <tr>\n",
       "      <th>1</th>\n",
       "      <td>2.</td>\n",
       "      <td>\"Despacito\"[6]</td>\n",
       "      <td>Luis Fonsi</td>\n",
       "      <td>January 12, 2017</td>\n",
       "      <td>7.87</td>\n",
       "    </tr>\n",
       "    <tr>\n",
       "      <th>2</th>\n",
       "      <td>3.</td>\n",
       "      <td>\"Johny Johny Yes Papa\"[12]</td>\n",
       "      <td>LooLoo Kids</td>\n",
       "      <td>October 8, 2016</td>\n",
       "      <td>6.37</td>\n",
       "    </tr>\n",
       "    <tr>\n",
       "      <th>3</th>\n",
       "      <td>4.</td>\n",
       "      <td>\"Shape of You\"[13]</td>\n",
       "      <td>Ed Sheeran</td>\n",
       "      <td>January 30, 2017</td>\n",
       "      <td>5.74</td>\n",
       "    </tr>\n",
       "    <tr>\n",
       "      <th>4</th>\n",
       "      <td>5.</td>\n",
       "      <td>\"See You Again\"[15]</td>\n",
       "      <td>Wiz Khalifa</td>\n",
       "      <td>April 6, 2015</td>\n",
       "      <td>5.53</td>\n",
       "    </tr>\n",
       "    <tr>\n",
       "      <th>5</th>\n",
       "      <td>6.</td>\n",
       "      <td>\"Bath Song\"[20]</td>\n",
       "      <td>Cocomelon – Nursery Rhymes</td>\n",
       "      <td>May 2, 2018</td>\n",
       "      <td>5.42</td>\n",
       "    </tr>\n",
       "    <tr>\n",
       "      <th>6</th>\n",
       "      <td>7.</td>\n",
       "      <td>\"Phonics Song with Two Words\"[21]</td>\n",
       "      <td>ChuChu TV</td>\n",
       "      <td>March 6, 2014</td>\n",
       "      <td>4.66</td>\n",
       "    </tr>\n",
       "    <tr>\n",
       "      <th>7</th>\n",
       "      <td>8.</td>\n",
       "      <td>\"Uptown Funk\"[22]</td>\n",
       "      <td>Mark Ronson</td>\n",
       "      <td>November 19, 2014</td>\n",
       "      <td>4.59</td>\n",
       "    </tr>\n",
       "    <tr>\n",
       "      <th>8</th>\n",
       "      <td>9.</td>\n",
       "      <td>\"Learning Colors – Colorful Eggs on a Farm\"[23]</td>\n",
       "      <td>Miroshka TV</td>\n",
       "      <td>February 27, 2018</td>\n",
       "      <td>4.58</td>\n",
       "    </tr>\n",
       "    <tr>\n",
       "      <th>9</th>\n",
       "      <td>10.</td>\n",
       "      <td>\"Masha and the Bear – Recipe for Disaster\"[24]</td>\n",
       "      <td>Get Movies</td>\n",
       "      <td>January 31, 2012</td>\n",
       "      <td>4.50</td>\n",
       "    </tr>\n",
       "    <tr>\n",
       "      <th>10</th>\n",
       "      <td>11.</td>\n",
       "      <td>\"Gangnam Style\"[25]</td>\n",
       "      <td>Psy</td>\n",
       "      <td>July 15, 2012</td>\n",
       "      <td>4.44</td>\n",
       "    </tr>\n",
       "    <tr>\n",
       "      <th>11</th>\n",
       "      <td>12.</td>\n",
       "      <td>\"Wheels on the Bus\"[30]</td>\n",
       "      <td>Cocomelon – Nursery Rhymes</td>\n",
       "      <td>May 24, 2018</td>\n",
       "      <td>4.11</td>\n",
       "    </tr>\n",
       "    <tr>\n",
       "      <th>12</th>\n",
       "      <td>13.</td>\n",
       "      <td>\"Dame Tu Cosita\"[31]</td>\n",
       "      <td>El Chombo</td>\n",
       "      <td>April 5, 2018</td>\n",
       "      <td>3.95</td>\n",
       "    </tr>\n",
       "    <tr>\n",
       "      <th>13</th>\n",
       "      <td>14.</td>\n",
       "      <td>\"Sugar\"[32]</td>\n",
       "      <td>Maroon 5</td>\n",
       "      <td>January 14, 2015</td>\n",
       "      <td>3.70</td>\n",
       "    </tr>\n",
       "    <tr>\n",
       "      <th>14</th>\n",
       "      <td>15.</td>\n",
       "      <td>\"Roar\"[33]</td>\n",
       "      <td>Katy Perry</td>\n",
       "      <td>September 5, 2013</td>\n",
       "      <td>3.60</td>\n",
       "    </tr>\n",
       "    <tr>\n",
       "      <th>15</th>\n",
       "      <td>16.</td>\n",
       "      <td>\"Counting Stars\"[34]</td>\n",
       "      <td>OneRepublic</td>\n",
       "      <td>May 31, 2013</td>\n",
       "      <td>3.59</td>\n",
       "    </tr>\n",
       "    <tr>\n",
       "      <th>16</th>\n",
       "      <td>17.</td>\n",
       "      <td>\"Sorry\"[35]</td>\n",
       "      <td>Justin Bieber</td>\n",
       "      <td>October 22, 2015</td>\n",
       "      <td>3.55</td>\n",
       "    </tr>\n",
       "    <tr>\n",
       "      <th>17</th>\n",
       "      <td>18.</td>\n",
       "      <td>\"Thinking Out Loud\"[36]</td>\n",
       "      <td>Ed Sheeran</td>\n",
       "      <td>October 7, 2014</td>\n",
       "      <td>3.46</td>\n",
       "    </tr>\n",
       "    <tr>\n",
       "      <th>18</th>\n",
       "      <td>19.</td>\n",
       "      <td>\"Axel F\"[37]</td>\n",
       "      <td>Crazy Frog</td>\n",
       "      <td>June 16, 2009</td>\n",
       "      <td>3.38</td>\n",
       "    </tr>\n",
       "    <tr>\n",
       "      <th>19</th>\n",
       "      <td>20.</td>\n",
       "      <td>\"Girls Like You\"[38]</td>\n",
       "      <td>Maroon 5</td>\n",
       "      <td>May 31, 2018</td>\n",
       "      <td>3.30</td>\n",
       "    </tr>\n",
       "    <tr>\n",
       "      <th>20</th>\n",
       "      <td>21.</td>\n",
       "      <td>\"Faded\"[39]</td>\n",
       "      <td>Alan Walker</td>\n",
       "      <td>December 3, 2015</td>\n",
       "      <td>3.29</td>\n",
       "    </tr>\n",
       "    <tr>\n",
       "      <th>21</th>\n",
       "      <td>22.</td>\n",
       "      <td>\"Dark Horse\"[40]</td>\n",
       "      <td>Katy Perry</td>\n",
       "      <td>February 20, 2014</td>\n",
       "      <td>3.28</td>\n",
       "    </tr>\n",
       "    <tr>\n",
       "      <th>22</th>\n",
       "      <td>23.</td>\n",
       "      <td>\"Baa Baa Black Sheep\"[41]</td>\n",
       "      <td>Cocomelon – Nursery Rhymes</td>\n",
       "      <td>June 25, 2018</td>\n",
       "      <td>3.26</td>\n",
       "    </tr>\n",
       "    <tr>\n",
       "      <th>23</th>\n",
       "      <td>24.</td>\n",
       "      <td>\"Let Her Go\"[42]</td>\n",
       "      <td>Passenger</td>\n",
       "      <td>July 25, 2012</td>\n",
       "      <td>3.24</td>\n",
       "    </tr>\n",
       "    <tr>\n",
       "      <th>24</th>\n",
       "      <td>25.</td>\n",
       "      <td>\"Bailando\"[43]</td>\n",
       "      <td>Enrique Iglesias</td>\n",
       "      <td>April 11, 2014</td>\n",
       "      <td>3.22</td>\n",
       "    </tr>\n",
       "    <tr>\n",
       "      <th>25</th>\n",
       "      <td>26.</td>\n",
       "      <td>\"Lean On\"[44]</td>\n",
       "      <td>Major Lazer</td>\n",
       "      <td>March 22, 2015</td>\n",
       "      <td>3.21</td>\n",
       "    </tr>\n",
       "    <tr>\n",
       "      <th>26</th>\n",
       "      <td>27.</td>\n",
       "      <td>\"Perfect\"[45]</td>\n",
       "      <td>Ed Sheeran</td>\n",
       "      <td>November 9, 2017</td>\n",
       "      <td>3.18</td>\n",
       "    </tr>\n",
       "    <tr>\n",
       "      <th>27</th>\n",
       "      <td>28.</td>\n",
       "      <td>\"Shake It Off\"[46]</td>\n",
       "      <td>Taylor Swift</td>\n",
       "      <td>August 18, 2014</td>\n",
       "      <td>3.18</td>\n",
       "    </tr>\n",
       "    <tr>\n",
       "      <th>28</th>\n",
       "      <td>29.</td>\n",
       "      <td>\"Waka Waka (This Time for Africa)\"[47]</td>\n",
       "      <td>Shakira</td>\n",
       "      <td>June 4, 2010</td>\n",
       "      <td>3.16</td>\n",
       "    </tr>\n",
       "    <tr>\n",
       "      <th>29</th>\n",
       "      <td>30.</td>\n",
       "      <td>\"Mi Gente\"[48]</td>\n",
       "      <td>J Balvin</td>\n",
       "      <td>June 29, 2017</td>\n",
       "      <td>3.09</td>\n",
       "    </tr>\n",
       "  </tbody>\n",
       "</table>\n",
       "</div>"
      ],
      "text/plain": [
       "   Rank                                             Name  \\\n",
       "0    1.                            \"Baby Shark Dance\"[3]   \n",
       "1    2.                                   \"Despacito\"[6]   \n",
       "2    3.                       \"Johny Johny Yes Papa\"[12]   \n",
       "3    4.                               \"Shape of You\"[13]   \n",
       "4    5.                              \"See You Again\"[15]   \n",
       "5    6.                                  \"Bath Song\"[20]   \n",
       "6    7.                \"Phonics Song with Two Words\"[21]   \n",
       "7    8.                                \"Uptown Funk\"[22]   \n",
       "8    9.  \"Learning Colors – Colorful Eggs on a Farm\"[23]   \n",
       "9   10.   \"Masha and the Bear – Recipe for Disaster\"[24]   \n",
       "10  11.                              \"Gangnam Style\"[25]   \n",
       "11  12.                          \"Wheels on the Bus\"[30]   \n",
       "12  13.                             \"Dame Tu Cosita\"[31]   \n",
       "13  14.                                      \"Sugar\"[32]   \n",
       "14  15.                                       \"Roar\"[33]   \n",
       "15  16.                             \"Counting Stars\"[34]   \n",
       "16  17.                                      \"Sorry\"[35]   \n",
       "17  18.                          \"Thinking Out Loud\"[36]   \n",
       "18  19.                                     \"Axel F\"[37]   \n",
       "19  20.                             \"Girls Like You\"[38]   \n",
       "20  21.                                      \"Faded\"[39]   \n",
       "21  22.                                 \"Dark Horse\"[40]   \n",
       "22  23.                        \"Baa Baa Black Sheep\"[41]   \n",
       "23  24.                                 \"Let Her Go\"[42]   \n",
       "24  25.                                   \"Bailando\"[43]   \n",
       "25  26.                                    \"Lean On\"[44]   \n",
       "26  27.                                    \"Perfect\"[45]   \n",
       "27  28.                               \"Shake It Off\"[46]   \n",
       "28  29.           \"Waka Waka (This Time for Africa)\"[47]   \n",
       "29  30.                                   \"Mi Gente\"[48]   \n",
       "\n",
       "                                         Artist        Upload Date  \\\n",
       "0   Pinkfong Baby Shark - Kids' Songs & Stories      June 17, 2016   \n",
       "1                                    Luis Fonsi   January 12, 2017   \n",
       "2                                   LooLoo Kids    October 8, 2016   \n",
       "3                                    Ed Sheeran   January 30, 2017   \n",
       "4                                   Wiz Khalifa      April 6, 2015   \n",
       "5                    Cocomelon – Nursery Rhymes        May 2, 2018   \n",
       "6                                     ChuChu TV      March 6, 2014   \n",
       "7                                   Mark Ronson  November 19, 2014   \n",
       "8                                   Miroshka TV  February 27, 2018   \n",
       "9                                    Get Movies   January 31, 2012   \n",
       "10                                          Psy      July 15, 2012   \n",
       "11                   Cocomelon – Nursery Rhymes       May 24, 2018   \n",
       "12                                    El Chombo      April 5, 2018   \n",
       "13                                     Maroon 5   January 14, 2015   \n",
       "14                                   Katy Perry  September 5, 2013   \n",
       "15                                  OneRepublic       May 31, 2013   \n",
       "16                                Justin Bieber   October 22, 2015   \n",
       "17                                   Ed Sheeran    October 7, 2014   \n",
       "18                                   Crazy Frog      June 16, 2009   \n",
       "19                                     Maroon 5       May 31, 2018   \n",
       "20                                  Alan Walker   December 3, 2015   \n",
       "21                                   Katy Perry  February 20, 2014   \n",
       "22                   Cocomelon – Nursery Rhymes      June 25, 2018   \n",
       "23                                    Passenger      July 25, 2012   \n",
       "24                             Enrique Iglesias     April 11, 2014   \n",
       "25                                  Major Lazer     March 22, 2015   \n",
       "26                                   Ed Sheeran   November 9, 2017   \n",
       "27                                 Taylor Swift    August 18, 2014   \n",
       "28                                      Shakira       June 4, 2010   \n",
       "29                                     J Balvin      June 29, 2017   \n",
       "\n",
       "   Views(Billions)  \n",
       "0            10.77  \n",
       "1             7.87  \n",
       "2             6.37  \n",
       "3             5.74  \n",
       "4             5.53  \n",
       "5             5.42  \n",
       "6             4.66  \n",
       "7             4.59  \n",
       "8             4.58  \n",
       "9             4.50  \n",
       "10            4.44  \n",
       "11            4.11  \n",
       "12            3.95  \n",
       "13            3.70  \n",
       "14            3.60  \n",
       "15            3.59  \n",
       "16            3.55  \n",
       "17            3.46  \n",
       "18            3.38  \n",
       "19            3.30  \n",
       "20            3.29  \n",
       "21            3.28  \n",
       "22            3.26  \n",
       "23            3.24  \n",
       "24            3.22  \n",
       "25            3.21  \n",
       "26            3.18  \n",
       "27            3.18  \n",
       "28            3.16  \n",
       "29            3.09  "
      ]
     },
     "execution_count": 72,
     "metadata": {},
     "output_type": "execute_result"
    }
   ],
   "source": [
    "df"
   ]
  },
  {
   "cell_type": "raw",
   "id": "410f9fa5",
   "metadata": {},
   "source": [
    "2. Scrape the details team India’s international fixtures from bcci.tv.\n",
    "Url = https://www.bcci.tv/.\n",
    "You need to find following details:\n",
    "A) Match title (I.e. 1\n",
    "st ODI)\n",
    "B) Series\n",
    "C) Place\n",
    "D) Date\n",
    "E) Time\n",
    "Note: - From bcci.tv home page you have reach to the international fixture page through code."
   ]
  },
  {
   "cell_type": "code",
   "execution_count": 3,
   "id": "67eaf4cb",
   "metadata": {},
   "outputs": [
    {
     "data": {
      "text/plain": [
       "<selenium.webdriver.chrome.webdriver.WebDriver (session=\"c7cb0f3dace7133b97c436688f376416\")>"
      ]
     },
     "execution_count": 3,
     "metadata": {},
     "output_type": "execute_result"
    }
   ],
   "source": [
    "driver=webdriver.Chrome(\"chromedriver.exe\")\n",
    "driver"
   ]
  },
  {
   "cell_type": "code",
   "execution_count": 4,
   "id": "5fec69de",
   "metadata": {},
   "outputs": [],
   "source": [
    "driver.get('https://www.bcci.tv/.')"
   ]
  },
  {
   "cell_type": "code",
   "execution_count": 5,
   "id": "92a28915",
   "metadata": {},
   "outputs": [],
   "source": [
    "click_on=driver.find_element_by_xpath('/html/body/nav/div[1]/div[2]/ul[1]/li[2]/a')\n",
    "click_on.click()"
   ]
  },
  {
   "cell_type": "code",
   "execution_count": 94,
   "id": "0a1ca9c5",
   "metadata": {},
   "outputs": [],
   "source": [
    "title=[]"
   ]
  },
  {
   "cell_type": "code",
   "execution_count": 95,
   "id": "dcd68b28",
   "metadata": {},
   "outputs": [],
   "source": [
    "titles=driver.find_elements_by_xpath('//span[@class=\"matchOrderText ng-binding ng-scope\"]')"
   ]
  },
  {
   "cell_type": "code",
   "execution_count": null,
   "id": "36f74a6f",
   "metadata": {},
   "outputs": [],
   "source": [
    "titles"
   ]
  },
  {
   "cell_type": "code",
   "execution_count": 96,
   "id": "cae5a590",
   "metadata": {},
   "outputs": [],
   "source": [
    "for i in titles:\n",
    "    title.append(i.text)"
   ]
  },
  {
   "cell_type": "code",
   "execution_count": 97,
   "id": "67ecb5c8",
   "metadata": {},
   "outputs": [
    {
     "data": {
      "text/plain": [
       "['3rd T20I -', '4th T20I -', '5th T20I -']"
      ]
     },
     "execution_count": 97,
     "metadata": {},
     "output_type": "execute_result"
    }
   ],
   "source": [
    "title"
   ]
  },
  {
   "cell_type": "code",
   "execution_count": 53,
   "id": "831733de",
   "metadata": {},
   "outputs": [],
   "source": [
    "seriess=driver.find_elements_by_xpath('//span[@class=\"ng-binding\"]')"
   ]
  },
  {
   "cell_type": "code",
   "execution_count": null,
   "id": "32062695",
   "metadata": {},
   "outputs": [],
   "source": [
    "seriess"
   ]
  },
  {
   "cell_type": "code",
   "execution_count": 55,
   "id": "d2910c55",
   "metadata": {},
   "outputs": [],
   "source": [
    "for i in seriess:\n",
    "    series.append(i.text)"
   ]
  },
  {
   "cell_type": "code",
   "execution_count": null,
   "id": "5ee20c6c",
   "metadata": {},
   "outputs": [],
   "source": [
    "series"
   ]
  },
  {
   "cell_type": "code",
   "execution_count": 67,
   "id": "59a0756a",
   "metadata": {},
   "outputs": [],
   "source": [
    "dates=driver.find_elements_by_xpath('//h5[@class=\"ng-binding\"]')"
   ]
  },
  {
   "cell_type": "code",
   "execution_count": 68,
   "id": "545cadf9",
   "metadata": {},
   "outputs": [],
   "source": [
    "date=[]"
   ]
  },
  {
   "cell_type": "code",
   "execution_count": 69,
   "id": "ea3caa05",
   "metadata": {},
   "outputs": [],
   "source": [
    "for i in dates:\n",
    "    date.append(i.text)"
   ]
  },
  {
   "cell_type": "code",
   "execution_count": 70,
   "id": "e610c223",
   "metadata": {},
   "outputs": [
    {
     "data": {
      "text/plain": [
       "['14 JUN 2022', '17 JUN 2022', '19 JUN 2022']"
      ]
     },
     "execution_count": 70,
     "metadata": {},
     "output_type": "execute_result"
    }
   ],
   "source": [
    "date"
   ]
  },
  {
   "cell_type": "code",
   "execution_count": 102,
   "id": "d5664fcf",
   "metadata": {},
   "outputs": [],
   "source": [
    "time=[]"
   ]
  },
  {
   "cell_type": "code",
   "execution_count": 103,
   "id": "9c019442",
   "metadata": {},
   "outputs": [],
   "source": [
    "times=driver.find_elements_by_xpath('//h5[@class=\"text-right ng-binding\"]')"
   ]
  },
  {
   "cell_type": "code",
   "execution_count": 104,
   "id": "b8b661c0",
   "metadata": {},
   "outputs": [],
   "source": [
    "for i in times:\n",
    "    time.append(i.text)"
   ]
  },
  {
   "cell_type": "code",
   "execution_count": 105,
   "id": "8c1f8251",
   "metadata": {},
   "outputs": [
    {
     "data": {
      "text/plain": [
       "['7:00 PM IST', '7:00 PM IST', '7:00 PM IST']"
      ]
     },
     "execution_count": 105,
     "metadata": {},
     "output_type": "execute_result"
    }
   ],
   "source": [
    "time"
   ]
  },
  {
   "cell_type": "code",
   "execution_count": 85,
   "id": "d2ca0506",
   "metadata": {},
   "outputs": [],
   "source": [
    "place=[]"
   ]
  },
  {
   "cell_type": "code",
   "execution_count": 89,
   "id": "e5e1413e",
   "metadata": {},
   "outputs": [],
   "source": [
    "places=driver.find_elements_by_xpath('//div[@class=\"fix-place ng-binding ng-scope\"]/span[2]')"
   ]
  },
  {
   "cell_type": "code",
   "execution_count": 90,
   "id": "cb97e919",
   "metadata": {},
   "outputs": [],
   "source": [
    "for i in places:\n",
    "    place.append(i.text)"
   ]
  },
  {
   "cell_type": "code",
   "execution_count": 91,
   "id": "059cd9ab",
   "metadata": {},
   "outputs": [
    {
     "data": {
      "text/plain": [
       "['Dr YS Rajasekhara Reddy ACA-VDCA Cricket Stadium,',\n",
       " 'Saurashtra Cricket Association Stadium,',\n",
       " 'M Chinnaswamy Stadium,']"
      ]
     },
     "execution_count": 91,
     "metadata": {},
     "output_type": "execute_result"
    }
   ],
   "source": [
    "place"
   ]
  },
  {
   "cell_type": "code",
   "execution_count": 106,
   "id": "d3e9f19e",
   "metadata": {},
   "outputs": [],
   "source": [
    "df=pd.DataFrame({'Match Title':title,'Series':series,'Date':date,'Time':time ,'Place':place})"
   ]
  },
  {
   "cell_type": "code",
   "execution_count": 107,
   "id": "b438ad5e",
   "metadata": {},
   "outputs": [
    {
     "data": {
      "text/html": [
       "<div>\n",
       "<style scoped>\n",
       "    .dataframe tbody tr th:only-of-type {\n",
       "        vertical-align: middle;\n",
       "    }\n",
       "\n",
       "    .dataframe tbody tr th {\n",
       "        vertical-align: top;\n",
       "    }\n",
       "\n",
       "    .dataframe thead th {\n",
       "        text-align: right;\n",
       "    }\n",
       "</style>\n",
       "<table border=\"1\" class=\"dataframe\">\n",
       "  <thead>\n",
       "    <tr style=\"text-align: right;\">\n",
       "      <th></th>\n",
       "      <th>Match Title</th>\n",
       "      <th>Series</th>\n",
       "      <th>Date</th>\n",
       "      <th>Time</th>\n",
       "      <th>Place</th>\n",
       "    </tr>\n",
       "  </thead>\n",
       "  <tbody>\n",
       "    <tr>\n",
       "      <th>0</th>\n",
       "      <td>3rd T20I -</td>\n",
       "      <td>SOUTH AFRICA TOUR OF INDIA T20 SERIES 2022</td>\n",
       "      <td>14 JUN 2022</td>\n",
       "      <td>7:00 PM IST</td>\n",
       "      <td>Dr YS Rajasekhara Reddy ACA-VDCA Cricket Stadium,</td>\n",
       "    </tr>\n",
       "    <tr>\n",
       "      <th>1</th>\n",
       "      <td>4th T20I -</td>\n",
       "      <td>SOUTH AFRICA TOUR OF INDIA T20 SERIES 2022</td>\n",
       "      <td>17 JUN 2022</td>\n",
       "      <td>7:00 PM IST</td>\n",
       "      <td>Saurashtra Cricket Association Stadium,</td>\n",
       "    </tr>\n",
       "    <tr>\n",
       "      <th>2</th>\n",
       "      <td>5th T20I -</td>\n",
       "      <td>SOUTH AFRICA TOUR OF INDIA T20 SERIES 2022</td>\n",
       "      <td>19 JUN 2022</td>\n",
       "      <td>7:00 PM IST</td>\n",
       "      <td>M Chinnaswamy Stadium,</td>\n",
       "    </tr>\n",
       "  </tbody>\n",
       "</table>\n",
       "</div>"
      ],
      "text/plain": [
       "  Match Title                                      Series         Date  \\\n",
       "0  3rd T20I -  SOUTH AFRICA TOUR OF INDIA T20 SERIES 2022  14 JUN 2022   \n",
       "1  4th T20I -  SOUTH AFRICA TOUR OF INDIA T20 SERIES 2022  17 JUN 2022   \n",
       "2  5th T20I -  SOUTH AFRICA TOUR OF INDIA T20 SERIES 2022  19 JUN 2022   \n",
       "\n",
       "          Time                                              Place  \n",
       "0  7:00 PM IST  Dr YS Rajasekhara Reddy ACA-VDCA Cricket Stadium,  \n",
       "1  7:00 PM IST            Saurashtra Cricket Association Stadium,  \n",
       "2  7:00 PM IST                             M Chinnaswamy Stadium,  "
      ]
     },
     "execution_count": 107,
     "metadata": {},
     "output_type": "execute_result"
    }
   ],
   "source": [
    "df"
   ]
  },
  {
   "cell_type": "raw",
   "id": "4d139be7",
   "metadata": {},
   "source": [
    "3. Scrape the details of selenium exception from guru99.com.\n",
    "Url = https://www.guru99.com/\n",
    "You need to find following details:\n",
    "A) Name\n",
    "B) Description"
   ]
  },
  {
   "cell_type": "code",
   "execution_count": 2,
   "id": "0f65f148",
   "metadata": {},
   "outputs": [
    {
     "data": {
      "text/plain": [
       "<selenium.webdriver.chrome.webdriver.WebDriver (session=\"7d9d361b46f8e26529492f685e63c8f9\")>"
      ]
     },
     "execution_count": 2,
     "metadata": {},
     "output_type": "execute_result"
    }
   ],
   "source": [
    "driver=webdriver.Chrome(\"chromedriver.exe\")\n",
    "driver"
   ]
  },
  {
   "cell_type": "code",
   "execution_count": 3,
   "id": "381e2e3d",
   "metadata": {},
   "outputs": [],
   "source": [
    "driver.get('https://www.guru99.com/')"
   ]
  },
  {
   "cell_type": "code",
   "execution_count": 4,
   "id": "f952827f",
   "metadata": {},
   "outputs": [],
   "source": [
    "srch_bar=driver.find_element_by_xpath('/html/body/div[1]/div/div/div/main/div/article/div/div[1]/div[1]/div[2]/div/div[1]/div/div/div/form/table/tbody/tr/td[1]/div/table/tbody/tr/td[1]/input')\n",
    "srch_bar.click()"
   ]
  },
  {
   "cell_type": "code",
   "execution_count": 18,
   "id": "2a112a10",
   "metadata": {},
   "outputs": [],
   "source": [
    "srch_bar.send_keys('selenium exception handling')"
   ]
  },
  {
   "cell_type": "code",
   "execution_count": 19,
   "id": "ebed786c",
   "metadata": {},
   "outputs": [],
   "source": [
    "srch=driver.find_element_by_xpath('//button[@class=\"gsc-search-button gsc-search-button-v2\"]')\n",
    "srch.click()"
   ]
  },
  {
   "cell_type": "code",
   "execution_count": 20,
   "id": "2299029a",
   "metadata": {},
   "outputs": [],
   "source": [
    "names=[]"
   ]
  },
  {
   "cell_type": "code",
   "execution_count": 21,
   "id": "94e517f5",
   "metadata": {},
   "outputs": [],
   "source": [
    "name=driver.find_elements_by_xpath('//div[@class=\"gsc-thumbnail-inside\"]')\n",
    "time.sleep(5)"
   ]
  },
  {
   "cell_type": "code",
   "execution_count": 22,
   "id": "9be8b732",
   "metadata": {},
   "outputs": [],
   "source": [
    "for j in name:\n",
    "        names.append(j.text)"
   ]
  },
  {
   "cell_type": "code",
   "execution_count": null,
   "id": "340cd786",
   "metadata": {},
   "outputs": [],
   "source": [
    "names"
   ]
  },
  {
   "cell_type": "code",
   "execution_count": 29,
   "id": "b54b523b",
   "metadata": {},
   "outputs": [],
   "source": [
    "description=[]"
   ]
  },
  {
   "cell_type": "code",
   "execution_count": 30,
   "id": "3e8430a3",
   "metadata": {},
   "outputs": [],
   "source": [
    "des=driver.find_elements_by_xpath('//div[@class=\"gs-bidi-start-align gs-snippet\"]')"
   ]
  },
  {
   "cell_type": "code",
   "execution_count": 31,
   "id": "26c131b0",
   "metadata": {},
   "outputs": [],
   "source": [
    "for i in des:\n",
    "    description.append(i.text)"
   ]
  },
  {
   "cell_type": "code",
   "execution_count": null,
   "id": "e0f333ba",
   "metadata": {},
   "outputs": [],
   "source": [
    "description"
   ]
  },
  {
   "cell_type": "code",
   "execution_count": 33,
   "id": "f54e65fe",
   "metadata": {},
   "outputs": [
    {
     "name": "stdout",
     "output_type": "stream",
     "text": [
      "11 11\n"
     ]
    }
   ],
   "source": [
    "print(len(names),len(description))"
   ]
  },
  {
   "cell_type": "code",
   "execution_count": 34,
   "id": "63d756c2",
   "metadata": {},
   "outputs": [],
   "source": [
    "df=pd.DataFrame({'Names':names,'Desciption':description})"
   ]
  },
  {
   "cell_type": "code",
   "execution_count": 35,
   "id": "6fb73152",
   "metadata": {},
   "outputs": [
    {
     "data": {
      "text/html": [
       "<div>\n",
       "<style scoped>\n",
       "    .dataframe tbody tr th:only-of-type {\n",
       "        vertical-align: middle;\n",
       "    }\n",
       "\n",
       "    .dataframe tbody tr th {\n",
       "        vertical-align: top;\n",
       "    }\n",
       "\n",
       "    .dataframe thead th {\n",
       "        text-align: right;\n",
       "    }\n",
       "</style>\n",
       "<table border=\"1\" class=\"dataframe\">\n",
       "  <thead>\n",
       "    <tr style=\"text-align: right;\">\n",
       "      <th></th>\n",
       "      <th>Names</th>\n",
       "      <th>Desciption</th>\n",
       "    </tr>\n",
       "  </thead>\n",
       "  <tbody>\n",
       "    <tr>\n",
       "      <th>0</th>\n",
       "      <td>Selenium Exception Handling (Common Exceptions...</td>\n",
       "      <td>21-May-2022 ... Common Exceptions in Selenium ...</td>\n",
       "    </tr>\n",
       "    <tr>\n",
       "      <th>1</th>\n",
       "      <td>How to Handle SSL Certificate in Selenium WebD...</td>\n",
       "      <td>23-Apr-2022 ... For handling SSL certificate e...</td>\n",
       "    </tr>\n",
       "    <tr>\n",
       "      <th>2</th>\n",
       "      <td>Try Catch in Java: Exception Handling Example</td>\n",
       "      <td>07-May-2022 ... All these errors are highlight...</td>\n",
       "    </tr>\n",
       "    <tr>\n",
       "      <th>3</th>\n",
       "      <td>Selenium Alert &amp; Popup Window Handling: How to...</td>\n",
       "      <td>16-Apr-2022 ... We will also see how to handle...</td>\n",
       "    </tr>\n",
       "    <tr>\n",
       "      <th>4</th>\n",
       "      <td>Python Exception Handling: try, catch, finally...</td>\n",
       "      <td>03-May-2022 ... In this Python exceptional han...</td>\n",
       "    </tr>\n",
       "    <tr>\n",
       "      <th>5</th>\n",
       "      <td>C++ Exception Handling: Try, Catch, throw Example</td>\n",
       "      <td>07-May-2022 ... User-Defined Exceptions. Why E...</td>\n",
       "    </tr>\n",
       "    <tr>\n",
       "      <th>6</th>\n",
       "      <td>VB.Net Exception Handling | Try, Catch, Error ...</td>\n",
       "      <td>23-Apr-2022 ... In this VB.Net Exception Handl...</td>\n",
       "    </tr>\n",
       "    <tr>\n",
       "      <th>7</th>\n",
       "      <td>Oracle PL/SQL Exception Handling: Examples to ...</td>\n",
       "      <td>30-Apr-2022 ... Exception-Handling Syntax · Ty...</td>\n",
       "    </tr>\n",
       "    <tr>\n",
       "      <th>8</th>\n",
       "      <td>PHP Try Catch Example: Exception &amp; Error Handl...</td>\n",
       "      <td>23-Apr-2022 ... Learn with example Exception &amp;...</td>\n",
       "    </tr>\n",
       "    <tr>\n",
       "      <th>9</th>\n",
       "      <td>JSP Exception Handling | Error Handling in JSP...</td>\n",
       "      <td>30-Apr-2022 ... In this tutorial, we will lear...</td>\n",
       "    </tr>\n",
       "    <tr>\n",
       "      <th>10</th>\n",
       "      <td></td>\n",
       "      <td></td>\n",
       "    </tr>\n",
       "  </tbody>\n",
       "</table>\n",
       "</div>"
      ],
      "text/plain": [
       "                                                Names  \\\n",
       "0   Selenium Exception Handling (Common Exceptions...   \n",
       "1   How to Handle SSL Certificate in Selenium WebD...   \n",
       "2       Try Catch in Java: Exception Handling Example   \n",
       "3   Selenium Alert & Popup Window Handling: How to...   \n",
       "4   Python Exception Handling: try, catch, finally...   \n",
       "5   C++ Exception Handling: Try, Catch, throw Example   \n",
       "6   VB.Net Exception Handling | Try, Catch, Error ...   \n",
       "7   Oracle PL/SQL Exception Handling: Examples to ...   \n",
       "8   PHP Try Catch Example: Exception & Error Handl...   \n",
       "9   JSP Exception Handling | Error Handling in JSP...   \n",
       "10                                                      \n",
       "\n",
       "                                           Desciption  \n",
       "0   21-May-2022 ... Common Exceptions in Selenium ...  \n",
       "1   23-Apr-2022 ... For handling SSL certificate e...  \n",
       "2   07-May-2022 ... All these errors are highlight...  \n",
       "3   16-Apr-2022 ... We will also see how to handle...  \n",
       "4   03-May-2022 ... In this Python exceptional han...  \n",
       "5   07-May-2022 ... User-Defined Exceptions. Why E...  \n",
       "6   23-Apr-2022 ... In this VB.Net Exception Handl...  \n",
       "7   30-Apr-2022 ... Exception-Handling Syntax · Ty...  \n",
       "8   23-Apr-2022 ... Learn with example Exception &...  \n",
       "9   30-Apr-2022 ... In this tutorial, we will lear...  \n",
       "10                                                     "
      ]
     },
     "execution_count": 35,
     "metadata": {},
     "output_type": "execute_result"
    }
   ],
   "source": [
    "df"
   ]
  },
  {
   "cell_type": "raw",
   "id": "07fee0e2",
   "metadata": {},
   "source": [
    "4. Scrape the details of State-wise GDP of India from statisticstime.com.\n",
    "Url = http://statisticstimes.com/\n",
    "You have to find following details:\n",
    "A) Rank\n",
    "B) State\n",
    "C) GSDP(18-19)\n",
    "D) GSDP(17-18)\n",
    "E) Share(2017)\n",
    "F) GDP($ billion)"
   ]
  },
  {
   "cell_type": "code",
   "execution_count": 116,
   "id": "ec9816dd",
   "metadata": {},
   "outputs": [
    {
     "data": {
      "text/plain": [
       "<selenium.webdriver.chrome.webdriver.WebDriver (session=\"57f770a563de7f4361e3130686d170ca\")>"
      ]
     },
     "execution_count": 116,
     "metadata": {},
     "output_type": "execute_result"
    }
   ],
   "source": [
    "driver=webdriver.Chrome(\"chromedriver.exe\")\n",
    "driver"
   ]
  },
  {
   "cell_type": "code",
   "execution_count": 117,
   "id": "e5051275",
   "metadata": {},
   "outputs": [],
   "source": [
    "driver.get('http://statisticstimes.com/')"
   ]
  },
  {
   "cell_type": "code",
   "execution_count": 118,
   "id": "debc86e2",
   "metadata": {},
   "outputs": [],
   "source": [
    "eco=driver.find_element_by_xpath('//div[@class=\"dropdown\"][2]/button/i')\n",
    "eco.click()\n",
    "ind_eco=driver.find_element_by_xpath('/html/body/div[2]/div[1]/div[2]/div[2]/div/a[3]')\n",
    "ind_eco.click()"
   ]
  },
  {
   "cell_type": "code",
   "execution_count": 119,
   "id": "21ec3e87",
   "metadata": {},
   "outputs": [],
   "source": [
    "ind_gdp=driver.find_element_by_xpath('/html/body/div[2]/div[2]/div[2]/ul/li[1]/a')\n",
    "ind_gdp.click()"
   ]
  },
  {
   "cell_type": "code",
   "execution_count": 76,
   "id": "ab509948",
   "metadata": {},
   "outputs": [],
   "source": [
    "rank=[]"
   ]
  },
  {
   "cell_type": "code",
   "execution_count": 77,
   "id": "55bbe7c7",
   "metadata": {},
   "outputs": [],
   "source": [
    "ranks=driver.find_elements_by_xpath('//td[@class=\"data1 sorting_1\"]')\n",
    "time.sleep(2)"
   ]
  },
  {
   "cell_type": "code",
   "execution_count": 78,
   "id": "266d716e",
   "metadata": {},
   "outputs": [],
   "source": [
    "for i in ranks:\n",
    "    rank.append(i.text)"
   ]
  },
  {
   "cell_type": "code",
   "execution_count": 79,
   "id": "3e2f4f6f",
   "metadata": {},
   "outputs": [
    {
     "data": {
      "text/plain": [
       "33"
      ]
     },
     "execution_count": 79,
     "metadata": {},
     "output_type": "execute_result"
    }
   ],
   "source": [
    "len(rank)"
   ]
  },
  {
   "cell_type": "code",
   "execution_count": 83,
   "id": "248cc04b",
   "metadata": {},
   "outputs": [],
   "source": [
    "state=[]"
   ]
  },
  {
   "cell_type": "code",
   "execution_count": 80,
   "id": "abb656c6",
   "metadata": {},
   "outputs": [],
   "source": [
    "states=driver.find_elements_by_xpath('//td[@class=\"name\"]')\n",
    "time.sleep(2)"
   ]
  },
  {
   "cell_type": "code",
   "execution_count": 84,
   "id": "3f01ce30",
   "metadata": {},
   "outputs": [],
   "source": [
    "for i in states[0:33]:\n",
    "    state.append(i.text)"
   ]
  },
  {
   "cell_type": "code",
   "execution_count": 86,
   "id": "9f50494d",
   "metadata": {},
   "outputs": [
    {
     "data": {
      "text/plain": [
       "33"
      ]
     },
     "execution_count": 86,
     "metadata": {},
     "output_type": "execute_result"
    }
   ],
   "source": [
    "len(state)"
   ]
  },
  {
   "cell_type": "code",
   "execution_count": 104,
   "id": "8ed5cb58",
   "metadata": {},
   "outputs": [],
   "source": [
    "gsdp1=[]"
   ]
  },
  {
   "cell_type": "code",
   "execution_count": 105,
   "id": "55270cd3",
   "metadata": {},
   "outputs": [],
   "source": [
    "gsdp18=driver.find_elements_by_xpath('//table[@class=\"display dataTable\"]/tbody/tr/td[4]')"
   ]
  },
  {
   "cell_type": "code",
   "execution_count": null,
   "id": "783670fa",
   "metadata": {},
   "outputs": [],
   "source": [
    "gsdp18"
   ]
  },
  {
   "cell_type": "code",
   "execution_count": 106,
   "id": "be99ba9b",
   "metadata": {},
   "outputs": [],
   "source": [
    "for i in gsdp18[0:33]:\n",
    "    gsdp1.append(i.text)"
   ]
  },
  {
   "cell_type": "code",
   "execution_count": 108,
   "id": "a7be59ed",
   "metadata": {},
   "outputs": [
    {
     "data": {
      "text/plain": [
       "33"
      ]
     },
     "execution_count": 108,
     "metadata": {},
     "output_type": "execute_result"
    }
   ],
   "source": [
    "len(gsdp1)"
   ]
  },
  {
   "cell_type": "code",
   "execution_count": 109,
   "id": "2c792d7d",
   "metadata": {},
   "outputs": [],
   "source": [
    "gsdp2=[]"
   ]
  },
  {
   "cell_type": "code",
   "execution_count": 110,
   "id": "99919e84",
   "metadata": {},
   "outputs": [],
   "source": [
    "gsdp19=driver.find_elements_by_xpath('//table[@class=\"display dataTable\"]/tbody/tr/td[3]')"
   ]
  },
  {
   "cell_type": "code",
   "execution_count": 111,
   "id": "205de9af",
   "metadata": {},
   "outputs": [],
   "source": [
    "for i in gsdp19[0:33]:\n",
    "    gsdp2.append(i.text)"
   ]
  },
  {
   "cell_type": "code",
   "execution_count": 113,
   "id": "60c1713e",
   "metadata": {},
   "outputs": [
    {
     "data": {
      "text/plain": [
       "33"
      ]
     },
     "execution_count": 113,
     "metadata": {},
     "output_type": "execute_result"
    }
   ],
   "source": [
    "len(gsdp2)"
   ]
  },
  {
   "cell_type": "code",
   "execution_count": 132,
   "id": "587bfdb1",
   "metadata": {},
   "outputs": [],
   "source": [
    "share=[]"
   ]
  },
  {
   "cell_type": "code",
   "execution_count": 133,
   "id": "5b58ede3",
   "metadata": {},
   "outputs": [],
   "source": [
    "shares=driver.find_elements_by_xpath('//table[@class=\"display dataTable\"]/tbody/tr/td[5]')"
   ]
  },
  {
   "cell_type": "code",
   "execution_count": 134,
   "id": "f3a78979",
   "metadata": {},
   "outputs": [],
   "source": [
    "for i in shares[0:33]:\n",
    "    share.append(i.text)"
   ]
  },
  {
   "cell_type": "code",
   "execution_count": 136,
   "id": "00a8aaf0",
   "metadata": {},
   "outputs": [
    {
     "data": {
      "text/plain": [
       "33"
      ]
     },
     "execution_count": 136,
     "metadata": {},
     "output_type": "execute_result"
    }
   ],
   "source": [
    "len(share)"
   ]
  },
  {
   "cell_type": "code",
   "execution_count": 137,
   "id": "ce149e94",
   "metadata": {},
   "outputs": [],
   "source": [
    "gdp=[]"
   ]
  },
  {
   "cell_type": "code",
   "execution_count": 138,
   "id": "fbb01cd6",
   "metadata": {},
   "outputs": [],
   "source": [
    "gdps=driver.find_elements_by_xpath('//table[@class=\"display dataTable\"]/tbody/tr/td[6]')"
   ]
  },
  {
   "cell_type": "code",
   "execution_count": 139,
   "id": "76288892",
   "metadata": {},
   "outputs": [],
   "source": [
    "for i in gdps[0:33]:\n",
    "    gdp.append(i.text)"
   ]
  },
  {
   "cell_type": "code",
   "execution_count": 141,
   "id": "7987e069",
   "metadata": {},
   "outputs": [
    {
     "data": {
      "text/plain": [
       "33"
      ]
     },
     "execution_count": 141,
     "metadata": {},
     "output_type": "execute_result"
    }
   ],
   "source": [
    "len(gdp)"
   ]
  },
  {
   "cell_type": "code",
   "execution_count": 142,
   "id": "3acaf5ae",
   "metadata": {},
   "outputs": [],
   "source": [
    "df=pd.DataFrame({'Rank':rank,'State':state,'GSDP 18-19':gsdp1,'GSDP 19-20':gsdp2,'Share %':share,'GDP($ billions)':gdp})"
   ]
  },
  {
   "cell_type": "code",
   "execution_count": 143,
   "id": "dc41fed0",
   "metadata": {},
   "outputs": [
    {
     "data": {
      "text/html": [
       "<div>\n",
       "<style scoped>\n",
       "    .dataframe tbody tr th:only-of-type {\n",
       "        vertical-align: middle;\n",
       "    }\n",
       "\n",
       "    .dataframe tbody tr th {\n",
       "        vertical-align: top;\n",
       "    }\n",
       "\n",
       "    .dataframe thead th {\n",
       "        text-align: right;\n",
       "    }\n",
       "</style>\n",
       "<table border=\"1\" class=\"dataframe\">\n",
       "  <thead>\n",
       "    <tr style=\"text-align: right;\">\n",
       "      <th></th>\n",
       "      <th>Rank</th>\n",
       "      <th>State</th>\n",
       "      <th>GSDP 18-19</th>\n",
       "      <th>GSDP 19-20</th>\n",
       "      <th>Share %</th>\n",
       "      <th>GDP($ billions)</th>\n",
       "    </tr>\n",
       "  </thead>\n",
       "  <tbody>\n",
       "    <tr>\n",
       "      <th>0</th>\n",
       "      <td>1</td>\n",
       "      <td>Maharashtra</td>\n",
       "      <td>2,632,792</td>\n",
       "      <td>-</td>\n",
       "      <td>13.94%</td>\n",
       "      <td>399.921</td>\n",
       "    </tr>\n",
       "    <tr>\n",
       "      <th>1</th>\n",
       "      <td>2</td>\n",
       "      <td>Tamil Nadu</td>\n",
       "      <td>1,630,208</td>\n",
       "      <td>1,845,853</td>\n",
       "      <td>8.63%</td>\n",
       "      <td>247.629</td>\n",
       "    </tr>\n",
       "    <tr>\n",
       "      <th>2</th>\n",
       "      <td>3</td>\n",
       "      <td>Uttar Pradesh</td>\n",
       "      <td>1,584,764</td>\n",
       "      <td>1,687,818</td>\n",
       "      <td>8.39%</td>\n",
       "      <td>240.726</td>\n",
       "    </tr>\n",
       "    <tr>\n",
       "      <th>3</th>\n",
       "      <td>4</td>\n",
       "      <td>Gujarat</td>\n",
       "      <td>1,502,899</td>\n",
       "      <td>-</td>\n",
       "      <td>7.96%</td>\n",
       "      <td>228.290</td>\n",
       "    </tr>\n",
       "    <tr>\n",
       "      <th>4</th>\n",
       "      <td>5</td>\n",
       "      <td>Karnataka</td>\n",
       "      <td>1,493,127</td>\n",
       "      <td>1,631,977</td>\n",
       "      <td>7.91%</td>\n",
       "      <td>226.806</td>\n",
       "    </tr>\n",
       "    <tr>\n",
       "      <th>5</th>\n",
       "      <td>6</td>\n",
       "      <td>West Bengal</td>\n",
       "      <td>1,089,898</td>\n",
       "      <td>1,253,832</td>\n",
       "      <td>5.77%</td>\n",
       "      <td>165.556</td>\n",
       "    </tr>\n",
       "    <tr>\n",
       "      <th>6</th>\n",
       "      <td>7</td>\n",
       "      <td>Rajasthan</td>\n",
       "      <td>942,586</td>\n",
       "      <td>1,020,989</td>\n",
       "      <td>4.99%</td>\n",
       "      <td>143.179</td>\n",
       "    </tr>\n",
       "    <tr>\n",
       "      <th>7</th>\n",
       "      <td>8</td>\n",
       "      <td>Andhra Pradesh</td>\n",
       "      <td>862,957</td>\n",
       "      <td>972,782</td>\n",
       "      <td>4.57%</td>\n",
       "      <td>131.083</td>\n",
       "    </tr>\n",
       "    <tr>\n",
       "      <th>8</th>\n",
       "      <td>9</td>\n",
       "      <td>Telangana</td>\n",
       "      <td>861,031</td>\n",
       "      <td>969,604</td>\n",
       "      <td>4.56%</td>\n",
       "      <td>130.791</td>\n",
       "    </tr>\n",
       "    <tr>\n",
       "      <th>9</th>\n",
       "      <td>10</td>\n",
       "      <td>Madhya Pradesh</td>\n",
       "      <td>809,592</td>\n",
       "      <td>906,672</td>\n",
       "      <td>4.29%</td>\n",
       "      <td>122.977</td>\n",
       "    </tr>\n",
       "    <tr>\n",
       "      <th>10</th>\n",
       "      <td>11</td>\n",
       "      <td>Kerala</td>\n",
       "      <td>781,653</td>\n",
       "      <td>-</td>\n",
       "      <td>4.14%</td>\n",
       "      <td>118.733</td>\n",
       "    </tr>\n",
       "    <tr>\n",
       "      <th>11</th>\n",
       "      <td>12</td>\n",
       "      <td>Delhi</td>\n",
       "      <td>774,870</td>\n",
       "      <td>856,112</td>\n",
       "      <td>4.10%</td>\n",
       "      <td>117.703</td>\n",
       "    </tr>\n",
       "    <tr>\n",
       "      <th>12</th>\n",
       "      <td>13</td>\n",
       "      <td>Haryana</td>\n",
       "      <td>734,163</td>\n",
       "      <td>831,610</td>\n",
       "      <td>3.89%</td>\n",
       "      <td>111.519</td>\n",
       "    </tr>\n",
       "    <tr>\n",
       "      <th>13</th>\n",
       "      <td>14</td>\n",
       "      <td>Bihar</td>\n",
       "      <td>530,363</td>\n",
       "      <td>611,804</td>\n",
       "      <td>2.81%</td>\n",
       "      <td>80.562</td>\n",
       "    </tr>\n",
       "    <tr>\n",
       "      <th>14</th>\n",
       "      <td>15</td>\n",
       "      <td>Punjab</td>\n",
       "      <td>526,376</td>\n",
       "      <td>574,760</td>\n",
       "      <td>2.79%</td>\n",
       "      <td>79.957</td>\n",
       "    </tr>\n",
       "    <tr>\n",
       "      <th>15</th>\n",
       "      <td>16</td>\n",
       "      <td>Odisha</td>\n",
       "      <td>487,805</td>\n",
       "      <td>521,275</td>\n",
       "      <td>2.58%</td>\n",
       "      <td>74.098</td>\n",
       "    </tr>\n",
       "    <tr>\n",
       "      <th>16</th>\n",
       "      <td>17</td>\n",
       "      <td>Assam</td>\n",
       "      <td>315,881</td>\n",
       "      <td>-</td>\n",
       "      <td>1.67%</td>\n",
       "      <td>47.982</td>\n",
       "    </tr>\n",
       "    <tr>\n",
       "      <th>17</th>\n",
       "      <td>18</td>\n",
       "      <td>Chhattisgarh</td>\n",
       "      <td>304,063</td>\n",
       "      <td>329,180</td>\n",
       "      <td>1.61%</td>\n",
       "      <td>46.187</td>\n",
       "    </tr>\n",
       "    <tr>\n",
       "      <th>18</th>\n",
       "      <td>19</td>\n",
       "      <td>Jharkhand</td>\n",
       "      <td>297,204</td>\n",
       "      <td>328,598</td>\n",
       "      <td>1.57%</td>\n",
       "      <td>45.145</td>\n",
       "    </tr>\n",
       "    <tr>\n",
       "      <th>19</th>\n",
       "      <td>20</td>\n",
       "      <td>Uttarakhand</td>\n",
       "      <td>245,895</td>\n",
       "      <td>-</td>\n",
       "      <td>1.30%</td>\n",
       "      <td>37.351</td>\n",
       "    </tr>\n",
       "    <tr>\n",
       "      <th>20</th>\n",
       "      <td>21</td>\n",
       "      <td>Jammu &amp; Kashmir</td>\n",
       "      <td>155,956</td>\n",
       "      <td>-</td>\n",
       "      <td>0.83%</td>\n",
       "      <td>23.690</td>\n",
       "    </tr>\n",
       "    <tr>\n",
       "      <th>21</th>\n",
       "      <td>22</td>\n",
       "      <td>Himachal Pradesh</td>\n",
       "      <td>153,845</td>\n",
       "      <td>165,472</td>\n",
       "      <td>0.81%</td>\n",
       "      <td>23.369</td>\n",
       "    </tr>\n",
       "    <tr>\n",
       "      <th>22</th>\n",
       "      <td>23</td>\n",
       "      <td>Goa</td>\n",
       "      <td>73,170</td>\n",
       "      <td>80,449</td>\n",
       "      <td>0.39%</td>\n",
       "      <td>11.115</td>\n",
       "    </tr>\n",
       "    <tr>\n",
       "      <th>23</th>\n",
       "      <td>24</td>\n",
       "      <td>Tripura</td>\n",
       "      <td>49,845</td>\n",
       "      <td>55,984</td>\n",
       "      <td>0.26%</td>\n",
       "      <td>7.571</td>\n",
       "    </tr>\n",
       "    <tr>\n",
       "      <th>24</th>\n",
       "      <td>25</td>\n",
       "      <td>Chandigarh</td>\n",
       "      <td>42,114</td>\n",
       "      <td>-</td>\n",
       "      <td>0.22%</td>\n",
       "      <td>6.397</td>\n",
       "    </tr>\n",
       "    <tr>\n",
       "      <th>25</th>\n",
       "      <td>26</td>\n",
       "      <td>Puducherry</td>\n",
       "      <td>34,433</td>\n",
       "      <td>38,253</td>\n",
       "      <td>0.18%</td>\n",
       "      <td>5.230</td>\n",
       "    </tr>\n",
       "    <tr>\n",
       "      <th>26</th>\n",
       "      <td>27</td>\n",
       "      <td>Meghalaya</td>\n",
       "      <td>33,481</td>\n",
       "      <td>36,572</td>\n",
       "      <td>0.18%</td>\n",
       "      <td>5.086</td>\n",
       "    </tr>\n",
       "    <tr>\n",
       "      <th>27</th>\n",
       "      <td>28</td>\n",
       "      <td>Sikkim</td>\n",
       "      <td>28,723</td>\n",
       "      <td>32,496</td>\n",
       "      <td>0.15%</td>\n",
       "      <td>4.363</td>\n",
       "    </tr>\n",
       "    <tr>\n",
       "      <th>28</th>\n",
       "      <td>29</td>\n",
       "      <td>Manipur</td>\n",
       "      <td>27,870</td>\n",
       "      <td>31,790</td>\n",
       "      <td>0.15%</td>\n",
       "      <td>4.233</td>\n",
       "    </tr>\n",
       "    <tr>\n",
       "      <th>29</th>\n",
       "      <td>30</td>\n",
       "      <td>Nagaland</td>\n",
       "      <td>27,283</td>\n",
       "      <td>-</td>\n",
       "      <td>0.14%</td>\n",
       "      <td>4.144</td>\n",
       "    </tr>\n",
       "    <tr>\n",
       "      <th>30</th>\n",
       "      <td>31</td>\n",
       "      <td>Arunachal Pradesh</td>\n",
       "      <td>24,603</td>\n",
       "      <td>-</td>\n",
       "      <td>0.13%</td>\n",
       "      <td>3.737</td>\n",
       "    </tr>\n",
       "    <tr>\n",
       "      <th>31</th>\n",
       "      <td>32</td>\n",
       "      <td>Mizoram</td>\n",
       "      <td>22,287</td>\n",
       "      <td>26,503</td>\n",
       "      <td>0.12%</td>\n",
       "      <td>3.385</td>\n",
       "    </tr>\n",
       "    <tr>\n",
       "      <th>32</th>\n",
       "      <td>33</td>\n",
       "      <td>Andaman &amp; Nicobar Islands</td>\n",
       "      <td>-</td>\n",
       "      <td>-</td>\n",
       "      <td>-</td>\n",
       "      <td>-</td>\n",
       "    </tr>\n",
       "  </tbody>\n",
       "</table>\n",
       "</div>"
      ],
      "text/plain": [
       "   Rank                      State GSDP 18-19 GSDP 19-20 Share %  \\\n",
       "0     1                Maharashtra  2,632,792          -  13.94%   \n",
       "1     2                 Tamil Nadu  1,630,208  1,845,853   8.63%   \n",
       "2     3              Uttar Pradesh  1,584,764  1,687,818   8.39%   \n",
       "3     4                    Gujarat  1,502,899          -   7.96%   \n",
       "4     5                  Karnataka  1,493,127  1,631,977   7.91%   \n",
       "5     6                West Bengal  1,089,898  1,253,832   5.77%   \n",
       "6     7                  Rajasthan    942,586  1,020,989   4.99%   \n",
       "7     8             Andhra Pradesh    862,957    972,782   4.57%   \n",
       "8     9                  Telangana    861,031    969,604   4.56%   \n",
       "9    10             Madhya Pradesh    809,592    906,672   4.29%   \n",
       "10   11                     Kerala    781,653          -   4.14%   \n",
       "11   12                      Delhi    774,870    856,112   4.10%   \n",
       "12   13                    Haryana    734,163    831,610   3.89%   \n",
       "13   14                      Bihar    530,363    611,804   2.81%   \n",
       "14   15                     Punjab    526,376    574,760   2.79%   \n",
       "15   16                     Odisha    487,805    521,275   2.58%   \n",
       "16   17                      Assam    315,881          -   1.67%   \n",
       "17   18               Chhattisgarh    304,063    329,180   1.61%   \n",
       "18   19                  Jharkhand    297,204    328,598   1.57%   \n",
       "19   20                Uttarakhand    245,895          -   1.30%   \n",
       "20   21            Jammu & Kashmir    155,956          -   0.83%   \n",
       "21   22           Himachal Pradesh    153,845    165,472   0.81%   \n",
       "22   23                        Goa     73,170     80,449   0.39%   \n",
       "23   24                    Tripura     49,845     55,984   0.26%   \n",
       "24   25                 Chandigarh     42,114          -   0.22%   \n",
       "25   26                 Puducherry     34,433     38,253   0.18%   \n",
       "26   27                  Meghalaya     33,481     36,572   0.18%   \n",
       "27   28                     Sikkim     28,723     32,496   0.15%   \n",
       "28   29                    Manipur     27,870     31,790   0.15%   \n",
       "29   30                   Nagaland     27,283          -   0.14%   \n",
       "30   31          Arunachal Pradesh     24,603          -   0.13%   \n",
       "31   32                    Mizoram     22,287     26,503   0.12%   \n",
       "32   33  Andaman & Nicobar Islands          -          -       -   \n",
       "\n",
       "   GDP($ billions)  \n",
       "0          399.921  \n",
       "1          247.629  \n",
       "2          240.726  \n",
       "3          228.290  \n",
       "4          226.806  \n",
       "5          165.556  \n",
       "6          143.179  \n",
       "7          131.083  \n",
       "8          130.791  \n",
       "9          122.977  \n",
       "10         118.733  \n",
       "11         117.703  \n",
       "12         111.519  \n",
       "13          80.562  \n",
       "14          79.957  \n",
       "15          74.098  \n",
       "16          47.982  \n",
       "17          46.187  \n",
       "18          45.145  \n",
       "19          37.351  \n",
       "20          23.690  \n",
       "21          23.369  \n",
       "22          11.115  \n",
       "23           7.571  \n",
       "24           6.397  \n",
       "25           5.230  \n",
       "26           5.086  \n",
       "27           4.363  \n",
       "28           4.233  \n",
       "29           4.144  \n",
       "30           3.737  \n",
       "31           3.385  \n",
       "32               -  "
      ]
     },
     "execution_count": 143,
     "metadata": {},
     "output_type": "execute_result"
    }
   ],
   "source": [
    "df"
   ]
  },
  {
   "cell_type": "raw",
   "id": "ee74ef02",
   "metadata": {},
   "source": [
    "5.Scrape the details of trending repositories on Github.com.\n",
    "Url = https://github.com/\n",
    "You have to find the following details:\n",
    "A) Repository title\n",
    "B) Repository description\n",
    "C) Contributors count\n",
    "D) Language used"
   ]
  },
  {
   "cell_type": "code",
   "execution_count": 32,
   "id": "472822b3",
   "metadata": {},
   "outputs": [
    {
     "data": {
      "text/plain": [
       "<selenium.webdriver.chrome.webdriver.WebDriver (session=\"e0f68b87b5712f87a940d617b2f40dab\")>"
      ]
     },
     "execution_count": 32,
     "metadata": {},
     "output_type": "execute_result"
    }
   ],
   "source": [
    "driver=webdriver.Chrome(\"chromedriver.exe\")\n",
    "driver"
   ]
  },
  {
   "cell_type": "code",
   "execution_count": 33,
   "id": "6146ef8d",
   "metadata": {},
   "outputs": [],
   "source": [
    "driver.get('https://github.com/')"
   ]
  },
  {
   "cell_type": "code",
   "execution_count": 34,
   "id": "19c3744a",
   "metadata": {},
   "outputs": [],
   "source": [
    "exp=driver.find_element_by_xpath('/html/body/div[1]/header/div/div[2]/nav/ul/li[4]/details/summary')\n",
    "exp.click()\n",
    "trnd=driver.find_element_by_xpath('/html/body/div[1]/header/div/div[2]/nav/ul/li[4]/details/div/ul/li[5]/a')\n",
    "trnd.click()"
   ]
  },
  {
   "cell_type": "code",
   "execution_count": 35,
   "id": "f97142c5",
   "metadata": {},
   "outputs": [],
   "source": [
    "url=driver.find_elements_by_xpath('//h1[@class=\"h3 lh-condensed\"]/a')"
   ]
  },
  {
   "cell_type": "code",
   "execution_count": 36,
   "id": "1d4a0340",
   "metadata": {},
   "outputs": [],
   "source": [
    "urls=[]"
   ]
  },
  {
   "cell_type": "code",
   "execution_count": 37,
   "id": "d32e92fe",
   "metadata": {},
   "outputs": [],
   "source": [
    "for i in url:\n",
    "    urls.append(i.get_attribute('href'))"
   ]
  },
  {
   "cell_type": "code",
   "execution_count": 49,
   "id": "014cc582",
   "metadata": {},
   "outputs": [
    {
     "data": {
      "text/plain": [
       "25"
      ]
     },
     "execution_count": 49,
     "metadata": {},
     "output_type": "execute_result"
    }
   ],
   "source": [
    "len(url)"
   ]
  },
  {
   "cell_type": "code",
   "execution_count": 66,
   "id": "ba399934",
   "metadata": {},
   "outputs": [],
   "source": [
    "repositorytitle=[]\n",
    "description=[]\n",
    "Language_used=[]"
   ]
  },
  {
   "cell_type": "code",
   "execution_count": 67,
   "id": "2140c9fc",
   "metadata": {},
   "outputs": [],
   "source": [
    "for k in urls:\n",
    "    driver.get(k)\n",
    "    time.sleep(2)\n",
    "    \n",
    "    try:\n",
    "        title=driver.find_element_by_xpath('//strong[@class=\"mr-2 flex-self-stretch\"]')\n",
    "        repositorytitle.append(title.text)\n",
    "    except NoSuchElementException:\n",
    "        repositorytitle.append('-')\n",
    "        \n",
    "    try:\n",
    "        des=driver.find_element_by_xpath('//p[@class=\"f4 my-3\"]')\n",
    "        description.append(des.text)\n",
    "    except NoSuchElementException:\n",
    "        description.append('-')\n",
    "        \n",
    "    try:\n",
    "        lan=driver.find_element_by_xpath('//li[@class=\"d-inline\"]/a/span')\n",
    "        Language_used.append(lan.text)\n",
    "    except NoSuchElementException:\n",
    "        Language_used.append('-')\n",
    "        \n",
    "    "
   ]
  },
  {
   "cell_type": "code",
   "execution_count": 68,
   "id": "224b177f",
   "metadata": {},
   "outputs": [
    {
     "data": {
      "text/plain": [
       "25"
      ]
     },
     "execution_count": 68,
     "metadata": {},
     "output_type": "execute_result"
    }
   ],
   "source": [
    "len(Language_used)"
   ]
  },
  {
   "cell_type": "code",
   "execution_count": 78,
   "id": "3c537686",
   "metadata": {},
   "outputs": [],
   "source": [
    "con_count=[]"
   ]
  },
  {
   "cell_type": "code",
   "execution_count": 79,
   "id": "3cbdc0c6",
   "metadata": {},
   "outputs": [],
   "source": [
    "for k in urls:\n",
    "    driver.get(k)\n",
    "    time.sleep(2)\n",
    "    \n",
    "    try : \n",
    "        contributors_tag = driver.find_element_by_xpath(\"//h2[@class = 'h4 mb-3']/a/span\")\n",
    "        con_count.append(contributors_tag.text)\n",
    "    except:\n",
    "        con_count.append('-')"
   ]
  },
  {
   "cell_type": "code",
   "execution_count": null,
   "id": "8841d9ac",
   "metadata": {},
   "outputs": [],
   "source": [
    "con_count"
   ]
  },
  {
   "cell_type": "code",
   "execution_count": 81,
   "id": "8e5aa798",
   "metadata": {},
   "outputs": [
    {
     "name": "stdout",
     "output_type": "stream",
     "text": [
      "25 25 25 25\n"
     ]
    }
   ],
   "source": [
    "print(len(description),len(repositorytitle),len(Language_used),len(con_count))"
   ]
  },
  {
   "cell_type": "code",
   "execution_count": 84,
   "id": "90be12a2",
   "metadata": {},
   "outputs": [],
   "source": [
    "df=pd.DataFrame({'Repository Title':repositorytitle,'Repository Description':description,'Language Used':Language_used,'Contributors count':con_count})"
   ]
  },
  {
   "cell_type": "code",
   "execution_count": 85,
   "id": "85db87bb",
   "metadata": {},
   "outputs": [
    {
     "data": {
      "text/html": [
       "<div>\n",
       "<style scoped>\n",
       "    .dataframe tbody tr th:only-of-type {\n",
       "        vertical-align: middle;\n",
       "    }\n",
       "\n",
       "    .dataframe tbody tr th {\n",
       "        vertical-align: top;\n",
       "    }\n",
       "\n",
       "    .dataframe thead th {\n",
       "        text-align: right;\n",
       "    }\n",
       "</style>\n",
       "<table border=\"1\" class=\"dataframe\">\n",
       "  <thead>\n",
       "    <tr style=\"text-align: right;\">\n",
       "      <th></th>\n",
       "      <th>Repository Title</th>\n",
       "      <th>Repository Description</th>\n",
       "      <th>Language Used</th>\n",
       "      <th>Contributors count</th>\n",
       "    </tr>\n",
       "  </thead>\n",
       "  <tbody>\n",
       "    <tr>\n",
       "      <th>0</th>\n",
       "      <td>jak-project</td>\n",
       "      <td>Reviving the language that brought us the Jak ...</td>\n",
       "      <td>Common Lisp</td>\n",
       "      <td>13</td>\n",
       "    </tr>\n",
       "    <tr>\n",
       "      <th>1</th>\n",
       "      <td>ToolJet</td>\n",
       "      <td>Extensible low-code framework for building bus...</td>\n",
       "      <td>JavaScript</td>\n",
       "      <td>51</td>\n",
       "    </tr>\n",
       "    <tr>\n",
       "      <th>2</th>\n",
       "      <td>spacedrive</td>\n",
       "      <td>Spacedrive is an open source cross-platform fi...</td>\n",
       "      <td>TypeScript</td>\n",
       "      <td>30</td>\n",
       "    </tr>\n",
       "    <tr>\n",
       "      <th>3</th>\n",
       "      <td>clap</td>\n",
       "      <td>Audio Plugin API</td>\n",
       "      <td>C</td>\n",
       "      <td>12</td>\n",
       "    </tr>\n",
       "    <tr>\n",
       "      <th>4</th>\n",
       "      <td>Baileys</td>\n",
       "      <td>Lightweight full-featured WhatsApp Web + Multi...</td>\n",
       "      <td>JavaScript</td>\n",
       "      <td>25</td>\n",
       "    </tr>\n",
       "    <tr>\n",
       "      <th>5</th>\n",
       "      <td>rustdesk</td>\n",
       "      <td>Open source virtual / remote desktop infrastru...</td>\n",
       "      <td>Rust</td>\n",
       "      <td>7</td>\n",
       "    </tr>\n",
       "    <tr>\n",
       "      <th>6</th>\n",
       "      <td>mdserver-web</td>\n",
       "      <td>Simple Linux Panel</td>\n",
       "      <td>JavaScript</td>\n",
       "      <td>10</td>\n",
       "    </tr>\n",
       "    <tr>\n",
       "      <th>7</th>\n",
       "      <td>Grasscutter</td>\n",
       "      <td>A server software reimplementation for a certa...</td>\n",
       "      <td>Java</td>\n",
       "      <td>4</td>\n",
       "    </tr>\n",
       "    <tr>\n",
       "      <th>8</th>\n",
       "      <td>tauri</td>\n",
       "      <td>Build smaller, faster, and more secure desktop...</td>\n",
       "      <td>Rust</td>\n",
       "      <td>373</td>\n",
       "    </tr>\n",
       "    <tr>\n",
       "      <th>9</th>\n",
       "      <td>build-your-own-x</td>\n",
       "      <td>Master programming by recreating your favorite...</td>\n",
       "      <td>-</td>\n",
       "      <td></td>\n",
       "    </tr>\n",
       "    <tr>\n",
       "      <th>10</th>\n",
       "      <td>fresh</td>\n",
       "      <td>Preact, but super edgy</td>\n",
       "      <td>TypeScript</td>\n",
       "      <td>32</td>\n",
       "    </tr>\n",
       "    <tr>\n",
       "      <th>11</th>\n",
       "      <td>svg-spinners</td>\n",
       "      <td>A collection of 24 x 24 dp SVG spinners!</td>\n",
       "      <td>SVG</td>\n",
       "      <td></td>\n",
       "    </tr>\n",
       "    <tr>\n",
       "      <th>12</th>\n",
       "      <td>IOC-golang</td>\n",
       "      <td>一款服务于 Go 开发者的依赖注入框架，方便搭建任何 Go 应用。 A Golang dep...</td>\n",
       "      <td>Go</td>\n",
       "      <td></td>\n",
       "    </tr>\n",
       "    <tr>\n",
       "      <th>13</th>\n",
       "      <td>free-programming-books</td>\n",
       "      <td>📚 Freely available programming books</td>\n",
       "      <td>-</td>\n",
       "      <td>1</td>\n",
       "    </tr>\n",
       "    <tr>\n",
       "      <th>14</th>\n",
       "      <td>spring-cloud-tencent</td>\n",
       "      <td>Spring Cloud Tencent is a Spring Boot based Se...</td>\n",
       "      <td>Java</td>\n",
       "      <td>28</td>\n",
       "    </tr>\n",
       "    <tr>\n",
       "      <th>15</th>\n",
       "      <td>ADBench</td>\n",
       "      <td>Official Implement of \"ADBench: Anomaly Detect...</td>\n",
       "      <td>Python</td>\n",
       "      <td></td>\n",
       "    </tr>\n",
       "    <tr>\n",
       "      <th>16</th>\n",
       "      <td>workflow</td>\n",
       "      <td>C++ Parallel Computing and Asynchronous Networ...</td>\n",
       "      <td>C++</td>\n",
       "      <td>13</td>\n",
       "    </tr>\n",
       "    <tr>\n",
       "      <th>17</th>\n",
       "      <td>BotBuilder-Samples</td>\n",
       "      <td>Welcome to the Bot Framework samples repositor...</td>\n",
       "      <td>JavaScript</td>\n",
       "      <td>1</td>\n",
       "    </tr>\n",
       "    <tr>\n",
       "      <th>18</th>\n",
       "      <td>GitHubDaily</td>\n",
       "      <td>坚持分享 GitHub 上高质量、有趣实用的开源技术教程、开发者工具、编程网站、技术资讯。A...</td>\n",
       "      <td>-</td>\n",
       "      <td></td>\n",
       "    </tr>\n",
       "    <tr>\n",
       "      <th>19</th>\n",
       "      <td>SQLite.swift</td>\n",
       "      <td>A type-safe, Swift-language layer over SQLite3.</td>\n",
       "      <td>Swift</td>\n",
       "      <td>8</td>\n",
       "    </tr>\n",
       "    <tr>\n",
       "      <th>20</th>\n",
       "      <td>runelite</td>\n",
       "      <td>Open source Old School RuneScape client</td>\n",
       "      <td>Java</td>\n",
       "      <td>715</td>\n",
       "    </tr>\n",
       "    <tr>\n",
       "      <th>21</th>\n",
       "      <td>ai-audio-startups</td>\n",
       "      <td>Community list of startups working with AI in ...</td>\n",
       "      <td>-</td>\n",
       "      <td></td>\n",
       "    </tr>\n",
       "    <tr>\n",
       "      <th>22</th>\n",
       "      <td>eui</td>\n",
       "      <td>Elastic UI Framework 🙌</td>\n",
       "      <td>TypeScript</td>\n",
       "      <td>110</td>\n",
       "    </tr>\n",
       "    <tr>\n",
       "      <th>23</th>\n",
       "      <td>tao</td>\n",
       "      <td>The TAO of cross-platform windowing. A library...</td>\n",
       "      <td>Rust</td>\n",
       "      <td>31</td>\n",
       "    </tr>\n",
       "    <tr>\n",
       "      <th>24</th>\n",
       "      <td>30-Days-Of-JavaScript</td>\n",
       "      <td>30 days of JavaScript programming challenge is...</td>\n",
       "      <td>JavaScript</td>\n",
       "      <td></td>\n",
       "    </tr>\n",
       "  </tbody>\n",
       "</table>\n",
       "</div>"
      ],
      "text/plain": [
       "          Repository Title                             Repository Description  \\\n",
       "0              jak-project  Reviving the language that brought us the Jak ...   \n",
       "1                  ToolJet  Extensible low-code framework for building bus...   \n",
       "2               spacedrive  Spacedrive is an open source cross-platform fi...   \n",
       "3                     clap                                   Audio Plugin API   \n",
       "4                  Baileys  Lightweight full-featured WhatsApp Web + Multi...   \n",
       "5                 rustdesk  Open source virtual / remote desktop infrastru...   \n",
       "6             mdserver-web                                 Simple Linux Panel   \n",
       "7              Grasscutter  A server software reimplementation for a certa...   \n",
       "8                    tauri  Build smaller, faster, and more secure desktop...   \n",
       "9         build-your-own-x  Master programming by recreating your favorite...   \n",
       "10                   fresh                             Preact, but super edgy   \n",
       "11            svg-spinners           A collection of 24 x 24 dp SVG spinners!   \n",
       "12              IOC-golang  一款服务于 Go 开发者的依赖注入框架，方便搭建任何 Go 应用。 A Golang dep...   \n",
       "13  free-programming-books               📚 Freely available programming books   \n",
       "14    spring-cloud-tencent  Spring Cloud Tencent is a Spring Boot based Se...   \n",
       "15                 ADBench  Official Implement of \"ADBench: Anomaly Detect...   \n",
       "16                workflow  C++ Parallel Computing and Asynchronous Networ...   \n",
       "17      BotBuilder-Samples  Welcome to the Bot Framework samples repositor...   \n",
       "18             GitHubDaily  坚持分享 GitHub 上高质量、有趣实用的开源技术教程、开发者工具、编程网站、技术资讯。A...   \n",
       "19            SQLite.swift    A type-safe, Swift-language layer over SQLite3.   \n",
       "20                runelite            Open source Old School RuneScape client   \n",
       "21       ai-audio-startups  Community list of startups working with AI in ...   \n",
       "22                     eui                             Elastic UI Framework 🙌   \n",
       "23                     tao  The TAO of cross-platform windowing. A library...   \n",
       "24   30-Days-Of-JavaScript  30 days of JavaScript programming challenge is...   \n",
       "\n",
       "   Language Used Contributors count  \n",
       "0    Common Lisp                 13  \n",
       "1     JavaScript                 51  \n",
       "2     TypeScript                 30  \n",
       "3              C                 12  \n",
       "4     JavaScript                 25  \n",
       "5           Rust                  7  \n",
       "6     JavaScript                 10  \n",
       "7           Java                  4  \n",
       "8           Rust                373  \n",
       "9              -                     \n",
       "10    TypeScript                 32  \n",
       "11           SVG                     \n",
       "12            Go                     \n",
       "13             -                  1  \n",
       "14          Java                 28  \n",
       "15        Python                     \n",
       "16           C++                 13  \n",
       "17    JavaScript                  1  \n",
       "18             -                     \n",
       "19         Swift                  8  \n",
       "20          Java                715  \n",
       "21             -                     \n",
       "22    TypeScript                110  \n",
       "23          Rust                 31  \n",
       "24    JavaScript                     "
      ]
     },
     "execution_count": 85,
     "metadata": {},
     "output_type": "execute_result"
    }
   ],
   "source": [
    "df"
   ]
  },
  {
   "cell_type": "raw",
   "id": "035db866",
   "metadata": {},
   "source": [
    "6.Scrape the details of top 100 songs on billiboard.com.\n",
    "Url = https:/www.billboard.com/\n",
    "You have to find the following details:\n",
    "A) Song name\n",
    "B) Artist name\n",
    "C) Last week rank\n",
    "D) Peak rank\n",
    "E) Weeks on board"
   ]
  },
  {
   "cell_type": "code",
   "execution_count": 46,
   "id": "b5c4e0fd",
   "metadata": {},
   "outputs": [
    {
     "data": {
      "text/plain": [
       "<selenium.webdriver.chrome.webdriver.WebDriver (session=\"a0bc557a330dbfa55f44bdbc1f33ace0\")>"
      ]
     },
     "execution_count": 46,
     "metadata": {},
     "output_type": "execute_result"
    }
   ],
   "source": [
    "driver=webdriver.Chrome(\"chromedriver.exe\")\n",
    "driver"
   ]
  },
  {
   "cell_type": "code",
   "execution_count": 47,
   "id": "e5723c73",
   "metadata": {},
   "outputs": [],
   "source": [
    "driver.get('https:/www.billboard.com/')"
   ]
  },
  {
   "cell_type": "code",
   "execution_count": 48,
   "id": "9051778d",
   "metadata": {},
   "outputs": [],
   "source": [
    "chart=driver.find_element_by_xpath('/html/body/div[3]/header/div[1]/div/div/div[2]/div/nav/ul/li[1]/a')\n",
    "chart.click()"
   ]
  },
  {
   "cell_type": "code",
   "execution_count": 49,
   "id": "fb6ecf29",
   "metadata": {},
   "outputs": [],
   "source": [
    "hot100=driver.find_element_by_xpath('/html/body/div[3]/header/div[2]/div/nav/ul/li[1]/a')\n",
    "hot100.click()"
   ]
  },
  {
   "cell_type": "code",
   "execution_count": 79,
   "id": "d9bb96d7",
   "metadata": {},
   "outputs": [],
   "source": [
    "song_name=[]\n",
    "artist_name=[]\n",
    "lastweek_rank=[]\n",
    "peak_rank=[]\n",
    "weeks_onboard=[]"
   ]
  },
  {
   "cell_type": "code",
   "execution_count": 81,
   "id": "28a395e1",
   "metadata": {},
   "outputs": [],
   "source": [
    "song_names=driver.find_elements_by_xpath('//div[@class=\"o-chart-results-list-row-container\"]/ul/li[4]/ul/li/h3')"
   ]
  },
  {
   "cell_type": "code",
   "execution_count": 84,
   "id": "cee05107",
   "metadata": {},
   "outputs": [],
   "source": [
    "for i in song_names:\n",
    "    song_name.append(i.text)"
   ]
  },
  {
   "cell_type": "code",
   "execution_count": 86,
   "id": "41feb6c9",
   "metadata": {},
   "outputs": [
    {
     "data": {
      "text/plain": [
       "100"
      ]
     },
     "execution_count": 86,
     "metadata": {},
     "output_type": "execute_result"
    }
   ],
   "source": [
    "len(song_name)"
   ]
  },
  {
   "cell_type": "code",
   "execution_count": 91,
   "id": "b25e362c",
   "metadata": {},
   "outputs": [],
   "source": [
    "#for 1ST Rank artist name\n",
    "artistname1=driver.find_element_by_xpath('/html/body/div[3]/main/div[2]/div[3]/div/div/div/div[2]/div[2]/ul/li[4]/ul/li[1]/span')"
   ]
  },
  {
   "cell_type": "code",
   "execution_count": null,
   "id": "acb3dd3b",
   "metadata": {},
   "outputs": [],
   "source": [
    "artist_names=driver.find_elements_by_xpath('//span[@class=\"c-label  a-no-trucate a-font-primary-s lrv-u-font-size-14@mobile-max u-line-height-normal@mobile-max u-letter-spacing-0021 lrv-u-display-block a-truncate-ellipsis-2line u-max-width-330 u-max-width-230@tablet-only\"]')"
   ]
  },
  {
   "cell_type": "code",
   "execution_count": 92,
   "id": "06499708",
   "metadata": {},
   "outputs": [],
   "source": [
    "artist_name.append(artistname1.text)"
   ]
  },
  {
   "cell_type": "code",
   "execution_count": 93,
   "id": "cfff33dc",
   "metadata": {},
   "outputs": [
    {
     "data": {
      "text/plain": [
       "['Harry Styles']"
      ]
     },
     "execution_count": 93,
     "metadata": {},
     "output_type": "execute_result"
    }
   ],
   "source": [
    "artist_name"
   ]
  },
  {
   "cell_type": "code",
   "execution_count": 95,
   "id": "08ea2ba3",
   "metadata": {},
   "outputs": [],
   "source": [
    "for i in artist_names:\n",
    "    artist_name.append(i.text)"
   ]
  },
  {
   "cell_type": "code",
   "execution_count": 97,
   "id": "88559957",
   "metadata": {},
   "outputs": [
    {
     "data": {
      "text/plain": [
       "100"
      ]
     },
     "execution_count": 97,
     "metadata": {},
     "output_type": "execute_result"
    }
   ],
   "source": [
    "len(artist_name)"
   ]
  },
  {
   "cell_type": "code",
   "execution_count": 98,
   "id": "397b7eaf",
   "metadata": {},
   "outputs": [],
   "source": [
    "lst_wk=driver.find_elements_by_xpath('//div[@class=\"o-chart-results-list-row-container\"]/ul/li[4]/ul/li[4]')"
   ]
  },
  {
   "cell_type": "code",
   "execution_count": 100,
   "id": "9e9879f6",
   "metadata": {},
   "outputs": [],
   "source": [
    "for i in lst_wk:\n",
    "    lastweek_rank.append(i.text)"
   ]
  },
  {
   "cell_type": "code",
   "execution_count": 102,
   "id": "b9fe3811",
   "metadata": {},
   "outputs": [
    {
     "data": {
      "text/plain": [
       "100"
      ]
     },
     "execution_count": 102,
     "metadata": {},
     "output_type": "execute_result"
    }
   ],
   "source": [
    "len(lastweek_rank)"
   ]
  },
  {
   "cell_type": "code",
   "execution_count": 103,
   "id": "95c721ee",
   "metadata": {},
   "outputs": [],
   "source": [
    "peak_r=driver.find_elements_by_xpath('//div[@class=\"o-chart-results-list-row-container\"]/ul/li[4]/ul/li[5]')"
   ]
  },
  {
   "cell_type": "code",
   "execution_count": 104,
   "id": "e2a167ef",
   "metadata": {},
   "outputs": [],
   "source": [
    "for i in peak_r:\n",
    "    peak_rank.append(i.text)"
   ]
  },
  {
   "cell_type": "code",
   "execution_count": 106,
   "id": "08d66c80",
   "metadata": {},
   "outputs": [
    {
     "data": {
      "text/plain": [
       "100"
      ]
     },
     "execution_count": 106,
     "metadata": {},
     "output_type": "execute_result"
    }
   ],
   "source": [
    "len(peak_rank)"
   ]
  },
  {
   "cell_type": "code",
   "execution_count": 107,
   "id": "f1249eee",
   "metadata": {},
   "outputs": [],
   "source": [
    "wk=driver.find_elements_by_xpath('//div[@class=\"o-chart-results-list-row-container\"]/ul/li[4]/ul/li[6]')"
   ]
  },
  {
   "cell_type": "code",
   "execution_count": 108,
   "id": "85b262ce",
   "metadata": {},
   "outputs": [],
   "source": [
    "for i in wk:\n",
    "    weeks_onboard.append(i.text)"
   ]
  },
  {
   "cell_type": "code",
   "execution_count": 110,
   "id": "c61ffff0",
   "metadata": {},
   "outputs": [
    {
     "name": "stdout",
     "output_type": "stream",
     "text": [
      "100 100 100 100 100\n"
     ]
    }
   ],
   "source": [
    "print(len(song_name),len(peak_rank),len(weeks_onboard),len(artist_name),len(lastweek_rank))"
   ]
  },
  {
   "cell_type": "code",
   "execution_count": 111,
   "id": "9a2d9aef",
   "metadata": {},
   "outputs": [],
   "source": [
    "df=pd.DataFrame({'Song Name':song_name,'Artist Name':artist_name,'Last Week Rank':lastweek_rank,'Peak rank':peak_rank,'Weeks Onboard':weeks_onboard})"
   ]
  },
  {
   "cell_type": "code",
   "execution_count": 112,
   "id": "25b9eae0",
   "metadata": {},
   "outputs": [
    {
     "data": {
      "text/html": [
       "<div>\n",
       "<style scoped>\n",
       "    .dataframe tbody tr th:only-of-type {\n",
       "        vertical-align: middle;\n",
       "    }\n",
       "\n",
       "    .dataframe tbody tr th {\n",
       "        vertical-align: top;\n",
       "    }\n",
       "\n",
       "    .dataframe thead th {\n",
       "        text-align: right;\n",
       "    }\n",
       "</style>\n",
       "<table border=\"1\" class=\"dataframe\">\n",
       "  <thead>\n",
       "    <tr style=\"text-align: right;\">\n",
       "      <th></th>\n",
       "      <th>Song Name</th>\n",
       "      <th>Artist Name</th>\n",
       "      <th>Last Week Rank</th>\n",
       "      <th>Peak rank</th>\n",
       "      <th>Weeks Onboard</th>\n",
       "    </tr>\n",
       "  </thead>\n",
       "  <tbody>\n",
       "    <tr>\n",
       "      <th>0</th>\n",
       "      <td>As It Was</td>\n",
       "      <td>Harry Styles</td>\n",
       "      <td>1</td>\n",
       "      <td>1</td>\n",
       "      <td>10</td>\n",
       "    </tr>\n",
       "    <tr>\n",
       "      <th>1</th>\n",
       "      <td>First Class</td>\n",
       "      <td>Jack Harlow</td>\n",
       "      <td>2</td>\n",
       "      <td>1</td>\n",
       "      <td>9</td>\n",
       "    </tr>\n",
       "    <tr>\n",
       "      <th>2</th>\n",
       "      <td>Wait For U</td>\n",
       "      <td>Future Featuring Drake &amp; Tems</td>\n",
       "      <td>3</td>\n",
       "      <td>1</td>\n",
       "      <td>6</td>\n",
       "    </tr>\n",
       "    <tr>\n",
       "      <th>3</th>\n",
       "      <td>Running Up That Hill (A Deal With God)</td>\n",
       "      <td>Kate Bush</td>\n",
       "      <td>8</td>\n",
       "      <td>4</td>\n",
       "      <td>22</td>\n",
       "    </tr>\n",
       "    <tr>\n",
       "      <th>4</th>\n",
       "      <td>About Damn Time</td>\n",
       "      <td>Lizzo</td>\n",
       "      <td>4</td>\n",
       "      <td>4</td>\n",
       "      <td>8</td>\n",
       "    </tr>\n",
       "    <tr>\n",
       "      <th>...</th>\n",
       "      <td>...</td>\n",
       "      <td>...</td>\n",
       "      <td>...</td>\n",
       "      <td>...</td>\n",
       "      <td>...</td>\n",
       "    </tr>\n",
       "    <tr>\n",
       "      <th>95</th>\n",
       "      <td>Neverita</td>\n",
       "      <td>Bad Bunny</td>\n",
       "      <td>85</td>\n",
       "      <td>31</td>\n",
       "      <td>5</td>\n",
       "    </tr>\n",
       "    <tr>\n",
       "      <th>96</th>\n",
       "      <td>When I'm Alone</td>\n",
       "      <td>Post Malone</td>\n",
       "      <td>-</td>\n",
       "      <td>97</td>\n",
       "      <td>1</td>\n",
       "    </tr>\n",
       "    <tr>\n",
       "      <th>97</th>\n",
       "      <td>7500 OBO</td>\n",
       "      <td>Tim McGraw</td>\n",
       "      <td>99</td>\n",
       "      <td>98</td>\n",
       "      <td>2</td>\n",
       "    </tr>\n",
       "    <tr>\n",
       "      <th>98</th>\n",
       "      <td>F.N.F. (Let's Go)</td>\n",
       "      <td>Hitkidd &amp; Glorilla</td>\n",
       "      <td>91</td>\n",
       "      <td>91</td>\n",
       "      <td>2</td>\n",
       "    </tr>\n",
       "    <tr>\n",
       "      <th>99</th>\n",
       "      <td>Euthanasia</td>\n",
       "      <td>Post Malone</td>\n",
       "      <td>-</td>\n",
       "      <td>100</td>\n",
       "      <td>1</td>\n",
       "    </tr>\n",
       "  </tbody>\n",
       "</table>\n",
       "<p>100 rows × 5 columns</p>\n",
       "</div>"
      ],
      "text/plain": [
       "                                 Song Name                    Artist Name  \\\n",
       "0                                As It Was                   Harry Styles   \n",
       "1                              First Class                    Jack Harlow   \n",
       "2                               Wait For U  Future Featuring Drake & Tems   \n",
       "3   Running Up That Hill (A Deal With God)                      Kate Bush   \n",
       "4                          About Damn Time                          Lizzo   \n",
       "..                                     ...                            ...   \n",
       "95                                Neverita                      Bad Bunny   \n",
       "96                          When I'm Alone                    Post Malone   \n",
       "97                                7500 OBO                     Tim McGraw   \n",
       "98                       F.N.F. (Let's Go)             Hitkidd & Glorilla   \n",
       "99                              Euthanasia                    Post Malone   \n",
       "\n",
       "   Last Week Rank Peak rank Weeks Onboard  \n",
       "0               1         1            10  \n",
       "1               2         1             9  \n",
       "2               3         1             6  \n",
       "3               8         4            22  \n",
       "4               4         4             8  \n",
       "..            ...       ...           ...  \n",
       "95             85        31             5  \n",
       "96              -        97             1  \n",
       "97             99        98             2  \n",
       "98             91        91             2  \n",
       "99              -       100             1  \n",
       "\n",
       "[100 rows x 5 columns]"
      ]
     },
     "execution_count": 112,
     "metadata": {},
     "output_type": "execute_result"
    }
   ],
   "source": [
    "df"
   ]
  },
  {
   "cell_type": "raw",
   "id": "49222205",
   "metadata": {},
   "source": [
    "7. Scrape the details of Data science recruiters from naukri.com.\n",
    "Url = https://www.naukri.com/\n",
    "You have to find the following details:\n",
    "A) Name\n",
    "B) Designation\n",
    "C) Company\n",
    "D) Skills they hire for\n",
    "E) Location"
   ]
  },
  {
   "cell_type": "code",
   "execution_count": 2,
   "id": "cf3702d4",
   "metadata": {},
   "outputs": [
    {
     "data": {
      "text/plain": [
       "<selenium.webdriver.chrome.webdriver.WebDriver (session=\"c48c8fbff0fddc5da4e50900fae14e44\")>"
      ]
     },
     "execution_count": 2,
     "metadata": {},
     "output_type": "execute_result"
    }
   ],
   "source": [
    "driver=webdriver.Chrome(\"chromedriver.exe\")\n",
    "driver"
   ]
  },
  {
   "cell_type": "code",
   "execution_count": 3,
   "id": "bd533e49",
   "metadata": {},
   "outputs": [],
   "source": [
    "driver.get(\"https://www.naukri.com/\")"
   ]
  },
  {
   "cell_type": "code",
   "execution_count": 4,
   "id": "80c20e50",
   "metadata": {},
   "outputs": [],
   "source": [
    "search_field_skill=driver.find_element_by_class_name('suggestor-input ')\n",
    "search_field_skill.send_keys('Data science')"
   ]
  },
  {
   "cell_type": "code",
   "execution_count": 5,
   "id": "9b85ef3a",
   "metadata": {},
   "outputs": [],
   "source": [
    "search_button=driver.find_element_by_class_name('qsbSubmit')\n",
    "search_button.click()"
   ]
  },
  {
   "cell_type": "code",
   "execution_count": 10,
   "id": "97d69bc4",
   "metadata": {},
   "outputs": [],
   "source": [
    "urls=[]"
   ]
  },
  {
   "cell_type": "code",
   "execution_count": 11,
   "id": "d633e5de",
   "metadata": {},
   "outputs": [],
   "source": [
    "url=driver.find_elements_by_xpath('//div[@class=\"info fleft\"]/a')"
   ]
  },
  {
   "cell_type": "code",
   "execution_count": 12,
   "id": "116c8832",
   "metadata": {},
   "outputs": [],
   "source": [
    "for i in url:\n",
    "    urls.append(i.get_attribute('href'))"
   ]
  },
  {
   "cell_type": "code",
   "execution_count": null,
   "id": "7f9f24a7",
   "metadata": {},
   "outputs": [],
   "source": [
    "urls"
   ]
  },
  {
   "cell_type": "code",
   "execution_count": 14,
   "id": "4865cf29",
   "metadata": {},
   "outputs": [],
   "source": [
    "name=[]\n",
    "designation=[]\n",
    "company=[]\n",
    "location=[]"
   ]
  },
  {
   "cell_type": "code",
   "execution_count": 15,
   "id": "3b3194ba",
   "metadata": {},
   "outputs": [],
   "source": [
    "for k in urls:\n",
    "    driver.get(k)\n",
    "    time.sleep(2)\n",
    "    \n",
    "    try:\n",
    "        names=driver.find_element_by_xpath('//h1[@class=\"jd-header-title\"]')\n",
    "        name.append(names.text)\n",
    "    except NoSuchElementException:\n",
    "        name.append('-')\n",
    "        \n",
    "    try:\n",
    "        desgn=driver.find_element_by_xpath('/html/body/div[1]/main/div[2]/div[2]/section[2]/div[2]/div[1]/span/a')\n",
    "        designation.append(desgn.text)\n",
    "    except NoSuchElementException:\n",
    "        designation.append('-')\n",
    "        \n",
    "    try:\n",
    "        cmp=driver.find_element_by_xpath('/html/body/div[1]/main/div[2]/div[2]/section[1]/div[1]/div[1]/div/a[1]')\n",
    "        company.append(cmp.text)\n",
    "    except NoSuchElementException:\n",
    "        company.append('-')\n",
    "        \n",
    "    try:\n",
    "        loc=driver.find_element_by_xpath('/html/body/div[1]/main/div[2]/div[2]/section[1]/div[1]/div[2]/div[3]/span/a')\n",
    "        location.append(loc.text)\n",
    "    except NoSuchElementException:\n",
    "        location.append('-')\n",
    "        "
   ]
  },
  {
   "cell_type": "code",
   "execution_count": 49,
   "id": "093020ba",
   "metadata": {},
   "outputs": [],
   "source": [
    "skills_hire_for=[]"
   ]
  },
  {
   "cell_type": "code",
   "execution_count": 47,
   "id": "d990a786",
   "metadata": {},
   "outputs": [],
   "source": [
    "skl=driver.find_elements_by_xpath('//article[@class=\"jobTuple bgWhite br4 mb-8\"]/ul')"
   ]
  },
  {
   "cell_type": "code",
   "execution_count": null,
   "id": "fabbeeb2",
   "metadata": {},
   "outputs": [],
   "source": [
    "skl"
   ]
  },
  {
   "cell_type": "code",
   "execution_count": 50,
   "id": "10232094",
   "metadata": {},
   "outputs": [],
   "source": [
    "for i in skl:\n",
    "    skills_hire_for.append(i.text)"
   ]
  },
  {
   "cell_type": "code",
   "execution_count": 51,
   "id": "848cde10",
   "metadata": {},
   "outputs": [
    {
     "data": {
      "text/plain": [
       "20"
      ]
     },
     "execution_count": 51,
     "metadata": {},
     "output_type": "execute_result"
    }
   ],
   "source": [
    "len(skills_hire_for)"
   ]
  },
  {
   "cell_type": "code",
   "execution_count": 52,
   "id": "b05a6558",
   "metadata": {},
   "outputs": [
    {
     "name": "stdout",
     "output_type": "stream",
     "text": [
      "20 20 20 20 20\n"
     ]
    }
   ],
   "source": [
    "print(len(name),len(designation),len(company),len(location),len(skills_hire_for))"
   ]
  },
  {
   "cell_type": "code",
   "execution_count": 53,
   "id": "66dcd868",
   "metadata": {},
   "outputs": [],
   "source": [
    "df=pd.DataFrame({'Name':name,'Designation':designation,'Company':company,'Skills_hire_for':skills_hire_for,'Location':location})"
   ]
  },
  {
   "cell_type": "code",
   "execution_count": 54,
   "id": "059e1e79",
   "metadata": {},
   "outputs": [
    {
     "data": {
      "text/html": [
       "<div>\n",
       "<style scoped>\n",
       "    .dataframe tbody tr th:only-of-type {\n",
       "        vertical-align: middle;\n",
       "    }\n",
       "\n",
       "    .dataframe tbody tr th {\n",
       "        vertical-align: top;\n",
       "    }\n",
       "\n",
       "    .dataframe thead th {\n",
       "        text-align: right;\n",
       "    }\n",
       "</style>\n",
       "<table border=\"1\" class=\"dataframe\">\n",
       "  <thead>\n",
       "    <tr style=\"text-align: right;\">\n",
       "      <th></th>\n",
       "      <th>Name</th>\n",
       "      <th>Designation</th>\n",
       "      <th>Company</th>\n",
       "      <th>Skills_hire_for</th>\n",
       "      <th>Location</th>\n",
       "    </tr>\n",
       "  </thead>\n",
       "  <tbody>\n",
       "    <tr>\n",
       "      <th>0</th>\n",
       "      <td>ExcelHer Intern - Data Science</td>\n",
       "      <td>Data Analyst</td>\n",
       "      <td>VOLVO ASSET FINANCE INDIA PRIVATE LIMITED</td>\n",
       "      <td>Computer science\\nAutomation\\ndata science\\nIn...</td>\n",
       "      <td>remote</td>\n",
       "    </tr>\n",
       "    <tr>\n",
       "      <th>1</th>\n",
       "      <td>Data Analyst - Data Science, 3 To 5 Years</td>\n",
       "      <td>Business Analyst</td>\n",
       "      <td>Rise Finconnect Private Limited</td>\n",
       "      <td>Data Analytics\\nData Science\\nData Management\\...</td>\n",
       "      <td>Bangalore/Bengaluru</td>\n",
       "    </tr>\n",
       "    <tr>\n",
       "      <th>2</th>\n",
       "      <td>India Market Unit - Data Science Analyst - 11</td>\n",
       "      <td>Business Analyst</td>\n",
       "      <td>Accenture</td>\n",
       "      <td>Strategy consulting\\nMachine learning\\nprofess...</td>\n",
       "      <td>Delhi / NCR</td>\n",
       "    </tr>\n",
       "    <tr>\n",
       "      <th>3</th>\n",
       "      <td>India Market Unit - Data Science Analyst - 11</td>\n",
       "      <td>Business Analyst</td>\n",
       "      <td>Accenture</td>\n",
       "      <td>Strategy consulting\\nMachine learning\\nprofess...</td>\n",
       "      <td>Mumbai</td>\n",
       "    </tr>\n",
       "    <tr>\n",
       "      <th>4</th>\n",
       "      <td>Senior Analyst-Data Science</td>\n",
       "      <td>Data Analyst</td>\n",
       "      <td>Accenture</td>\n",
       "      <td>Publishing\\nConsulting\\nPredictive modeling\\nD...</td>\n",
       "      <td>Bangalore/Bengaluru</td>\n",
       "    </tr>\n",
       "    <tr>\n",
       "      <th>5</th>\n",
       "      <td>HCL || Data Science</td>\n",
       "      <td>Data Analyst</td>\n",
       "      <td>HCL Technologies</td>\n",
       "      <td>Azure Functions\\nTableau\\ncoding\\nAzure\\nGCP\\n...</td>\n",
       "      <td>Chennai</td>\n",
       "    </tr>\n",
       "    <tr>\n",
       "      <th>6</th>\n",
       "      <td>ACN - Applied Intelligence - CC - Data Science...</td>\n",
       "      <td>Data Analyst</td>\n",
       "      <td>Accenture</td>\n",
       "      <td>Data analysis\\nAnalytical\\nConsulting\\nAnalyti...</td>\n",
       "      <td>Gurgaon/Gurugram</td>\n",
       "    </tr>\n",
       "    <tr>\n",
       "      <th>7</th>\n",
       "      <td>Technical Analyst ( Python - Data Science and ...</td>\n",
       "      <td>Data Science &amp; Analytics - Other</td>\n",
       "      <td>Coforge</td>\n",
       "      <td>python\\nIT Skills\\nData Science\\nMachine Learn...</td>\n",
       "      <td>Bangalore/Bengaluru</td>\n",
       "    </tr>\n",
       "    <tr>\n",
       "      <th>8</th>\n",
       "      <td>Data Analyst ll - Data Science</td>\n",
       "      <td>Data Analyst</td>\n",
       "      <td>Walmart</td>\n",
       "      <td>IT Skills\\nPython\\nTesting\\nData Science\\nMach...</td>\n",
       "      <td>Bangalore/Bengaluru</td>\n",
       "    </tr>\n",
       "    <tr>\n",
       "      <th>9</th>\n",
       "      <td>Data Science - Engineering Manager</td>\n",
       "      <td>Data Scientist</td>\n",
       "      <td>Paytm</td>\n",
       "      <td>Computer science\\ndata science\\nEDC\\nMachine l...</td>\n",
       "      <td>Noida</td>\n",
       "    </tr>\n",
       "    <tr>\n",
       "      <th>10</th>\n",
       "      <td>Business Analyst - Data Science</td>\n",
       "      <td>Business Analyst</td>\n",
       "      <td>PayU</td>\n",
       "      <td>Computer science\\nWealth management\\nLead Busi...</td>\n",
       "      <td>Bangalore/Bengaluru</td>\n",
       "    </tr>\n",
       "    <tr>\n",
       "      <th>11</th>\n",
       "      <td>Opportunity For Business Analyst - Data Scienc...</td>\n",
       "      <td>Business Analyst</td>\n",
       "      <td>PayU</td>\n",
       "      <td>Data scientist\\nR\\nNLP\\nNatural Language Proce...</td>\n",
       "      <td>Gurgaon/Gurugram</td>\n",
       "    </tr>\n",
       "    <tr>\n",
       "      <th>12</th>\n",
       "      <td>Senior Specialist Data Science</td>\n",
       "      <td>Business Analyst</td>\n",
       "      <td>Dr.Reddy's</td>\n",
       "      <td>advanced analytics\\nData analysis\\nChannel mar...</td>\n",
       "      <td>Hyderabad/Secunderabad</td>\n",
       "    </tr>\n",
       "    <tr>\n",
       "      <th>13</th>\n",
       "      <td>ACN - Applied Intelligence - CC - Data Science...</td>\n",
       "      <td>Data Analyst</td>\n",
       "      <td>Accenture</td>\n",
       "      <td>Data analysis\\ndata science\\nConsulting\\nForec...</td>\n",
       "      <td>Gurgaon/Gurugram</td>\n",
       "    </tr>\n",
       "    <tr>\n",
       "      <th>14</th>\n",
       "      <td>ACN - Applied Intelligence - CC - Data Science...</td>\n",
       "      <td>Data Analyst</td>\n",
       "      <td>Accenture</td>\n",
       "      <td>Data analysis\\nData management\\nAnalytical\\nCo...</td>\n",
       "      <td>Gurgaon/Gurugram</td>\n",
       "    </tr>\n",
       "    <tr>\n",
       "      <th>15</th>\n",
       "      <td>Lead - Data Science</td>\n",
       "      <td>Data Scientist</td>\n",
       "      <td>Think360</td>\n",
       "      <td>Data Science\\nUltrix\\nR\\ndata analysis\\nstatis...</td>\n",
       "      <td>Mumbai</td>\n",
       "    </tr>\n",
       "    <tr>\n",
       "      <th>16</th>\n",
       "      <td>Manager Data Science</td>\n",
       "      <td>Data Analyst</td>\n",
       "      <td>Jio</td>\n",
       "      <td>Report generation\\nData management\\nMachine le...</td>\n",
       "      <td>Bangalore/Bengaluru</td>\n",
       "    </tr>\n",
       "    <tr>\n",
       "      <th>17</th>\n",
       "      <td>Data Science Expert - Quality &amp; Test Engineering</td>\n",
       "      <td>Data Scientist</td>\n",
       "      <td>SAP</td>\n",
       "      <td>data science\\nIT Skills\\nPython\\nTesting\\nMach...</td>\n",
       "      <td>Bangalore/Bengaluru</td>\n",
       "    </tr>\n",
       "    <tr>\n",
       "      <th>18</th>\n",
       "      <td>Data Science Senior</td>\n",
       "      <td>Manager - Data Science</td>\n",
       "      <td>EY</td>\n",
       "      <td>python\\nr\\nPower Bi\\nPricing\\nsql\\nIT Skills\\n...</td>\n",
       "      <td>Pune</td>\n",
       "    </tr>\n",
       "    <tr>\n",
       "      <th>19</th>\n",
       "      <td>Principal, SRS - Data Science (Deep Learning)</td>\n",
       "      <td>Business Analyst</td>\n",
       "      <td>Gartner</td>\n",
       "      <td>Computer science\\nCoding\\nSocial media\\nData m...</td>\n",
       "      <td>Gurgaon/Gurugram</td>\n",
       "    </tr>\n",
       "  </tbody>\n",
       "</table>\n",
       "</div>"
      ],
      "text/plain": [
       "                                                 Name  \\\n",
       "0                      ExcelHer Intern - Data Science   \n",
       "1           Data Analyst - Data Science, 3 To 5 Years   \n",
       "2       India Market Unit - Data Science Analyst - 11   \n",
       "3       India Market Unit - Data Science Analyst - 11   \n",
       "4                         Senior Analyst-Data Science   \n",
       "5                                 HCL || Data Science   \n",
       "6   ACN - Applied Intelligence - CC - Data Science...   \n",
       "7   Technical Analyst ( Python - Data Science and ...   \n",
       "8                      Data Analyst ll - Data Science   \n",
       "9                  Data Science - Engineering Manager   \n",
       "10                    Business Analyst - Data Science   \n",
       "11  Opportunity For Business Analyst - Data Scienc...   \n",
       "12                     Senior Specialist Data Science   \n",
       "13  ACN - Applied Intelligence - CC - Data Science...   \n",
       "14  ACN - Applied Intelligence - CC - Data Science...   \n",
       "15                                Lead - Data Science   \n",
       "16                               Manager Data Science   \n",
       "17   Data Science Expert - Quality & Test Engineering   \n",
       "18                                Data Science Senior   \n",
       "19      Principal, SRS - Data Science (Deep Learning)   \n",
       "\n",
       "                         Designation  \\\n",
       "0                       Data Analyst   \n",
       "1                   Business Analyst   \n",
       "2                   Business Analyst   \n",
       "3                   Business Analyst   \n",
       "4                       Data Analyst   \n",
       "5                       Data Analyst   \n",
       "6                       Data Analyst   \n",
       "7   Data Science & Analytics - Other   \n",
       "8                       Data Analyst   \n",
       "9                     Data Scientist   \n",
       "10                  Business Analyst   \n",
       "11                  Business Analyst   \n",
       "12                  Business Analyst   \n",
       "13                      Data Analyst   \n",
       "14                      Data Analyst   \n",
       "15                    Data Scientist   \n",
       "16                      Data Analyst   \n",
       "17                    Data Scientist   \n",
       "18            Manager - Data Science   \n",
       "19                  Business Analyst   \n",
       "\n",
       "                                      Company  \\\n",
       "0   VOLVO ASSET FINANCE INDIA PRIVATE LIMITED   \n",
       "1             Rise Finconnect Private Limited   \n",
       "2                                   Accenture   \n",
       "3                                   Accenture   \n",
       "4                                   Accenture   \n",
       "5                            HCL Technologies   \n",
       "6                                   Accenture   \n",
       "7                                     Coforge   \n",
       "8                                     Walmart   \n",
       "9                                       Paytm   \n",
       "10                                       PayU   \n",
       "11                                       PayU   \n",
       "12                                 Dr.Reddy's   \n",
       "13                                  Accenture   \n",
       "14                                  Accenture   \n",
       "15                                   Think360   \n",
       "16                                        Jio   \n",
       "17                                        SAP   \n",
       "18                                         EY   \n",
       "19                                    Gartner   \n",
       "\n",
       "                                      Skills_hire_for                Location  \n",
       "0   Computer science\\nAutomation\\ndata science\\nIn...                  remote  \n",
       "1   Data Analytics\\nData Science\\nData Management\\...     Bangalore/Bengaluru  \n",
       "2   Strategy consulting\\nMachine learning\\nprofess...             Delhi / NCR  \n",
       "3   Strategy consulting\\nMachine learning\\nprofess...                  Mumbai  \n",
       "4   Publishing\\nConsulting\\nPredictive modeling\\nD...     Bangalore/Bengaluru  \n",
       "5   Azure Functions\\nTableau\\ncoding\\nAzure\\nGCP\\n...                 Chennai  \n",
       "6   Data analysis\\nAnalytical\\nConsulting\\nAnalyti...        Gurgaon/Gurugram  \n",
       "7   python\\nIT Skills\\nData Science\\nMachine Learn...     Bangalore/Bengaluru  \n",
       "8   IT Skills\\nPython\\nTesting\\nData Science\\nMach...     Bangalore/Bengaluru  \n",
       "9   Computer science\\ndata science\\nEDC\\nMachine l...                   Noida  \n",
       "10  Computer science\\nWealth management\\nLead Busi...     Bangalore/Bengaluru  \n",
       "11  Data scientist\\nR\\nNLP\\nNatural Language Proce...        Gurgaon/Gurugram  \n",
       "12  advanced analytics\\nData analysis\\nChannel mar...  Hyderabad/Secunderabad  \n",
       "13  Data analysis\\ndata science\\nConsulting\\nForec...        Gurgaon/Gurugram  \n",
       "14  Data analysis\\nData management\\nAnalytical\\nCo...        Gurgaon/Gurugram  \n",
       "15  Data Science\\nUltrix\\nR\\ndata analysis\\nstatis...                  Mumbai  \n",
       "16  Report generation\\nData management\\nMachine le...     Bangalore/Bengaluru  \n",
       "17  data science\\nIT Skills\\nPython\\nTesting\\nMach...     Bangalore/Bengaluru  \n",
       "18  python\\nr\\nPower Bi\\nPricing\\nsql\\nIT Skills\\n...                    Pune  \n",
       "19  Computer science\\nCoding\\nSocial media\\nData m...        Gurgaon/Gurugram  "
      ]
     },
     "execution_count": 54,
     "metadata": {},
     "output_type": "execute_result"
    }
   ],
   "source": [
    "df"
   ]
  },
  {
   "cell_type": "raw",
   "id": "ddbbe31c",
   "metadata": {},
   "source": [
    "8. Scrape the details of Highest selling novels.\n",
    "Url = https://www.theguardian.com/news/datablog/2012/aug/09/best-selling-books-all-time-fifty-shades-grey\u0002compare/\n",
    "You have to find the following details:\n",
    "A) Book name\n",
    "B) Author name\n",
    "C) Volumes sold\n",
    "D) Publisher\n",
    "E) Genre"
   ]
  },
  {
   "cell_type": "code",
   "execution_count": 47,
   "id": "2c8e9799",
   "metadata": {},
   "outputs": [
    {
     "data": {
      "text/plain": [
       "<selenium.webdriver.chrome.webdriver.WebDriver (session=\"9941dc0e2e27b4ca882d574ccceb1107\")>"
      ]
     },
     "execution_count": 47,
     "metadata": {},
     "output_type": "execute_result"
    }
   ],
   "source": [
    "driver=webdriver.Chrome(\"chromedriver.exe\")\n",
    "driver"
   ]
  },
  {
   "cell_type": "code",
   "execution_count": 52,
   "id": "0e35b7f8",
   "metadata": {},
   "outputs": [],
   "source": [
    "driver.get('https://www.theguardian.com/news/datablog/2012/aug/09/best-selling-books-all-time-fifty-shades-grey-compare/')"
   ]
  },
  {
   "cell_type": "code",
   "execution_count": 53,
   "id": "3c91cf6a",
   "metadata": {},
   "outputs": [],
   "source": [
    "book_name=[]\n",
    "author_name=[]\n",
    "vol_sold=[]\n",
    "publisher=[]\n",
    "genre=[]"
   ]
  },
  {
   "cell_type": "code",
   "execution_count": 54,
   "id": "c110f7b9",
   "metadata": {},
   "outputs": [],
   "source": [
    "    try:\n",
    "        name=driver.find_elements_by_xpath('//div[@class=\"embed block\"]/table/tbody/tr/td[2]')\n",
    "        for i in name:\n",
    "            book_name.append(i.text)\n",
    "    except NoSuchElementException:\n",
    "        book_name.append('-')"
   ]
  },
  {
   "cell_type": "code",
   "execution_count": 55,
   "id": "0bc26904",
   "metadata": {},
   "outputs": [],
   "source": [
    "    try:\n",
    "        aut=driver.find_elements_by_xpath('//div[@class=\"embed block\"]/table/tbody/tr/td[3]')\n",
    "        for i in aut:\n",
    "            author_name.append(i.text)\n",
    "    except NoSuchElementException:\n",
    "        author_name.append('-')"
   ]
  },
  {
   "cell_type": "code",
   "execution_count": 56,
   "id": "893cd071",
   "metadata": {},
   "outputs": [],
   "source": [
    "    try:\n",
    "        vol=driver.find_elements_by_xpath('//div[@class=\"embed block\"]/table/tbody/tr/td[4]')\n",
    "        for i in vol:\n",
    "            vol_sold.append(i.text)\n",
    "    except NoSuchElementException:\n",
    "        vol_sold.append('-')"
   ]
  },
  {
   "cell_type": "code",
   "execution_count": 57,
   "id": "bbf6f98f",
   "metadata": {},
   "outputs": [],
   "source": [
    "    try:\n",
    "        pub=driver.find_elements_by_xpath('//div[@class=\"embed block\"]/table/tbody/tr/td[5]')\n",
    "        for i in pub:\n",
    "            publisher.append(i.text)\n",
    "    except NoSuchElementException:\n",
    "        publisher.append('-')"
   ]
  },
  {
   "cell_type": "code",
   "execution_count": 58,
   "id": "2e2644e2",
   "metadata": {},
   "outputs": [],
   "source": [
    "    try:\n",
    "        gen=driver.find_elements_by_xpath('//div[@class=\"embed block\"]/table/tbody/tr/td[6]')\n",
    "        for i in gen:\n",
    "            genre.append(i.text)\n",
    "    except NoSuchElementException:\n",
    "        genre.append('-')"
   ]
  },
  {
   "cell_type": "code",
   "execution_count": 59,
   "id": "4a66f2a9",
   "metadata": {},
   "outputs": [
    {
     "name": "stdout",
     "output_type": "stream",
     "text": [
      "100 100 100 100 100\n"
     ]
    }
   ],
   "source": [
    "print(len(book_name),len(author_name),len(vol_sold),len(publisher),len(genre))"
   ]
  },
  {
   "cell_type": "code",
   "execution_count": 60,
   "id": "bdcaa4c9",
   "metadata": {},
   "outputs": [],
   "source": [
    "df=pd.DataFrame({'Book Name':book_name,'Author Name':author_name,'Volume Sold':vol_sold,'Publisher':publisher,'Genre':genre})"
   ]
  },
  {
   "cell_type": "code",
   "execution_count": 61,
   "id": "f8935b92",
   "metadata": {},
   "outputs": [
    {
     "data": {
      "text/html": [
       "<div>\n",
       "<style scoped>\n",
       "    .dataframe tbody tr th:only-of-type {\n",
       "        vertical-align: middle;\n",
       "    }\n",
       "\n",
       "    .dataframe tbody tr th {\n",
       "        vertical-align: top;\n",
       "    }\n",
       "\n",
       "    .dataframe thead th {\n",
       "        text-align: right;\n",
       "    }\n",
       "</style>\n",
       "<table border=\"1\" class=\"dataframe\">\n",
       "  <thead>\n",
       "    <tr style=\"text-align: right;\">\n",
       "      <th></th>\n",
       "      <th>Book Name</th>\n",
       "      <th>Author Name</th>\n",
       "      <th>Volume Sold</th>\n",
       "      <th>Publisher</th>\n",
       "      <th>Genre</th>\n",
       "    </tr>\n",
       "  </thead>\n",
       "  <tbody>\n",
       "    <tr>\n",
       "      <th>0</th>\n",
       "      <td>Da Vinci Code,The</td>\n",
       "      <td>Brown, Dan</td>\n",
       "      <td>5,094,805</td>\n",
       "      <td>Transworld</td>\n",
       "      <td>Crime, Thriller &amp; Adventure</td>\n",
       "    </tr>\n",
       "    <tr>\n",
       "      <th>1</th>\n",
       "      <td>Harry Potter and the Deathly Hallows</td>\n",
       "      <td>Rowling, J.K.</td>\n",
       "      <td>4,475,152</td>\n",
       "      <td>Bloomsbury</td>\n",
       "      <td>Children's Fiction</td>\n",
       "    </tr>\n",
       "    <tr>\n",
       "      <th>2</th>\n",
       "      <td>Harry Potter and the Philosopher's Stone</td>\n",
       "      <td>Rowling, J.K.</td>\n",
       "      <td>4,200,654</td>\n",
       "      <td>Bloomsbury</td>\n",
       "      <td>Children's Fiction</td>\n",
       "    </tr>\n",
       "    <tr>\n",
       "      <th>3</th>\n",
       "      <td>Harry Potter and the Order of the Phoenix</td>\n",
       "      <td>Rowling, J.K.</td>\n",
       "      <td>4,179,479</td>\n",
       "      <td>Bloomsbury</td>\n",
       "      <td>Children's Fiction</td>\n",
       "    </tr>\n",
       "    <tr>\n",
       "      <th>4</th>\n",
       "      <td>Fifty Shades of Grey</td>\n",
       "      <td>James, E. L.</td>\n",
       "      <td>3,758,936</td>\n",
       "      <td>Random House</td>\n",
       "      <td>Romance &amp; Sagas</td>\n",
       "    </tr>\n",
       "    <tr>\n",
       "      <th>...</th>\n",
       "      <td>...</td>\n",
       "      <td>...</td>\n",
       "      <td>...</td>\n",
       "      <td>...</td>\n",
       "      <td>...</td>\n",
       "    </tr>\n",
       "    <tr>\n",
       "      <th>95</th>\n",
       "      <td>Ghost,The</td>\n",
       "      <td>Harris, Robert</td>\n",
       "      <td>807,311</td>\n",
       "      <td>Random House</td>\n",
       "      <td>General &amp; Literary Fiction</td>\n",
       "    </tr>\n",
       "    <tr>\n",
       "      <th>96</th>\n",
       "      <td>Happy Days with the Naked Chef</td>\n",
       "      <td>Oliver, Jamie</td>\n",
       "      <td>794,201</td>\n",
       "      <td>Penguin</td>\n",
       "      <td>Food &amp; Drink: General</td>\n",
       "    </tr>\n",
       "    <tr>\n",
       "      <th>97</th>\n",
       "      <td>Hunger Games,The:Hunger Games Trilogy</td>\n",
       "      <td>Collins, Suzanne</td>\n",
       "      <td>792,187</td>\n",
       "      <td>Scholastic Ltd.</td>\n",
       "      <td>Young Adult Fiction</td>\n",
       "    </tr>\n",
       "    <tr>\n",
       "      <th>98</th>\n",
       "      <td>Lost Boy,The:A Foster Child's Search for the L...</td>\n",
       "      <td>Pelzer, Dave</td>\n",
       "      <td>791,507</td>\n",
       "      <td>Orion</td>\n",
       "      <td>Biography: General</td>\n",
       "    </tr>\n",
       "    <tr>\n",
       "      <th>99</th>\n",
       "      <td>Jamie's Ministry of Food:Anyone Can Learn to C...</td>\n",
       "      <td>Oliver, Jamie</td>\n",
       "      <td>791,095</td>\n",
       "      <td>Penguin</td>\n",
       "      <td>Food &amp; Drink: General</td>\n",
       "    </tr>\n",
       "  </tbody>\n",
       "</table>\n",
       "<p>100 rows × 5 columns</p>\n",
       "</div>"
      ],
      "text/plain": [
       "                                            Book Name       Author Name  \\\n",
       "0                                   Da Vinci Code,The        Brown, Dan   \n",
       "1                Harry Potter and the Deathly Hallows     Rowling, J.K.   \n",
       "2            Harry Potter and the Philosopher's Stone     Rowling, J.K.   \n",
       "3           Harry Potter and the Order of the Phoenix     Rowling, J.K.   \n",
       "4                                Fifty Shades of Grey      James, E. L.   \n",
       "..                                                ...               ...   \n",
       "95                                          Ghost,The    Harris, Robert   \n",
       "96                     Happy Days with the Naked Chef     Oliver, Jamie   \n",
       "97              Hunger Games,The:Hunger Games Trilogy  Collins, Suzanne   \n",
       "98  Lost Boy,The:A Foster Child's Search for the L...      Pelzer, Dave   \n",
       "99  Jamie's Ministry of Food:Anyone Can Learn to C...     Oliver, Jamie   \n",
       "\n",
       "   Volume Sold        Publisher                        Genre  \n",
       "0    5,094,805       Transworld  Crime, Thriller & Adventure  \n",
       "1    4,475,152       Bloomsbury           Children's Fiction  \n",
       "2    4,200,654       Bloomsbury           Children's Fiction  \n",
       "3    4,179,479       Bloomsbury           Children's Fiction  \n",
       "4    3,758,936     Random House              Romance & Sagas  \n",
       "..         ...              ...                          ...  \n",
       "95     807,311     Random House   General & Literary Fiction  \n",
       "96     794,201          Penguin        Food & Drink: General  \n",
       "97     792,187  Scholastic Ltd.          Young Adult Fiction  \n",
       "98     791,507            Orion           Biography: General  \n",
       "99     791,095          Penguin        Food & Drink: General  \n",
       "\n",
       "[100 rows x 5 columns]"
      ]
     },
     "execution_count": 61,
     "metadata": {},
     "output_type": "execute_result"
    }
   ],
   "source": [
    "df"
   ]
  },
  {
   "cell_type": "raw",
   "id": "94ac451d",
   "metadata": {},
   "source": [
    "9. Scrape the details most watched tv series of all time from imdb.com.\n",
    "Url = https://www.imdb.com/list/ls095964455/\n",
    "You have to find the following details:\n",
    "A) Name\n",
    "B) Year span\n",
    "C) Genre\n",
    "D) Run time\n",
    "E) Ratings\n",
    "F) Votes"
   ]
  },
  {
   "cell_type": "code",
   "execution_count": 55,
   "id": "c299a0c4",
   "metadata": {},
   "outputs": [
    {
     "data": {
      "text/plain": [
       "<selenium.webdriver.chrome.webdriver.WebDriver (session=\"9e357e19e31c4423ea2c5c30b098c0cc\")>"
      ]
     },
     "execution_count": 55,
     "metadata": {},
     "output_type": "execute_result"
    }
   ],
   "source": [
    "driver=webdriver.Chrome(\"chromedriver.exe\")\n",
    "driver"
   ]
  },
  {
   "cell_type": "code",
   "execution_count": 56,
   "id": "dca07702",
   "metadata": {},
   "outputs": [],
   "source": [
    "driver.get('https://www.imdb.com/list/ls095964455/')"
   ]
  },
  {
   "cell_type": "code",
   "execution_count": 57,
   "id": "a6fec123",
   "metadata": {},
   "outputs": [],
   "source": [
    "name=[]\n",
    "year_span=[]\n",
    "genre=[]\n",
    "run_time=[]\n",
    "ratings=[]\n",
    "votes=[]"
   ]
  },
  {
   "cell_type": "code",
   "execution_count": 58,
   "id": "9280924c",
   "metadata": {},
   "outputs": [],
   "source": [
    "names=driver.find_elements_by_xpath('//div[@class=\"lister-list\"]/div/div/h3/a')"
   ]
  },
  {
   "cell_type": "code",
   "execution_count": 59,
   "id": "18c26fde",
   "metadata": {},
   "outputs": [],
   "source": [
    "for i in names:\n",
    "    name.append(i.text)"
   ]
  },
  {
   "cell_type": "code",
   "execution_count": 61,
   "id": "035ac382",
   "metadata": {},
   "outputs": [
    {
     "data": {
      "text/plain": [
       "100"
      ]
     },
     "execution_count": 61,
     "metadata": {},
     "output_type": "execute_result"
    }
   ],
   "source": [
    "len(name)"
   ]
  },
  {
   "cell_type": "code",
   "execution_count": 62,
   "id": "e497266b",
   "metadata": {},
   "outputs": [],
   "source": [
    "year=driver.find_elements_by_xpath('//div[@class=\"lister-list\"]/div/div/h3/span[2]')"
   ]
  },
  {
   "cell_type": "code",
   "execution_count": 63,
   "id": "637b2d26",
   "metadata": {},
   "outputs": [],
   "source": [
    "for i in year:\n",
    "    year_span.append(i.text)"
   ]
  },
  {
   "cell_type": "code",
   "execution_count": 65,
   "id": "4c829995",
   "metadata": {},
   "outputs": [
    {
     "data": {
      "text/plain": [
       "100"
      ]
     },
     "execution_count": 65,
     "metadata": {},
     "output_type": "execute_result"
    }
   ],
   "source": [
    "len(year_span)"
   ]
  },
  {
   "cell_type": "code",
   "execution_count": 66,
   "id": "d2cf07eb",
   "metadata": {},
   "outputs": [],
   "source": [
    "genres=driver.find_elements_by_xpath('//div[@class=\"lister-list\"]/div/div/p/span[5]')"
   ]
  },
  {
   "cell_type": "code",
   "execution_count": 67,
   "id": "26b633e9",
   "metadata": {},
   "outputs": [],
   "source": [
    "for i in genres:\n",
    "    genre.append(i.text)"
   ]
  },
  {
   "cell_type": "code",
   "execution_count": 69,
   "id": "f08b25c3",
   "metadata": {},
   "outputs": [
    {
     "data": {
      "text/plain": [
       "100"
      ]
     },
     "execution_count": 69,
     "metadata": {},
     "output_type": "execute_result"
    }
   ],
   "source": [
    "len(genre)"
   ]
  },
  {
   "cell_type": "code",
   "execution_count": 70,
   "id": "b4535bd1",
   "metadata": {},
   "outputs": [],
   "source": [
    "rtime=driver.find_elements_by_xpath('//div[@class=\"lister-list\"]/div/div/p/span[3]')"
   ]
  },
  {
   "cell_type": "code",
   "execution_count": 71,
   "id": "c5cfa620",
   "metadata": {},
   "outputs": [],
   "source": [
    "for i in rtime:\n",
    "    run_time.append(i.text)"
   ]
  },
  {
   "cell_type": "code",
   "execution_count": 73,
   "id": "d4b436fe",
   "metadata": {},
   "outputs": [],
   "source": [
    "rating=driver.find_elements_by_xpath('//div[@class=\"lister-list\"]/div/div[2]/div/div/span[2]')"
   ]
  },
  {
   "cell_type": "code",
   "execution_count": 74,
   "id": "94e7e730",
   "metadata": {},
   "outputs": [],
   "source": [
    "for i in rating:\n",
    "    ratings.append(i.text)"
   ]
  },
  {
   "cell_type": "code",
   "execution_count": 76,
   "id": "00660298",
   "metadata": {},
   "outputs": [
    {
     "data": {
      "text/plain": [
       "100"
      ]
     },
     "execution_count": 76,
     "metadata": {},
     "output_type": "execute_result"
    }
   ],
   "source": [
    "len(ratings)"
   ]
  },
  {
   "cell_type": "code",
   "execution_count": 77,
   "id": "efa7d924",
   "metadata": {},
   "outputs": [],
   "source": [
    "vote=driver.find_elements_by_xpath('//div[@class=\"lister-list\"]/div/div[2]/p[4]/span[2]')"
   ]
  },
  {
   "cell_type": "code",
   "execution_count": 78,
   "id": "45102c25",
   "metadata": {},
   "outputs": [],
   "source": [
    "for i in vote:\n",
    "    votes.append(i.text)"
   ]
  },
  {
   "cell_type": "code",
   "execution_count": 80,
   "id": "29021072",
   "metadata": {},
   "outputs": [
    {
     "data": {
      "text/plain": [
       "100"
      ]
     },
     "execution_count": 80,
     "metadata": {},
     "output_type": "execute_result"
    }
   ],
   "source": [
    "len(votes)"
   ]
  },
  {
   "cell_type": "code",
   "execution_count": 81,
   "id": "752f4d55",
   "metadata": {},
   "outputs": [
    {
     "name": "stdout",
     "output_type": "stream",
     "text": [
      "100 100 100 100 100 100\n"
     ]
    }
   ],
   "source": [
    "print(len(name),len(year_span),len(genre),len(run_time),len(ratings),len(votes))"
   ]
  },
  {
   "cell_type": "code",
   "execution_count": 82,
   "id": "09505247",
   "metadata": {},
   "outputs": [],
   "source": [
    "df=pd.DataFrame({'Name':name,'Year_span':year_span,'Genre':genre,'Ratings':ratings,'Run Time':run_time,'Votes':votes})"
   ]
  },
  {
   "cell_type": "code",
   "execution_count": 83,
   "id": "2f8e4b2c",
   "metadata": {},
   "outputs": [
    {
     "data": {
      "text/html": [
       "<div>\n",
       "<style scoped>\n",
       "    .dataframe tbody tr th:only-of-type {\n",
       "        vertical-align: middle;\n",
       "    }\n",
       "\n",
       "    .dataframe tbody tr th {\n",
       "        vertical-align: top;\n",
       "    }\n",
       "\n",
       "    .dataframe thead th {\n",
       "        text-align: right;\n",
       "    }\n",
       "</style>\n",
       "<table border=\"1\" class=\"dataframe\">\n",
       "  <thead>\n",
       "    <tr style=\"text-align: right;\">\n",
       "      <th></th>\n",
       "      <th>Name</th>\n",
       "      <th>Year_span</th>\n",
       "      <th>Genre</th>\n",
       "      <th>Ratings</th>\n",
       "      <th>Run Time</th>\n",
       "      <th>Votes</th>\n",
       "    </tr>\n",
       "  </thead>\n",
       "  <tbody>\n",
       "    <tr>\n",
       "      <th>0</th>\n",
       "      <td>Game of Thrones</td>\n",
       "      <td>(2011–2019)</td>\n",
       "      <td>Action, Adventure, Drama</td>\n",
       "      <td>9.2</td>\n",
       "      <td>57 min</td>\n",
       "      <td>1,996,435</td>\n",
       "    </tr>\n",
       "    <tr>\n",
       "      <th>1</th>\n",
       "      <td>Stranger Things</td>\n",
       "      <td>(2016– )</td>\n",
       "      <td>Drama, Fantasy, Horror</td>\n",
       "      <td>8.7</td>\n",
       "      <td>51 min</td>\n",
       "      <td>1,040,160</td>\n",
       "    </tr>\n",
       "    <tr>\n",
       "      <th>2</th>\n",
       "      <td>The Walking Dead</td>\n",
       "      <td>(2010–2022)</td>\n",
       "      <td>Drama, Horror, Thriller</td>\n",
       "      <td>8.2</td>\n",
       "      <td>44 min</td>\n",
       "      <td>950,150</td>\n",
       "    </tr>\n",
       "    <tr>\n",
       "      <th>3</th>\n",
       "      <td>13 Reasons Why</td>\n",
       "      <td>(2017–2020)</td>\n",
       "      <td>Drama, Mystery, Thriller</td>\n",
       "      <td>7.5</td>\n",
       "      <td>60 min</td>\n",
       "      <td>283,941</td>\n",
       "    </tr>\n",
       "    <tr>\n",
       "      <th>4</th>\n",
       "      <td>The 100</td>\n",
       "      <td>(2014–2020)</td>\n",
       "      <td>Drama, Mystery, Sci-Fi</td>\n",
       "      <td>7.6</td>\n",
       "      <td>43 min</td>\n",
       "      <td>243,751</td>\n",
       "    </tr>\n",
       "    <tr>\n",
       "      <th>...</th>\n",
       "      <td>...</td>\n",
       "      <td>...</td>\n",
       "      <td>...</td>\n",
       "      <td>...</td>\n",
       "      <td>...</td>\n",
       "      <td>...</td>\n",
       "    </tr>\n",
       "    <tr>\n",
       "      <th>95</th>\n",
       "      <td>Reign</td>\n",
       "      <td>(2013–2017)</td>\n",
       "      <td>Drama, Fantasy</td>\n",
       "      <td>7.4</td>\n",
       "      <td>42 min</td>\n",
       "      <td>48,897</td>\n",
       "    </tr>\n",
       "    <tr>\n",
       "      <th>96</th>\n",
       "      <td>A Series of Unfortunate Events</td>\n",
       "      <td>(2017–2019)</td>\n",
       "      <td>Adventure, Comedy, Drama</td>\n",
       "      <td>7.8</td>\n",
       "      <td>50 min</td>\n",
       "      <td>59,596</td>\n",
       "    </tr>\n",
       "    <tr>\n",
       "      <th>97</th>\n",
       "      <td>Criminal Minds</td>\n",
       "      <td>(2005–2020)</td>\n",
       "      <td>Crime, Drama, Mystery</td>\n",
       "      <td>8.1</td>\n",
       "      <td>42 min</td>\n",
       "      <td>190,648</td>\n",
       "    </tr>\n",
       "    <tr>\n",
       "      <th>98</th>\n",
       "      <td>Scream: The TV Series</td>\n",
       "      <td>(2015–2019)</td>\n",
       "      <td>Comedy, Crime, Drama</td>\n",
       "      <td>7.1</td>\n",
       "      <td>45 min</td>\n",
       "      <td>40,328</td>\n",
       "    </tr>\n",
       "    <tr>\n",
       "      <th>99</th>\n",
       "      <td>The Haunting of Hill House</td>\n",
       "      <td>(2018)</td>\n",
       "      <td>Drama, Horror, Mystery</td>\n",
       "      <td>8.6</td>\n",
       "      <td>572 min</td>\n",
       "      <td>229,046</td>\n",
       "    </tr>\n",
       "  </tbody>\n",
       "</table>\n",
       "<p>100 rows × 6 columns</p>\n",
       "</div>"
      ],
      "text/plain": [
       "                              Name    Year_span                     Genre  \\\n",
       "0                  Game of Thrones  (2011–2019)  Action, Adventure, Drama   \n",
       "1                  Stranger Things     (2016– )    Drama, Fantasy, Horror   \n",
       "2                 The Walking Dead  (2010–2022)   Drama, Horror, Thriller   \n",
       "3                   13 Reasons Why  (2017–2020)  Drama, Mystery, Thriller   \n",
       "4                          The 100  (2014–2020)    Drama, Mystery, Sci-Fi   \n",
       "..                             ...          ...                       ...   \n",
       "95                           Reign  (2013–2017)            Drama, Fantasy   \n",
       "96  A Series of Unfortunate Events  (2017–2019)  Adventure, Comedy, Drama   \n",
       "97                  Criminal Minds  (2005–2020)     Crime, Drama, Mystery   \n",
       "98           Scream: The TV Series  (2015–2019)      Comedy, Crime, Drama   \n",
       "99      The Haunting of Hill House       (2018)    Drama, Horror, Mystery   \n",
       "\n",
       "   Ratings Run Time      Votes  \n",
       "0      9.2   57 min  1,996,435  \n",
       "1      8.7   51 min  1,040,160  \n",
       "2      8.2   44 min    950,150  \n",
       "3      7.5   60 min    283,941  \n",
       "4      7.6   43 min    243,751  \n",
       "..     ...      ...        ...  \n",
       "95     7.4   42 min     48,897  \n",
       "96     7.8   50 min     59,596  \n",
       "97     8.1   42 min    190,648  \n",
       "98     7.1   45 min     40,328  \n",
       "99     8.6  572 min    229,046  \n",
       "\n",
       "[100 rows x 6 columns]"
      ]
     },
     "execution_count": 83,
     "metadata": {},
     "output_type": "execute_result"
    }
   ],
   "source": [
    "df"
   ]
  },
  {
   "cell_type": "raw",
   "id": "411300fc",
   "metadata": {},
   "source": [
    "10. Details of Datasets from UCI machine learning repositories.\n",
    "Url = https://archive.ics.uci.edu/\n",
    "You have to find the following details:\n",
    "A) Dataset name\n",
    "B) Data type\n",
    "C) Task\n",
    "D) Attribute type\n",
    "E) No of instances\n",
    "F) No of attribute\n",
    "G) Year"
   ]
  },
  {
   "cell_type": "code",
   "execution_count": 2,
   "id": "5a2bfa2d",
   "metadata": {},
   "outputs": [
    {
     "data": {
      "text/plain": [
       "<selenium.webdriver.chrome.webdriver.WebDriver (session=\"70a662a7fe19ea9bfc4782d1766b49a1\")>"
      ]
     },
     "execution_count": 2,
     "metadata": {},
     "output_type": "execute_result"
    }
   ],
   "source": [
    "driver=webdriver.Chrome(\"chromedriver.exe\")\n",
    "driver"
   ]
  },
  {
   "cell_type": "code",
   "execution_count": 3,
   "id": "78a5642e",
   "metadata": {},
   "outputs": [],
   "source": [
    "driver.get('https://archive.ics.uci.edu/')"
   ]
  },
  {
   "cell_type": "code",
   "execution_count": 4,
   "id": "ef586a39",
   "metadata": {},
   "outputs": [],
   "source": [
    "shw=driver.find_element_by_xpath('/html/body/table[1]/tbody/tr/td[2]/span[2]/a/font/b')\n",
    "shw.click()"
   ]
  },
  {
   "cell_type": "code",
   "execution_count": 25,
   "id": "9fa27c06",
   "metadata": {},
   "outputs": [],
   "source": [
    "dataset_name=[]\n",
    "d_type=[]\n",
    "task=[]\n",
    "a_type=[]\n",
    "no_instance=[]\n",
    "no_attribute=[]\n",
    "year=[]"
   ]
  },
  {
   "cell_type": "code",
   "execution_count": 26,
   "id": "26b22dd5",
   "metadata": {},
   "outputs": [],
   "source": [
    "    try:\n",
    "        name=driver.find_elements_by_xpath('//p[@class=\"normal\"]/b/a')\n",
    "        for i in name:\n",
    "            dataset_name.append(i.text)\n",
    "    except NoSuchElementException:\n",
    "        dataset_name.append('-')"
   ]
  },
  {
   "cell_type": "code",
   "execution_count": 27,
   "id": "ef17527d",
   "metadata": {},
   "outputs": [
    {
     "data": {
      "text/plain": [
       "622"
      ]
     },
     "execution_count": 27,
     "metadata": {},
     "output_type": "execute_result"
    }
   ],
   "source": [
    "len(dataset_name)"
   ]
  },
  {
   "cell_type": "code",
   "execution_count": 28,
   "id": "aeb40d9a",
   "metadata": {},
   "outputs": [],
   "source": [
    "    try:\n",
    "        d_task=driver.find_elements_by_xpath('//td[3]/p[@class=\"normal\"]')\n",
    "        for i in d_task[0:622]:\n",
    "            task.append(i.text)\n",
    "    except NoSuchElementException:\n",
    "        task.append('--')"
   ]
  },
  {
   "cell_type": "code",
   "execution_count": 29,
   "id": "7b31f18e",
   "metadata": {},
   "outputs": [
    {
     "data": {
      "text/plain": [
       "622"
      ]
     },
     "execution_count": 29,
     "metadata": {},
     "output_type": "execute_result"
    }
   ],
   "source": [
    "len(task)"
   ]
  },
  {
   "cell_type": "code",
   "execution_count": 30,
   "id": "cb6144b8",
   "metadata": {},
   "outputs": [],
   "source": [
    "    try:\n",
    "        att=driver.find_elements_by_xpath('//td[4]/p[@class=\"normal\"]')\n",
    "        for i in att:\n",
    "            a_type.append(i.text)\n",
    "    except NoSuchElementException:\n",
    "        a_type.append('-')"
   ]
  },
  {
   "cell_type": "code",
   "execution_count": 31,
   "id": "e4487201",
   "metadata": {},
   "outputs": [
    {
     "data": {
      "text/plain": [
       "622"
      ]
     },
     "execution_count": 31,
     "metadata": {},
     "output_type": "execute_result"
    }
   ],
   "source": [
    "len(a_type)"
   ]
  },
  {
   "cell_type": "code",
   "execution_count": 35,
   "id": "5d0f0edc",
   "metadata": {},
   "outputs": [],
   "source": [
    "    try:\n",
    "        instance=driver.find_elements_by_xpath('//td[5]/p[@class=\"normal\"]')\n",
    "        for i in instance:\n",
    "            no_instance.append(i.text)\n",
    "    except NoSuchElementException:\n",
    "        no_instance.append('-')"
   ]
  },
  {
   "cell_type": "code",
   "execution_count": 36,
   "id": "996b0039",
   "metadata": {},
   "outputs": [
    {
     "data": {
      "text/plain": [
       "622"
      ]
     },
     "execution_count": 36,
     "metadata": {},
     "output_type": "execute_result"
    }
   ],
   "source": [
    "len(no_instance)"
   ]
  },
  {
   "cell_type": "code",
   "execution_count": 37,
   "id": "5b0c352a",
   "metadata": {},
   "outputs": [],
   "source": [
    "    try:\n",
    "        attribute=driver.find_elements_by_xpath('//td[6]/p[@class=\"normal\"]')\n",
    "        for i in attribute:\n",
    "            no_attribute.append(i.text)\n",
    "    except NoSuchElementException:\n",
    "        no_attribute.append('-')"
   ]
  },
  {
   "cell_type": "code",
   "execution_count": 38,
   "id": "e8a67121",
   "metadata": {},
   "outputs": [
    {
     "data": {
      "text/plain": [
       "622"
      ]
     },
     "execution_count": 38,
     "metadata": {},
     "output_type": "execute_result"
    }
   ],
   "source": [
    "len(no_attribute)"
   ]
  },
  {
   "cell_type": "code",
   "execution_count": 39,
   "id": "5d939979",
   "metadata": {},
   "outputs": [],
   "source": [
    "    try:\n",
    "        yr=driver.find_elements_by_xpath('//td[6]/p[@class=\"normal\"]')\n",
    "        for i in yr:\n",
    "            year.append(i.text)\n",
    "    except NoSuchElementException:\n",
    "        year.append('-')"
   ]
  },
  {
   "cell_type": "code",
   "execution_count": 40,
   "id": "7a3554e2",
   "metadata": {},
   "outputs": [
    {
     "data": {
      "text/plain": [
       "622"
      ]
     },
     "execution_count": 40,
     "metadata": {},
     "output_type": "execute_result"
    }
   ],
   "source": [
    "len(year)"
   ]
  },
  {
   "cell_type": "code",
   "execution_count": 41,
   "id": "a7760ade",
   "metadata": {},
   "outputs": [],
   "source": [
    "    try:\n",
    "        datatype=driver.find_elements_by_xpath('//table[2]/tbody/tr/td[2]/p[@class=\"normal\"]')\n",
    "        for i in datatype:\n",
    "            d_type.append(i.text)\n",
    "    except NoSuchElementException:\n",
    "        d_type.append('-')"
   ]
  },
  {
   "cell_type": "code",
   "execution_count": 43,
   "id": "db51542a",
   "metadata": {},
   "outputs": [
    {
     "data": {
      "text/plain": [
       "622"
      ]
     },
     "execution_count": 43,
     "metadata": {},
     "output_type": "execute_result"
    }
   ],
   "source": [
    "len(d_type)"
   ]
  },
  {
   "cell_type": "code",
   "execution_count": 44,
   "id": "5b1479ba",
   "metadata": {},
   "outputs": [
    {
     "name": "stdout",
     "output_type": "stream",
     "text": [
      "622 622 622 622 622 622 622\n"
     ]
    }
   ],
   "source": [
    "print(len(dataset_name),len(d_type),len(task),len(a_type),len(no_instance),len(no_attribute),len(year))"
   ]
  },
  {
   "cell_type": "code",
   "execution_count": 45,
   "id": "22efefba",
   "metadata": {},
   "outputs": [],
   "source": [
    "df=pd.DataFrame({'Dataset Name':dataset_name,'Data Type':d_type,'Task':task,'Attribute type':a_type,'No of instances':no_instance,'No of attribute':no_attribute,'Year':year})"
   ]
  },
  {
   "cell_type": "code",
   "execution_count": 46,
   "id": "5257f4d6",
   "metadata": {},
   "outputs": [
    {
     "data": {
      "text/html": [
       "<div>\n",
       "<style scoped>\n",
       "    .dataframe tbody tr th:only-of-type {\n",
       "        vertical-align: middle;\n",
       "    }\n",
       "\n",
       "    .dataframe tbody tr th {\n",
       "        vertical-align: top;\n",
       "    }\n",
       "\n",
       "    .dataframe thead th {\n",
       "        text-align: right;\n",
       "    }\n",
       "</style>\n",
       "<table border=\"1\" class=\"dataframe\">\n",
       "  <thead>\n",
       "    <tr style=\"text-align: right;\">\n",
       "      <th></th>\n",
       "      <th>Dataset Name</th>\n",
       "      <th>Data Type</th>\n",
       "      <th>Task</th>\n",
       "      <th>Attribute type</th>\n",
       "      <th>No of instances</th>\n",
       "      <th>No of attribute</th>\n",
       "      <th>Year</th>\n",
       "    </tr>\n",
       "  </thead>\n",
       "  <tbody>\n",
       "    <tr>\n",
       "      <th>0</th>\n",
       "      <td>Abalone</td>\n",
       "      <td>Multivariate</td>\n",
       "      <td>Classification</td>\n",
       "      <td>Categorical, Integer, Real</td>\n",
       "      <td>4177</td>\n",
       "      <td>8</td>\n",
       "      <td>8</td>\n",
       "    </tr>\n",
       "    <tr>\n",
       "      <th>1</th>\n",
       "      <td>Adult</td>\n",
       "      <td>Multivariate</td>\n",
       "      <td>Classification</td>\n",
       "      <td>Categorical, Integer</td>\n",
       "      <td>48842</td>\n",
       "      <td>14</td>\n",
       "      <td>14</td>\n",
       "    </tr>\n",
       "    <tr>\n",
       "      <th>2</th>\n",
       "      <td>Annealing</td>\n",
       "      <td>Multivariate</td>\n",
       "      <td>Classification</td>\n",
       "      <td>Categorical, Integer, Real</td>\n",
       "      <td>798</td>\n",
       "      <td>38</td>\n",
       "      <td>38</td>\n",
       "    </tr>\n",
       "    <tr>\n",
       "      <th>3</th>\n",
       "      <td>Anonymous Microsoft Web Data</td>\n",
       "      <td></td>\n",
       "      <td>Recommender-Systems</td>\n",
       "      <td>Categorical</td>\n",
       "      <td>37711</td>\n",
       "      <td>294</td>\n",
       "      <td>294</td>\n",
       "    </tr>\n",
       "    <tr>\n",
       "      <th>4</th>\n",
       "      <td>Arrhythmia</td>\n",
       "      <td>Multivariate</td>\n",
       "      <td>Classification</td>\n",
       "      <td>Categorical, Integer, Real</td>\n",
       "      <td>452</td>\n",
       "      <td>279</td>\n",
       "      <td>279</td>\n",
       "    </tr>\n",
       "    <tr>\n",
       "      <th>...</th>\n",
       "      <td>...</td>\n",
       "      <td>...</td>\n",
       "      <td>...</td>\n",
       "      <td>...</td>\n",
       "      <td>...</td>\n",
       "      <td>...</td>\n",
       "      <td>...</td>\n",
       "    </tr>\n",
       "    <tr>\n",
       "      <th>617</th>\n",
       "      <td>Influenza outbreak event prediction via Twitte...</td>\n",
       "      <td>Multivariate</td>\n",
       "      <td>Classification</td>\n",
       "      <td>Integer, Real</td>\n",
       "      <td>75840</td>\n",
       "      <td>525</td>\n",
       "      <td>525</td>\n",
       "    </tr>\n",
       "    <tr>\n",
       "      <th>618</th>\n",
       "      <td>Turkish Music Emotion Dataset</td>\n",
       "      <td>Multivariate</td>\n",
       "      <td>Classification</td>\n",
       "      <td>Integer, Real</td>\n",
       "      <td>400</td>\n",
       "      <td>50</td>\n",
       "      <td>50</td>\n",
       "    </tr>\n",
       "    <tr>\n",
       "      <th>619</th>\n",
       "      <td>Maternal Health Risk Data Set</td>\n",
       "      <td></td>\n",
       "      <td>Classification</td>\n",
       "      <td></td>\n",
       "      <td>1014</td>\n",
       "      <td>7</td>\n",
       "      <td>7</td>\n",
       "    </tr>\n",
       "    <tr>\n",
       "      <th>620</th>\n",
       "      <td>Room Occupancy Estimation</td>\n",
       "      <td>Multivariate, Time-Series</td>\n",
       "      <td>Classification</td>\n",
       "      <td>Real</td>\n",
       "      <td>10129</td>\n",
       "      <td>16</td>\n",
       "      <td>16</td>\n",
       "    </tr>\n",
       "    <tr>\n",
       "      <th>621</th>\n",
       "      <td>Image Recognition Task Execution Times in Mobi...</td>\n",
       "      <td>Univariate</td>\n",
       "      <td>Regression</td>\n",
       "      <td>Real</td>\n",
       "      <td>4000</td>\n",
       "      <td>2</td>\n",
       "      <td>2</td>\n",
       "    </tr>\n",
       "  </tbody>\n",
       "</table>\n",
       "<p>622 rows × 7 columns</p>\n",
       "</div>"
      ],
      "text/plain": [
       "                                          Dataset Name  \\\n",
       "0                                              Abalone   \n",
       "1                                                Adult   \n",
       "2                                            Annealing   \n",
       "3                         Anonymous Microsoft Web Data   \n",
       "4                                           Arrhythmia   \n",
       "..                                                 ...   \n",
       "617  Influenza outbreak event prediction via Twitte...   \n",
       "618                      Turkish Music Emotion Dataset   \n",
       "619                      Maternal Health Risk Data Set   \n",
       "620                          Room Occupancy Estimation   \n",
       "621  Image Recognition Task Execution Times in Mobi...   \n",
       "\n",
       "                      Data Type                  Task  \\\n",
       "0                 Multivariate        Classification    \n",
       "1                 Multivariate        Classification    \n",
       "2                 Multivariate        Classification    \n",
       "3                                Recommender-Systems    \n",
       "4                 Multivariate        Classification    \n",
       "..                          ...                   ...   \n",
       "617               Multivariate        Classification    \n",
       "618               Multivariate        Classification    \n",
       "619                                   Classification    \n",
       "620  Multivariate, Time-Series        Classification    \n",
       "621                 Univariate            Regression    \n",
       "\n",
       "                  Attribute type No of instances No of attribute  Year  \n",
       "0    Categorical, Integer, Real            4177               8     8   \n",
       "1          Categorical, Integer           48842              14    14   \n",
       "2    Categorical, Integer, Real             798              38    38   \n",
       "3                   Categorical           37711             294   294   \n",
       "4    Categorical, Integer, Real             452             279   279   \n",
       "..                           ...             ...             ...   ...  \n",
       "617               Integer, Real           75840             525   525   \n",
       "618               Integer, Real             400              50    50   \n",
       "619                                        1014               7     7   \n",
       "620                        Real           10129              16    16   \n",
       "621                        Real            4000               2     2   \n",
       "\n",
       "[622 rows x 7 columns]"
      ]
     },
     "execution_count": 46,
     "metadata": {},
     "output_type": "execute_result"
    }
   ],
   "source": [
    "df"
   ]
  },
  {
   "cell_type": "code",
   "execution_count": null,
   "id": "09772c57",
   "metadata": {},
   "outputs": [],
   "source": []
  }
 ],
 "metadata": {
  "kernelspec": {
   "display_name": "Python 3 (ipykernel)",
   "language": "python",
   "name": "python3"
  },
  "language_info": {
   "codemirror_mode": {
    "name": "ipython",
    "version": 3
   },
   "file_extension": ".py",
   "mimetype": "text/x-python",
   "name": "python",
   "nbconvert_exporter": "python",
   "pygments_lexer": "ipython3",
   "version": "3.9.7"
  }
 },
 "nbformat": 4,
 "nbformat_minor": 5
}
