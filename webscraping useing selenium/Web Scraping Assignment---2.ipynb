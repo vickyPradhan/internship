{
 "cells": [
  {
   "cell_type": "markdown",
   "id": "55876a37",
   "metadata": {},
   "source": [
    "Q1: Write a python program to scrape data for “Data Analyst” Job position in “Bangalore” location. You\n",
    "have to scrape the job-title, job-location, company_name, experience_required. You have to scrape first 10\n",
    "jobs data.\n",
    "This task will be done in following steps:\n",
    "1. First get the webpage https://www.naukri.com/\n",
    "2. Enter “Data Analyst” in “Skill, Designations, Companies” field and enter “Bangalore” in “enter the\n",
    "location” field.\n",
    "3. Then click the search button.\n",
    "4. Then scrape the data for the first 10 jobs results you get.\n",
    "5. Finally create a dataframe of the scraped data.\n"
   ]
  },
  {
   "cell_type": "code",
   "execution_count": 10,
   "id": "95e5f341",
   "metadata": {},
   "outputs": [],
   "source": [
    "import selenium\n",
    "from selenium import webdriver\n",
    "import warnings\n",
    "warnings.filterwarnings('ignore')\n",
    "import time"
   ]
  },
  {
   "cell_type": "code",
   "execution_count": 11,
   "id": "28caaf63",
   "metadata": {},
   "outputs": [],
   "source": [
    "driver=webdriver.Chrome(\"chromedriver.exe\")\n",
    "time.sleep(2)"
   ]
  },
  {
   "cell_type": "code",
   "execution_count": 12,
   "id": "39c2faa2",
   "metadata": {},
   "outputs": [],
   "source": [
    "driver.get('https://www.naukri.com/')"
   ]
  },
  {
   "cell_type": "code",
   "execution_count": 13,
   "id": "db399eae",
   "metadata": {},
   "outputs": [],
   "source": [
    "search_field_skill=driver.find_element_by_class_name('suggestor-input ')\n",
    "search_field_skill.send_keys('Data Analyst')"
   ]
  },
  {
   "cell_type": "code",
   "execution_count": 15,
   "id": "c2684de3",
   "metadata": {},
   "outputs": [],
   "source": [
    "search_field_location=driver.find_element_by_xpath('/html/body/div/div[2]/div[3]/div/div/div[3]/div/div/div/input')\n",
    "search_field_location.send_keys('Bangalore')"
   ]
  },
  {
   "cell_type": "code",
   "execution_count": 19,
   "id": "7c07f7d8",
   "metadata": {},
   "outputs": [],
   "source": [
    "search_button=driver.find_element_by_class_name('qsbSubmit')\n",
    "search_button.click()"
   ]
  },
  {
   "cell_type": "code",
   "execution_count": 20,
   "id": "1536abeb",
   "metadata": {},
   "outputs": [],
   "source": [
    "job_title=[]"
   ]
  },
  {
   "cell_type": "code",
   "execution_count": null,
   "id": "dec4e8da",
   "metadata": {},
   "outputs": [],
   "source": [
    "title=driver.find_elements_by_xpath('//a[@class=\"title fw500 ellipsis\"]')\n",
    "title\n",
    "titles=title[0:10]\n",
    "titles"
   ]
  },
  {
   "cell_type": "code",
   "execution_count": 24,
   "id": "b9f33cb9",
   "metadata": {},
   "outputs": [],
   "source": [
    "for i in titles:\n",
    "    job_title.append(i.text)"
   ]
  },
  {
   "cell_type": "code",
   "execution_count": null,
   "id": "a6995726",
   "metadata": {},
   "outputs": [],
   "source": [
    "job_title"
   ]
  },
  {
   "cell_type": "code",
   "execution_count": 26,
   "id": "5ab34848",
   "metadata": {},
   "outputs": [],
   "source": [
    "company_name=[]"
   ]
  },
  {
   "cell_type": "code",
   "execution_count": null,
   "id": "ccf4ddbd",
   "metadata": {},
   "outputs": [],
   "source": [
    "company=driver.find_elements_by_xpath('//a[@class=\"subTitle ellipsis fleft\"]')\n",
    "company\n",
    "companies=company[0:10]\n",
    "companies"
   ]
  },
  {
   "cell_type": "code",
   "execution_count": 29,
   "id": "a5655873",
   "metadata": {},
   "outputs": [],
   "source": [
    "for i in companies:\n",
    "    company_name.append(i.text)"
   ]
  },
  {
   "cell_type": "code",
   "execution_count": null,
   "id": "e0adbdcc",
   "metadata": {},
   "outputs": [],
   "source": [
    "company_name"
   ]
  },
  {
   "cell_type": "code",
   "execution_count": 31,
   "id": "7f992c51",
   "metadata": {},
   "outputs": [],
   "source": [
    "experience=[]"
   ]
  },
  {
   "cell_type": "code",
   "execution_count": null,
   "id": "912c4140",
   "metadata": {},
   "outputs": [],
   "source": [
    "exp=driver.find_elements_by_xpath('//li[@class=\"fleft grey-text br2 placeHolderLi experience\"]/span')\n",
    "exp\n",
    "exps=exp[0:10]\n",
    "exps"
   ]
  },
  {
   "cell_type": "code",
   "execution_count": 34,
   "id": "6672762e",
   "metadata": {},
   "outputs": [],
   "source": [
    "for i in exps:\n",
    "    experience.append(i.text)"
   ]
  },
  {
   "cell_type": "code",
   "execution_count": null,
   "id": "a0cc04d3",
   "metadata": {},
   "outputs": [],
   "source": [
    "experience"
   ]
  },
  {
   "cell_type": "code",
   "execution_count": 42,
   "id": "f7cf023f",
   "metadata": {},
   "outputs": [],
   "source": [
    "location=[]"
   ]
  },
  {
   "cell_type": "code",
   "execution_count": null,
   "id": "18917f4a",
   "metadata": {},
   "outputs": [],
   "source": [
    "loc=driver.find_elements_by_xpath('//li[@class=\"fleft grey-text br2 placeHolderLi location\"]')\n",
    "loc\n",
    "locs=loc[0:10]\n",
    "locs"
   ]
  },
  {
   "cell_type": "code",
   "execution_count": 44,
   "id": "3170d584",
   "metadata": {},
   "outputs": [],
   "source": [
    "for i in locs:\n",
    "    location.append(i.text)"
   ]
  },
  {
   "cell_type": "code",
   "execution_count": null,
   "id": "a42d09c5",
   "metadata": {},
   "outputs": [],
   "source": [
    "location"
   ]
  },
  {
   "cell_type": "code",
   "execution_count": 47,
   "id": "a382efff",
   "metadata": {},
   "outputs": [
    {
     "name": "stdout",
     "output_type": "stream",
     "text": [
      "10 10 10 10\n"
     ]
    }
   ],
   "source": [
    "print(len(company_name),len(experience),len(location),len(experience))"
   ]
  },
  {
   "cell_type": "code",
   "execution_count": 48,
   "id": "280ec1b1",
   "metadata": {},
   "outputs": [],
   "source": [
    "import pandas as pd"
   ]
  },
  {
   "cell_type": "code",
   "execution_count": 49,
   "id": "d75b6301",
   "metadata": {},
   "outputs": [],
   "source": [
    "df=pd.DataFrame({'Job title':job_title,'Company Name':company_name,'Location':location,'Experience':experience})"
   ]
  },
  {
   "cell_type": "code",
   "execution_count": 50,
   "id": "735e7573",
   "metadata": {},
   "outputs": [
    {
     "data": {
      "text/html": [
       "<div>\n",
       "<style scoped>\n",
       "    .dataframe tbody tr th:only-of-type {\n",
       "        vertical-align: middle;\n",
       "    }\n",
       "\n",
       "    .dataframe tbody tr th {\n",
       "        vertical-align: top;\n",
       "    }\n",
       "\n",
       "    .dataframe thead th {\n",
       "        text-align: right;\n",
       "    }\n",
       "</style>\n",
       "<table border=\"1\" class=\"dataframe\">\n",
       "  <thead>\n",
       "    <tr style=\"text-align: right;\">\n",
       "      <th></th>\n",
       "      <th>Job title</th>\n",
       "      <th>Company Name</th>\n",
       "      <th>Location</th>\n",
       "      <th>Experience</th>\n",
       "    </tr>\n",
       "  </thead>\n",
       "  <tbody>\n",
       "    <tr>\n",
       "      <th>0</th>\n",
       "      <td>Business and Data Analyst</td>\n",
       "      <td>CAREERDOST ENTERPRISE</td>\n",
       "      <td>Bangalore/Bengaluru\\n(WFH during Covid)</td>\n",
       "      <td>0-5 Yrs</td>\n",
       "    </tr>\n",
       "    <tr>\n",
       "      <th>1</th>\n",
       "      <td>Senior Data Analyst</td>\n",
       "      <td>Gsn Games India</td>\n",
       "      <td>Bangalore/Bengaluru</td>\n",
       "      <td>3-7 Yrs</td>\n",
       "    </tr>\n",
       "    <tr>\n",
       "      <th>2</th>\n",
       "      <td>Officer - Category Demand Management ( Data An...</td>\n",
       "      <td>Myntra</td>\n",
       "      <td>Bangalore/Bengaluru</td>\n",
       "      <td>1-4 Yrs</td>\n",
       "    </tr>\n",
       "    <tr>\n",
       "      <th>3</th>\n",
       "      <td>Software Technologist II - Data Analyst</td>\n",
       "      <td>Philips</td>\n",
       "      <td>Bangalore/Bengaluru</td>\n",
       "      <td>5-8 Yrs</td>\n",
       "    </tr>\n",
       "    <tr>\n",
       "      <th>4</th>\n",
       "      <td>SAS Analyst / data Analyst / Business analyst ...</td>\n",
       "      <td>Leading US MNC into analytics</td>\n",
       "      <td>Bangalore/Bengaluru, Delhi / NCR, Mumbai (All ...</td>\n",
       "      <td>2-7 Yrs</td>\n",
       "    </tr>\n",
       "    <tr>\n",
       "      <th>5</th>\n",
       "      <td>Sr Data Analyst</td>\n",
       "      <td>TECHNODYSIS PRIVATE LIMITED</td>\n",
       "      <td>Hyderabad/Secunderabad, Pune, Chennai, Bangalo...</td>\n",
       "      <td>6-10 Yrs</td>\n",
       "    </tr>\n",
       "    <tr>\n",
       "      <th>6</th>\n",
       "      <td>Senior Data Analyst</td>\n",
       "      <td>ClearTrail Technologies</td>\n",
       "      <td>Noida, Indore, Hyderabad/Secunderabad, Pune, G...</td>\n",
       "      <td>4-8 Yrs</td>\n",
       "    </tr>\n",
       "    <tr>\n",
       "      <th>7</th>\n",
       "      <td>Data Analyst</td>\n",
       "      <td>Malayala Manorama</td>\n",
       "      <td>Chennai, Bangalore/Bengaluru, kerala</td>\n",
       "      <td>2-7 Yrs</td>\n",
       "    </tr>\n",
       "    <tr>\n",
       "      <th>8</th>\n",
       "      <td>Data Analyst II</td>\n",
       "      <td>Cerner</td>\n",
       "      <td>Bangalore/Bengaluru</td>\n",
       "      <td>6-10 Yrs</td>\n",
       "    </tr>\n",
       "    <tr>\n",
       "      <th>9</th>\n",
       "      <td>Senior Data Analyst II</td>\n",
       "      <td>Flipkart</td>\n",
       "      <td>Bangalore/Bengaluru</td>\n",
       "      <td>2-4 Yrs</td>\n",
       "    </tr>\n",
       "  </tbody>\n",
       "</table>\n",
       "</div>"
      ],
      "text/plain": [
       "                                           Job title  \\\n",
       "0                          Business and Data Analyst   \n",
       "1                                Senior Data Analyst   \n",
       "2  Officer - Category Demand Management ( Data An...   \n",
       "3            Software Technologist II - Data Analyst   \n",
       "4  SAS Analyst / data Analyst / Business analyst ...   \n",
       "5                                    Sr Data Analyst   \n",
       "6                                Senior Data Analyst   \n",
       "7                                       Data Analyst   \n",
       "8                                    Data Analyst II   \n",
       "9                             Senior Data Analyst II   \n",
       "\n",
       "                    Company Name  \\\n",
       "0          CAREERDOST ENTERPRISE   \n",
       "1                Gsn Games India   \n",
       "2                         Myntra   \n",
       "3                        Philips   \n",
       "4  Leading US MNC into analytics   \n",
       "5    TECHNODYSIS PRIVATE LIMITED   \n",
       "6        ClearTrail Technologies   \n",
       "7              Malayala Manorama   \n",
       "8                         Cerner   \n",
       "9                       Flipkart   \n",
       "\n",
       "                                            Location Experience  \n",
       "0            Bangalore/Bengaluru\\n(WFH during Covid)    0-5 Yrs  \n",
       "1                                Bangalore/Bengaluru    3-7 Yrs  \n",
       "2                                Bangalore/Bengaluru    1-4 Yrs  \n",
       "3                                Bangalore/Bengaluru    5-8 Yrs  \n",
       "4  Bangalore/Bengaluru, Delhi / NCR, Mumbai (All ...    2-7 Yrs  \n",
       "5  Hyderabad/Secunderabad, Pune, Chennai, Bangalo...   6-10 Yrs  \n",
       "6  Noida, Indore, Hyderabad/Secunderabad, Pune, G...    4-8 Yrs  \n",
       "7               Chennai, Bangalore/Bengaluru, kerala    2-7 Yrs  \n",
       "8                                Bangalore/Bengaluru   6-10 Yrs  \n",
       "9                                Bangalore/Bengaluru    2-4 Yrs  "
      ]
     },
     "execution_count": 50,
     "metadata": {},
     "output_type": "execute_result"
    }
   ],
   "source": [
    "df"
   ]
  },
  {
   "cell_type": "markdown",
   "id": "f33207f9",
   "metadata": {},
   "source": [
    "# Q2: Write a python program to scrape data for “Data Scientist” Job position in “Bangalore” location. Youhave to scrape the job-title, job-location, company_name. You have to scrape first 10 jobs data.\n",
    "This task will be done in following steps:\n",
    "1. First get the webpage https://www.naukri.com/\n",
    "2. Enter “Data Scientist” in “Skill, Designations, Companies” field and enter “Bangalore” in “enter the\n",
    "location” field.\n",
    "3. Then click the search button.\n",
    "4. Then scrape the data for the first 10 jobs results you get.\n",
    "5. Finally create a dataframe of the scraped data.\n"
   ]
  },
  {
   "cell_type": "code",
   "execution_count": 51,
   "id": "33a167fe",
   "metadata": {},
   "outputs": [],
   "source": [
    "import selenium\n",
    "from selenium import webdriver\n",
    "import warnings\n",
    "warnings.filterwarnings('ignore')\n",
    "import time"
   ]
  },
  {
   "cell_type": "code",
   "execution_count": 52,
   "id": "542e65a6",
   "metadata": {},
   "outputs": [
    {
     "data": {
      "text/plain": [
       "<selenium.webdriver.chrome.webdriver.WebDriver (session=\"c61db2c59f6ecf4eeada74bb78e91061\")>"
      ]
     },
     "execution_count": 52,
     "metadata": {},
     "output_type": "execute_result"
    }
   ],
   "source": [
    "driver=webdriver.Chrome(\"chromedriver.exe\")\n",
    "driver"
   ]
  },
  {
   "cell_type": "code",
   "execution_count": 53,
   "id": "8f889ee8",
   "metadata": {},
   "outputs": [],
   "source": [
    "driver.get('https://www.naukri.com/')"
   ]
  },
  {
   "cell_type": "code",
   "execution_count": 54,
   "id": "2712182c",
   "metadata": {},
   "outputs": [],
   "source": [
    "search_field_designation=driver.find_element_by_class_name('suggestor-input ') #job search\n",
    "search_field_designation.send_keys('Data scientist')"
   ]
  },
  {
   "cell_type": "code",
   "execution_count": 55,
   "id": "b646270f",
   "metadata": {},
   "outputs": [],
   "source": [
    "search_field_location=driver.find_element_by_xpath('/html/body/div/div[2]/div[3]/div/div/div[3]/div/div/div/input')\n",
    "search_field_location.send_keys('Bangalore')"
   ]
  },
  {
   "cell_type": "code",
   "execution_count": 58,
   "id": "4d8a3e07",
   "metadata": {},
   "outputs": [],
   "source": [
    "search_button=driver.find_element_by_class_name('qsbSubmit')\n",
    "search_button.click()"
   ]
  },
  {
   "cell_type": "code",
   "execution_count": 59,
   "id": "01c12a65",
   "metadata": {},
   "outputs": [],
   "source": [
    "job_title=[]"
   ]
  },
  {
   "cell_type": "code",
   "execution_count": null,
   "id": "92928411",
   "metadata": {},
   "outputs": [],
   "source": [
    "title=driver.find_elements_by_xpath('//a[@class=\"title fw500 ellipsis\"]')\n",
    "title\n",
    "titles=title[0:10]\n",
    "titles"
   ]
  },
  {
   "cell_type": "code",
   "execution_count": null,
   "id": "ff291df8",
   "metadata": {},
   "outputs": [],
   "source": [
    "for i in titles:\n",
    "    job_title.append(i.text)\n",
    "job_title"
   ]
  },
  {
   "cell_type": "code",
   "execution_count": 67,
   "id": "b9d503df",
   "metadata": {},
   "outputs": [],
   "source": [
    "company_name=[]"
   ]
  },
  {
   "cell_type": "code",
   "execution_count": null,
   "id": "063b3f66",
   "metadata": {},
   "outputs": [],
   "source": [
    "company=driver.find_elements_by_xpath('//a[@class=\"subTitle ellipsis fleft\"]')\n",
    "company\n",
    "companies=company[0:10]\n",
    "companies"
   ]
  },
  {
   "cell_type": "code",
   "execution_count": 69,
   "id": "e63c85f0",
   "metadata": {},
   "outputs": [],
   "source": [
    "for i in companies:\n",
    "    company_name.append(i.text)"
   ]
  },
  {
   "cell_type": "code",
   "execution_count": null,
   "id": "fc97cf25",
   "metadata": {},
   "outputs": [],
   "source": [
    "company_name"
   ]
  },
  {
   "cell_type": "code",
   "execution_count": 71,
   "id": "9267a6c5",
   "metadata": {},
   "outputs": [],
   "source": [
    "location=[]"
   ]
  },
  {
   "cell_type": "code",
   "execution_count": null,
   "id": "82e2d3ae",
   "metadata": {},
   "outputs": [],
   "source": [
    "loc=driver.find_elements_by_xpath('//li[@class=\"fleft grey-text br2 placeHolderLi location\"]')\n",
    "loc\n",
    "locs=loc[0:10]\n",
    "locs"
   ]
  },
  {
   "cell_type": "code",
   "execution_count": 76,
   "id": "b0fb0a90",
   "metadata": {},
   "outputs": [],
   "source": [
    "for i in locs:\n",
    "    location.append(i.text)"
   ]
  },
  {
   "cell_type": "code",
   "execution_count": null,
   "id": "5b7b374f",
   "metadata": {},
   "outputs": [],
   "source": [
    "location"
   ]
  },
  {
   "cell_type": "code",
   "execution_count": 80,
   "id": "1e41e8be",
   "metadata": {},
   "outputs": [
    {
     "name": "stdout",
     "output_type": "stream",
     "text": [
      "10 10 10\n"
     ]
    }
   ],
   "source": [
    "print(len(job_title),len(company_name),len(location))"
   ]
  },
  {
   "cell_type": "code",
   "execution_count": 81,
   "id": "bdbb2435",
   "metadata": {},
   "outputs": [],
   "source": [
    "import pandas as pd"
   ]
  },
  {
   "cell_type": "code",
   "execution_count": 82,
   "id": "fce94cb8",
   "metadata": {},
   "outputs": [],
   "source": [
    "df=pd.DataFrame({'Job title':job_title,'Company Name':company_name,'Location':location})"
   ]
  },
  {
   "cell_type": "code",
   "execution_count": 83,
   "id": "9f92cc73",
   "metadata": {},
   "outputs": [
    {
     "data": {
      "text/html": [
       "<div>\n",
       "<style scoped>\n",
       "    .dataframe tbody tr th:only-of-type {\n",
       "        vertical-align: middle;\n",
       "    }\n",
       "\n",
       "    .dataframe tbody tr th {\n",
       "        vertical-align: top;\n",
       "    }\n",
       "\n",
       "    .dataframe thead th {\n",
       "        text-align: right;\n",
       "    }\n",
       "</style>\n",
       "<table border=\"1\" class=\"dataframe\">\n",
       "  <thead>\n",
       "    <tr style=\"text-align: right;\">\n",
       "      <th></th>\n",
       "      <th>Job title</th>\n",
       "      <th>Company Name</th>\n",
       "      <th>Location</th>\n",
       "    </tr>\n",
       "  </thead>\n",
       "  <tbody>\n",
       "    <tr>\n",
       "      <th>0</th>\n",
       "      <td>Senior Data Scientist</td>\n",
       "      <td>Walmart</td>\n",
       "      <td>Bangalore/Bengaluru</td>\n",
       "    </tr>\n",
       "    <tr>\n",
       "      <th>1</th>\n",
       "      <td>Data Scientist</td>\n",
       "      <td>CRED</td>\n",
       "      <td>Bangalore/Bengaluru</td>\n",
       "    </tr>\n",
       "    <tr>\n",
       "      <th>2</th>\n",
       "      <td>Senior Data Scientist</td>\n",
       "      <td>Course5</td>\n",
       "      <td>Bangalore/Bengaluru, Mumbai (All Areas)</td>\n",
       "    </tr>\n",
       "    <tr>\n",
       "      <th>3</th>\n",
       "      <td>Associate Data Scientist</td>\n",
       "      <td>IDFC FIRST Bank</td>\n",
       "      <td>Mumbai, Pune, Bangalore/Bengaluru, Mumbai</td>\n",
       "    </tr>\n",
       "    <tr>\n",
       "      <th>4</th>\n",
       "      <td>Senior Data Scientist (IN4)</td>\n",
       "      <td>Walmart</td>\n",
       "      <td>Bangalore/Bengaluru</td>\n",
       "    </tr>\n",
       "    <tr>\n",
       "      <th>5</th>\n",
       "      <td>Senior Data Scientist</td>\n",
       "      <td>Walmart</td>\n",
       "      <td>Bangalore/Bengaluru</td>\n",
       "    </tr>\n",
       "    <tr>\n",
       "      <th>6</th>\n",
       "      <td>Senior Data Scientist</td>\n",
       "      <td>Ericsson Global Services</td>\n",
       "      <td>Bangalore/Bengaluru</td>\n",
       "    </tr>\n",
       "    <tr>\n",
       "      <th>7</th>\n",
       "      <td>Lead Data Scientist</td>\n",
       "      <td>Groww</td>\n",
       "      <td>Bangalore/Bengaluru</td>\n",
       "    </tr>\n",
       "    <tr>\n",
       "      <th>8</th>\n",
       "      <td>Senior Data Scientist</td>\n",
       "      <td>Truecaller</td>\n",
       "      <td>Bangalore/Bengaluru</td>\n",
       "    </tr>\n",
       "    <tr>\n",
       "      <th>9</th>\n",
       "      <td>Senior Data Scientist</td>\n",
       "      <td>PayU</td>\n",
       "      <td>Bangalore/Bengaluru</td>\n",
       "    </tr>\n",
       "  </tbody>\n",
       "</table>\n",
       "</div>"
      ],
      "text/plain": [
       "                     Job title              Company Name  \\\n",
       "0        Senior Data Scientist                   Walmart   \n",
       "1               Data Scientist                      CRED   \n",
       "2        Senior Data Scientist                   Course5   \n",
       "3     Associate Data Scientist           IDFC FIRST Bank   \n",
       "4  Senior Data Scientist (IN4)                   Walmart   \n",
       "5        Senior Data Scientist                   Walmart   \n",
       "6        Senior Data Scientist  Ericsson Global Services   \n",
       "7          Lead Data Scientist                     Groww   \n",
       "8        Senior Data Scientist                Truecaller   \n",
       "9        Senior Data Scientist                      PayU   \n",
       "\n",
       "                                    Location  \n",
       "0                        Bangalore/Bengaluru  \n",
       "1                        Bangalore/Bengaluru  \n",
       "2    Bangalore/Bengaluru, Mumbai (All Areas)  \n",
       "3  Mumbai, Pune, Bangalore/Bengaluru, Mumbai  \n",
       "4                        Bangalore/Bengaluru  \n",
       "5                        Bangalore/Bengaluru  \n",
       "6                        Bangalore/Bengaluru  \n",
       "7                        Bangalore/Bengaluru  \n",
       "8                        Bangalore/Bengaluru  \n",
       "9                        Bangalore/Bengaluru  "
      ]
     },
     "execution_count": 83,
     "metadata": {},
     "output_type": "execute_result"
    }
   ],
   "source": [
    "df"
   ]
  },
  {
   "cell_type": "markdown",
   "id": "56aac37d",
   "metadata": {},
   "source": [
    "Q3: In this question you have to scrape data using the filters available on the webpage as shown below:\n",
    "ASSIGNMENT 2\n",
    "You have to use the location and salary filter.\n",
    "You have to scrape data for “Data Scientist” designation for first 10 job results.\n",
    "You have to scrape the job-title, job-location, company name, experience required.\n",
    "The location filter to be used is “Delhi/NCR”. The salary filter to be used is “3-6” lakhs\n",
    "The task will be done as shown in the below steps:\n",
    "1. first get the webpage https://www.naukri.com/\n",
    "2. Enter “Data Scientist” in “Skill, Designations, and Companies” field.\n",
    "3. Then click the search button.\n",
    "4. Then apply the location filter and salary filter by checking the respective boxes\n",
    "5. Then scrape the data for the first 10 jobs results you get.\n",
    "6. Finally create a dataframe of the scraped data.\n"
   ]
  },
  {
   "cell_type": "code",
   "execution_count": 1,
   "id": "02542c64",
   "metadata": {},
   "outputs": [],
   "source": [
    "import selenium\n",
    "from selenium import webdriver\n",
    "import pandas as pd\n",
    "import warnings\n",
    "warnings.filterwarnings('ignore')\n",
    "import time"
   ]
  },
  {
   "cell_type": "code",
   "execution_count": 2,
   "id": "a45b4c4f",
   "metadata": {},
   "outputs": [],
   "source": [
    "driver=webdriver.Chrome(\"chromedriver.exe\")\n",
    "time.sleep(2)"
   ]
  },
  {
   "cell_type": "code",
   "execution_count": 3,
   "id": "61091f54",
   "metadata": {},
   "outputs": [],
   "source": [
    "driver.get('https://www.naukri.com/')"
   ]
  },
  {
   "cell_type": "code",
   "execution_count": 4,
   "id": "d5249f2c",
   "metadata": {},
   "outputs": [],
   "source": [
    "search_field_designation=driver.find_element_by_class_name('suggestor-input ') #job search\n",
    "search_field_designation.send_keys('Data scientist')"
   ]
  },
  {
   "cell_type": "code",
   "execution_count": 5,
   "id": "fe2f5007",
   "metadata": {},
   "outputs": [],
   "source": [
    "search_button=driver.find_element_by_class_name('qsbSubmit')\n",
    "search_button.click()"
   ]
  },
  {
   "cell_type": "code",
   "execution_count": 6,
   "id": "eee39cfa",
   "metadata": {},
   "outputs": [],
   "source": [
    "loc_filter=driver.find_element_by_xpath('/html/body/div[1]/div[3]/div[2]/section[1]/div[2]/div[4]/div[2]/div[3]/label/i')\n",
    "loc_filter.click()"
   ]
  },
  {
   "cell_type": "code",
   "execution_count": 7,
   "id": "763d67ed",
   "metadata": {},
   "outputs": [],
   "source": [
    "sal_filter=driver.find_element_by_xpath('/html/body/div[1]/div[3]/div[2]/section[1]/div[2]/div[5]/div[2]/div[2]/label/i')\n",
    "sal_filter.click()"
   ]
  },
  {
   "cell_type": "code",
   "execution_count": 8,
   "id": "dbb6727b",
   "metadata": {},
   "outputs": [],
   "source": [
    "job_title=[]"
   ]
  },
  {
   "cell_type": "code",
   "execution_count": null,
   "id": "eede7fc9",
   "metadata": {},
   "outputs": [],
   "source": [
    "title=driver.find_elements_by_xpath('//a[@class=\"title fw500 ellipsis\"]')\n",
    "title\n",
    "titles=title[0:10]\n",
    "titles"
   ]
  },
  {
   "cell_type": "code",
   "execution_count": 10,
   "id": "115971f7",
   "metadata": {},
   "outputs": [],
   "source": [
    "for i in titles:\n",
    "    job_title.append(i.text)"
   ]
  },
  {
   "cell_type": "code",
   "execution_count": null,
   "id": "402d7418",
   "metadata": {},
   "outputs": [],
   "source": [
    "job_title"
   ]
  },
  {
   "cell_type": "code",
   "execution_count": 12,
   "id": "e1b5a591",
   "metadata": {},
   "outputs": [],
   "source": [
    "company_name=[]"
   ]
  },
  {
   "cell_type": "code",
   "execution_count": null,
   "id": "d049d796",
   "metadata": {},
   "outputs": [],
   "source": [
    "company=driver.find_elements_by_xpath('//a[@class=\"subTitle ellipsis fleft\"]')\n",
    "company\n",
    "companies=company[0:10]\n",
    "companies"
   ]
  },
  {
   "cell_type": "code",
   "execution_count": 14,
   "id": "f03858b8",
   "metadata": {},
   "outputs": [],
   "source": [
    "for i in companies:\n",
    "    company_name.append(i.text)"
   ]
  },
  {
   "cell_type": "code",
   "execution_count": null,
   "id": "985b7360",
   "metadata": {},
   "outputs": [],
   "source": [
    "company_name"
   ]
  },
  {
   "cell_type": "code",
   "execution_count": 16,
   "id": "fe6d84c2",
   "metadata": {},
   "outputs": [],
   "source": [
    "experience=[]"
   ]
  },
  {
   "cell_type": "code",
   "execution_count": null,
   "id": "33e4e479",
   "metadata": {},
   "outputs": [],
   "source": [
    "exp=driver.find_elements_by_xpath('//li[@class=\"fleft grey-text br2 placeHolderLi experience\"]/span')\n",
    "exp\n",
    "exps=exp[0:10]\n",
    "exps"
   ]
  },
  {
   "cell_type": "code",
   "execution_count": 18,
   "id": "8c01695d",
   "metadata": {},
   "outputs": [],
   "source": [
    "for i in exps:\n",
    "    experience.append(i.text)"
   ]
  },
  {
   "cell_type": "code",
   "execution_count": null,
   "id": "a82590b0",
   "metadata": {},
   "outputs": [],
   "source": [
    "experience"
   ]
  },
  {
   "cell_type": "code",
   "execution_count": 20,
   "id": "43048b93",
   "metadata": {},
   "outputs": [],
   "source": [
    "location=[]"
   ]
  },
  {
   "cell_type": "code",
   "execution_count": null,
   "id": "66ff8011",
   "metadata": {},
   "outputs": [],
   "source": [
    "loc=driver.find_elements_by_xpath('//li[@class=\"fleft grey-text br2 placeHolderLi location\"]')\n",
    "loc\n",
    "locs=loc[0:10]\n",
    "locs"
   ]
  },
  {
   "cell_type": "code",
   "execution_count": 22,
   "id": "f73e3578",
   "metadata": {},
   "outputs": [],
   "source": [
    "for i in locs:\n",
    "    location.append(i.text)"
   ]
  },
  {
   "cell_type": "code",
   "execution_count": null,
   "id": "a61447ba",
   "metadata": {},
   "outputs": [],
   "source": [
    "location"
   ]
  },
  {
   "cell_type": "code",
   "execution_count": 24,
   "id": "e092f787",
   "metadata": {},
   "outputs": [
    {
     "name": "stdout",
     "output_type": "stream",
     "text": [
      "10 10 10 10\n"
     ]
    }
   ],
   "source": [
    "print(len(company_name),len(experience),len(location),len(experience))"
   ]
  },
  {
   "cell_type": "code",
   "execution_count": 25,
   "id": "86573890",
   "metadata": {},
   "outputs": [],
   "source": [
    "df=pd.DataFrame({'Job title':job_title,'Company Name':company_name,'Location':location,'Experience':experience})"
   ]
  },
  {
   "cell_type": "code",
   "execution_count": 26,
   "id": "e3802d97",
   "metadata": {},
   "outputs": [
    {
     "data": {
      "text/html": [
       "<div>\n",
       "<style scoped>\n",
       "    .dataframe tbody tr th:only-of-type {\n",
       "        vertical-align: middle;\n",
       "    }\n",
       "\n",
       "    .dataframe tbody tr th {\n",
       "        vertical-align: top;\n",
       "    }\n",
       "\n",
       "    .dataframe thead th {\n",
       "        text-align: right;\n",
       "    }\n",
       "</style>\n",
       "<table border=\"1\" class=\"dataframe\">\n",
       "  <thead>\n",
       "    <tr style=\"text-align: right;\">\n",
       "      <th></th>\n",
       "      <th>Job title</th>\n",
       "      <th>Company Name</th>\n",
       "      <th>Location</th>\n",
       "      <th>Experience</th>\n",
       "    </tr>\n",
       "  </thead>\n",
       "  <tbody>\n",
       "    <tr>\n",
       "      <th>0</th>\n",
       "      <td>Associate Data Scientist</td>\n",
       "      <td>Optum</td>\n",
       "      <td>Gurgaon/Gurugram</td>\n",
       "      <td>1-5 Yrs</td>\n",
       "    </tr>\n",
       "    <tr>\n",
       "      <th>1</th>\n",
       "      <td>Hiring For Senior Data Scientist-Noida</td>\n",
       "      <td>Lumiq.ai</td>\n",
       "      <td>Noida, Greater Noida, Delhi / NCR</td>\n",
       "      <td>2-6 Yrs</td>\n",
       "    </tr>\n",
       "    <tr>\n",
       "      <th>2</th>\n",
       "      <td>Opening For Data Scientist</td>\n",
       "      <td>Care Health Insurance</td>\n",
       "      <td>Gurgaon/Gurugram</td>\n",
       "      <td>1-5 Yrs</td>\n",
       "    </tr>\n",
       "    <tr>\n",
       "      <th>3</th>\n",
       "      <td>Data Scientist/ Machine Learning, 2022 Passout...</td>\n",
       "      <td>Creative Hands HR Consultancy</td>\n",
       "      <td>Hyderabad/Secunderabad, Ahmedabad, Chennai, Ba...</td>\n",
       "      <td>0-4 Yrs</td>\n",
       "    </tr>\n",
       "    <tr>\n",
       "      <th>4</th>\n",
       "      <td>Data Scientist (freelance)</td>\n",
       "      <td>2Coms</td>\n",
       "      <td>New Delhi, Delhi</td>\n",
       "      <td>2-7 Yrs</td>\n",
       "    </tr>\n",
       "    <tr>\n",
       "      <th>5</th>\n",
       "      <td>Data Scientist</td>\n",
       "      <td>BlackBuck</td>\n",
       "      <td>Gurgaon, Bengaluru</td>\n",
       "      <td>3-7 Yrs</td>\n",
       "    </tr>\n",
       "    <tr>\n",
       "      <th>6</th>\n",
       "      <td>Data Scientist</td>\n",
       "      <td>Boston Consulting Group</td>\n",
       "      <td>New Delhi</td>\n",
       "      <td>2-5 Yrs</td>\n",
       "    </tr>\n",
       "    <tr>\n",
       "      <th>7</th>\n",
       "      <td>Senior Data Scientist</td>\n",
       "      <td>iNICU</td>\n",
       "      <td>Delhi</td>\n",
       "      <td>1-5 Yrs</td>\n",
       "    </tr>\n",
       "    <tr>\n",
       "      <th>8</th>\n",
       "      <td>Lead Data Scientist</td>\n",
       "      <td>KIA INDIA PRIVATE LIMITED</td>\n",
       "      <td>Gurgaon/Gurugram</td>\n",
       "      <td>7-10 Yrs</td>\n",
       "    </tr>\n",
       "    <tr>\n",
       "      <th>9</th>\n",
       "      <td>Data Scientist - Python/SQL</td>\n",
       "      <td>AVE-Promagne</td>\n",
       "      <td>Noida, Kota, Mumbai, Chandigarh, Lucknow, Agra...</td>\n",
       "      <td>3-8 Yrs</td>\n",
       "    </tr>\n",
       "  </tbody>\n",
       "</table>\n",
       "</div>"
      ],
      "text/plain": [
       "                                           Job title  \\\n",
       "0                           Associate Data Scientist   \n",
       "1             Hiring For Senior Data Scientist-Noida   \n",
       "2                         Opening For Data Scientist   \n",
       "3  Data Scientist/ Machine Learning, 2022 Passout...   \n",
       "4                         Data Scientist (freelance)   \n",
       "5                                     Data Scientist   \n",
       "6                                     Data Scientist   \n",
       "7                              Senior Data Scientist   \n",
       "8                                Lead Data Scientist   \n",
       "9                        Data Scientist - Python/SQL   \n",
       "\n",
       "                    Company Name  \\\n",
       "0                          Optum   \n",
       "1                       Lumiq.ai   \n",
       "2          Care Health Insurance   \n",
       "3  Creative Hands HR Consultancy   \n",
       "4                          2Coms   \n",
       "5                      BlackBuck   \n",
       "6        Boston Consulting Group   \n",
       "7                          iNICU   \n",
       "8      KIA INDIA PRIVATE LIMITED   \n",
       "9                   AVE-Promagne   \n",
       "\n",
       "                                            Location Experience  \n",
       "0                                   Gurgaon/Gurugram    1-5 Yrs  \n",
       "1                  Noida, Greater Noida, Delhi / NCR    2-6 Yrs  \n",
       "2                                   Gurgaon/Gurugram    1-5 Yrs  \n",
       "3  Hyderabad/Secunderabad, Ahmedabad, Chennai, Ba...    0-4 Yrs  \n",
       "4                                   New Delhi, Delhi    2-7 Yrs  \n",
       "5                                 Gurgaon, Bengaluru    3-7 Yrs  \n",
       "6                                          New Delhi    2-5 Yrs  \n",
       "7                                              Delhi    1-5 Yrs  \n",
       "8                                   Gurgaon/Gurugram   7-10 Yrs  \n",
       "9  Noida, Kota, Mumbai, Chandigarh, Lucknow, Agra...    3-8 Yrs  "
      ]
     },
     "execution_count": 26,
     "metadata": {},
     "output_type": "execute_result"
    }
   ],
   "source": [
    "df"
   ]
  },
  {
   "cell_type": "markdown",
   "id": "904ec75c",
   "metadata": {},
   "source": [
    "Q4: Scrape data of first 100 sunglasses listings on flipkart.com. You have to scrape four attributes:\n",
    "1. Brand\n",
    "2. Product Description\n",
    "3. Price\n",
    "The attributes which you have to scrape is ticked marked in the below image.\n",
    "To scrape the data you have to go through following steps:\n",
    "1. Go to Flipkart webpage by url : https://www.flipkart.com/\n",
    "2. Enter “sunglasses” in the search field where “search for products, brands andmore” is written and\n",
    "click the search icon\n",
    "3. After that you will reach to the page having a lot of sunglasses. From this pageyou can scrap the\n",
    "required data as usual\n",
    "4. After scraping data from the first page, go to the “Next” Button at the bottom ofthe page , then\n",
    "click on it.\n",
    "5. Now scrape data from this page as usual\n",
    "6. Repeat this until you get data for 100 sunglasses."
   ]
  },
  {
   "cell_type": "code",
   "execution_count": 89,
   "id": "0bc76f9e",
   "metadata": {},
   "outputs": [],
   "source": [
    "import selenium\n",
    "from selenium import webdriver\n",
    "import pandas as pd\n",
    "import warnings\n",
    "warnings.filterwarnings('ignore')\n",
    "import time"
   ]
  },
  {
   "cell_type": "code",
   "execution_count": 90,
   "id": "399e2f47",
   "metadata": {},
   "outputs": [],
   "source": [
    "driver=webdriver.Chrome(\"chromedriver.exe\")\n",
    "time.sleep(2)"
   ]
  },
  {
   "cell_type": "code",
   "execution_count": 91,
   "id": "f2cb47af",
   "metadata": {},
   "outputs": [],
   "source": [
    "driver.get('https://www.flipkart.com/')"
   ]
  },
  {
   "cell_type": "code",
   "execution_count": 92,
   "id": "f5ca8b2b",
   "metadata": {},
   "outputs": [],
   "source": [
    "search_product=driver.find_element_by_class_name('_3704LK')\n",
    "search_product.send_keys('sunglasses')"
   ]
  },
  {
   "cell_type": "code",
   "execution_count": 93,
   "id": "9b477785",
   "metadata": {},
   "outputs": [],
   "source": [
    "search_button=driver.find_element_by_class_name('L0Z3Pu')\n",
    "search_button.click()"
   ]
  },
  {
   "cell_type": "code",
   "execution_count": null,
   "id": "d2f27f77",
   "metadata": {},
   "outputs": [],
   "source": [
    "title=driver.find_elements_by_xpath('//div[@class=\"_2WkVRV\"]')\n",
    "title"
   ]
  },
  {
   "cell_type": "code",
   "execution_count": 95,
   "id": "234dd5f7",
   "metadata": {},
   "outputs": [],
   "source": [
    "brand=[]\n",
    "for i in range(0,3):\n",
    "    title=driver.find_elements_by_xpath('//div[@class=\"_2WkVRV\"]')\n",
    "    for i in title:\n",
    "        titles=i.text\n",
    "        brand.append(titles)\n",
    "    next_button=driver.find_element_by_class_name('_1LKTO3')\n",
    "    next_button.click()\n",
    "    time.sleep(5)"
   ]
  },
  {
   "cell_type": "code",
   "execution_count": null,
   "id": "5c3fe8fd",
   "metadata": {},
   "outputs": [],
   "source": [
    "brand"
   ]
  },
  {
   "cell_type": "code",
   "execution_count": null,
   "id": "effb51a4",
   "metadata": {},
   "outputs": [],
   "source": [
    "brands=brand[0:100]\n",
    "brands"
   ]
  },
  {
   "cell_type": "code",
   "execution_count": 98,
   "id": "29b9a1a5",
   "metadata": {},
   "outputs": [],
   "source": [
    "p_page=driver.find_element_by_xpath('/html/body/div[1]/div/div[3]/div[1]/div[2]/div[12]/div/div/nav/a[2]')\n",
    "p_page.click()"
   ]
  },
  {
   "cell_type": "code",
   "execution_count": null,
   "id": "17a5d4df",
   "metadata": {},
   "outputs": [],
   "source": [
    "des=driver.find_elements_by_xpath('//a[@class=\"IRpwTa\"]')\n",
    "des"
   ]
  },
  {
   "cell_type": "code",
   "execution_count": 100,
   "id": "ab67ed92",
   "metadata": {},
   "outputs": [],
   "source": [
    "description=[]\n",
    "for i in range(0,3):\n",
    "    des=driver.find_elements_by_xpath('//a[@class=\"IRpwTa\"]')\n",
    "    for i in des:\n",
    "        description.append(i.text)\n",
    "    next_button=driver.find_element_by_class_name('_1LKTO3')\n",
    "    next_button.click()\n",
    "    time.sleep(5)"
   ]
  },
  {
   "cell_type": "code",
   "execution_count": null,
   "id": "9848672e",
   "metadata": {},
   "outputs": [],
   "source": [
    "descriptions=description[0:100]\n",
    "descriptions"
   ]
  },
  {
   "cell_type": "code",
   "execution_count": 102,
   "id": "b63b3a11",
   "metadata": {},
   "outputs": [],
   "source": [
    "p_page=driver.find_element_by_xpath('/html/body/div[1]/div/div[3]/div[1]/div[2]/div[12]/div/div/nav/a[2]')\n",
    "p_page.click()"
   ]
  },
  {
   "cell_type": "code",
   "execution_count": null,
   "id": "bd47a477",
   "metadata": {},
   "outputs": [],
   "source": [
    "price=driver.find_elements_by_xpath('//div[@class=\"_30jeq3\"]')\n",
    "price"
   ]
  },
  {
   "cell_type": "code",
   "execution_count": 104,
   "id": "78900f3b",
   "metadata": {},
   "outputs": [],
   "source": [
    "prices=[]\n",
    "for i in range(0,3):\n",
    "    price=driver.find_elements_by_xpath('//div[@class=\"_30jeq3\"]')\n",
    "    for i in price:\n",
    "        prices.append(i.text)\n",
    "    next_button=driver.find_element_by_class_name('_1LKTO3')\n",
    "    next_button.click()\n",
    "    time.sleep(5)        "
   ]
  },
  {
   "cell_type": "code",
   "execution_count": null,
   "id": "fe6f91f6",
   "metadata": {},
   "outputs": [],
   "source": [
    "Prices=prices[0:100]\n",
    "Prices"
   ]
  },
  {
   "cell_type": "code",
   "execution_count": 106,
   "id": "98ba29d6",
   "metadata": {},
   "outputs": [],
   "source": [
    "p_page=driver.find_element_by_xpath('/html/body/div[1]/div/div[3]/div[1]/div[2]/div[12]/div/div/nav/a[2]')\n",
    "p_page.click()"
   ]
  },
  {
   "cell_type": "code",
   "execution_count": null,
   "id": "cf04630d",
   "metadata": {},
   "outputs": [],
   "source": [
    "discount=driver.find_elements_by_xpath('//div[@class=\"_3Ay6Sb\"]/span')\n",
    "discount"
   ]
  },
  {
   "cell_type": "code",
   "execution_count": 108,
   "id": "467bbeeb",
   "metadata": {},
   "outputs": [],
   "source": [
    "discounts=[]\n",
    "for i in range(0,3):\n",
    "    discount=driver.find_elements_by_xpath('//div[@class=\"_3Ay6Sb\"]/span')\n",
    "    for i in discount:\n",
    "        discounts.append(i.text)\n",
    "    next_button=driver.find_element_by_class_name('_1LKTO3')\n",
    "    next_button.click()\n",
    "    time.sleep(5) "
   ]
  },
  {
   "cell_type": "code",
   "execution_count": null,
   "id": "ab1f2301",
   "metadata": {},
   "outputs": [],
   "source": [
    "Discounts=discounts[0:100]\n",
    "Discounts"
   ]
  },
  {
   "cell_type": "code",
   "execution_count": 110,
   "id": "3acd65c8",
   "metadata": {},
   "outputs": [
    {
     "name": "stdout",
     "output_type": "stream",
     "text": [
      "100 100 100 100\n"
     ]
    }
   ],
   "source": [
    "print(len(brands),len(descriptions),len(Prices),len(Discounts))"
   ]
  },
  {
   "cell_type": "code",
   "execution_count": 111,
   "id": "57065ec1",
   "metadata": {},
   "outputs": [],
   "source": [
    "df=pd.DataFrame({'Brand_Name':brands,'Product_description':descriptions,'Price_':Prices,'Discount %':Discounts})"
   ]
  },
  {
   "cell_type": "code",
   "execution_count": 112,
   "id": "48ba209c",
   "metadata": {},
   "outputs": [
    {
     "data": {
      "text/html": [
       "<div>\n",
       "<style scoped>\n",
       "    .dataframe tbody tr th:only-of-type {\n",
       "        vertical-align: middle;\n",
       "    }\n",
       "\n",
       "    .dataframe tbody tr th {\n",
       "        vertical-align: top;\n",
       "    }\n",
       "\n",
       "    .dataframe thead th {\n",
       "        text-align: right;\n",
       "    }\n",
       "</style>\n",
       "<table border=\"1\" class=\"dataframe\">\n",
       "  <thead>\n",
       "    <tr style=\"text-align: right;\">\n",
       "      <th></th>\n",
       "      <th>Brand_Name</th>\n",
       "      <th>Product_description</th>\n",
       "      <th>Price_</th>\n",
       "      <th>Discount %</th>\n",
       "    </tr>\n",
       "  </thead>\n",
       "  <tbody>\n",
       "    <tr>\n",
       "      <th>0</th>\n",
       "      <td>Singco India</td>\n",
       "      <td>Gradient, Toughened Glass Lens, UV Protection ...</td>\n",
       "      <td>₹630</td>\n",
       "      <td>78% off</td>\n",
       "    </tr>\n",
       "    <tr>\n",
       "      <th>1</th>\n",
       "      <td>Singco India</td>\n",
       "      <td>UV Protection, Riding Glasses, Others Aviator,...</td>\n",
       "      <td>₹239</td>\n",
       "      <td>65% off</td>\n",
       "    </tr>\n",
       "    <tr>\n",
       "      <th>2</th>\n",
       "      <td>Fastrack</td>\n",
       "      <td>UV Protection Wayfarer Sunglasses (Free Size)</td>\n",
       "      <td>₹649</td>\n",
       "      <td>27% off</td>\n",
       "    </tr>\n",
       "    <tr>\n",
       "      <th>3</th>\n",
       "      <td>Fastrack</td>\n",
       "      <td>UV Protection Rectangular Sunglasses (Free Size)</td>\n",
       "      <td>₹599</td>\n",
       "      <td>25% off</td>\n",
       "    </tr>\n",
       "    <tr>\n",
       "      <th>4</th>\n",
       "      <td>Fastrack</td>\n",
       "      <td>UV Protection Aviator Sunglasses (Free Size)</td>\n",
       "      <td>₹599</td>\n",
       "      <td>25% off</td>\n",
       "    </tr>\n",
       "    <tr>\n",
       "      <th>...</th>\n",
       "      <td>...</td>\n",
       "      <td>...</td>\n",
       "      <td>...</td>\n",
       "      <td>...</td>\n",
       "    </tr>\n",
       "    <tr>\n",
       "      <th>95</th>\n",
       "      <td>ROYAL SON</td>\n",
       "      <td>Mirrored Aviator Sunglasses (63)</td>\n",
       "      <td>₹4,489</td>\n",
       "      <td>40% off</td>\n",
       "    </tr>\n",
       "    <tr>\n",
       "      <th>96</th>\n",
       "      <td>PIRASO</td>\n",
       "      <td>UV Protection Wayfarer Sunglasses (32)</td>\n",
       "      <td>₹225</td>\n",
       "      <td>85% off</td>\n",
       "    </tr>\n",
       "    <tr>\n",
       "      <th>97</th>\n",
       "      <td>Fastrack</td>\n",
       "      <td>UV Protection Shield Sunglasses (Free Size)</td>\n",
       "      <td>₹719</td>\n",
       "      <td>20% off</td>\n",
       "    </tr>\n",
       "    <tr>\n",
       "      <th>98</th>\n",
       "      <td>Fastrack</td>\n",
       "      <td>UV Protection Aviator Sunglasses (58)</td>\n",
       "      <td>₹999</td>\n",
       "      <td>23% off</td>\n",
       "    </tr>\n",
       "    <tr>\n",
       "      <th>99</th>\n",
       "      <td>ROYAL SON</td>\n",
       "      <td>Gradient Round Sunglasses (52)</td>\n",
       "      <td>₹7,619</td>\n",
       "      <td>30% off</td>\n",
       "    </tr>\n",
       "  </tbody>\n",
       "</table>\n",
       "<p>100 rows × 4 columns</p>\n",
       "</div>"
      ],
      "text/plain": [
       "      Brand_Name                                Product_description  Price_  \\\n",
       "0   Singco India  Gradient, Toughened Glass Lens, UV Protection ...    ₹630   \n",
       "1   Singco India  UV Protection, Riding Glasses, Others Aviator,...    ₹239   \n",
       "2       Fastrack      UV Protection Wayfarer Sunglasses (Free Size)    ₹649   \n",
       "3       Fastrack   UV Protection Rectangular Sunglasses (Free Size)    ₹599   \n",
       "4       Fastrack       UV Protection Aviator Sunglasses (Free Size)    ₹599   \n",
       "..           ...                                                ...     ...   \n",
       "95     ROYAL SON                   Mirrored Aviator Sunglasses (63)  ₹4,489   \n",
       "96        PIRASO             UV Protection Wayfarer Sunglasses (32)    ₹225   \n",
       "97      Fastrack        UV Protection Shield Sunglasses (Free Size)    ₹719   \n",
       "98      Fastrack              UV Protection Aviator Sunglasses (58)    ₹999   \n",
       "99     ROYAL SON                     Gradient Round Sunglasses (52)  ₹7,619   \n",
       "\n",
       "   Discount %  \n",
       "0     78% off  \n",
       "1     65% off  \n",
       "2     27% off  \n",
       "3     25% off  \n",
       "4     25% off  \n",
       "..        ...  \n",
       "95    40% off  \n",
       "96    85% off  \n",
       "97    20% off  \n",
       "98    23% off  \n",
       "99    30% off  \n",
       "\n",
       "[100 rows x 4 columns]"
      ]
     },
     "execution_count": 112,
     "metadata": {},
     "output_type": "execute_result"
    }
   ],
   "source": [
    "df"
   ]
  },
  {
   "cell_type": "markdown",
   "id": "9290099f",
   "metadata": {},
   "source": [
    "Q5: Scrape 100 reviews data from flipkart.com for iphone11 phone. You have to go the link:\n",
    "https://www.flipkart.com/apple-iphone-11-black-64-gb-includes- earpods-power\u0002adapter/p/itm0f37c2240b217?pid=MOBFKCTSVZAXUHGR&lid=LSTMOBFKC\n",
    "TSVZAXUHGREPBFGI&marketplace.\n",
    "When you will open the above link you will reach to the below shown webpage .\n",
    "As shown in the above page you have to scrape the tick marked attributes.These are:\n",
    "1. Rating\n",
    "2. Review summary\n",
    "3. Full review\n",
    "4. You have to scrape this data for first 100 reviews."
   ]
  },
  {
   "cell_type": "code",
   "execution_count": 1,
   "id": "35250ed9",
   "metadata": {},
   "outputs": [],
   "source": [
    "import selenium\n",
    "from selenium import webdriver\n",
    "import pandas as pd\n",
    "import warnings\n",
    "warnings.filterwarnings('ignore')\n",
    "import time"
   ]
  },
  {
   "cell_type": "code",
   "execution_count": 2,
   "id": "a0cfe4e4",
   "metadata": {},
   "outputs": [],
   "source": [
    "driver=webdriver.Chrome('chromedriver.exe')"
   ]
  },
  {
   "cell_type": "code",
   "execution_count": 3,
   "id": "7d4bcdb3",
   "metadata": {},
   "outputs": [],
   "source": [
    "driver.get('https://www.flipkart.com/apple-iphone-11-black-64-gb-includes- earpods-power\u0002adapter/p/itm0f37c2240b217?pid=MOBFKCTSVZAXUHGR&lid=LSTMOBFKCTSVZAXUHGREPBFGI&marketplace‪')"
   ]
  },
  {
   "cell_type": "code",
   "execution_count": null,
   "id": "e457f3bd",
   "metadata": {},
   "outputs": [],
   "source": [
    "rating=driver.find_elements_by_xpath('//div[@class=\"_3LWZlK _1BLPMq\"]')\n",
    "rating"
   ]
  },
  {
   "cell_type": "code",
   "execution_count": null,
   "id": "a8c475b1",
   "metadata": {},
   "outputs": [],
   "source": [
    "all_reviews=driver.find_element_by_xpath(\"/html/body/div[1]/div/div[3]/div[1]/div[2]/div[9]/div/div/div[5]/div/a/div/span\")\n",
    "all_reviews.click()"
   ]
  },
  {
   "cell_type": "code",
   "execution_count": 13,
   "id": "541101bb",
   "metadata": {},
   "outputs": [],
   "source": [
    "next_button=driver.find_element_by_class_name('_1LKTO3')\n",
    "next_button.click()"
   ]
  },
  {
   "cell_type": "code",
   "execution_count": 15,
   "id": "40736b23",
   "metadata": {},
   "outputs": [],
   "source": [
    "ratings=[]\n",
    "for i in range(0,10):\n",
    "    rating=driver.find_elements_by_xpath('//div[@class=\"_3LWZlK _1BLPMq\"]')\n",
    "    for i in rating:\n",
    "        ratings.append(i.text)\n",
    "    next_button=driver.find_element_by_class_name('_1LKTO3')\n",
    "    next_button.click()\n",
    "    \n",
    "    time.sleep(4) "
   ]
  },
  {
   "cell_type": "code",
   "execution_count": null,
   "id": "7839c1ab",
   "metadata": {},
   "outputs": [],
   "source": [
    "ratings"
   ]
  },
  {
   "cell_type": "code",
   "execution_count": null,
   "id": "8f36a1fe",
   "metadata": {},
   "outputs": [],
   "source": [
    "review_sum=driver.find_elements_by_xpath('//p[@class=\"_2-N8zT\"]')\n",
    "review_sum"
   ]
  },
  {
   "cell_type": "code",
   "execution_count": 18,
   "id": "3427b640",
   "metadata": {},
   "outputs": [],
   "source": [
    "review_summery=[]\n",
    "for i in range(0,10):\n",
    "    review_sum=driver.find_elements_by_xpath('//p[@class=\"_2-N8zT\"]')\n",
    "    for i in review_sum:\n",
    "        review_summery.append(i.text)\n",
    "    next_button=driver.find_element_by_class_name('_1LKTO3')\n",
    "    next_button.click()\n",
    "    time.sleep(4)"
   ]
  },
  {
   "cell_type": "code",
   "execution_count": null,
   "id": "0dc8c9ea",
   "metadata": {},
   "outputs": [],
   "source": [
    "review_summery"
   ]
  },
  {
   "cell_type": "code",
   "execution_count": null,
   "id": "3d1d7cb9",
   "metadata": {},
   "outputs": [],
   "source": [
    "ful_review=driver.find_elements_by_xpath('//div[@class=\"t-ZTKy\"]')\n",
    "ful_review"
   ]
  },
  {
   "cell_type": "code",
   "execution_count": 21,
   "id": "9c9322a8",
   "metadata": {},
   "outputs": [],
   "source": [
    "full_review=[]\n",
    "for i in range(0,10):\n",
    "    ful_review=driver.find_elements_by_xpath('//div[@class=\"t-ZTKy\"]')\n",
    "    for i in ful_review:\n",
    "        full_review.append(i.text)\n",
    "    next_button=driver.find_element_by_class_name('_1LKTO3')\n",
    "    next_button.click()\n",
    "    time.sleep(4)"
   ]
  },
  {
   "cell_type": "code",
   "execution_count": null,
   "id": "bd99bdf5",
   "metadata": {},
   "outputs": [],
   "source": [
    "full_review"
   ]
  },
  {
   "cell_type": "code",
   "execution_count": 23,
   "id": "dee89dcc",
   "metadata": {},
   "outputs": [
    {
     "name": "stdout",
     "output_type": "stream",
     "text": [
      "100 100 100\n"
     ]
    }
   ],
   "source": [
    "print(len(full_review),len(review_summery),len(ratings))"
   ]
  },
  {
   "cell_type": "code",
   "execution_count": 24,
   "id": "40f81366",
   "metadata": {},
   "outputs": [],
   "source": [
    "df=pd.DataFrame({'Rating':ratings,'Review Summery':review_summery,'Full Review':full_review})"
   ]
  },
  {
   "cell_type": "code",
   "execution_count": 25,
   "id": "cbb1a56b",
   "metadata": {},
   "outputs": [
    {
     "data": {
      "text/html": [
       "<div>\n",
       "<style scoped>\n",
       "    .dataframe tbody tr th:only-of-type {\n",
       "        vertical-align: middle;\n",
       "    }\n",
       "\n",
       "    .dataframe tbody tr th {\n",
       "        vertical-align: top;\n",
       "    }\n",
       "\n",
       "    .dataframe thead th {\n",
       "        text-align: right;\n",
       "    }\n",
       "</style>\n",
       "<table border=\"1\" class=\"dataframe\">\n",
       "  <thead>\n",
       "    <tr style=\"text-align: right;\">\n",
       "      <th></th>\n",
       "      <th>Rating</th>\n",
       "      <th>Review Summery</th>\n",
       "      <th>Full Review</th>\n",
       "    </tr>\n",
       "  </thead>\n",
       "  <tbody>\n",
       "    <tr>\n",
       "      <th>0</th>\n",
       "      <td>5</td>\n",
       "      <td>Brilliant</td>\n",
       "      <td>The Best Phone for the Money\\n\\nThe iPhone 11 ...</td>\n",
       "    </tr>\n",
       "    <tr>\n",
       "      <th>1</th>\n",
       "      <td>5</td>\n",
       "      <td>Simply awesome</td>\n",
       "      <td>Really satisfied with the Product I received.....</td>\n",
       "    </tr>\n",
       "    <tr>\n",
       "      <th>2</th>\n",
       "      <td>5</td>\n",
       "      <td>Best in the market!</td>\n",
       "      <td>Great iPhone very snappy experience as apple k...</td>\n",
       "    </tr>\n",
       "    <tr>\n",
       "      <th>3</th>\n",
       "      <td>5</td>\n",
       "      <td>Perfect product!</td>\n",
       "      <td>Amazing phone with great cameras and better ba...</td>\n",
       "    </tr>\n",
       "    <tr>\n",
       "      <th>4</th>\n",
       "      <td>5</td>\n",
       "      <td>Fabulous!</td>\n",
       "      <td>This is my first iOS phone. I am very happy wi...</td>\n",
       "    </tr>\n",
       "    <tr>\n",
       "      <th>...</th>\n",
       "      <td>...</td>\n",
       "      <td>...</td>\n",
       "      <td>...</td>\n",
       "    </tr>\n",
       "    <tr>\n",
       "      <th>95</th>\n",
       "      <td>5</td>\n",
       "      <td>Worth every penny</td>\n",
       "      <td>Previously I was using one plus 3t it was a gr...</td>\n",
       "    </tr>\n",
       "    <tr>\n",
       "      <th>96</th>\n",
       "      <td>5</td>\n",
       "      <td>Great product</td>\n",
       "      <td>Amazing Powerful and Durable Gadget.\\n\\nI’m am...</td>\n",
       "    </tr>\n",
       "    <tr>\n",
       "      <th>97</th>\n",
       "      <td>4</td>\n",
       "      <td>Good choice</td>\n",
       "      <td>So far it’s been an AMAZING experience coming ...</td>\n",
       "    </tr>\n",
       "    <tr>\n",
       "      <th>98</th>\n",
       "      <td>5</td>\n",
       "      <td>Worth every penny</td>\n",
       "      <td>i11 is worthy to buy, too much happy with the ...</td>\n",
       "    </tr>\n",
       "    <tr>\n",
       "      <th>99</th>\n",
       "      <td>5</td>\n",
       "      <td>Highly recommended</td>\n",
       "      <td>What a camera .....just awesome ..you can feel...</td>\n",
       "    </tr>\n",
       "  </tbody>\n",
       "</table>\n",
       "<p>100 rows × 3 columns</p>\n",
       "</div>"
      ],
      "text/plain": [
       "   Rating       Review Summery  \\\n",
       "0       5            Brilliant   \n",
       "1       5       Simply awesome   \n",
       "2       5  Best in the market!   \n",
       "3       5     Perfect product!   \n",
       "4       5            Fabulous!   \n",
       "..    ...                  ...   \n",
       "95      5    Worth every penny   \n",
       "96      5        Great product   \n",
       "97      4          Good choice   \n",
       "98      5    Worth every penny   \n",
       "99      5   Highly recommended   \n",
       "\n",
       "                                          Full Review  \n",
       "0   The Best Phone for the Money\\n\\nThe iPhone 11 ...  \n",
       "1   Really satisfied with the Product I received.....  \n",
       "2   Great iPhone very snappy experience as apple k...  \n",
       "3   Amazing phone with great cameras and better ba...  \n",
       "4   This is my first iOS phone. I am very happy wi...  \n",
       "..                                                ...  \n",
       "95  Previously I was using one plus 3t it was a gr...  \n",
       "96  Amazing Powerful and Durable Gadget.\\n\\nI’m am...  \n",
       "97  So far it’s been an AMAZING experience coming ...  \n",
       "98  i11 is worthy to buy, too much happy with the ...  \n",
       "99  What a camera .....just awesome ..you can feel...  \n",
       "\n",
       "[100 rows x 3 columns]"
      ]
     },
     "execution_count": 25,
     "metadata": {},
     "output_type": "execute_result"
    }
   ],
   "source": [
    "df"
   ]
  },
  {
   "cell_type": "raw",
   "id": "dc507ce6",
   "metadata": {},
   "source": [
    "Q6: Scrape data for first 100 sneakers you find when you visit flipkart.com andsearch for “sneakers” in the\n",
    "search field.\n",
    "You have to scrape 4 attributes of each sneaker:\n",
    "1. Brand\n",
    "2. Product Description\n",
    "3. Price\n",
    "As shown in the below image, you have to scrape the tick marked attributes"
   ]
  },
  {
   "cell_type": "code",
   "execution_count": 118,
   "id": "86bc5673",
   "metadata": {},
   "outputs": [],
   "source": [
    "import selenium\n",
    "from selenium import webdriver\n",
    "import pandas as pd\n",
    "import warnings\n",
    "warnings.filterwarnings('ignore')\n",
    "import time"
   ]
  },
  {
   "cell_type": "code",
   "execution_count": 119,
   "id": "0cf2d619",
   "metadata": {},
   "outputs": [],
   "source": [
    "driver=webdriver.Chrome('chromedriver.exe')"
   ]
  },
  {
   "cell_type": "code",
   "execution_count": 120,
   "id": "6e91ad95",
   "metadata": {},
   "outputs": [],
   "source": [
    "driver.get('https://www.flipkart.com/')"
   ]
  },
  {
   "cell_type": "code",
   "execution_count": 121,
   "id": "5042941d",
   "metadata": {},
   "outputs": [],
   "source": [
    "search_product=driver.find_element_by_class_name('_3704LK')\n",
    "search_product.send_keys('sneakers')"
   ]
  },
  {
   "cell_type": "code",
   "execution_count": 122,
   "id": "3101d73b",
   "metadata": {},
   "outputs": [],
   "source": [
    "search_button=driver.find_element_by_class_name('L0Z3Pu')\n",
    "search_button.click()"
   ]
  },
  {
   "cell_type": "code",
   "execution_count": null,
   "id": "4b369239",
   "metadata": {},
   "outputs": [],
   "source": [
    "title=driver.find_elements_by_xpath('//div[@class=\"_2WkVRV\"]')\n",
    "title"
   ]
  },
  {
   "cell_type": "code",
   "execution_count": 124,
   "id": "5b171fd2",
   "metadata": {},
   "outputs": [],
   "source": [
    "brand=[]\n",
    "for i in range(0,3):\n",
    "    title=driver.find_elements_by_xpath('//div[@class=\"_2WkVRV\"]')\n",
    "    for i in title:\n",
    "        titles=i.text\n",
    "        brand.append(titles)\n",
    "    next_button=driver.find_element_by_class_name('_1LKTO3')\n",
    "    next_button.click()\n",
    "    time.sleep(5)"
   ]
  },
  {
   "cell_type": "code",
   "execution_count": null,
   "id": "6c0f150f",
   "metadata": {},
   "outputs": [],
   "source": [
    "brands=brand[0:100]\n",
    "brands"
   ]
  },
  {
   "cell_type": "code",
   "execution_count": 126,
   "id": "af10536d",
   "metadata": {},
   "outputs": [
    {
     "data": {
      "text/plain": [
       "100"
      ]
     },
     "execution_count": 126,
     "metadata": {},
     "output_type": "execute_result"
    }
   ],
   "source": [
    "len(brands)"
   ]
  },
  {
   "cell_type": "code",
   "execution_count": null,
   "id": "62e89f97",
   "metadata": {},
   "outputs": [],
   "source": [
    "des=driver.find_elements_by_xpath('//a[@class=\"IRpwTa\"]')\n",
    "des"
   ]
  },
  {
   "cell_type": "code",
   "execution_count": 128,
   "id": "e3f620bb",
   "metadata": {},
   "outputs": [],
   "source": [
    "description=[]\n",
    "for i in range(0,3):\n",
    "    des=driver.find_elements_by_xpath('//a[@class=\"IRpwTa\"]')\n",
    "    for i in des:\n",
    "        description.append(i.text)\n",
    "    next_button=driver.find_element_by_class_name('_1LKTO3')\n",
    "    next_button.click()\n",
    "    time.sleep(5)"
   ]
  },
  {
   "cell_type": "code",
   "execution_count": null,
   "id": "da3a95b1",
   "metadata": {},
   "outputs": [],
   "source": [
    "descriptions=description[0:100]\n",
    "descriptions"
   ]
  },
  {
   "cell_type": "code",
   "execution_count": 130,
   "id": "83faf2e8",
   "metadata": {},
   "outputs": [
    {
     "data": {
      "text/plain": [
       "100"
      ]
     },
     "execution_count": 130,
     "metadata": {},
     "output_type": "execute_result"
    }
   ],
   "source": [
    "len(descriptions)"
   ]
  },
  {
   "cell_type": "code",
   "execution_count": null,
   "id": "7d7cecdc",
   "metadata": {},
   "outputs": [],
   "source": [
    "price=driver.find_elements_by_xpath('//div[@class=\"_30jeq3\"]')\n",
    "price"
   ]
  },
  {
   "cell_type": "code",
   "execution_count": 132,
   "id": "feda901e",
   "metadata": {},
   "outputs": [],
   "source": [
    "prices=[]\n",
    "for i in range(0,3):\n",
    "    price=driver.find_elements_by_xpath('//div[@class=\"_30jeq3\"]')\n",
    "    for i in price:\n",
    "        prices.append(i.text)\n",
    "    next_button=driver.find_element_by_class_name('_1LKTO3')\n",
    "    next_button.click()\n",
    "    time.sleep(5)    "
   ]
  },
  {
   "cell_type": "code",
   "execution_count": null,
   "id": "e4ef27bc",
   "metadata": {},
   "outputs": [],
   "source": [
    "Prices=prices[0:100]\n",
    "Prices"
   ]
  },
  {
   "cell_type": "code",
   "execution_count": 134,
   "id": "78252439",
   "metadata": {},
   "outputs": [
    {
     "name": "stdout",
     "output_type": "stream",
     "text": [
      "100 100 100\n"
     ]
    }
   ],
   "source": [
    "print(len(brands),len(descriptions),len(Prices))"
   ]
  },
  {
   "cell_type": "code",
   "execution_count": 137,
   "id": "15400fa3",
   "metadata": {},
   "outputs": [
    {
     "data": {
      "text/html": [
       "<div>\n",
       "<style scoped>\n",
       "    .dataframe tbody tr th:only-of-type {\n",
       "        vertical-align: middle;\n",
       "    }\n",
       "\n",
       "    .dataframe tbody tr th {\n",
       "        vertical-align: top;\n",
       "    }\n",
       "\n",
       "    .dataframe thead th {\n",
       "        text-align: right;\n",
       "    }\n",
       "</style>\n",
       "<table border=\"1\" class=\"dataframe\">\n",
       "  <thead>\n",
       "    <tr style=\"text-align: right;\">\n",
       "      <th></th>\n",
       "      <th>Brand_Name</th>\n",
       "      <th>Product_description</th>\n",
       "      <th>Price_</th>\n",
       "    </tr>\n",
       "  </thead>\n",
       "  <tbody>\n",
       "    <tr>\n",
       "      <th>0</th>\n",
       "      <td>HIGHLANDER</td>\n",
       "      <td>Stylish &amp; Trending Outdoor Walking Comfortable...</td>\n",
       "      <td>₹746</td>\n",
       "    </tr>\n",
       "    <tr>\n",
       "      <th>1</th>\n",
       "      <td>HRX by Hrithik Roshan</td>\n",
       "      <td>Sneakers For Men</td>\n",
       "      <td>₹945</td>\n",
       "    </tr>\n",
       "    <tr>\n",
       "      <th>2</th>\n",
       "      <td>URBANBOX</td>\n",
       "      <td>Stylish Comfortable Lightweight, Breathable Wa...</td>\n",
       "      <td>₹142</td>\n",
       "    </tr>\n",
       "    <tr>\n",
       "      <th>3</th>\n",
       "      <td>corsac</td>\n",
       "      <td>Sneakers For Men</td>\n",
       "      <td>₹449</td>\n",
       "    </tr>\n",
       "    <tr>\n",
       "      <th>4</th>\n",
       "      <td>Kraasa</td>\n",
       "      <td>all white heartbeat casual shoe Sneakers For Men</td>\n",
       "      <td>₹349</td>\n",
       "    </tr>\n",
       "    <tr>\n",
       "      <th>...</th>\n",
       "      <td>...</td>\n",
       "      <td>...</td>\n",
       "      <td>...</td>\n",
       "    </tr>\n",
       "    <tr>\n",
       "      <th>95</th>\n",
       "      <td>Strollin</td>\n",
       "      <td>Sneakers For Men</td>\n",
       "      <td>₹379</td>\n",
       "    </tr>\n",
       "    <tr>\n",
       "      <th>96</th>\n",
       "      <td>Kraasa</td>\n",
       "      <td>Stylish &amp; Trending Outdoor Walking Comfortable...</td>\n",
       "      <td>₹449</td>\n",
       "    </tr>\n",
       "    <tr>\n",
       "      <th>97</th>\n",
       "      <td>ASTEROID</td>\n",
       "      <td>Modern Trendy Sneakers Shoes Sneakers For Men</td>\n",
       "      <td>₹449</td>\n",
       "    </tr>\n",
       "    <tr>\n",
       "      <th>98</th>\n",
       "      <td>BRUTON</td>\n",
       "      <td>Sneakers For Men</td>\n",
       "      <td>₹249</td>\n",
       "    </tr>\n",
       "    <tr>\n",
       "      <th>99</th>\n",
       "      <td>Layasa</td>\n",
       "      <td>Chevit Combo Pack of 5 Casual Sneakers With Ca...</td>\n",
       "      <td>₹399</td>\n",
       "    </tr>\n",
       "  </tbody>\n",
       "</table>\n",
       "<p>100 rows × 3 columns</p>\n",
       "</div>"
      ],
      "text/plain": [
       "               Brand_Name                                Product_description  \\\n",
       "0              HIGHLANDER  Stylish & Trending Outdoor Walking Comfortable...   \n",
       "1   HRX by Hrithik Roshan                                   Sneakers For Men   \n",
       "2                URBANBOX  Stylish Comfortable Lightweight, Breathable Wa...   \n",
       "3                  corsac                                   Sneakers For Men   \n",
       "4                  Kraasa   all white heartbeat casual shoe Sneakers For Men   \n",
       "..                    ...                                                ...   \n",
       "95               Strollin                                   Sneakers For Men   \n",
       "96                 Kraasa  Stylish & Trending Outdoor Walking Comfortable...   \n",
       "97               ASTEROID      Modern Trendy Sneakers Shoes Sneakers For Men   \n",
       "98                 BRUTON                                   Sneakers For Men   \n",
       "99                 Layasa  Chevit Combo Pack of 5 Casual Sneakers With Ca...   \n",
       "\n",
       "   Price_  \n",
       "0    ₹746  \n",
       "1    ₹945  \n",
       "2    ₹142  \n",
       "3    ₹449  \n",
       "4    ₹349  \n",
       "..    ...  \n",
       "95   ₹379  \n",
       "96   ₹449  \n",
       "97   ₹449  \n",
       "98   ₹249  \n",
       "99   ₹399  \n",
       "\n",
       "[100 rows x 3 columns]"
      ]
     },
     "execution_count": 137,
     "metadata": {},
     "output_type": "execute_result"
    }
   ],
   "source": [
    "df=pd.DataFrame({'Brand_Name':brands,'Product_description':descriptions,'Price_':Prices})\n",
    "df"
   ]
  },
  {
   "cell_type": "raw",
   "id": "76a0743f",
   "metadata": {},
   "source": [
    "Q7: Go to the link - https://www.myntra.com/shoes\n",
    "Set Price filter to “Rs. 7149 to Rs. 14099 ” , Color filter to “Black”, as shown inthe below image.\n",
    "And then scrape First 100 shoes data you get. The data should include “Brand” of the shoes , Short Shoe\n",
    "description, price of the shoe as shown in the below image"
   ]
  },
  {
   "cell_type": "code",
   "execution_count": 70,
   "id": "f3dff76c",
   "metadata": {},
   "outputs": [],
   "source": [
    "import selenium\n",
    "import pandas as pd\n",
    "from selenium import webdriver\n",
    "import warnings                  \n",
    "warnings.filterwarnings('ignore')\n",
    "import time"
   ]
  },
  {
   "cell_type": "code",
   "execution_count": 71,
   "id": "16eb81a7",
   "metadata": {},
   "outputs": [],
   "source": [
    "driver=webdriver.Chrome(\"chromedriver.exe\")\n",
    "time.sleep(2)"
   ]
  },
  {
   "cell_type": "code",
   "execution_count": 72,
   "id": "2f5d1738",
   "metadata": {},
   "outputs": [],
   "source": [
    "driver.get('https://www.myntra.com/shoes')"
   ]
  },
  {
   "cell_type": "code",
   "execution_count": 73,
   "id": "4360617d",
   "metadata": {},
   "outputs": [],
   "source": [
    "color_filter=driver.find_element_by_xpath('/html/body/div[2]/div/div[1]/main/div[3]/div[1]/section/div/div[6]/ul/li[1]/label/div')\n",
    "color_filter.click()"
   ]
  },
  {
   "cell_type": "code",
   "execution_count": 74,
   "id": "7ba2c1b2",
   "metadata": {},
   "outputs": [],
   "source": [
    "price_filter=driver.find_element_by_xpath('/html/body/div[2]/div/div[1]/main/div[3]/div[1]/section/div/div[5]/ul/li[2]/label/div')\n",
    "price_filter.click()"
   ]
  },
  {
   "cell_type": "code",
   "execution_count": null,
   "id": "41c8de1f",
   "metadata": {},
   "outputs": [],
   "source": [
    "title=driver.find_elements_by_xpath('//div[@class=\"product-productMetaInfo\"]/h3')\n",
    "title"
   ]
  },
  {
   "cell_type": "code",
   "execution_count": 76,
   "id": "9fbc0ce9",
   "metadata": {},
   "outputs": [],
   "source": [
    "brand=[]\n",
    "for i in range(0,2):\n",
    "    title=driver.find_elements_by_xpath('//div[@class=\"product-productMetaInfo\"]/h3')\n",
    "    for i in title:\n",
    "        titles=i.text\n",
    "        brand.append(titles)\n",
    "    next_button=driver.find_element_by_class_name('pagination-next')\n",
    "    next_button.click()\n",
    "    time.sleep(5)"
   ]
  },
  {
   "cell_type": "code",
   "execution_count": null,
   "id": "81f3c24a",
   "metadata": {},
   "outputs": [],
   "source": [
    "brand"
   ]
  },
  {
   "cell_type": "code",
   "execution_count": 78,
   "id": "1ea9bff7",
   "metadata": {},
   "outputs": [],
   "source": [
    "p_page=driver.find_element_by_xpath('/html/body/div[2]/div/div[1]/main/div[3]/div[2]/div/div[2]/section/div[2]/ul/li[3]/a')\n",
    "p_page.click()"
   ]
  },
  {
   "cell_type": "code",
   "execution_count": null,
   "id": "2e585bfc",
   "metadata": {},
   "outputs": [],
   "source": [
    "des=driver.find_elements_by_xpath('//h4[@class=\"product-product\"]')\n",
    "des"
   ]
  },
  {
   "cell_type": "code",
   "execution_count": 80,
   "id": "d9717899",
   "metadata": {},
   "outputs": [],
   "source": [
    "description=[]\n",
    "for i in range(0,2):\n",
    "    des=driver.find_elements_by_xpath('//h4[@class=\"product-product\"]')\n",
    "    for i in des:\n",
    "        description.append(i.text)\n",
    "    next_button=driver.find_element_by_class_name('pagination-next')\n",
    "    next_button.click()\n",
    "    time.sleep(5)"
   ]
  },
  {
   "cell_type": "code",
   "execution_count": null,
   "id": "bfb24bb3",
   "metadata": {},
   "outputs": [],
   "source": [
    "description"
   ]
  },
  {
   "cell_type": "code",
   "execution_count": 82,
   "id": "4b79505d",
   "metadata": {},
   "outputs": [],
   "source": [
    "p_page=driver.find_element_by_xpath('/html/body/div[2]/div/div[1]/main/div[3]/div[2]/div/div[2]/section/div[2]/ul/li[3]/a')\n",
    "p_page.click()"
   ]
  },
  {
   "cell_type": "code",
   "execution_count": null,
   "id": "1f2ca884",
   "metadata": {},
   "outputs": [],
   "source": [
    "price=driver.find_elements_by_xpath('//div[@class=\"product-price\"]')\n",
    "price"
   ]
  },
  {
   "cell_type": "code",
   "execution_count": 84,
   "id": "af5f7e14",
   "metadata": {},
   "outputs": [],
   "source": [
    "prices=[]\n",
    "for i in range(0,2):\n",
    "    price=driver.find_elements_by_xpath('//div[@class=\"product-price\"]')\n",
    "    for i in price:\n",
    "        prices.append(i.text)\n",
    "    next_button=driver.find_element_by_class_name('pagination-next')\n",
    "    next_button.click()\n",
    "    time.sleep(5)"
   ]
  },
  {
   "cell_type": "code",
   "execution_count": null,
   "id": "ea79dd28",
   "metadata": {},
   "outputs": [],
   "source": [
    "prices"
   ]
  },
  {
   "cell_type": "code",
   "execution_count": 86,
   "id": "fe6055a4",
   "metadata": {},
   "outputs": [
    {
     "name": "stdout",
     "output_type": "stream",
     "text": [
      "100 100 100\n"
     ]
    }
   ],
   "source": [
    "print(len(brand),len(description),len(prices))"
   ]
  },
  {
   "cell_type": "code",
   "execution_count": 87,
   "id": "5fcff801",
   "metadata": {},
   "outputs": [],
   "source": [
    "df=pd.DataFrame({'Brand_Name':brand,'Product_description':description,'Price':prices})"
   ]
  },
  {
   "cell_type": "code",
   "execution_count": 88,
   "id": "d5a7a031",
   "metadata": {},
   "outputs": [
    {
     "data": {
      "text/html": [
       "<div>\n",
       "<style scoped>\n",
       "    .dataframe tbody tr th:only-of-type {\n",
       "        vertical-align: middle;\n",
       "    }\n",
       "\n",
       "    .dataframe tbody tr th {\n",
       "        vertical-align: top;\n",
       "    }\n",
       "\n",
       "    .dataframe thead th {\n",
       "        text-align: right;\n",
       "    }\n",
       "</style>\n",
       "<table border=\"1\" class=\"dataframe\">\n",
       "  <thead>\n",
       "    <tr style=\"text-align: right;\">\n",
       "      <th></th>\n",
       "      <th>Brand_Name</th>\n",
       "      <th>Product_description</th>\n",
       "      <th>Price</th>\n",
       "    </tr>\n",
       "  </thead>\n",
       "  <tbody>\n",
       "    <tr>\n",
       "      <th>0</th>\n",
       "      <td>Nike</td>\n",
       "      <td>Men Winflo 7 Running Shoes</td>\n",
       "      <td>Rs. 7195Rs. 7995(10% OFF)</td>\n",
       "    </tr>\n",
       "    <tr>\n",
       "      <th>1</th>\n",
       "      <td>ALDO</td>\n",
       "      <td>Men Woven Design Sneakers</td>\n",
       "      <td>Rs. 13999</td>\n",
       "    </tr>\n",
       "    <tr>\n",
       "      <th>2</th>\n",
       "      <td>ALDO</td>\n",
       "      <td>Men Leather Driving Shoes</td>\n",
       "      <td>Rs. 12999</td>\n",
       "    </tr>\n",
       "    <tr>\n",
       "      <th>3</th>\n",
       "      <td>ALDO</td>\n",
       "      <td>Men Leather Loafers</td>\n",
       "      <td>Rs. 12999</td>\n",
       "    </tr>\n",
       "    <tr>\n",
       "      <th>4</th>\n",
       "      <td>Skechers</td>\n",
       "      <td>Men Max Cushioning Running</td>\n",
       "      <td>Rs. 7649Rs. 8999(15% OFF)</td>\n",
       "    </tr>\n",
       "    <tr>\n",
       "      <th>...</th>\n",
       "      <td>...</td>\n",
       "      <td>...</td>\n",
       "      <td>...</td>\n",
       "    </tr>\n",
       "    <tr>\n",
       "      <th>95</th>\n",
       "      <td>J.FONTINI</td>\n",
       "      <td>Men Textured Leather Loafers</td>\n",
       "      <td>Rs. 8490</td>\n",
       "    </tr>\n",
       "    <tr>\n",
       "      <th>96</th>\n",
       "      <td>DAVINCHI</td>\n",
       "      <td>Men Textured Formal Leather Loafers</td>\n",
       "      <td>Rs. 8990</td>\n",
       "    </tr>\n",
       "    <tr>\n",
       "      <th>97</th>\n",
       "      <td>UNDER ARMOUR</td>\n",
       "      <td>Men Charged Breeze Running</td>\n",
       "      <td>Rs. 8999</td>\n",
       "    </tr>\n",
       "    <tr>\n",
       "      <th>98</th>\n",
       "      <td>Columbia</td>\n",
       "      <td>Women Trekking Shoes</td>\n",
       "      <td>Rs. 8999</td>\n",
       "    </tr>\n",
       "    <tr>\n",
       "      <th>99</th>\n",
       "      <td>Bugatti</td>\n",
       "      <td>Leather Block Heeled Boots</td>\n",
       "      <td>Rs. 7999Rs. 9999(20% OFF)</td>\n",
       "    </tr>\n",
       "  </tbody>\n",
       "</table>\n",
       "<p>100 rows × 3 columns</p>\n",
       "</div>"
      ],
      "text/plain": [
       "      Brand_Name                  Product_description  \\\n",
       "0           Nike           Men Winflo 7 Running Shoes   \n",
       "1           ALDO            Men Woven Design Sneakers   \n",
       "2           ALDO            Men Leather Driving Shoes   \n",
       "3           ALDO                  Men Leather Loafers   \n",
       "4       Skechers           Men Max Cushioning Running   \n",
       "..           ...                                  ...   \n",
       "95     J.FONTINI         Men Textured Leather Loafers   \n",
       "96      DAVINCHI  Men Textured Formal Leather Loafers   \n",
       "97  UNDER ARMOUR           Men Charged Breeze Running   \n",
       "98      Columbia                 Women Trekking Shoes   \n",
       "99       Bugatti           Leather Block Heeled Boots   \n",
       "\n",
       "                        Price  \n",
       "0   Rs. 7195Rs. 7995(10% OFF)  \n",
       "1                   Rs. 13999  \n",
       "2                   Rs. 12999  \n",
       "3                   Rs. 12999  \n",
       "4   Rs. 7649Rs. 8999(15% OFF)  \n",
       "..                        ...  \n",
       "95                   Rs. 8490  \n",
       "96                   Rs. 8990  \n",
       "97                   Rs. 8999  \n",
       "98                   Rs. 8999  \n",
       "99  Rs. 7999Rs. 9999(20% OFF)  \n",
       "\n",
       "[100 rows x 3 columns]"
      ]
     },
     "execution_count": 88,
     "metadata": {},
     "output_type": "execute_result"
    }
   ],
   "source": [
    "df"
   ]
  },
  {
   "cell_type": "markdown",
   "id": "bd01c052",
   "metadata": {},
   "source": [
    "Q8: Go to webpage https://www.amazon.in/\n",
    "Enter “Laptop” in the search field and then click the search icon.\n",
    "Then set CPU Type filter to “Intel Core i7” and “Intel Core i9” as shown in the below image:\n",
    "After setting the filters scrape first 10 laptops data. You have to scrape 3 attributesfor each laptop:\n",
    "1. Title\n",
    "2. Ratings\n",
    "3. Price"
   ]
  },
  {
   "cell_type": "code",
   "execution_count": 31,
   "id": "721c17fa",
   "metadata": {},
   "outputs": [],
   "source": [
    "import selenium\n",
    "from selenium import webdriver\n",
    "import pandas as pd\n",
    "import warnings\n",
    "warnings.filterwarnings('ignore')\n",
    "import time"
   ]
  },
  {
   "cell_type": "code",
   "execution_count": 32,
   "id": "ee623aec",
   "metadata": {},
   "outputs": [],
   "source": [
    "driver=webdriver.Chrome('chromedriver.exe')"
   ]
  },
  {
   "cell_type": "code",
   "execution_count": 33,
   "id": "843ecd4c",
   "metadata": {},
   "outputs": [],
   "source": [
    "driver.get('https://www.amazon.in/')"
   ]
  },
  {
   "cell_type": "code",
   "execution_count": 34,
   "id": "d517d057",
   "metadata": {},
   "outputs": [],
   "source": [
    "search_product=driver.find_element_by_xpath('/html/body/div[1]/header/div/div[1]/div[2]/div/form/div[2]/div[1]/input')\n",
    "search_product.send_keys('laptop')"
   ]
  },
  {
   "cell_type": "code",
   "execution_count": 35,
   "id": "9b0a8b5a",
   "metadata": {},
   "outputs": [],
   "source": [
    "search_button=driver.find_element_by_xpath('//div[@class=\"nav-search-submit nav-sprite\"]')\n",
    "search_button.click()"
   ]
  },
  {
   "cell_type": "code",
   "execution_count": 37,
   "id": "4f46ce2f",
   "metadata": {},
   "outputs": [],
   "source": [
    "cpu_filter=driver.find_element_by_xpath('/html/body/div[2]/div[2]/div[1]/div[2]/div/div[3]/span/div[1]/div/div/div[5]/ul[4]/li[13]/span/a/span')\n",
    "cpu_filter.click()"
   ]
  },
  {
   "cell_type": "code",
   "execution_count": null,
   "id": "3d6eabf6",
   "metadata": {},
   "outputs": [],
   "source": [
    "title=driver.find_elements_by_xpath('//h2[@class=\"a-size-mini a-spacing-none a-color-base s-line-clamp-2\"]')\n",
    "title"
   ]
  },
  {
   "cell_type": "code",
   "execution_count": 39,
   "id": "43b2d462",
   "metadata": {},
   "outputs": [],
   "source": [
    "titles=[]"
   ]
  },
  {
   "cell_type": "code",
   "execution_count": 40,
   "id": "bd832afe",
   "metadata": {},
   "outputs": [],
   "source": [
    "for i in title:\n",
    "    titles.append(i.text)"
   ]
  },
  {
   "cell_type": "code",
   "execution_count": null,
   "id": "1ba9d360",
   "metadata": {},
   "outputs": [],
   "source": [
    "TITLE=titles[0:10]\n",
    "TITLE"
   ]
  },
  {
   "cell_type": "code",
   "execution_count": null,
   "id": "2b6301a0",
   "metadata": {},
   "outputs": [],
   "source": [
    "price=driver.find_elements_by_xpath('//span[@class=\"a-price\"]')\n",
    "price"
   ]
  },
  {
   "cell_type": "code",
   "execution_count": null,
   "id": "de2af41b",
   "metadata": {},
   "outputs": [],
   "source": [
    "prices=[]\n",
    "for i in price:\n",
    "    prices.append(i.text)\n",
    "prices"
   ]
  },
  {
   "cell_type": "code",
   "execution_count": null,
   "id": "ecee3393",
   "metadata": {},
   "outputs": [],
   "source": [
    "Price=prices[0:10]\n",
    "Price"
   ]
  },
  {
   "cell_type": "code",
   "execution_count": null,
   "id": "7e4f8110",
   "metadata": {},
   "outputs": [],
   "source": [
    "rating=driver.find_elements_by_xpath('//span[@class=\"a-icon-alt\"]')\n",
    "rating"
   ]
  },
  {
   "cell_type": "code",
   "execution_count": 46,
   "id": "67319320",
   "metadata": {},
   "outputs": [],
   "source": [
    "#as my ticket you asked to skip rating due to exception handling not taught to us\n",
    "ratings=[]"
   ]
  },
  {
   "cell_type": "code",
   "execution_count": 47,
   "id": "bb9952b0",
   "metadata": {},
   "outputs": [
    {
     "name": "stdout",
     "output_type": "stream",
     "text": [
      "10 10\n"
     ]
    }
   ],
   "source": [
    "print(len(TITLE),len(Price))"
   ]
  },
  {
   "cell_type": "code",
   "execution_count": 48,
   "id": "0591c11e",
   "metadata": {},
   "outputs": [],
   "source": [
    "df=pd.DataFrame({'laptop Title':TITLE,'PRICE':Price})"
   ]
  },
  {
   "cell_type": "code",
   "execution_count": 49,
   "id": "9d270a9d",
   "metadata": {},
   "outputs": [
    {
     "data": {
      "text/html": [
       "<div>\n",
       "<style scoped>\n",
       "    .dataframe tbody tr th:only-of-type {\n",
       "        vertical-align: middle;\n",
       "    }\n",
       "\n",
       "    .dataframe tbody tr th {\n",
       "        vertical-align: top;\n",
       "    }\n",
       "\n",
       "    .dataframe thead th {\n",
       "        text-align: right;\n",
       "    }\n",
       "</style>\n",
       "<table border=\"1\" class=\"dataframe\">\n",
       "  <thead>\n",
       "    <tr style=\"text-align: right;\">\n",
       "      <th></th>\n",
       "      <th>laptop Title</th>\n",
       "      <th>PRICE</th>\n",
       "    </tr>\n",
       "  </thead>\n",
       "  <tbody>\n",
       "    <tr>\n",
       "      <th>0</th>\n",
       "      <td>Acer Predator Helios 300 11th Gen Intel Core i...</td>\n",
       "      <td>₹1,69,990</td>\n",
       "    </tr>\n",
       "    <tr>\n",
       "      <th>1</th>\n",
       "      <td>ASUS TUF Gaming F15 (2022), 15.6-inch (39.62 c...</td>\n",
       "      <td>₹1,16,990</td>\n",
       "    </tr>\n",
       "    <tr>\n",
       "      <th>2</th>\n",
       "      <td>ASUS VivoBook 14 (2021), 14-inch (35.56 cms) F...</td>\n",
       "      <td>₹57,990</td>\n",
       "    </tr>\n",
       "    <tr>\n",
       "      <th>3</th>\n",
       "      <td>HP Pavilion 14, 11th Gen Intel Core i7-16GB RA...</td>\n",
       "      <td>₹86,490</td>\n",
       "    </tr>\n",
       "    <tr>\n",
       "      <th>4</th>\n",
       "      <td>ASUS TUF Gaming F15 (2021), 15.6\" (39.62 cms) ...</td>\n",
       "      <td>₹87,990</td>\n",
       "    </tr>\n",
       "    <tr>\n",
       "      <th>5</th>\n",
       "      <td>Samsung Galaxy Book2 Intel 12th Gen core i7 Ev...</td>\n",
       "      <td>₹79,990</td>\n",
       "    </tr>\n",
       "    <tr>\n",
       "      <th>6</th>\n",
       "      <td>HP Pavilion 11th Gen Intel Core i7 Processor 1...</td>\n",
       "      <td>₹87,990</td>\n",
       "    </tr>\n",
       "    <tr>\n",
       "      <th>7</th>\n",
       "      <td>Fujitsu UH-X 11th Gen Intel Core i7 13.3” FHD ...</td>\n",
       "      <td>₹83,990</td>\n",
       "    </tr>\n",
       "    <tr>\n",
       "      <th>8</th>\n",
       "      <td>Lenovo IdeaPad Gaming 3 Intel Core i7 10th Gen...</td>\n",
       "      <td>₹66,990</td>\n",
       "    </tr>\n",
       "    <tr>\n",
       "      <th>9</th>\n",
       "      <td>ASUS TUF Gaming F15 (2021) 15.6-inch (39.62 cm...</td>\n",
       "      <td>₹88,990</td>\n",
       "    </tr>\n",
       "  </tbody>\n",
       "</table>\n",
       "</div>"
      ],
      "text/plain": [
       "                                        laptop Title      PRICE\n",
       "0  Acer Predator Helios 300 11th Gen Intel Core i...  ₹1,69,990\n",
       "1  ASUS TUF Gaming F15 (2022), 15.6-inch (39.62 c...  ₹1,16,990\n",
       "2  ASUS VivoBook 14 (2021), 14-inch (35.56 cms) F...    ₹57,990\n",
       "3  HP Pavilion 14, 11th Gen Intel Core i7-16GB RA...    ₹86,490\n",
       "4  ASUS TUF Gaming F15 (2021), 15.6\" (39.62 cms) ...    ₹87,990\n",
       "5  Samsung Galaxy Book2 Intel 12th Gen core i7 Ev...    ₹79,990\n",
       "6  HP Pavilion 11th Gen Intel Core i7 Processor 1...    ₹87,990\n",
       "7  Fujitsu UH-X 11th Gen Intel Core i7 13.3” FHD ...    ₹83,990\n",
       "8  Lenovo IdeaPad Gaming 3 Intel Core i7 10th Gen...    ₹66,990\n",
       "9  ASUS TUF Gaming F15 (2021) 15.6-inch (39.62 cm...    ₹88,990"
      ]
     },
     "execution_count": 49,
     "metadata": {},
     "output_type": "execute_result"
    }
   ],
   "source": [
    "df"
   ]
  },
  {
   "cell_type": "code",
   "execution_count": null,
   "id": "570ee86f",
   "metadata": {},
   "outputs": [],
   "source": []
  },
  {
   "cell_type": "markdown",
   "id": "4701a92f",
   "metadata": {},
   "source": [
    "Q9: Write a python program to scrape data for first 10 job results for Data Scientist Designation in Noida\n",
    "location. You have to scrape company name, No. of days ago when job was posted, Rating of the company.\n",
    "This task will be done in following steps:\n",
    "1. First get the webpage https://www.ambitionbox.com/\n",
    "2. Click on the Job option as shown in the image\n",
    "3. After reaching to the next webpage, In place of “Search by Designations, Companies, Skills” enter\n",
    "“Data Scientist” and click on search button.\n",
    "ASSIGNMENT 2\n",
    "4. You will reach to the following web page click on location and in place of “Search location” enter\n",
    "“Noida” and select location “Noida”.\n",
    "5. Then scrape the data for the first 10 jobs results you get on the above shown page.\n",
    "6. Finally create a dataframe of the scraped data."
   ]
  },
  {
   "cell_type": "code",
   "execution_count": 1,
   "id": "1282beeb",
   "metadata": {},
   "outputs": [],
   "source": [
    "import selenium\n",
    "from selenium import webdriver\n",
    "import pandas as pd\n",
    "import warnings\n",
    "warnings.filterwarnings('ignore')\n",
    "import time"
   ]
  },
  {
   "cell_type": "code",
   "execution_count": 2,
   "id": "5a696bd6",
   "metadata": {},
   "outputs": [],
   "source": [
    "driver=webdriver.Chrome('chromedriver.exe')"
   ]
  },
  {
   "cell_type": "code",
   "execution_count": 3,
   "id": "382c4b86",
   "metadata": {},
   "outputs": [],
   "source": [
    "driver.get('https://www.ambitionbox.com/')"
   ]
  },
  {
   "cell_type": "code",
   "execution_count": 4,
   "id": "8de16cb4",
   "metadata": {},
   "outputs": [],
   "source": [
    "job=driver.find_element_by_xpath('//a[@class=\"link jobs\"]')\n",
    "job.click()"
   ]
  },
  {
   "cell_type": "code",
   "execution_count": 5,
   "id": "c7a66c82",
   "metadata": {},
   "outputs": [],
   "source": [
    "search_field_designation=driver.find_element_by_xpath('/html/body/div/div/div/div[2]/div[1]/div[1]/div/div/div/div/span/input')\n",
    "search_field_designation.send_keys('Data scientist')"
   ]
  },
  {
   "cell_type": "code",
   "execution_count": 6,
   "id": "70a3ba43",
   "metadata": {},
   "outputs": [],
   "source": [
    "search_button=driver.find_element_by_xpath('//button[@class=\"ab_btn search-btn round\"]/span')\n",
    "search_button.click()"
   ]
  },
  {
   "cell_type": "code",
   "execution_count": 7,
   "id": "9f0ad98f",
   "metadata": {},
   "outputs": [],
   "source": [
    "clk_location=driver.find_element_by_xpath('/html/body/div/div/div/div[2]/div[1]/div[2]/div[1]/div/div/div/div[2]/div[1]')\n",
    "clk_location.click()"
   ]
  },
  {
   "cell_type": "code",
   "execution_count": 8,
   "id": "bc89597c",
   "metadata": {},
   "outputs": [],
   "source": [
    "search_field_location=driver.find_element_by_xpath('/html/body/div/div/div/div[2]/div[1]/div[2]/div[1]/div/div/div/div[2]/div[2]/div/div[2]/input')\n",
    "search_field_location.send_keys('Noida')"
   ]
  },
  {
   "cell_type": "code",
   "execution_count": 9,
   "id": "8046e434",
   "metadata": {},
   "outputs": [],
   "source": [
    "clk_noida=driver.find_element_by_xpath('/html/body/div/div/div/div[2]/div[1]/div[2]/div[1]/div/div/div/div[2]/div[2]/div/div[3]/div[1]/div[1]/div/label')\n",
    "clk_noida.click()"
   ]
  },
  {
   "cell_type": "code",
   "execution_count": null,
   "id": "61110f56",
   "metadata": {},
   "outputs": [],
   "source": [
    "c_name=driver.find_elements_by_xpath('//div[@class=\"company-info\"]/p')\n",
    "c_name"
   ]
  },
  {
   "cell_type": "code",
   "execution_count": 16,
   "id": "06980984",
   "metadata": {},
   "outputs": [],
   "source": [
    "company=[]"
   ]
  },
  {
   "cell_type": "code",
   "execution_count": 17,
   "id": "81654a15",
   "metadata": {},
   "outputs": [],
   "source": [
    "for i in c_name:\n",
    "    company.append(i.text)"
   ]
  },
  {
   "cell_type": "code",
   "execution_count": null,
   "id": "83167eef",
   "metadata": {},
   "outputs": [],
   "source": [
    "company"
   ]
  },
  {
   "cell_type": "code",
   "execution_count": null,
   "id": "b5fd6e7d",
   "metadata": {},
   "outputs": [],
   "source": [
    "Company=company[1:11]\n",
    "Company"
   ]
  },
  {
   "cell_type": "code",
   "execution_count": null,
   "id": "d6964a66",
   "metadata": {},
   "outputs": [],
   "source": [
    "post=driver.find_elements_by_xpath('//span[@class=\"body-small-l\"]')\n",
    "post"
   ]
  },
  {
   "cell_type": "code",
   "execution_count": 21,
   "id": "cc410053",
   "metadata": {},
   "outputs": [],
   "source": [
    "job_posted=[]"
   ]
  },
  {
   "cell_type": "code",
   "execution_count": 22,
   "id": "5858db32",
   "metadata": {},
   "outputs": [],
   "source": [
    "for i in range(0,len(post),2)[0:21]:\n",
    "    job_posted.append(post[i].text)"
   ]
  },
  {
   "cell_type": "code",
   "execution_count": null,
   "id": "e6e28f5e",
   "metadata": {},
   "outputs": [],
   "source": [
    "job_posted"
   ]
  },
  {
   "cell_type": "code",
   "execution_count": null,
   "id": "4e5362e9",
   "metadata": {},
   "outputs": [],
   "source": [
    "rating=driver.find_elements_by_xpath('//span[@class=\"body-small\"]')\n",
    "rating"
   ]
  },
  {
   "cell_type": "code",
   "execution_count": 25,
   "id": "00675755",
   "metadata": {},
   "outputs": [],
   "source": [
    "ratings=[]"
   ]
  },
  {
   "cell_type": "code",
   "execution_count": 26,
   "id": "ba1c26fb",
   "metadata": {},
   "outputs": [],
   "source": [
    "for i in rating:\n",
    "    ratings.append(i.text)"
   ]
  },
  {
   "cell_type": "code",
   "execution_count": null,
   "id": "6c77daf3",
   "metadata": {},
   "outputs": [],
   "source": [
    "ratings"
   ]
  },
  {
   "cell_type": "code",
   "execution_count": 28,
   "id": "901af102",
   "metadata": {},
   "outputs": [
    {
     "name": "stdout",
     "output_type": "stream",
     "text": [
      "10 10 10\n"
     ]
    }
   ],
   "source": [
    "print(len(Company),len(job_posted),len(ratings))"
   ]
  },
  {
   "cell_type": "code",
   "execution_count": 29,
   "id": "b164ee98",
   "metadata": {},
   "outputs": [],
   "source": [
    "df=pd.DataFrame({'Company Neme':Company,'Job Posted':job_posted,'Rating':ratings})"
   ]
  },
  {
   "cell_type": "code",
   "execution_count": 30,
   "id": "cc00b295",
   "metadata": {},
   "outputs": [
    {
     "data": {
      "text/html": [
       "<div>\n",
       "<style scoped>\n",
       "    .dataframe tbody tr th:only-of-type {\n",
       "        vertical-align: middle;\n",
       "    }\n",
       "\n",
       "    .dataframe tbody tr th {\n",
       "        vertical-align: top;\n",
       "    }\n",
       "\n",
       "    .dataframe thead th {\n",
       "        text-align: right;\n",
       "    }\n",
       "</style>\n",
       "<table border=\"1\" class=\"dataframe\">\n",
       "  <thead>\n",
       "    <tr style=\"text-align: right;\">\n",
       "      <th></th>\n",
       "      <th>Company Neme</th>\n",
       "      <th>Job Posted</th>\n",
       "      <th>Rating</th>\n",
       "    </tr>\n",
       "  </thead>\n",
       "  <tbody>\n",
       "    <tr>\n",
       "      <th>0</th>\n",
       "      <td>GENPACT India Private Limited</td>\n",
       "      <td>12d ago</td>\n",
       "      <td>4.0</td>\n",
       "    </tr>\n",
       "    <tr>\n",
       "      <th>1</th>\n",
       "      <td>EXL Services.com ( I ) Pvt. Ltd.</td>\n",
       "      <td>5d ago</td>\n",
       "      <td>3.9</td>\n",
       "    </tr>\n",
       "    <tr>\n",
       "      <th>2</th>\n",
       "      <td>GENPACT India Private Limited</td>\n",
       "      <td>17d ago</td>\n",
       "      <td>4.0</td>\n",
       "    </tr>\n",
       "    <tr>\n",
       "      <th>3</th>\n",
       "      <td>TECHNIP GLOBAL BUSINESS SERVICES PRIVATE LIMITED</td>\n",
       "      <td>3d ago</td>\n",
       "      <td>3.9</td>\n",
       "    </tr>\n",
       "    <tr>\n",
       "      <th>4</th>\n",
       "      <td>Tech Mahindra Ltd</td>\n",
       "      <td>1mon ago</td>\n",
       "      <td>3.7</td>\n",
       "    </tr>\n",
       "    <tr>\n",
       "      <th>5</th>\n",
       "      <td>GENPACT India Private Limited</td>\n",
       "      <td>1mon ago</td>\n",
       "      <td>4.0</td>\n",
       "    </tr>\n",
       "    <tr>\n",
       "      <th>6</th>\n",
       "      <td>Bristlecone India Limited</td>\n",
       "      <td>12d ago</td>\n",
       "      <td>3.8</td>\n",
       "    </tr>\n",
       "    <tr>\n",
       "      <th>7</th>\n",
       "      <td>Zyoin</td>\n",
       "      <td>16d ago</td>\n",
       "      <td>4.1</td>\n",
       "    </tr>\n",
       "    <tr>\n",
       "      <th>8</th>\n",
       "      <td>Ashkom Media India Private Limited</td>\n",
       "      <td>3d ago</td>\n",
       "      <td>3.7</td>\n",
       "    </tr>\n",
       "    <tr>\n",
       "      <th>9</th>\n",
       "      <td>Newgen Software Technologies Ltd.</td>\n",
       "      <td>18d ago</td>\n",
       "      <td>3.5</td>\n",
       "    </tr>\n",
       "  </tbody>\n",
       "</table>\n",
       "</div>"
      ],
      "text/plain": [
       "                                       Company Neme Job Posted Rating\n",
       "0                     GENPACT India Private Limited    12d ago    4.0\n",
       "1                  EXL Services.com ( I ) Pvt. Ltd.     5d ago    3.9\n",
       "2                     GENPACT India Private Limited    17d ago    4.0\n",
       "3  TECHNIP GLOBAL BUSINESS SERVICES PRIVATE LIMITED     3d ago    3.9\n",
       "4                                 Tech Mahindra Ltd   1mon ago    3.7\n",
       "5                     GENPACT India Private Limited   1mon ago    4.0\n",
       "6                         Bristlecone India Limited    12d ago    3.8\n",
       "7                                             Zyoin    16d ago    4.1\n",
       "8                Ashkom Media India Private Limited     3d ago    3.7\n",
       "9                 Newgen Software Technologies Ltd.    18d ago    3.5"
      ]
     },
     "execution_count": 30,
     "metadata": {},
     "output_type": "execute_result"
    }
   ],
   "source": [
    "df"
   ]
  },
  {
   "cell_type": "markdown",
   "id": "844e0559",
   "metadata": {},
   "source": [
    "Q10: Write a python program to scrape the salary data for Data Scientist designation.\n",
    "You have to scrape Company name, Number of salaries, Average salary, Minsalary, Max Salary.\n",
    "The above task will be, done as shown in the below steps:\n",
    "1. First get the webpage https://www.ambitionbox.com/\n",
    "2. Click on the salaries option as shown in the image.\n",
    "ASSIGNMENT 2\n",
    "3. After reaching to the following webpage, In place of “Search Job Profile” enters “Data Scientist” and\n",
    "then click on “Data Scientist”.\n",
    "You have to scrape the data ticked in the above image.\n",
    "4. Scrape the data for the first 10 companies. Scrape the company name, total salary record, average\n",
    "salary, minimum salary, maximum salary, experience required.\n",
    "5. Store the data in a dataframe."
   ]
  },
  {
   "cell_type": "code",
   "execution_count": 1,
   "id": "70960090",
   "metadata": {},
   "outputs": [],
   "source": [
    "import selenium\n",
    "from selenium import webdriver\n",
    "import pandas as pd\n",
    "import warnings\n",
    "warnings.filterwarnings('ignore')"
   ]
  },
  {
   "cell_type": "code",
   "execution_count": 2,
   "id": "b27f782a",
   "metadata": {},
   "outputs": [],
   "source": [
    "driver=webdriver.Chrome('chromedriver.exe')"
   ]
  },
  {
   "cell_type": "code",
   "execution_count": 3,
   "id": "445758d7",
   "metadata": {},
   "outputs": [],
   "source": [
    "driver.get('https://www.ambitionbox.com/')"
   ]
  },
  {
   "cell_type": "code",
   "execution_count": 4,
   "id": "f9fb9bbf",
   "metadata": {},
   "outputs": [],
   "source": [
    "salaries=driver.find_element_by_xpath('//a[@class=\"link salaries\"]')\n",
    "salaries.click()"
   ]
  },
  {
   "cell_type": "code",
   "execution_count": 5,
   "id": "16192dfd",
   "metadata": {},
   "outputs": [],
   "source": [
    "job_profile = driver.find_element_by_xpath('/html/body/div/div/div/main/section[1]/div[2]/div[1]/span/input')\n",
    "\n",
    "job_profile.send_keys('Data Scientist')"
   ]
  },
  {
   "cell_type": "code",
   "execution_count": 6,
   "id": "43e16160",
   "metadata": {},
   "outputs": [],
   "source": [
    "select_DS = driver.find_element_by_xpath(\"/html/body/div/div/div/main/section[1]/div[2]/div[1]/span/div/div/div[1]/div/div/p\")\n",
    "select_DS.click()"
   ]
  },
  {
   "cell_type": "code",
   "execution_count": null,
   "id": "52affcda",
   "metadata": {},
   "outputs": [],
   "source": [
    "company=driver.find_elements_by_xpath('//div[@class=\"company-info\"]/div/a')\n",
    "company"
   ]
  },
  {
   "cell_type": "code",
   "execution_count": 8,
   "id": "e63fdef5",
   "metadata": {},
   "outputs": [],
   "source": [
    "companies=[]\n",
    "for i in company:\n",
    "    companies.append(i.text)"
   ]
  },
  {
   "cell_type": "code",
   "execution_count": null,
   "id": "98c11128",
   "metadata": {},
   "outputs": [],
   "source": [
    "companies"
   ]
  },
  {
   "cell_type": "code",
   "execution_count": null,
   "id": "d1196ab4",
   "metadata": {},
   "outputs": [],
   "source": [
    "total_salary=driver.find_elements_by_xpath('//div[@class=\"company-info\"]/div/span')\n",
    "total_salary"
   ]
  },
  {
   "cell_type": "code",
   "execution_count": 11,
   "id": "d0f50548",
   "metadata": {},
   "outputs": [],
   "source": [
    "total_sal_record=[]\n",
    "for i in range(0,len(total_salary),2)[0:20]:\n",
    "    total_sal_record.append(total_salary[i].text)"
   ]
  },
  {
   "cell_type": "code",
   "execution_count": null,
   "id": "059378b8",
   "metadata": {},
   "outputs": [],
   "source": [
    "total_sal_record"
   ]
  },
  {
   "cell_type": "code",
   "execution_count": null,
   "id": "917c9c2c",
   "metadata": {},
   "outputs": [],
   "source": [
    "min_sal=driver.find_elements_by_xpath('//div[@class=\"value body-medium\"]')\n",
    "min_sal"
   ]
  },
  {
   "cell_type": "code",
   "execution_count": 14,
   "id": "2ac5aeed",
   "metadata": {},
   "outputs": [],
   "source": [
    "min_salary=[]\n",
    "for i in range(0,len(min_sal),2)[0:20]:\n",
    "    min_salary.append(min_sal[i].text)"
   ]
  },
  {
   "cell_type": "code",
   "execution_count": null,
   "id": "25a9492b",
   "metadata": {},
   "outputs": [],
   "source": [
    " min_salary"
   ]
  },
  {
   "cell_type": "code",
   "execution_count": null,
   "id": "5fb37e33",
   "metadata": {},
   "outputs": [],
   "source": [
    "max_sal=driver.find_elements_by_xpath('//div[@class=\"value body-medium\"]')\n",
    "max_sal"
   ]
  },
  {
   "cell_type": "code",
   "execution_count": 17,
   "id": "480e0a0d",
   "metadata": {},
   "outputs": [],
   "source": [
    "max_salary=[]\n",
    "for i in range(1,len(max_sal),2)[0:20]:\n",
    "    max_salary.append(max_sal[i].text)"
   ]
  },
  {
   "cell_type": "code",
   "execution_count": null,
   "id": "7aaed777",
   "metadata": {},
   "outputs": [],
   "source": [
    "max_salary"
   ]
  },
  {
   "cell_type": "code",
   "execution_count": null,
   "id": "217d5457",
   "metadata": {},
   "outputs": [],
   "source": [
    "avg_sal=driver.find_elements_by_xpath('//p[@class=\"averageCtc\"]')\n",
    "avg_sal"
   ]
  },
  {
   "cell_type": "code",
   "execution_count": 20,
   "id": "e39d73df",
   "metadata": {},
   "outputs": [],
   "source": [
    "avg_salary=[]\n",
    "for i in avg_sal:\n",
    "    avg_salary.append(i.text)"
   ]
  },
  {
   "cell_type": "code",
   "execution_count": null,
   "id": "7d62422c",
   "metadata": {},
   "outputs": [],
   "source": [
    "avg_salary"
   ]
  },
  {
   "cell_type": "code",
   "execution_count": null,
   "id": "2a16ab88",
   "metadata": {},
   "outputs": [],
   "source": [
    "exp_req=driver.find_elements_by_xpath('//div[@class=\"salaries sbold-list-header\"]')\n",
    "exp_req"
   ]
  },
  {
   "cell_type": "code",
   "execution_count": 32,
   "id": "7cb0577d",
   "metadata": {},
   "outputs": [],
   "source": [
    "exp_re=[]\n",
    "for i in exp_req:\n",
    "    exp_re.append(i.text.replace('\\n','').replace('.','').replace('Data Scientist',''))"
   ]
  },
  {
   "cell_type": "code",
   "execution_count": null,
   "id": "42273bd2",
   "metadata": {},
   "outputs": [],
   "source": [
    "exp_re"
   ]
  },
  {
   "cell_type": "code",
   "execution_count": 34,
   "id": "a9618c95",
   "metadata": {},
   "outputs": [
    {
     "name": "stdout",
     "output_type": "stream",
     "text": [
      "10 10 10 10 10 10\n"
     ]
    }
   ],
   "source": [
    "print(len(companies),len(total_sal_record),len( min_salary),len(max_salary),len(avg_salary),len(exp_re))"
   ]
  },
  {
   "cell_type": "code",
   "execution_count": 35,
   "id": "21abf854",
   "metadata": {},
   "outputs": [],
   "source": [
    "df=pd.DataFrame({'Company Name':companies,'Total Salary Recorrd':total_sal_record,'Exp Req':exp_re,'Min Salary':min_salary,'Avg salary':avg_salary,'Max salary':max_salary})"
   ]
  },
  {
   "cell_type": "code",
   "execution_count": 36,
   "id": "e1e9a1ae",
   "metadata": {},
   "outputs": [
    {
     "data": {
      "text/html": [
       "<div>\n",
       "<style scoped>\n",
       "    .dataframe tbody tr th:only-of-type {\n",
       "        vertical-align: middle;\n",
       "    }\n",
       "\n",
       "    .dataframe tbody tr th {\n",
       "        vertical-align: top;\n",
       "    }\n",
       "\n",
       "    .dataframe thead th {\n",
       "        text-align: right;\n",
       "    }\n",
       "</style>\n",
       "<table border=\"1\" class=\"dataframe\">\n",
       "  <thead>\n",
       "    <tr style=\"text-align: right;\">\n",
       "      <th></th>\n",
       "      <th>Company Name</th>\n",
       "      <th>Total Salary Recorrd</th>\n",
       "      <th>Exp Req</th>\n",
       "      <th>Min Salary</th>\n",
       "      <th>Avg salary</th>\n",
       "      <th>Max salary</th>\n",
       "    </tr>\n",
       "  </thead>\n",
       "  <tbody>\n",
       "    <tr>\n",
       "      <th>0</th>\n",
       "      <td>Walmart</td>\n",
       "      <td>based on 11 salaries</td>\n",
       "      <td>3 yrs exp</td>\n",
       "      <td>₹ 25.0L</td>\n",
       "      <td>₹ 29.7L</td>\n",
       "      <td>₹ 35.0L</td>\n",
       "    </tr>\n",
       "    <tr>\n",
       "      <th>1</th>\n",
       "      <td>Ab Inbev</td>\n",
       "      <td>based on 32 salaries</td>\n",
       "      <td>3-4 yrs exp</td>\n",
       "      <td>₹ 15.0L</td>\n",
       "      <td>₹ 20.5L</td>\n",
       "      <td>₹ 25.5L</td>\n",
       "    </tr>\n",
       "    <tr>\n",
       "      <th>2</th>\n",
       "      <td>Reliance Jio</td>\n",
       "      <td>based on 10 salaries</td>\n",
       "      <td>4 yrs exp</td>\n",
       "      <td>₹ 5.6L</td>\n",
       "      <td>₹ 18.9L</td>\n",
       "      <td>₹ 26.2L</td>\n",
       "    </tr>\n",
       "    <tr>\n",
       "      <th>3</th>\n",
       "      <td>ZS</td>\n",
       "      <td>based on 15 salaries</td>\n",
       "      <td>2 yrs exp</td>\n",
       "      <td>₹ 9.8L</td>\n",
       "      <td>₹ 15.9L</td>\n",
       "      <td>₹ 20.0L</td>\n",
       "    </tr>\n",
       "    <tr>\n",
       "      <th>4</th>\n",
       "      <td>Optum</td>\n",
       "      <td>based on 27 salaries</td>\n",
       "      <td>3-4 yrs exp</td>\n",
       "      <td>₹ 11.0L</td>\n",
       "      <td>₹ 15.2L</td>\n",
       "      <td>₹ 22.0L</td>\n",
       "    </tr>\n",
       "    <tr>\n",
       "      <th>5</th>\n",
       "      <td>Fractal Analytics</td>\n",
       "      <td>based on 81 salaries</td>\n",
       "      <td>2-4 yrs exp</td>\n",
       "      <td>₹ 9.5L</td>\n",
       "      <td>₹ 15.2L</td>\n",
       "      <td>₹ 22.0L</td>\n",
       "    </tr>\n",
       "    <tr>\n",
       "      <th>6</th>\n",
       "      <td>Tiger Analytics</td>\n",
       "      <td>based on 46 salaries</td>\n",
       "      <td>2-4 yrs exp</td>\n",
       "      <td>₹ 9.0L</td>\n",
       "      <td>₹ 14.8L</td>\n",
       "      <td>₹ 20.0L</td>\n",
       "    </tr>\n",
       "    <tr>\n",
       "      <th>7</th>\n",
       "      <td>UnitedHealth</td>\n",
       "      <td>based on 53 salaries</td>\n",
       "      <td>2-4 yrs exp</td>\n",
       "      <td>₹ 8.3L</td>\n",
       "      <td>₹ 14.0L</td>\n",
       "      <td>₹ 20.5L</td>\n",
       "    </tr>\n",
       "    <tr>\n",
       "      <th>8</th>\n",
       "      <td>Verizon</td>\n",
       "      <td>based on 14 salaries</td>\n",
       "      <td>4 yrs exp</td>\n",
       "      <td>₹ 10.0L</td>\n",
       "      <td>₹ 12.7L</td>\n",
       "      <td>₹ 21.0L</td>\n",
       "    </tr>\n",
       "    <tr>\n",
       "      <th>9</th>\n",
       "      <td>Ganit Business Solutions</td>\n",
       "      <td>based on 13 salaries</td>\n",
       "      <td>4 yrs exp</td>\n",
       "      <td>₹ 8.5L</td>\n",
       "      <td>₹ 12.4L</td>\n",
       "      <td>₹ 15.0L</td>\n",
       "    </tr>\n",
       "  </tbody>\n",
       "</table>\n",
       "</div>"
      ],
      "text/plain": [
       "               Company Name  Total Salary Recorrd        Exp Req Min Salary  \\\n",
       "0                   Walmart  based on 11 salaries      3 yrs exp    ₹ 25.0L   \n",
       "1                  Ab Inbev  based on 32 salaries    3-4 yrs exp    ₹ 15.0L   \n",
       "2              Reliance Jio  based on 10 salaries      4 yrs exp     ₹ 5.6L   \n",
       "3                        ZS  based on 15 salaries      2 yrs exp     ₹ 9.8L   \n",
       "4                     Optum  based on 27 salaries    3-4 yrs exp    ₹ 11.0L   \n",
       "5         Fractal Analytics  based on 81 salaries    2-4 yrs exp     ₹ 9.5L   \n",
       "6           Tiger Analytics  based on 46 salaries    2-4 yrs exp     ₹ 9.0L   \n",
       "7              UnitedHealth  based on 53 salaries    2-4 yrs exp     ₹ 8.3L   \n",
       "8                   Verizon  based on 14 salaries      4 yrs exp    ₹ 10.0L   \n",
       "9  Ganit Business Solutions  based on 13 salaries      4 yrs exp     ₹ 8.5L   \n",
       "\n",
       "  Avg salary Max salary  \n",
       "0    ₹ 29.7L    ₹ 35.0L  \n",
       "1    ₹ 20.5L    ₹ 25.5L  \n",
       "2    ₹ 18.9L    ₹ 26.2L  \n",
       "3    ₹ 15.9L    ₹ 20.0L  \n",
       "4    ₹ 15.2L    ₹ 22.0L  \n",
       "5    ₹ 15.2L    ₹ 22.0L  \n",
       "6    ₹ 14.8L    ₹ 20.0L  \n",
       "7    ₹ 14.0L    ₹ 20.5L  \n",
       "8    ₹ 12.7L    ₹ 21.0L  \n",
       "9    ₹ 12.4L    ₹ 15.0L  "
      ]
     },
     "execution_count": 36,
     "metadata": {},
     "output_type": "execute_result"
    }
   ],
   "source": [
    "df"
   ]
  },
  {
   "cell_type": "code",
   "execution_count": null,
   "id": "d53b7c71",
   "metadata": {},
   "outputs": [],
   "source": []
  }
 ],
 "metadata": {
  "kernelspec": {
   "display_name": "Python 3 (ipykernel)",
   "language": "python",
   "name": "python3"
  },
  "language_info": {
   "codemirror_mode": {
    "name": "ipython",
    "version": 3
   },
   "file_extension": ".py",
   "mimetype": "text/x-python",
   "name": "python",
   "nbconvert_exporter": "python",
   "pygments_lexer": "ipython3",
   "version": "3.9.7"
  }
 },
 "nbformat": 4,
 "nbformat_minor": 5
}
