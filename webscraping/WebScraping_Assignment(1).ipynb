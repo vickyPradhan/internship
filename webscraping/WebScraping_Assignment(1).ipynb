{
 "cells": [
  {
   "cell_type": "markdown",
   "id": "d8605797",
   "metadata": {},
   "source": [
    "# 1) Write a python program to display all the header tags from wikipedia.org.¶"
   ]
  },
  {
   "cell_type": "code",
   "execution_count": 1,
   "id": "1a848d0d",
   "metadata": {},
   "outputs": [],
   "source": [
    "import bs4\n",
    "from bs4 import BeautifulSoup\n",
    "import requests"
   ]
  },
  {
   "cell_type": "code",
   "execution_count": 2,
   "id": "64483ee3",
   "metadata": {},
   "outputs": [],
   "source": [
    "page=requests.get('https://en.wikipedia.org/wiki/Main_Page')"
   ]
  },
  {
   "cell_type": "code",
   "execution_count": null,
   "id": "ce0ae2d8",
   "metadata": {},
   "outputs": [],
   "source": [
    "page"
   ]
  },
  {
   "cell_type": "code",
   "execution_count": null,
   "id": "49b288d2",
   "metadata": {},
   "outputs": [],
   "source": [
    "soup=BeautifulSoup(page.content)\n",
    "soup"
   ]
  },
  {
   "cell_type": "code",
   "execution_count": 5,
   "id": "d2421782",
   "metadata": {},
   "outputs": [],
   "source": [
    "header=[]"
   ]
  },
  {
   "cell_type": "code",
   "execution_count": 6,
   "id": "87765a73",
   "metadata": {},
   "outputs": [],
   "source": [
    "for i in soup.find_all('span',class_=\"mw-headline\"):\n",
    "    header.append(i.text)"
   ]
  },
  {
   "cell_type": "code",
   "execution_count": 7,
   "id": "f606295d",
   "metadata": {},
   "outputs": [
    {
     "data": {
      "text/plain": [
       "['Welcome to Wikipedia',\n",
       " \"From today's featured article\",\n",
       " 'Did you know\\xa0...',\n",
       " 'In the news',\n",
       " 'On this day',\n",
       " \"Today's featured picture\",\n",
       " 'Other areas of Wikipedia',\n",
       " \"Wikipedia's sister projects\",\n",
       " 'Wikipedia languages']"
      ]
     },
     "execution_count": 7,
     "metadata": {},
     "output_type": "execute_result"
    }
   ],
   "source": [
    "header   "
   ]
  },
  {
   "cell_type": "markdown",
   "id": "596e9dde",
   "metadata": {},
   "source": [
    "# 2) Write a python program to display IMDB’s Top rated 100 movies’ data (i.e. name, rating, year of release)and make data frame.\n"
   ]
  },
  {
   "cell_type": "code",
   "execution_count": 15,
   "id": "be6acf1a",
   "metadata": {},
   "outputs": [],
   "source": [
    "from bs4 import BeautifulSoup\n",
    "import requests"
   ]
  },
  {
   "cell_type": "code",
   "execution_count": 9,
   "id": "d516fb16",
   "metadata": {},
   "outputs": [],
   "source": [
    "page=requests.get('https://www.imdb.com/list/ls091520106/')"
   ]
  },
  {
   "cell_type": "code",
   "execution_count": null,
   "id": "a00ef860",
   "metadata": {},
   "outputs": [],
   "source": [
    "page"
   ]
  },
  {
   "cell_type": "code",
   "execution_count": 11,
   "id": "aa28ac4f",
   "metadata": {},
   "outputs": [],
   "source": [
    "soup=BeautifulSoup(page.content)"
   ]
  },
  {
   "cell_type": "code",
   "execution_count": null,
   "id": "383c6d91",
   "metadata": {},
   "outputs": [],
   "source": [
    "soup"
   ]
  },
  {
   "cell_type": "code",
   "execution_count": 17,
   "id": "40f2237e",
   "metadata": {},
   "outputs": [],
   "source": [
    "movie_name=[]\n",
    "year=[]\n",
    "ratings=[]"
   ]
  },
  {
   "cell_type": "code",
   "execution_count": 18,
   "id": "708c3271",
   "metadata": {},
   "outputs": [],
   "source": [
    "movie_data=soup.findAll('div',attrs={'class':\"lister-item mode-detail\"})"
   ]
  },
  {
   "cell_type": "code",
   "execution_count": null,
   "id": "31cbf3eb",
   "metadata": {},
   "outputs": [],
   "source": [
    "movie_data"
   ]
  },
  {
   "cell_type": "code",
   "execution_count": 20,
   "id": "18da5c25",
   "metadata": {},
   "outputs": [],
   "source": [
    "for store in movie_data:\n",
    "    \n",
    "    name=store.h3.a.text\n",
    "    movie_name.append(name)\n",
    "    \n",
    "    year_of_release=store.h3.find('span',class_='lister-item-year text-muted unbold').text\n",
    "    year.append(year_of_release)\n",
    "    \n",
    "    rate=store.find('div',class_='ipl-rating-star small').text.replace('\\n','')\n",
    "    ratings.append(rate)"
   ]
  },
  {
   "cell_type": "code",
   "execution_count": 21,
   "id": "e4b1e93e",
   "metadata": {},
   "outputs": [
    {
     "name": "stdout",
     "output_type": "stream",
     "text": [
      "100 100 100\n"
     ]
    }
   ],
   "source": [
    "print(len(movie_name),len(year),len(ratings))"
   ]
  },
  {
   "cell_type": "code",
   "execution_count": 22,
   "id": "04120963",
   "metadata": {},
   "outputs": [],
   "source": [
    "import pandas as pd"
   ]
  },
  {
   "cell_type": "code",
   "execution_count": 23,
   "id": "19dac31b",
   "metadata": {},
   "outputs": [
    {
     "data": {
      "text/html": [
       "<div>\n",
       "<style scoped>\n",
       "    .dataframe tbody tr th:only-of-type {\n",
       "        vertical-align: middle;\n",
       "    }\n",
       "\n",
       "    .dataframe tbody tr th {\n",
       "        vertical-align: top;\n",
       "    }\n",
       "\n",
       "    .dataframe thead th {\n",
       "        text-align: right;\n",
       "    }\n",
       "</style>\n",
       "<table border=\"1\" class=\"dataframe\">\n",
       "  <thead>\n",
       "    <tr style=\"text-align: right;\">\n",
       "      <th></th>\n",
       "      <th>Movie Name</th>\n",
       "      <th>Year Of Release</th>\n",
       "      <th>Movie Ratings</th>\n",
       "    </tr>\n",
       "  </thead>\n",
       "  <tbody>\n",
       "    <tr>\n",
       "      <th>0</th>\n",
       "      <td>The Shawshank Redemption</td>\n",
       "      <td>(1994)</td>\n",
       "      <td>9.3</td>\n",
       "    </tr>\n",
       "    <tr>\n",
       "      <th>1</th>\n",
       "      <td>The Godfather</td>\n",
       "      <td>(1972)</td>\n",
       "      <td>9.2</td>\n",
       "    </tr>\n",
       "    <tr>\n",
       "      <th>2</th>\n",
       "      <td>The Godfather: Part II</td>\n",
       "      <td>(1974)</td>\n",
       "      <td>9</td>\n",
       "    </tr>\n",
       "    <tr>\n",
       "      <th>3</th>\n",
       "      <td>The Dark Knight</td>\n",
       "      <td>(2008)</td>\n",
       "      <td>9</td>\n",
       "    </tr>\n",
       "    <tr>\n",
       "      <th>4</th>\n",
       "      <td>12 Angry Men</td>\n",
       "      <td>(1957)</td>\n",
       "      <td>9</td>\n",
       "    </tr>\n",
       "    <tr>\n",
       "      <th>...</th>\n",
       "      <td>...</td>\n",
       "      <td>...</td>\n",
       "      <td>...</td>\n",
       "    </tr>\n",
       "    <tr>\n",
       "      <th>95</th>\n",
       "      <td>North by Northwest</td>\n",
       "      <td>(1959)</td>\n",
       "      <td>8.3</td>\n",
       "    </tr>\n",
       "    <tr>\n",
       "      <th>96</th>\n",
       "      <td>A Clockwork Orange</td>\n",
       "      <td>(1971)</td>\n",
       "      <td>8.3</td>\n",
       "    </tr>\n",
       "    <tr>\n",
       "      <th>97</th>\n",
       "      <td>Snatch</td>\n",
       "      <td>(2000)</td>\n",
       "      <td>8.3</td>\n",
       "    </tr>\n",
       "    <tr>\n",
       "      <th>98</th>\n",
       "      <td>Le fabuleux destin d'Amélie Poulain</td>\n",
       "      <td>(2001)</td>\n",
       "      <td>8.3</td>\n",
       "    </tr>\n",
       "    <tr>\n",
       "      <th>99</th>\n",
       "      <td>The Kid</td>\n",
       "      <td>(1921)</td>\n",
       "      <td>8.3</td>\n",
       "    </tr>\n",
       "  </tbody>\n",
       "</table>\n",
       "<p>100 rows × 3 columns</p>\n",
       "</div>"
      ],
      "text/plain": [
       "                             Movie Name Year Of Release Movie Ratings\n",
       "0              The Shawshank Redemption          (1994)           9.3\n",
       "1                         The Godfather          (1972)           9.2\n",
       "2                The Godfather: Part II          (1974)             9\n",
       "3                       The Dark Knight          (2008)             9\n",
       "4                          12 Angry Men          (1957)             9\n",
       "..                                  ...             ...           ...\n",
       "95                   North by Northwest          (1959)           8.3\n",
       "96                   A Clockwork Orange          (1971)           8.3\n",
       "97                               Snatch          (2000)           8.3\n",
       "98  Le fabuleux destin d'Amélie Poulain          (2001)           8.3\n",
       "99                              The Kid          (1921)           8.3\n",
       "\n",
       "[100 rows x 3 columns]"
      ]
     },
     "execution_count": 23,
     "metadata": {},
     "output_type": "execute_result"
    }
   ],
   "source": [
    "Movies_df=pd.DataFrame({'Movie Name':movie_name,'Year Of Release':year,'Movie Ratings':ratings})\n",
    "Movies_df"
   ]
  },
  {
   "cell_type": "markdown",
   "id": "586e8454",
   "metadata": {},
   "source": [
    "# 3.Write a python program to display IMDB’s Top rated 100 Indian movies’ data (i.e. name, rating, year ofrelease) and make data frame."
   ]
  },
  {
   "cell_type": "code",
   "execution_count": 26,
   "id": "9dde0532",
   "metadata": {},
   "outputs": [],
   "source": [
    "from bs4 import BeautifulSoup\n",
    "import requests"
   ]
  },
  {
   "cell_type": "code",
   "execution_count": 27,
   "id": "01dde032",
   "metadata": {},
   "outputs": [],
   "source": [
    "page=requests.get('https://www.imdb.com/list/ls009997493/?sort=user_rating,desc&st_dt=&mode=detail&page=1')"
   ]
  },
  {
   "cell_type": "code",
   "execution_count": null,
   "id": "355c56ef",
   "metadata": {},
   "outputs": [],
   "source": [
    "page"
   ]
  },
  {
   "cell_type": "code",
   "execution_count": 29,
   "id": "9d437e9f",
   "metadata": {},
   "outputs": [],
   "source": [
    "soup=BeautifulSoup(page.content,'html.parser')"
   ]
  },
  {
   "cell_type": "code",
   "execution_count": null,
   "id": "3c3df638",
   "metadata": {},
   "outputs": [],
   "source": [
    "soup"
   ]
  },
  {
   "cell_type": "code",
   "execution_count": 31,
   "id": "5347901e",
   "metadata": {},
   "outputs": [],
   "source": [
    "movie_name=[]\n",
    "year=[]\n",
    "rating=[]"
   ]
  },
  {
   "cell_type": "code",
   "execution_count": 32,
   "id": "f1c6bb8c",
   "metadata": {},
   "outputs": [],
   "source": [
    "movie_data=soup.findAll('div',attrs={'class':\"lister-item mode-detail\"})"
   ]
  },
  {
   "cell_type": "code",
   "execution_count": null,
   "id": "ad58c696",
   "metadata": {},
   "outputs": [],
   "source": [
    "movie_data"
   ]
  },
  {
   "cell_type": "code",
   "execution_count": 34,
   "id": "ea1ce346",
   "metadata": {},
   "outputs": [],
   "source": [
    "for store in movie_data:\n",
    "    \n",
    "    name=store.h3.a.text\n",
    "    movie_name.append(name)\n",
    "    \n",
    "    year_of_release=store.h3.find('span',class_='lister-item-year text-muted unbold').text\n",
    "    year.append(year_of_release)\n",
    "    \n",
    "    rate=store.find('div',class_='ipl-rating-star small').text.replace('\\n','')\n",
    "    rating.append(rate)"
   ]
  },
  {
   "cell_type": "code",
   "execution_count": 37,
   "id": "645e69f6",
   "metadata": {},
   "outputs": [
    {
     "name": "stdout",
     "output_type": "stream",
     "text": [
      "100 100 100\n"
     ]
    }
   ],
   "source": [
    "print(len(movie_name),len(year),len(rating))"
   ]
  },
  {
   "cell_type": "code",
   "execution_count": 38,
   "id": "ba046075",
   "metadata": {},
   "outputs": [],
   "source": [
    "import pandas as pd"
   ]
  },
  {
   "cell_type": "code",
   "execution_count": 39,
   "id": "1df088a9",
   "metadata": {},
   "outputs": [
    {
     "data": {
      "text/html": [
       "<div>\n",
       "<style scoped>\n",
       "    .dataframe tbody tr th:only-of-type {\n",
       "        vertical-align: middle;\n",
       "    }\n",
       "\n",
       "    .dataframe tbody tr th {\n",
       "        vertical-align: top;\n",
       "    }\n",
       "\n",
       "    .dataframe thead th {\n",
       "        text-align: right;\n",
       "    }\n",
       "</style>\n",
       "<table border=\"1\" class=\"dataframe\">\n",
       "  <thead>\n",
       "    <tr style=\"text-align: right;\">\n",
       "      <th></th>\n",
       "      <th>Movie Name</th>\n",
       "      <th>Year Of Release</th>\n",
       "      <th>Movie Ratings</th>\n",
       "    </tr>\n",
       "  </thead>\n",
       "  <tbody>\n",
       "    <tr>\n",
       "      <th>0</th>\n",
       "      <td>Golmaal</td>\n",
       "      <td>(1979)</td>\n",
       "      <td>8.5</td>\n",
       "    </tr>\n",
       "    <tr>\n",
       "      <th>1</th>\n",
       "      <td>3 Idiots</td>\n",
       "      <td>(2009)</td>\n",
       "      <td>8.4</td>\n",
       "    </tr>\n",
       "    <tr>\n",
       "      <th>2</th>\n",
       "      <td>Taare Zameen Par</td>\n",
       "      <td>(2007)</td>\n",
       "      <td>8.4</td>\n",
       "    </tr>\n",
       "    <tr>\n",
       "      <th>3</th>\n",
       "      <td>Black Friday</td>\n",
       "      <td>(2004)</td>\n",
       "      <td>8.4</td>\n",
       "    </tr>\n",
       "    <tr>\n",
       "      <th>4</th>\n",
       "      <td>Masoom</td>\n",
       "      <td>(1983)</td>\n",
       "      <td>8.4</td>\n",
       "    </tr>\n",
       "    <tr>\n",
       "      <th>...</th>\n",
       "      <td>...</td>\n",
       "      <td>...</td>\n",
       "      <td>...</td>\n",
       "    </tr>\n",
       "    <tr>\n",
       "      <th>95</th>\n",
       "      <td>Gunda</td>\n",
       "      <td>(1998)</td>\n",
       "      <td>7.5</td>\n",
       "    </tr>\n",
       "    <tr>\n",
       "      <th>96</th>\n",
       "      <td>Jaane Tu... Ya Jaane Na</td>\n",
       "      <td>(2008)</td>\n",
       "      <td>7.4</td>\n",
       "    </tr>\n",
       "    <tr>\n",
       "      <th>97</th>\n",
       "      <td>Qayamat Se Qayamat Tak</td>\n",
       "      <td>(1988)</td>\n",
       "      <td>7.4</td>\n",
       "    </tr>\n",
       "    <tr>\n",
       "      <th>98</th>\n",
       "      <td>Rangeela</td>\n",
       "      <td>(1995)</td>\n",
       "      <td>7.4</td>\n",
       "    </tr>\n",
       "    <tr>\n",
       "      <th>99</th>\n",
       "      <td>Socha Na Tha</td>\n",
       "      <td>(2005)</td>\n",
       "      <td>7.4</td>\n",
       "    </tr>\n",
       "  </tbody>\n",
       "</table>\n",
       "<p>100 rows × 3 columns</p>\n",
       "</div>"
      ],
      "text/plain": [
       "                 Movie Name Year Of Release Movie Ratings\n",
       "0                   Golmaal          (1979)           8.5\n",
       "1                  3 Idiots          (2009)           8.4\n",
       "2          Taare Zameen Par          (2007)           8.4\n",
       "3              Black Friday          (2004)           8.4\n",
       "4                    Masoom          (1983)           8.4\n",
       "..                      ...             ...           ...\n",
       "95                    Gunda          (1998)           7.5\n",
       "96  Jaane Tu... Ya Jaane Na          (2008)           7.4\n",
       "97   Qayamat Se Qayamat Tak          (1988)           7.4\n",
       "98                 Rangeela          (1995)           7.4\n",
       "99             Socha Na Tha          (2005)           7.4\n",
       "\n",
       "[100 rows x 3 columns]"
      ]
     },
     "execution_count": 39,
     "metadata": {},
     "output_type": "execute_result"
    }
   ],
   "source": [
    "df=pd.DataFrame({'Movie Name':movie_name,'Year Of Release':year,'Movie Ratings':rating})\n",
    "df"
   ]
  },
  {
   "cell_type": "markdown",
   "id": "8c957252",
   "metadata": {},
   "source": [
    "# 4) Write a python program to scrape product name, price and discounts from https://meesho.com/bags\u0002ladies/pl/p7vbp . "
   ]
  },
  {
   "cell_type": "code",
   "execution_count": 1,
   "id": "9e0d4a8a",
   "metadata": {},
   "outputs": [],
   "source": [
    "from bs4 import BeautifulSoup\n",
    "import requests"
   ]
  },
  {
   "cell_type": "code",
   "execution_count": 2,
   "id": "88be9941",
   "metadata": {},
   "outputs": [],
   "source": [
    "page=requests.get('https://meesho.com/bags%02ladies/pl/p7vbp')"
   ]
  },
  {
   "cell_type": "code",
   "execution_count": 3,
   "id": "90075e01",
   "metadata": {},
   "outputs": [
    {
     "data": {
      "text/plain": [
       "<Response [200]>"
      ]
     },
     "execution_count": 3,
     "metadata": {},
     "output_type": "execute_result"
    }
   ],
   "source": [
    "page"
   ]
  },
  {
   "cell_type": "code",
   "execution_count": 4,
   "id": "e23d3394",
   "metadata": {},
   "outputs": [],
   "source": [
    "soup=BeautifulSoup(page.content)"
   ]
  },
  {
   "cell_type": "code",
   "execution_count": null,
   "id": "96370ee4",
   "metadata": {},
   "outputs": [],
   "source": [
    "soup"
   ]
  },
  {
   "cell_type": "code",
   "execution_count": 6,
   "id": "0032f127",
   "metadata": {},
   "outputs": [],
   "source": [
    "product_name=[]"
   ]
  },
  {
   "cell_type": "code",
   "execution_count": 7,
   "id": "b9a81726",
   "metadata": {},
   "outputs": [],
   "source": [
    "for i in soup.find_all('p',class_='Text__StyledText-sc-oo0kvp-0 bWSOET NewProductCard__ProductTitle_Desktop-sc-j0e7tu-4 cQhePS NewProductCard__ProductTitle_Desktop-sc-j0e7tu-4 cQhePS'):\n",
    "    product_name.append(i.text)"
   ]
  },
  {
   "cell_type": "code",
   "execution_count": null,
   "id": "78521403",
   "metadata": {},
   "outputs": [],
   "source": [
    "product_name"
   ]
  },
  {
   "cell_type": "code",
   "execution_count": 9,
   "id": "a411b30e",
   "metadata": {},
   "outputs": [],
   "source": [
    "price=[]"
   ]
  },
  {
   "cell_type": "code",
   "execution_count": 10,
   "id": "0978583b",
   "metadata": {},
   "outputs": [],
   "source": [
    "for i in soup.find_all('h5',class_='Text__StyledText-sc-oo0kvp-0 hiHdyy'):\n",
    "    price.append(i.text)"
   ]
  },
  {
   "cell_type": "code",
   "execution_count": null,
   "id": "a023b62a",
   "metadata": {},
   "outputs": [],
   "source": [
    "price"
   ]
  },
  {
   "cell_type": "code",
   "execution_count": 17,
   "id": "c14a01f6",
   "metadata": {},
   "outputs": [],
   "source": [
    "discount=[]"
   ]
  },
  {
   "cell_type": "code",
   "execution_count": 18,
   "id": "c5a70512",
   "metadata": {},
   "outputs": [],
   "source": [
    "for i in soup.find_all('span',class_='Text__StyledText-sc-oo0kvp-0 lnonyH'):\n",
    "    discount.append(i.text.replace('off',''))"
   ]
  },
  {
   "cell_type": "code",
   "execution_count": null,
   "id": "b869ace0",
   "metadata": {},
   "outputs": [],
   "source": [
    "discount"
   ]
  },
  {
   "cell_type": "code",
   "execution_count": 20,
   "id": "1317ed55",
   "metadata": {},
   "outputs": [
    {
     "name": "stdout",
     "output_type": "stream",
     "text": [
      "17 17 17\n"
     ]
    }
   ],
   "source": [
    "print(len(product_name),len(price),len(discount))"
   ]
  },
  {
   "cell_type": "code",
   "execution_count": 21,
   "id": "5ce74e18",
   "metadata": {},
   "outputs": [],
   "source": [
    "import pandas as pd"
   ]
  },
  {
   "cell_type": "code",
   "execution_count": 24,
   "id": "a9bf386d",
   "metadata": {},
   "outputs": [],
   "source": [
    "df=pd.DataFrame({'Product Name':product_name,'Price':price,'Discount':discount})"
   ]
  },
  {
   "cell_type": "code",
   "execution_count": 25,
   "id": "71282ece",
   "metadata": {},
   "outputs": [
    {
     "data": {
      "text/html": [
       "<div>\n",
       "<style scoped>\n",
       "    .dataframe tbody tr th:only-of-type {\n",
       "        vertical-align: middle;\n",
       "    }\n",
       "\n",
       "    .dataframe tbody tr th {\n",
       "        vertical-align: top;\n",
       "    }\n",
       "\n",
       "    .dataframe thead th {\n",
       "        text-align: right;\n",
       "    }\n",
       "</style>\n",
       "<table border=\"1\" class=\"dataframe\">\n",
       "  <thead>\n",
       "    <tr style=\"text-align: right;\">\n",
       "      <th></th>\n",
       "      <th>Product Name</th>\n",
       "      <th>Price</th>\n",
       "      <th>Discount</th>\n",
       "    </tr>\n",
       "  </thead>\n",
       "  <tbody>\n",
       "    <tr>\n",
       "      <th>0</th>\n",
       "      <td>Ravishing Classy Women Handbags</td>\n",
       "      <td>₹950</td>\n",
       "      <td>5%</td>\n",
       "    </tr>\n",
       "    <tr>\n",
       "      <th>1</th>\n",
       "      <td>Graceful Fancy Women Handbags</td>\n",
       "      <td>₹528</td>\n",
       "      <td>9%</td>\n",
       "    </tr>\n",
       "    <tr>\n",
       "      <th>2</th>\n",
       "      <td>Classic Versatile Women Handbags</td>\n",
       "      <td>₹950</td>\n",
       "      <td>5%</td>\n",
       "    </tr>\n",
       "    <tr>\n",
       "      <th>3</th>\n",
       "      <td>Ravishing Alluring Women Handbags</td>\n",
       "      <td>₹384</td>\n",
       "      <td>12%</td>\n",
       "    </tr>\n",
       "    <tr>\n",
       "      <th>4</th>\n",
       "      <td>Voguish Fancy Women Handbags</td>\n",
       "      <td>₹1549</td>\n",
       "      <td>3%</td>\n",
       "    </tr>\n",
       "    <tr>\n",
       "      <th>5</th>\n",
       "      <td>Ravishing Fashionable Women Handbags</td>\n",
       "      <td>₹316</td>\n",
       "      <td>14%</td>\n",
       "    </tr>\n",
       "    <tr>\n",
       "      <th>6</th>\n",
       "      <td>Classic Stylish Women Handbags</td>\n",
       "      <td>₹3202</td>\n",
       "      <td>2%</td>\n",
       "    </tr>\n",
       "    <tr>\n",
       "      <th>7</th>\n",
       "      <td>Graceful Versatile Women Handbags</td>\n",
       "      <td>₹950</td>\n",
       "      <td>5%</td>\n",
       "    </tr>\n",
       "    <tr>\n",
       "      <th>8</th>\n",
       "      <td>Elegant Classy Women Handbags</td>\n",
       "      <td>₹950</td>\n",
       "      <td>5%</td>\n",
       "    </tr>\n",
       "    <tr>\n",
       "      <th>9</th>\n",
       "      <td>Elegant Alluring Women Handbags</td>\n",
       "      <td>₹2337</td>\n",
       "      <td>2%</td>\n",
       "    </tr>\n",
       "    <tr>\n",
       "      <th>10</th>\n",
       "      <td>Graceful Attractive Women Handbags</td>\n",
       "      <td>₹550</td>\n",
       "      <td>8%</td>\n",
       "    </tr>\n",
       "    <tr>\n",
       "      <th>11</th>\n",
       "      <td>Trendy Alluring Women Handbags</td>\n",
       "      <td>₹1320</td>\n",
       "      <td>4%</td>\n",
       "    </tr>\n",
       "    <tr>\n",
       "      <th>12</th>\n",
       "      <td>Elegant Fashionable Women Handbags</td>\n",
       "      <td>₹725</td>\n",
       "      <td>6%</td>\n",
       "    </tr>\n",
       "    <tr>\n",
       "      <th>13</th>\n",
       "      <td>Classic Alluring Women Handbags</td>\n",
       "      <td>₹518</td>\n",
       "      <td>9%</td>\n",
       "    </tr>\n",
       "    <tr>\n",
       "      <th>14</th>\n",
       "      <td>Classic Fashionable Women Handbags</td>\n",
       "      <td>₹620</td>\n",
       "      <td>7%</td>\n",
       "    </tr>\n",
       "    <tr>\n",
       "      <th>15</th>\n",
       "      <td>Classic Fancy Women Handbags</td>\n",
       "      <td>₹646</td>\n",
       "      <td>7%</td>\n",
       "    </tr>\n",
       "    <tr>\n",
       "      <th>16</th>\n",
       "      <td>Trendy Alluring Women Handbags</td>\n",
       "      <td>₹950</td>\n",
       "      <td>5%</td>\n",
       "    </tr>\n",
       "  </tbody>\n",
       "</table>\n",
       "</div>"
      ],
      "text/plain": [
       "                            Product Name  Price Discount\n",
       "0        Ravishing Classy Women Handbags   ₹950      5% \n",
       "1          Graceful Fancy Women Handbags   ₹528      9% \n",
       "2       Classic Versatile Women Handbags   ₹950      5% \n",
       "3      Ravishing Alluring Women Handbags   ₹384     12% \n",
       "4           Voguish Fancy Women Handbags  ₹1549      3% \n",
       "5   Ravishing Fashionable Women Handbags   ₹316     14% \n",
       "6         Classic Stylish Women Handbags  ₹3202      2% \n",
       "7      Graceful Versatile Women Handbags   ₹950      5% \n",
       "8          Elegant Classy Women Handbags   ₹950      5% \n",
       "9        Elegant Alluring Women Handbags  ₹2337      2% \n",
       "10    Graceful Attractive Women Handbags   ₹550      8% \n",
       "11        Trendy Alluring Women Handbags  ₹1320      4% \n",
       "12    Elegant Fashionable Women Handbags   ₹725      6% \n",
       "13       Classic Alluring Women Handbags   ₹518      9% \n",
       "14    Classic Fashionable Women Handbags   ₹620      7% \n",
       "15          Classic Fancy Women Handbags   ₹646      7% \n",
       "16        Trendy Alluring Women Handbags   ₹950      5% "
      ]
     },
     "execution_count": 25,
     "metadata": {},
     "output_type": "execute_result"
    }
   ],
   "source": [
    "df"
   ]
  },
  {
   "cell_type": "markdown",
   "id": "e3ee70cb",
   "metadata": {},
   "source": [
    "# 5) Write a python program to scrape cricket rankings from icc-cricket.com. You have to scrape:"
   ]
  },
  {
   "cell_type": "raw",
   "id": "6b4b128c",
   "metadata": {},
   "source": [
    "a) Top 10 ODI teams in men’s cricket along with the records for matches, points and rating.\n",
    "b) Top 10 ODI Batsmen along with the records of their team and rating.\n",
    "c) Top 10 ODI bowlers along with the records of their team and rating."
   ]
  },
  {
   "cell_type": "markdown",
   "id": "906fcd0a",
   "metadata": {},
   "source": [
    "# a) Top 10 ODI teams in men’s cricket along with the records for matches, points and rating."
   ]
  },
  {
   "cell_type": "code",
   "execution_count": null,
   "id": "ce3bdf8c",
   "metadata": {},
   "outputs": [],
   "source": []
  },
  {
   "cell_type": "code",
   "execution_count": null,
   "id": "41b5dca2",
   "metadata": {},
   "outputs": [],
   "source": [
    "#Every Rank1 position have diffent code in this site.....so hereby i 1st declare all data about rank 1 and after that for rest 9 teams or player asked according to question"
   ]
  },
  {
   "cell_type": "code",
   "execution_count": null,
   "id": "35c8d059",
   "metadata": {},
   "outputs": [],
   "source": []
  },
  {
   "cell_type": "code",
   "execution_count": 55,
   "id": "5c1c792a",
   "metadata": {},
   "outputs": [],
   "source": [
    "from bs4 import BeautifulSoup\n",
    "import requests"
   ]
  },
  {
   "cell_type": "code",
   "execution_count": 56,
   "id": "b0ef452b",
   "metadata": {},
   "outputs": [],
   "source": [
    "page=requests.get('https://www.icc-cricket.com/rankings/mens/team-rankings/odi')"
   ]
  },
  {
   "cell_type": "code",
   "execution_count": 57,
   "id": "552ad0f7",
   "metadata": {},
   "outputs": [
    {
     "data": {
      "text/plain": [
       "<Response [200]>"
      ]
     },
     "execution_count": 57,
     "metadata": {},
     "output_type": "execute_result"
    }
   ],
   "source": [
    "page"
   ]
  },
  {
   "cell_type": "code",
   "execution_count": 58,
   "id": "b530f174",
   "metadata": {},
   "outputs": [],
   "source": [
    "soup=BeautifulSoup(page.content)"
   ]
  },
  {
   "cell_type": "code",
   "execution_count": null,
   "id": "61e808ba",
   "metadata": {},
   "outputs": [],
   "source": [
    "soup"
   ]
  },
  {
   "cell_type": "code",
   "execution_count": 61,
   "id": "a2882ac4",
   "metadata": {},
   "outputs": [],
   "source": [
    "teams=[]"
   ]
  },
  {
   "cell_type": "code",
   "execution_count": 62,
   "id": "b71b8186",
   "metadata": {},
   "outputs": [],
   "source": [
    "for i in soup.find_all('span',class_='u-hide-phablet'):\n",
    "    teams.append(i.text)"
   ]
  },
  {
   "cell_type": "code",
   "execution_count": 63,
   "id": "444dda74",
   "metadata": {},
   "outputs": [],
   "source": [
    "Top10_teams=teams[:10]"
   ]
  },
  {
   "cell_type": "code",
   "execution_count": 64,
   "id": "e5e87f13",
   "metadata": {},
   "outputs": [
    {
     "data": {
      "text/plain": [
       "['New Zealand',\n",
       " 'England',\n",
       " 'Australia',\n",
       " 'India',\n",
       " 'South Africa',\n",
       " 'Pakistan',\n",
       " 'Bangladesh',\n",
       " 'Sri Lanka',\n",
       " 'West Indies',\n",
       " 'Afghanistan']"
      ]
     },
     "execution_count": 64,
     "metadata": {},
     "output_type": "execute_result"
    }
   ],
   "source": [
    "Top10_teams"
   ]
  },
  {
   "cell_type": "code",
   "execution_count": null,
   "id": "d3b978e9",
   "metadata": {},
   "outputs": [],
   "source": [
    "Teams=teams[1:10]   #rest 9 teams except rank1\n",
    "Teams"
   ]
  },
  {
   "cell_type": "code",
   "execution_count": 37,
   "id": "fb54d48c",
   "metadata": {},
   "outputs": [],
   "source": [
    "#for New zealand the code is different cause it was highlighted in different color\n",
    "\n",
    "#rank1"
   ]
  },
  {
   "cell_type": "code",
   "execution_count": 38,
   "id": "387a5fd4",
   "metadata": {},
   "outputs": [
    {
     "data": {
      "text/plain": [
       "'20'"
      ]
     },
     "execution_count": 38,
     "metadata": {},
     "output_type": "execute_result"
    }
   ],
   "source": [
    "#for NZ\n",
    "NZ_Match=soup.find('td',class_='rankings-block__banner--matches')\n",
    "NZ_Match.text"
   ]
  },
  {
   "cell_type": "code",
   "execution_count": 39,
   "id": "a0d2c939",
   "metadata": {},
   "outputs": [
    {
     "data": {
      "text/plain": [
       "'2,448'"
      ]
     },
     "execution_count": 39,
     "metadata": {},
     "output_type": "execute_result"
    }
   ],
   "source": [
    "NZ_points=soup.find('td',class_='rankings-block__banner--points')\n",
    "NZ_points.text"
   ]
  },
  {
   "cell_type": "code",
   "execution_count": 40,
   "id": "dc4069cd",
   "metadata": {},
   "outputs": [
    {
     "data": {
      "text/plain": [
       "'                            122                            '"
      ]
     },
     "execution_count": 40,
     "metadata": {},
     "output_type": "execute_result"
    }
   ],
   "source": [
    "NZ_ratings=soup.find('td',class_='rankings-block__banner--rating u-text-right')\n",
    "NZ_ratings.text.replace('\\n','')"
   ]
  },
  {
   "cell_type": "code",
   "execution_count": 68,
   "id": "491fecb5",
   "metadata": {},
   "outputs": [],
   "source": [
    "Match_N_points=[]   #for rest 9 teams"
   ]
  },
  {
   "cell_type": "code",
   "execution_count": 69,
   "id": "cf197886",
   "metadata": {},
   "outputs": [],
   "source": [
    "#for match and point the code is same so i have to find its value like this\n",
    "\n",
    "for i in soup.findAll('td',class_='table-body__cell u-center-text'):\n",
    "    Match_N_points.append(i.text)"
   ]
  },
  {
   "cell_type": "code",
   "execution_count": null,
   "id": "9cd2098a",
   "metadata": {},
   "outputs": [],
   "source": [
    "match_n_points=Match_N_points[:18]#top 2-10 teams match and Points\n",
    "match_n_points"
   ]
  },
  {
   "cell_type": "code",
   "execution_count": 73,
   "id": "901774bf",
   "metadata": {},
   "outputs": [],
   "source": [
    "rating=[]"
   ]
  },
  {
   "cell_type": "code",
   "execution_count": 74,
   "id": "7a69b6be",
   "metadata": {},
   "outputs": [],
   "source": [
    "for i in soup.find_all('td',class_='table-body__cell u-text-right rating'):\n",
    "    rating.append(i.text.replace('\\n',''))"
   ]
  },
  {
   "cell_type": "code",
   "execution_count": 75,
   "id": "256caeed",
   "metadata": {},
   "outputs": [],
   "source": [
    "ratings=rating[:9] #for rest 9 teams except NZ"
   ]
  },
  {
   "cell_type": "code",
   "execution_count": 76,
   "id": "f9125d1d",
   "metadata": {},
   "outputs": [],
   "source": [
    "match=[]"
   ]
  },
  {
   "cell_type": "code",
   "execution_count": 77,
   "id": "9b309583",
   "metadata": {},
   "outputs": [],
   "source": [
    "for i in range(0,len(match_n_pionts),2)[:18]:\n",
    "     match.append(match_n_pionts[i])"
   ]
  },
  {
   "cell_type": "code",
   "execution_count": null,
   "id": "c548bafa",
   "metadata": {},
   "outputs": [],
   "source": [
    "match"
   ]
  },
  {
   "cell_type": "code",
   "execution_count": 79,
   "id": "e37548f8",
   "metadata": {},
   "outputs": [],
   "source": [
    "points=[]"
   ]
  },
  {
   "cell_type": "code",
   "execution_count": 81,
   "id": "63b667d6",
   "metadata": {},
   "outputs": [],
   "source": [
    "for i in range(1,len(match_n_points),2)[:18]:\n",
    "     points.append(match_n_points[i])"
   ]
  },
  {
   "cell_type": "code",
   "execution_count": null,
   "id": "ae63bc78",
   "metadata": {},
   "outputs": [],
   "source": [
    "points"
   ]
  },
  {
   "cell_type": "code",
   "execution_count": 83,
   "id": "69d3007a",
   "metadata": {},
   "outputs": [],
   "source": [
    "import pandas as pd"
   ]
  },
  {
   "cell_type": "code",
   "execution_count": 84,
   "id": "5285ff82",
   "metadata": {},
   "outputs": [
    {
     "data": {
      "text/html": [
       "<div>\n",
       "<style scoped>\n",
       "    .dataframe tbody tr th:only-of-type {\n",
       "        vertical-align: middle;\n",
       "    }\n",
       "\n",
       "    .dataframe tbody tr th {\n",
       "        vertical-align: top;\n",
       "    }\n",
       "\n",
       "    .dataframe thead th {\n",
       "        text-align: right;\n",
       "    }\n",
       "</style>\n",
       "<table border=\"1\" class=\"dataframe\">\n",
       "  <thead>\n",
       "    <tr style=\"text-align: right;\">\n",
       "      <th></th>\n",
       "      <th>Teams</th>\n",
       "      <th>Match</th>\n",
       "      <th>Points</th>\n",
       "      <th>Ratings</th>\n",
       "    </tr>\n",
       "  </thead>\n",
       "  <tbody>\n",
       "    <tr>\n",
       "      <th>0</th>\n",
       "      <td>South Africa</td>\n",
       "      <td>28</td>\n",
       "      <td>3,793</td>\n",
       "      <td>119</td>\n",
       "    </tr>\n",
       "    <tr>\n",
       "      <th>1</th>\n",
       "      <td>England</td>\n",
       "      <td>30</td>\n",
       "      <td>3,475</td>\n",
       "      <td>112</td>\n",
       "    </tr>\n",
       "    <tr>\n",
       "      <th>2</th>\n",
       "      <td>India</td>\n",
       "      <td>29</td>\n",
       "      <td>4,162</td>\n",
       "      <td>110</td>\n",
       "    </tr>\n",
       "    <tr>\n",
       "      <th>3</th>\n",
       "      <td>New Zealand</td>\n",
       "      <td>31</td>\n",
       "      <td>3,167</td>\n",
       "      <td>102</td>\n",
       "    </tr>\n",
       "    <tr>\n",
       "      <th>4</th>\n",
       "      <td>West Indies</td>\n",
       "      <td>28</td>\n",
       "      <td>2,921</td>\n",
       "      <td>97</td>\n",
       "    </tr>\n",
       "    <tr>\n",
       "      <th>5</th>\n",
       "      <td>Bangladesh</td>\n",
       "      <td>12</td>\n",
       "      <td>3,350</td>\n",
       "      <td>93</td>\n",
       "    </tr>\n",
       "    <tr>\n",
       "      <th>6</th>\n",
       "      <td>Pakistan</td>\n",
       "      <td>26</td>\n",
       "      <td>2,835</td>\n",
       "      <td>81</td>\n",
       "    </tr>\n",
       "    <tr>\n",
       "      <th>7</th>\n",
       "      <td>Ireland</td>\n",
       "      <td>5</td>\n",
       "      <td>2,788</td>\n",
       "      <td>77</td>\n",
       "    </tr>\n",
       "    <tr>\n",
       "      <th>8</th>\n",
       "      <td>Sri Lanka</td>\n",
       "      <td>5</td>\n",
       "      <td>1,562</td>\n",
       "      <td>68</td>\n",
       "    </tr>\n",
       "  </tbody>\n",
       "</table>\n",
       "</div>"
      ],
      "text/plain": [
       "          Teams Match Points Ratings\n",
       "0  South Africa    28  3,793     119\n",
       "1       England    30  3,475     112\n",
       "2         India    29  4,162     110\n",
       "3   New Zealand    31  3,167     102\n",
       "4   West Indies    28  2,921      97\n",
       "5    Bangladesh    12  3,350      93\n",
       "6      Pakistan    26  2,835      81\n",
       "7       Ireland     5  2,788      77\n",
       "8     Sri Lanka     5  1,562      68"
      ]
     },
     "execution_count": 84,
     "metadata": {},
     "output_type": "execute_result"
    }
   ],
   "source": [
    "df=pd.DataFrame({'Teams':Team,'Match':match,'Points':points,'Ratings':ratings})\n",
    "df     #rest 9 teams except rank1 because rank1 team has differnt code "
   ]
  },
  {
   "cell_type": "markdown",
   "id": "11e1b07e",
   "metadata": {},
   "source": [
    "# b) Top 10 ODI Batsmen along with the records of their team and rating."
   ]
  },
  {
   "cell_type": "code",
   "execution_count": 1,
   "id": "853e2d23",
   "metadata": {},
   "outputs": [],
   "source": [
    "from bs4 import BeautifulSoup\n",
    "import requests"
   ]
  },
  {
   "cell_type": "code",
   "execution_count": 2,
   "id": "d699ceaf",
   "metadata": {},
   "outputs": [],
   "source": [
    "page=requests.get('https://www.icc-cricket.com/rankings/mens/player-rankings/odi/batting')"
   ]
  },
  {
   "cell_type": "code",
   "execution_count": 3,
   "id": "59f0654b",
   "metadata": {},
   "outputs": [
    {
     "data": {
      "text/plain": [
       "<Response [200]>"
      ]
     },
     "execution_count": 3,
     "metadata": {},
     "output_type": "execute_result"
    }
   ],
   "source": [
    "page"
   ]
  },
  {
   "cell_type": "code",
   "execution_count": 4,
   "id": "9bb047a6",
   "metadata": {},
   "outputs": [],
   "source": [
    "soup=BeautifulSoup(page.content)"
   ]
  },
  {
   "cell_type": "code",
   "execution_count": null,
   "id": "ef550ce9",
   "metadata": {},
   "outputs": [],
   "source": [
    "soup"
   ]
  },
  {
   "cell_type": "code",
   "execution_count": 7,
   "id": "f7248015",
   "metadata": {},
   "outputs": [],
   "source": [
    "#Here also for rank1--->>the code is different coz it is in highlight color and text\n",
    "#and for rest all the code is same"
   ]
  },
  {
   "cell_type": "code",
   "execution_count": 8,
   "id": "bcd6e96d",
   "metadata": {},
   "outputs": [
    {
     "data": {
      "text/plain": [
       "'Babar Azam'"
      ]
     },
     "execution_count": 8,
     "metadata": {},
     "output_type": "execute_result"
    }
   ],
   "source": [
    "#for rank1 player name\n",
    "\n",
    "rank1_player_name=soup.find('div',class_='rankings-block__banner--name-large')\n",
    "rank1_player_name.text"
   ]
  },
  {
   "cell_type": "code",
   "execution_count": 10,
   "id": "c6047eab",
   "metadata": {},
   "outputs": [
    {
     "data": {
      "text/plain": [
       "'PAK                    '"
      ]
     },
     "execution_count": 10,
     "metadata": {},
     "output_type": "execute_result"
    }
   ],
   "source": [
    "#for rank1 player team\n",
    "rank1_player_team=soup.find('div',class_='rankings-block__banner--nationality')\n",
    "rank1_player_team.text.replace('\\n','')"
   ]
  },
  {
   "cell_type": "code",
   "execution_count": 12,
   "id": "918e7d34",
   "metadata": {},
   "outputs": [
    {
     "data": {
      "text/plain": [
       "'891'"
      ]
     },
     "execution_count": 12,
     "metadata": {},
     "output_type": "execute_result"
    }
   ],
   "source": [
    "#for rating\n",
    "rank1_player_rating=soup.find('div',class_='rankings-block__banner--rating')\n",
    "rank1_player_rating.text"
   ]
  },
  {
   "cell_type": "raw",
   "id": "06445994",
   "metadata": {},
   "source": [
    "for other 9 players\n"
   ]
  },
  {
   "cell_type": "code",
   "execution_count": 13,
   "id": "78f4731a",
   "metadata": {},
   "outputs": [],
   "source": [
    "names=[]"
   ]
  },
  {
   "cell_type": "code",
   "execution_count": 14,
   "id": "d478b3be",
   "metadata": {},
   "outputs": [],
   "source": [
    "for i in soup.find_all('td',class_='table-body__cell rankings-table__name name'):\n",
    "    names.append(i.text.replace('\\n',''))"
   ]
  },
  {
   "cell_type": "code",
   "execution_count": null,
   "id": "140b41f9",
   "metadata": {},
   "outputs": [],
   "source": [
    "player_name=names[:9]\n",
    "player_name"
   ]
  },
  {
   "cell_type": "code",
   "execution_count": 17,
   "id": "1c16f9c4",
   "metadata": {},
   "outputs": [],
   "source": [
    "teams=[]"
   ]
  },
  {
   "cell_type": "code",
   "execution_count": 18,
   "id": "98a18f89",
   "metadata": {},
   "outputs": [],
   "source": [
    "for i in soup.find_all('span',class_='table-body__logo-text'):\n",
    "    teams.append(i.text)"
   ]
  },
  {
   "cell_type": "code",
   "execution_count": 19,
   "id": "fc2814d0",
   "metadata": {},
   "outputs": [],
   "source": [
    "team=teams[:9]"
   ]
  },
  {
   "cell_type": "code",
   "execution_count": null,
   "id": "991c1b2f",
   "metadata": {},
   "outputs": [],
   "source": [
    "team"
   ]
  },
  {
   "cell_type": "code",
   "execution_count": 21,
   "id": "c5e6758f",
   "metadata": {},
   "outputs": [],
   "source": [
    "ratings=[]"
   ]
  },
  {
   "cell_type": "code",
   "execution_count": 22,
   "id": "640cbea2",
   "metadata": {},
   "outputs": [],
   "source": [
    "for i in soup.find_all('td',class_='table-body__cell rating'):\n",
    "    ratings.append(i.text)"
   ]
  },
  {
   "cell_type": "code",
   "execution_count": 26,
   "id": "829a5d0d",
   "metadata": {},
   "outputs": [],
   "source": [
    "rating=ratings[:9]"
   ]
  },
  {
   "cell_type": "code",
   "execution_count": null,
   "id": "7c685993",
   "metadata": {},
   "outputs": [],
   "source": [
    "rating"
   ]
  },
  {
   "cell_type": "code",
   "execution_count": null,
   "id": "1f27a496",
   "metadata": {},
   "outputs": [],
   "source": [
    "print(len(player_name),len(team),len(rating))"
   ]
  },
  {
   "cell_type": "code",
   "execution_count": 30,
   "id": "964c5b76",
   "metadata": {},
   "outputs": [],
   "source": [
    "import pandas as pd"
   ]
  },
  {
   "cell_type": "code",
   "execution_count": 31,
   "id": "0cca9e48",
   "metadata": {},
   "outputs": [],
   "source": [
    "df=pd.DataFrame({'Name':player_name,'Team':team,'Rating':rating})"
   ]
  },
  {
   "cell_type": "code",
   "execution_count": 32,
   "id": "b0fda046",
   "metadata": {},
   "outputs": [
    {
     "data": {
      "text/html": [
       "<div>\n",
       "<style scoped>\n",
       "    .dataframe tbody tr th:only-of-type {\n",
       "        vertical-align: middle;\n",
       "    }\n",
       "\n",
       "    .dataframe tbody tr th {\n",
       "        vertical-align: top;\n",
       "    }\n",
       "\n",
       "    .dataframe thead th {\n",
       "        text-align: right;\n",
       "    }\n",
       "</style>\n",
       "<table border=\"1\" class=\"dataframe\">\n",
       "  <thead>\n",
       "    <tr style=\"text-align: right;\">\n",
       "      <th></th>\n",
       "      <th>Name</th>\n",
       "      <th>Team</th>\n",
       "      <th>Rating</th>\n",
       "    </tr>\n",
       "  </thead>\n",
       "  <tbody>\n",
       "    <tr>\n",
       "      <th>0</th>\n",
       "      <td>Virat Kohli</td>\n",
       "      <td>IND</td>\n",
       "      <td>811</td>\n",
       "    </tr>\n",
       "    <tr>\n",
       "      <th>1</th>\n",
       "      <td>Imam-ul-Haq</td>\n",
       "      <td>PAK</td>\n",
       "      <td>795</td>\n",
       "    </tr>\n",
       "    <tr>\n",
       "      <th>2</th>\n",
       "      <td>Rohit Sharma</td>\n",
       "      <td>IND</td>\n",
       "      <td>791</td>\n",
       "    </tr>\n",
       "    <tr>\n",
       "      <th>3</th>\n",
       "      <td>Quinton de Kock</td>\n",
       "      <td>SA</td>\n",
       "      <td>789</td>\n",
       "    </tr>\n",
       "    <tr>\n",
       "      <th>4</th>\n",
       "      <td>Jonny Bairstow</td>\n",
       "      <td>ENG</td>\n",
       "      <td>775</td>\n",
       "    </tr>\n",
       "    <tr>\n",
       "      <th>5</th>\n",
       "      <td>Ross Taylor</td>\n",
       "      <td>NZ</td>\n",
       "      <td>775</td>\n",
       "    </tr>\n",
       "    <tr>\n",
       "      <th>6</th>\n",
       "      <td>Rassie van der Dussen</td>\n",
       "      <td>SA</td>\n",
       "      <td>769</td>\n",
       "    </tr>\n",
       "    <tr>\n",
       "      <th>7</th>\n",
       "      <td>David Warner</td>\n",
       "      <td>AUS</td>\n",
       "      <td>750</td>\n",
       "    </tr>\n",
       "    <tr>\n",
       "      <th>8</th>\n",
       "      <td>Aaron Finch</td>\n",
       "      <td>AUS</td>\n",
       "      <td>745</td>\n",
       "    </tr>\n",
       "  </tbody>\n",
       "</table>\n",
       "</div>"
      ],
      "text/plain": [
       "                    Name Team Rating\n",
       "0            Virat Kohli  IND    811\n",
       "1            Imam-ul-Haq  PAK    795\n",
       "2           Rohit Sharma  IND    791\n",
       "3        Quinton de Kock   SA    789\n",
       "4         Jonny Bairstow  ENG    775\n",
       "5            Ross Taylor   NZ    775\n",
       "6  Rassie van der Dussen   SA    769\n",
       "7           David Warner  AUS    750\n",
       "8            Aaron Finch  AUS    745"
      ]
     },
     "execution_count": 32,
     "metadata": {},
     "output_type": "execute_result"
    }
   ],
   "source": [
    "df"
   ]
  },
  {
   "cell_type": "markdown",
   "id": "5d968623",
   "metadata": {},
   "source": [
    "# c) Top 10 ODI bowlers along with the records of their team and rating."
   ]
  },
  {
   "cell_type": "code",
   "execution_count": 33,
   "id": "9c119407",
   "metadata": {},
   "outputs": [],
   "source": [
    "from bs4 import BeautifulSoup\n",
    "import requests"
   ]
  },
  {
   "cell_type": "code",
   "execution_count": 34,
   "id": "55d3a278",
   "metadata": {},
   "outputs": [],
   "source": [
    "page=requests.get('https://www.icc-cricket.com/rankings/mens/player-rankings/odi/bowling')"
   ]
  },
  {
   "cell_type": "code",
   "execution_count": 35,
   "id": "bcfbe25e",
   "metadata": {},
   "outputs": [
    {
     "data": {
      "text/plain": [
       "<Response [200]>"
      ]
     },
     "execution_count": 35,
     "metadata": {},
     "output_type": "execute_result"
    }
   ],
   "source": [
    "page"
   ]
  },
  {
   "cell_type": "code",
   "execution_count": 36,
   "id": "50c5f2ac",
   "metadata": {},
   "outputs": [],
   "source": [
    "soup=BeautifulSoup(page.content)"
   ]
  },
  {
   "cell_type": "code",
   "execution_count": null,
   "id": "41102fed",
   "metadata": {},
   "outputs": [],
   "source": [
    "soup"
   ]
  },
  {
   "cell_type": "code",
   "execution_count": 38,
   "id": "f5321927",
   "metadata": {},
   "outputs": [],
   "source": [
    "#Here also for rank1--->>the code is different coz it is in highlight color and text\n",
    "#and for rest all the code is same"
   ]
  },
  {
   "cell_type": "code",
   "execution_count": 39,
   "id": "1b28831c",
   "metadata": {},
   "outputs": [],
   "source": [
    "#for Rank1 BOWLER"
   ]
  },
  {
   "cell_type": "code",
   "execution_count": 40,
   "id": "b37764a4",
   "metadata": {},
   "outputs": [
    {
     "data": {
      "text/plain": [
       "'Trent Boult'"
      ]
     },
     "execution_count": 40,
     "metadata": {},
     "output_type": "execute_result"
    }
   ],
   "source": [
    "rank1_bowler_name=soup.find('div',class_='rankings-block__banner--name-large')\n",
    "rank1_bowler_name.text"
   ]
  },
  {
   "cell_type": "code",
   "execution_count": 41,
   "id": "e4b05b80",
   "metadata": {},
   "outputs": [
    {
     "data": {
      "text/plain": [
       "'NZ                    '"
      ]
     },
     "execution_count": 41,
     "metadata": {},
     "output_type": "execute_result"
    }
   ],
   "source": [
    "rank1_bowler_team=soup.find('div',class_='rankings-block__banner--nationality')\n",
    "rank1_bowler_team.text.replace('\\n','')"
   ]
  },
  {
   "cell_type": "code",
   "execution_count": 42,
   "id": "e1ed0cbb",
   "metadata": {},
   "outputs": [
    {
     "data": {
      "text/plain": [
       "'726'"
      ]
     },
     "execution_count": 42,
     "metadata": {},
     "output_type": "execute_result"
    }
   ],
   "source": [
    "rank1_bowler_rating=soup.find('div',class_='rankings-block__banner--rating')\n",
    "rank1_bowler_rating.text"
   ]
  },
  {
   "cell_type": "code",
   "execution_count": 43,
   "id": "8447c7fb",
   "metadata": {},
   "outputs": [],
   "source": [
    "#for rest 9 top bowlers\n",
    "player_names=[]"
   ]
  },
  {
   "cell_type": "code",
   "execution_count": 44,
   "id": "68c16954",
   "metadata": {},
   "outputs": [],
   "source": [
    "for i in soup.findAll('td',class_='table-body__cell rankings-table__name name'):\n",
    "    player_names.append(i.text.replace('\\n',''))"
   ]
  },
  {
   "cell_type": "code",
   "execution_count": 45,
   "id": "9a0999dc",
   "metadata": {},
   "outputs": [],
   "source": [
    "player_name=player_names[:9]"
   ]
  },
  {
   "cell_type": "code",
   "execution_count": null,
   "id": "ead7a095",
   "metadata": {},
   "outputs": [],
   "source": [
    "player_name"
   ]
  },
  {
   "cell_type": "code",
   "execution_count": 47,
   "id": "bdb0024c",
   "metadata": {},
   "outputs": [],
   "source": [
    "players_team=[]"
   ]
  },
  {
   "cell_type": "code",
   "execution_count": 48,
   "id": "a9a3e49c",
   "metadata": {},
   "outputs": [],
   "source": [
    "for i in soup.findAll('span',class_='table-body__logo-text'):\n",
    "    players_team.append(i.text)"
   ]
  },
  {
   "cell_type": "code",
   "execution_count": 50,
   "id": "f15f7f07",
   "metadata": {},
   "outputs": [],
   "source": [
    "players_teams=players_team[:9]"
   ]
  },
  {
   "cell_type": "code",
   "execution_count": null,
   "id": "f9da6cfc",
   "metadata": {},
   "outputs": [],
   "source": [
    "players_teams"
   ]
  },
  {
   "cell_type": "code",
   "execution_count": 52,
   "id": "808c0bb3",
   "metadata": {},
   "outputs": [],
   "source": [
    "players_rating=[]"
   ]
  },
  {
   "cell_type": "code",
   "execution_count": 53,
   "id": "dd32ded9",
   "metadata": {},
   "outputs": [],
   "source": [
    "for i in soup.findAll('td',class_='table-body__cell rating'):\n",
    "    players_rating.append(i.text)"
   ]
  },
  {
   "cell_type": "code",
   "execution_count": 54,
   "id": "e608caa6",
   "metadata": {},
   "outputs": [],
   "source": [
    "player_ratings=players_rating[:9]"
   ]
  },
  {
   "cell_type": "code",
   "execution_count": null,
   "id": "3e6fe980",
   "metadata": {},
   "outputs": [],
   "source": [
    "player_ratings"
   ]
  },
  {
   "cell_type": "code",
   "execution_count": 56,
   "id": "43e5d74b",
   "metadata": {},
   "outputs": [
    {
     "name": "stdout",
     "output_type": "stream",
     "text": [
      "9 9 9\n"
     ]
    }
   ],
   "source": [
    "print(len(player_name),len(players_teams),len(player_ratings))"
   ]
  },
  {
   "cell_type": "code",
   "execution_count": 57,
   "id": "4f37be8f",
   "metadata": {},
   "outputs": [],
   "source": [
    "import pandas as pd"
   ]
  },
  {
   "cell_type": "code",
   "execution_count": 58,
   "id": "8fe0b8d4",
   "metadata": {},
   "outputs": [
    {
     "data": {
      "text/html": [
       "<div>\n",
       "<style scoped>\n",
       "    .dataframe tbody tr th:only-of-type {\n",
       "        vertical-align: middle;\n",
       "    }\n",
       "\n",
       "    .dataframe tbody tr th {\n",
       "        vertical-align: top;\n",
       "    }\n",
       "\n",
       "    .dataframe thead th {\n",
       "        text-align: right;\n",
       "    }\n",
       "</style>\n",
       "<table border=\"1\" class=\"dataframe\">\n",
       "  <thead>\n",
       "    <tr style=\"text-align: right;\">\n",
       "      <th></th>\n",
       "      <th>Player Name</th>\n",
       "      <th>Team</th>\n",
       "      <th>Rating</th>\n",
       "    </tr>\n",
       "  </thead>\n",
       "  <tbody>\n",
       "    <tr>\n",
       "      <th>0</th>\n",
       "      <td>Chris Woakes</td>\n",
       "      <td>ENG</td>\n",
       "      <td>700</td>\n",
       "    </tr>\n",
       "    <tr>\n",
       "      <th>1</th>\n",
       "      <td>Josh Hazlewood</td>\n",
       "      <td>AUS</td>\n",
       "      <td>698</td>\n",
       "    </tr>\n",
       "    <tr>\n",
       "      <th>2</th>\n",
       "      <td>Matt Henry</td>\n",
       "      <td>NZ</td>\n",
       "      <td>683</td>\n",
       "    </tr>\n",
       "    <tr>\n",
       "      <th>3</th>\n",
       "      <td>Mujeeb Ur Rahman</td>\n",
       "      <td>AFG</td>\n",
       "      <td>681</td>\n",
       "    </tr>\n",
       "    <tr>\n",
       "      <th>4</th>\n",
       "      <td>Jasprit Bumrah</td>\n",
       "      <td>IND</td>\n",
       "      <td>679</td>\n",
       "    </tr>\n",
       "    <tr>\n",
       "      <th>5</th>\n",
       "      <td>Shaheen Afridi</td>\n",
       "      <td>PAK</td>\n",
       "      <td>671</td>\n",
       "    </tr>\n",
       "    <tr>\n",
       "      <th>6</th>\n",
       "      <td>Mehedi Hasan</td>\n",
       "      <td>BAN</td>\n",
       "      <td>661</td>\n",
       "    </tr>\n",
       "    <tr>\n",
       "      <th>7</th>\n",
       "      <td>Shakib Al Hasan</td>\n",
       "      <td>BAN</td>\n",
       "      <td>657</td>\n",
       "    </tr>\n",
       "    <tr>\n",
       "      <th>8</th>\n",
       "      <td>Rashid Khan</td>\n",
       "      <td>AFG</td>\n",
       "      <td>650</td>\n",
       "    </tr>\n",
       "  </tbody>\n",
       "</table>\n",
       "</div>"
      ],
      "text/plain": [
       "        Player Name Team Rating\n",
       "0      Chris Woakes  ENG    700\n",
       "1    Josh Hazlewood  AUS    698\n",
       "2        Matt Henry   NZ    683\n",
       "3  Mujeeb Ur Rahman  AFG    681\n",
       "4    Jasprit Bumrah  IND    679\n",
       "5    Shaheen Afridi  PAK    671\n",
       "6      Mehedi Hasan  BAN    661\n",
       "7   Shakib Al Hasan  BAN    657\n",
       "8       Rashid Khan  AFG    650"
      ]
     },
     "execution_count": 58,
     "metadata": {},
     "output_type": "execute_result"
    }
   ],
   "source": [
    "df=pd.DataFrame({'Player Name':player_name,'Team':players_teams,'Rating':player_ratings})\n",
    "df"
   ]
  },
  {
   "cell_type": "markdown",
   "id": "1a113372",
   "metadata": {},
   "source": [
    "# 6) Write a python program to scrape cricket rankings from icc-cricket.com. You have to scrape:\n"
   ]
  },
  {
   "cell_type": "raw",
   "id": "51e722ec",
   "metadata": {},
   "source": [
    "a) Top 10 ODI teams in women’s cricket along with the records for matches, points and rating.\n",
    "b) Top 10 women’s ODI Batting players along with the records of their team and rating.\n",
    "c) Top 10 women’s ODI all-rounder along with the records of their team and rating."
   ]
  },
  {
   "cell_type": "markdown",
   "id": "6f78af99",
   "metadata": {},
   "source": [
    "# a) Top 10 ODI teams in women’s cricket along with the records for matches, points and rating."
   ]
  },
  {
   "cell_type": "code",
   "execution_count": 26,
   "id": "cde8074a",
   "metadata": {},
   "outputs": [],
   "source": [
    "from bs4 import BeautifulSoup\n",
    "import requests"
   ]
  },
  {
   "cell_type": "code",
   "execution_count": 27,
   "id": "e9399a80",
   "metadata": {},
   "outputs": [
    {
     "data": {
      "text/plain": [
       "<Response [200]>"
      ]
     },
     "execution_count": 27,
     "metadata": {},
     "output_type": "execute_result"
    }
   ],
   "source": [
    "page=requests.get('https://www.icc-cricket.com/rankings/womens/team-rankings/odi')\n",
    "page"
   ]
  },
  {
   "cell_type": "code",
   "execution_count": null,
   "id": "2d46a627",
   "metadata": {},
   "outputs": [],
   "source": [
    "soup=BeautifulSoup(page.content)\n",
    "soup"
   ]
  },
  {
   "cell_type": "code",
   "execution_count": 29,
   "id": "7afba48f",
   "metadata": {},
   "outputs": [],
   "source": [
    "#top10 teams\n",
    "team=[]"
   ]
  },
  {
   "cell_type": "code",
   "execution_count": 30,
   "id": "e7d5f539",
   "metadata": {},
   "outputs": [],
   "source": [
    "for i in soup.findAll('span',class_='u-hide-phablet'):\n",
    "    team.append(i.text)"
   ]
  },
  {
   "cell_type": "code",
   "execution_count": 31,
   "id": "399669e4",
   "metadata": {},
   "outputs": [
    {
     "data": {
      "text/plain": [
       "['Australia',\n",
       " 'South Africa',\n",
       " 'England',\n",
       " 'India',\n",
       " 'New Zealand',\n",
       " 'West Indies',\n",
       " 'Bangladesh',\n",
       " 'Pakistan',\n",
       " 'Ireland',\n",
       " 'Sri Lanka']"
      ]
     },
     "execution_count": 31,
     "metadata": {},
     "output_type": "execute_result"
    }
   ],
   "source": [
    "teams=team[:10]  #top 10 teams\n",
    "teams"
   ]
  },
  {
   "cell_type": "code",
   "execution_count": 32,
   "id": "ea8bf959",
   "metadata": {},
   "outputs": [],
   "source": [
    "#Here also for rank1--->>the code is different coz it has highlight color and text\n",
    "#and for rest all the code is same"
   ]
  },
  {
   "cell_type": "code",
   "execution_count": 33,
   "id": "84d427f5",
   "metadata": {},
   "outputs": [
    {
     "data": {
      "text/plain": [
       "'29'"
      ]
     },
     "execution_count": 33,
     "metadata": {},
     "output_type": "execute_result"
    }
   ],
   "source": [
    "#for Australia(rank1)\n",
    "#match played\n",
    "Aus_matches=soup.find('td',class_='rankings-block__banner--matches')\n",
    "Aus_matches.text"
   ]
  },
  {
   "cell_type": "code",
   "execution_count": 34,
   "id": "055f6707",
   "metadata": {},
   "outputs": [
    {
     "data": {
      "text/plain": [
       "'4,840'"
      ]
     },
     "execution_count": 34,
     "metadata": {},
     "output_type": "execute_result"
    }
   ],
   "source": [
    "#for points\n",
    "Aus_points=soup.find('td',class_='rankings-block__banner--points')\n",
    "Aus_points.text"
   ]
  },
  {
   "cell_type": "code",
   "execution_count": 35,
   "id": "ffc6bf01",
   "metadata": {},
   "outputs": [
    {
     "data": {
      "text/plain": [
       "'                            167                            '"
      ]
     },
     "execution_count": 35,
     "metadata": {},
     "output_type": "execute_result"
    }
   ],
   "source": [
    "#for rating\n",
    "Aus_ratings=soup.find('td',class_='rankings-block__banner--rating u-text-right')\n",
    "Aus_ratings.text.replace('\\n','')"
   ]
  },
  {
   "cell_type": "code",
   "execution_count": 36,
   "id": "7cf23ee4",
   "metadata": {},
   "outputs": [],
   "source": [
    "#for rest 9 teams\n",
    "Match_And_points=[]"
   ]
  },
  {
   "cell_type": "code",
   "execution_count": 37,
   "id": "f446cd31",
   "metadata": {},
   "outputs": [],
   "source": [
    "for i in soup.findAll('td',class_='table-body__cell u-center-text'):\n",
    "    Match_And_points.append(i.text)"
   ]
  },
  {
   "cell_type": "code",
   "execution_count": 44,
   "id": "51a451ec",
   "metadata": {},
   "outputs": [],
   "source": [
    "#here for match and points the code is same\n",
    "match_n_pionts=Match_And_points[:18]   #2-10 teams"
   ]
  },
  {
   "cell_type": "code",
   "execution_count": null,
   "id": "2d116ba3",
   "metadata": {},
   "outputs": [],
   "source": [
    "match_n_pionts"
   ]
  },
  {
   "cell_type": "code",
   "execution_count": 39,
   "id": "42d295c5",
   "metadata": {},
   "outputs": [],
   "source": [
    "rating=[]"
   ]
  },
  {
   "cell_type": "code",
   "execution_count": 40,
   "id": "259c1478",
   "metadata": {},
   "outputs": [],
   "source": [
    "for i in soup.findAll('td',class_='table-body__cell u-text-right rating'):\n",
    "    rating.append(i.text)"
   ]
  },
  {
   "cell_type": "code",
   "execution_count": null,
   "id": "6dce7584",
   "metadata": {},
   "outputs": [],
   "source": [
    "ratings=rating[:9]    #rest 9 teams except Aus \n",
    "ratings"
   ]
  },
  {
   "cell_type": "code",
   "execution_count": null,
   "id": "631caabe",
   "metadata": {},
   "outputs": [],
   "source": [
    "Team=team[1:10]\n",
    "Team"
   ]
  },
  {
   "cell_type": "code",
   "execution_count": 43,
   "id": "f30a2f27",
   "metadata": {},
   "outputs": [],
   "source": [
    "match=[]"
   ]
  },
  {
   "cell_type": "code",
   "execution_count": 47,
   "id": "043ff954",
   "metadata": {},
   "outputs": [],
   "source": [
    "for i in range(0,len(match_n_pionts),2)[:18]:\n",
    "     match.append(match_n_pionts[i])"
   ]
  },
  {
   "cell_type": "code",
   "execution_count": null,
   "id": "1ef717de",
   "metadata": {},
   "outputs": [],
   "source": [
    "match"
   ]
  },
  {
   "cell_type": "code",
   "execution_count": 49,
   "id": "e2e4ba11",
   "metadata": {},
   "outputs": [],
   "source": [
    "points=[]"
   ]
  },
  {
   "cell_type": "code",
   "execution_count": 50,
   "id": "1934dbcf",
   "metadata": {},
   "outputs": [],
   "source": [
    "for i in range(1,len(match_n_pionts),2)[:18]:\n",
    "     points.append(match_n_pionts[i])"
   ]
  },
  {
   "cell_type": "code",
   "execution_count": null,
   "id": "56e1c0ad",
   "metadata": {},
   "outputs": [],
   "source": [
    "points"
   ]
  },
  {
   "cell_type": "markdown",
   "id": "1b14a3ee",
   "metadata": {},
   "source": [
    "for rest 9 temas the df is given below"
   ]
  },
  {
   "cell_type": "code",
   "execution_count": 52,
   "id": "a282f36e",
   "metadata": {},
   "outputs": [],
   "source": [
    "import pandas as pd"
   ]
  },
  {
   "cell_type": "code",
   "execution_count": 54,
   "id": "9d86cb10",
   "metadata": {},
   "outputs": [
    {
     "data": {
      "text/html": [
       "<div>\n",
       "<style scoped>\n",
       "    .dataframe tbody tr th:only-of-type {\n",
       "        vertical-align: middle;\n",
       "    }\n",
       "\n",
       "    .dataframe tbody tr th {\n",
       "        vertical-align: top;\n",
       "    }\n",
       "\n",
       "    .dataframe thead th {\n",
       "        text-align: right;\n",
       "    }\n",
       "</style>\n",
       "<table border=\"1\" class=\"dataframe\">\n",
       "  <thead>\n",
       "    <tr style=\"text-align: right;\">\n",
       "      <th></th>\n",
       "      <th>Teams</th>\n",
       "      <th>Match</th>\n",
       "      <th>Points</th>\n",
       "      <th>Ratings</th>\n",
       "    </tr>\n",
       "  </thead>\n",
       "  <tbody>\n",
       "    <tr>\n",
       "      <th>0</th>\n",
       "      <td>South Africa</td>\n",
       "      <td>28</td>\n",
       "      <td>3,504</td>\n",
       "      <td>125</td>\n",
       "    </tr>\n",
       "    <tr>\n",
       "      <th>1</th>\n",
       "      <td>England</td>\n",
       "      <td>30</td>\n",
       "      <td>3,533</td>\n",
       "      <td>118</td>\n",
       "    </tr>\n",
       "    <tr>\n",
       "      <th>2</th>\n",
       "      <td>India</td>\n",
       "      <td>29</td>\n",
       "      <td>2,878</td>\n",
       "      <td>99</td>\n",
       "    </tr>\n",
       "    <tr>\n",
       "      <th>3</th>\n",
       "      <td>New Zealand</td>\n",
       "      <td>31</td>\n",
       "      <td>3,030</td>\n",
       "      <td>98</td>\n",
       "    </tr>\n",
       "    <tr>\n",
       "      <th>4</th>\n",
       "      <td>West Indies</td>\n",
       "      <td>28</td>\n",
       "      <td>2,481</td>\n",
       "      <td>89</td>\n",
       "    </tr>\n",
       "    <tr>\n",
       "      <th>5</th>\n",
       "      <td>Bangladesh</td>\n",
       "      <td>12</td>\n",
       "      <td>936</td>\n",
       "      <td>78</td>\n",
       "    </tr>\n",
       "    <tr>\n",
       "      <th>6</th>\n",
       "      <td>Pakistan</td>\n",
       "      <td>26</td>\n",
       "      <td>1,752</td>\n",
       "      <td>67</td>\n",
       "    </tr>\n",
       "    <tr>\n",
       "      <th>7</th>\n",
       "      <td>Ireland</td>\n",
       "      <td>5</td>\n",
       "      <td>240</td>\n",
       "      <td>48</td>\n",
       "    </tr>\n",
       "    <tr>\n",
       "      <th>8</th>\n",
       "      <td>Sri Lanka</td>\n",
       "      <td>5</td>\n",
       "      <td>233</td>\n",
       "      <td>47</td>\n",
       "    </tr>\n",
       "  </tbody>\n",
       "</table>\n",
       "</div>"
      ],
      "text/plain": [
       "          Teams Match Points Ratings\n",
       "0  South Africa    28  3,504     125\n",
       "1       England    30  3,533     118\n",
       "2         India    29  2,878      99\n",
       "3   New Zealand    31  3,030      98\n",
       "4   West Indies    28  2,481      89\n",
       "5    Bangladesh    12    936      78\n",
       "6      Pakistan    26  1,752      67\n",
       "7       Ireland     5    240      48\n",
       "8     Sri Lanka     5    233      47"
      ]
     },
     "execution_count": 54,
     "metadata": {},
     "output_type": "execute_result"
    }
   ],
   "source": [
    "df=pd.DataFrame({'Teams':Team,'Match':match,'Points':points,'Ratings':ratings})\n",
    "df       "
   ]
  },
  {
   "cell_type": "code",
   "execution_count": null,
   "id": "0543ce49",
   "metadata": {},
   "outputs": [],
   "source": []
  },
  {
   "cell_type": "markdown",
   "id": "c552256a",
   "metadata": {},
   "source": [
    "# b) Top 10 women’s ODI Batting players along with the records of their team and rating."
   ]
  },
  {
   "cell_type": "code",
   "execution_count": 22,
   "id": "649d25b9",
   "metadata": {},
   "outputs": [],
   "source": [
    "from bs4 import BeautifulSoup\n",
    "import requests"
   ]
  },
  {
   "cell_type": "code",
   "execution_count": 23,
   "id": "43dee2f6",
   "metadata": {},
   "outputs": [
    {
     "data": {
      "text/plain": [
       "<Response [200]>"
      ]
     },
     "execution_count": 23,
     "metadata": {},
     "output_type": "execute_result"
    }
   ],
   "source": [
    "page=requests.get('https://www.icc-cricket.com/rankings/womens/player-rankings/odi/batting')\n",
    "page"
   ]
  },
  {
   "cell_type": "code",
   "execution_count": null,
   "id": "b1a3958c",
   "metadata": {},
   "outputs": [],
   "source": [
    "soup=BeautifulSoup(page.content)\n",
    "soup"
   ]
  },
  {
   "cell_type": "code",
   "execution_count": 25,
   "id": "1351cca3",
   "metadata": {},
   "outputs": [],
   "source": [
    "#Here is also for rank1--->>the code is different coz it is in highlight color and text\n",
    "#and for rest all the code is same"
   ]
  },
  {
   "cell_type": "code",
   "execution_count": 26,
   "id": "2516edea",
   "metadata": {},
   "outputs": [
    {
     "data": {
      "text/plain": [
       "'Alyssa Healy'"
      ]
     },
     "execution_count": 26,
     "metadata": {},
     "output_type": "execute_result"
    }
   ],
   "source": [
    "#for rank1 player name\n",
    "rank1_batsman=soup.find('div',class_='rankings-block__banner--name-large')\n",
    "rank1_batsman.text"
   ]
  },
  {
   "cell_type": "code",
   "execution_count": 29,
   "id": "4df2dd89",
   "metadata": {},
   "outputs": [
    {
     "data": {
      "text/plain": [
       "'AUS                    '"
      ]
     },
     "execution_count": 29,
     "metadata": {},
     "output_type": "execute_result"
    }
   ],
   "source": [
    "#for rank1 player's team\n",
    "rank1_player_team=soup.find('div',class_='rankings-block__banner--nationality')\n",
    "rank1_player_team.text.replace('\\n','')"
   ]
  },
  {
   "cell_type": "code",
   "execution_count": 30,
   "id": "8bfe254a",
   "metadata": {},
   "outputs": [
    {
     "data": {
      "text/plain": [
       "'785'"
      ]
     },
     "execution_count": 30,
     "metadata": {},
     "output_type": "execute_result"
    }
   ],
   "source": [
    "#for rank1 player's rating\n",
    "rank1_player_rating=soup.find('div',class_='rankings-block__banner--rating')\n",
    "rank1_player_rating.text"
   ]
  },
  {
   "cell_type": "raw",
   "id": "ed3b1204",
   "metadata": {},
   "source": [
    "#for rest 9 players--->>>"
   ]
  },
  {
   "cell_type": "code",
   "execution_count": 31,
   "id": "d74c8cc1",
   "metadata": {},
   "outputs": [],
   "source": [
    "names=[]"
   ]
  },
  {
   "cell_type": "code",
   "execution_count": 35,
   "id": "62dfa2ce",
   "metadata": {},
   "outputs": [],
   "source": [
    "for i in soup.findAll('td',class_='table-body__cell rankings-table__name name'):\n",
    "    names.append(i.text.replace('\\n',''))"
   ]
  },
  {
   "cell_type": "code",
   "execution_count": null,
   "id": "123f607d",
   "metadata": {},
   "outputs": [],
   "source": [
    "player_names=names[:9]\n",
    "player_names"
   ]
  },
  {
   "cell_type": "code",
   "execution_count": 37,
   "id": "1cc350f8",
   "metadata": {},
   "outputs": [],
   "source": [
    "teams=[]"
   ]
  },
  {
   "cell_type": "code",
   "execution_count": 38,
   "id": "3904326f",
   "metadata": {},
   "outputs": [],
   "source": [
    "for i in soup.findAll('span',class_='table-body__logo-text'):\n",
    "    teams.append(i.text)"
   ]
  },
  {
   "cell_type": "code",
   "execution_count": 40,
   "id": "783f0c0a",
   "metadata": {},
   "outputs": [],
   "source": [
    "team=teams[:9]"
   ]
  },
  {
   "cell_type": "code",
   "execution_count": null,
   "id": "ee5e5f95",
   "metadata": {},
   "outputs": [],
   "source": [
    "team"
   ]
  },
  {
   "cell_type": "code",
   "execution_count": 42,
   "id": "ae6640ad",
   "metadata": {},
   "outputs": [],
   "source": [
    "rating=[]"
   ]
  },
  {
   "cell_type": "code",
   "execution_count": 43,
   "id": "c0240423",
   "metadata": {},
   "outputs": [],
   "source": [
    "for i in soup.findAll('td',class_='table-body__cell rating'):\n",
    "    rating.append(i.text)"
   ]
  },
  {
   "cell_type": "code",
   "execution_count": 46,
   "id": "72d4a3d3",
   "metadata": {},
   "outputs": [],
   "source": [
    "ratings=rating[:9]"
   ]
  },
  {
   "cell_type": "code",
   "execution_count": null,
   "id": "09742b08",
   "metadata": {},
   "outputs": [],
   "source": [
    "ratings"
   ]
  },
  {
   "cell_type": "code",
   "execution_count": null,
   "id": "4c9cf522",
   "metadata": {},
   "outputs": [],
   "source": [
    "print(len(player_names),len(team),len(ratings))"
   ]
  },
  {
   "cell_type": "code",
   "execution_count": 49,
   "id": "18510dca",
   "metadata": {},
   "outputs": [],
   "source": [
    "import pandas as pd"
   ]
  },
  {
   "cell_type": "code",
   "execution_count": 50,
   "id": "bcc36c1a",
   "metadata": {},
   "outputs": [],
   "source": [
    "df=pd.DataFrame({'Player Name':player_names,'Team':team,'Rating':ratings})"
   ]
  },
  {
   "cell_type": "code",
   "execution_count": 51,
   "id": "8ac08791",
   "metadata": {},
   "outputs": [
    {
     "data": {
      "text/html": [
       "<div>\n",
       "<style scoped>\n",
       "    .dataframe tbody tr th:only-of-type {\n",
       "        vertical-align: middle;\n",
       "    }\n",
       "\n",
       "    .dataframe tbody tr th {\n",
       "        vertical-align: top;\n",
       "    }\n",
       "\n",
       "    .dataframe thead th {\n",
       "        text-align: right;\n",
       "    }\n",
       "</style>\n",
       "<table border=\"1\" class=\"dataframe\">\n",
       "  <thead>\n",
       "    <tr style=\"text-align: right;\">\n",
       "      <th></th>\n",
       "      <th>Player Name</th>\n",
       "      <th>Team</th>\n",
       "      <th>Rating</th>\n",
       "    </tr>\n",
       "  </thead>\n",
       "  <tbody>\n",
       "    <tr>\n",
       "      <th>0</th>\n",
       "      <td>Natalie Sciver</td>\n",
       "      <td>ENG</td>\n",
       "      <td>750</td>\n",
       "    </tr>\n",
       "    <tr>\n",
       "      <th>1</th>\n",
       "      <td>Beth Mooney</td>\n",
       "      <td>AUS</td>\n",
       "      <td>748</td>\n",
       "    </tr>\n",
       "    <tr>\n",
       "      <th>2</th>\n",
       "      <td>Laura Wolvaardt</td>\n",
       "      <td>SA</td>\n",
       "      <td>722</td>\n",
       "    </tr>\n",
       "    <tr>\n",
       "      <th>3</th>\n",
       "      <td>Meg Lanning</td>\n",
       "      <td>AUS</td>\n",
       "      <td>710</td>\n",
       "    </tr>\n",
       "    <tr>\n",
       "      <th>4</th>\n",
       "      <td>Rachael Haynes</td>\n",
       "      <td>AUS</td>\n",
       "      <td>701</td>\n",
       "    </tr>\n",
       "    <tr>\n",
       "      <th>5</th>\n",
       "      <td>Mithali Raj</td>\n",
       "      <td>IND</td>\n",
       "      <td>686</td>\n",
       "    </tr>\n",
       "    <tr>\n",
       "      <th>6</th>\n",
       "      <td>Amy Satterthwaite</td>\n",
       "      <td>NZ</td>\n",
       "      <td>681</td>\n",
       "    </tr>\n",
       "    <tr>\n",
       "      <th>7</th>\n",
       "      <td>Smriti Mandhana</td>\n",
       "      <td>IND</td>\n",
       "      <td>669</td>\n",
       "    </tr>\n",
       "    <tr>\n",
       "      <th>8</th>\n",
       "      <td>Tammy Beaumont</td>\n",
       "      <td>ENG</td>\n",
       "      <td>659</td>\n",
       "    </tr>\n",
       "  </tbody>\n",
       "</table>\n",
       "</div>"
      ],
      "text/plain": [
       "         Player Name Team Rating\n",
       "0     Natalie Sciver  ENG    750\n",
       "1        Beth Mooney  AUS    748\n",
       "2    Laura Wolvaardt   SA    722\n",
       "3        Meg Lanning  AUS    710\n",
       "4     Rachael Haynes  AUS    701\n",
       "5        Mithali Raj  IND    686\n",
       "6  Amy Satterthwaite   NZ    681\n",
       "7    Smriti Mandhana  IND    669\n",
       "8     Tammy Beaumont  ENG    659"
      ]
     },
     "execution_count": 51,
     "metadata": {},
     "output_type": "execute_result"
    }
   ],
   "source": [
    "df #dataframe of 9 players except rank1 coz rank1 has different code"
   ]
  },
  {
   "cell_type": "markdown",
   "id": "b4a974e7",
   "metadata": {},
   "source": [
    "# c) Top 10 women’s ODI all-rounder along with the records of their team and rating."
   ]
  },
  {
   "cell_type": "code",
   "execution_count": 52,
   "id": "52991c2d",
   "metadata": {},
   "outputs": [],
   "source": [
    "from bs4 import BeautifulSoup\n",
    "import requests"
   ]
  },
  {
   "cell_type": "code",
   "execution_count": 53,
   "id": "07ce8a71",
   "metadata": {},
   "outputs": [],
   "source": [
    "page=requests.get('https://www.icc-cricket.com/rankings/womens/player-rankings/odi/all-rounder')"
   ]
  },
  {
   "cell_type": "code",
   "execution_count": 54,
   "id": "d5f62cb5",
   "metadata": {},
   "outputs": [
    {
     "data": {
      "text/plain": [
       "<Response [200]>"
      ]
     },
     "execution_count": 54,
     "metadata": {},
     "output_type": "execute_result"
    }
   ],
   "source": [
    "page"
   ]
  },
  {
   "cell_type": "code",
   "execution_count": null,
   "id": "0031aa61",
   "metadata": {},
   "outputs": [],
   "source": [
    "soup=BeautifulSoup(page.content)\n",
    "soup"
   ]
  },
  {
   "cell_type": "code",
   "execution_count": 56,
   "id": "60074c33",
   "metadata": {},
   "outputs": [],
   "source": [
    "#Here is also for rank1--->>the code is different coz it is in highlight color and text\n",
    "#and for rest all the code is same"
   ]
  },
  {
   "cell_type": "code",
   "execution_count": 57,
   "id": "f600467f",
   "metadata": {},
   "outputs": [
    {
     "data": {
      "text/plain": [
       "'Natalie Sciver'"
      ]
     },
     "execution_count": 57,
     "metadata": {},
     "output_type": "execute_result"
    }
   ],
   "source": [
    "#for rank1 player name\n",
    "rank1_allrounder=soup.find('div',class_='rankings-block__banner--name-large')\n",
    "rank1_allrounder.text"
   ]
  },
  {
   "cell_type": "code",
   "execution_count": 60,
   "id": "aa1f69c5",
   "metadata": {},
   "outputs": [
    {
     "data": {
      "text/plain": [
       "'ENG                    '"
      ]
     },
     "execution_count": 60,
     "metadata": {},
     "output_type": "execute_result"
    }
   ],
   "source": [
    "#for rank1 players team\n",
    "rank1_allrounder_team=soup.find('div',class_='rankings-block__banner--nationality')\n",
    "rank1_allrounder_team.text.replace('\\n','')"
   ]
  },
  {
   "cell_type": "code",
   "execution_count": 62,
   "id": "377689fc",
   "metadata": {},
   "outputs": [
    {
     "data": {
      "text/plain": [
       "'393'"
      ]
     },
     "execution_count": 62,
     "metadata": {},
     "output_type": "execute_result"
    }
   ],
   "source": [
    "#for rank1 players rating\n",
    "rank1_allrounder_rating=soup.find('div',class_='rankings-block__banner--rating')\n",
    "rank1_allrounder_rating.text"
   ]
  },
  {
   "cell_type": "code",
   "execution_count": 63,
   "id": "989c36e8",
   "metadata": {},
   "outputs": [],
   "source": [
    "###for rest 9 players--->>>>"
   ]
  },
  {
   "cell_type": "code",
   "execution_count": 64,
   "id": "c1b3d132",
   "metadata": {},
   "outputs": [],
   "source": [
    "player_name=[]"
   ]
  },
  {
   "cell_type": "code",
   "execution_count": 65,
   "id": "6feb6a77",
   "metadata": {},
   "outputs": [],
   "source": [
    "for i in soup.findAll('td',class_='table-body__cell rankings-table__name name'):\n",
    "    player_name.append(i.text.replace('\\n',''))"
   ]
  },
  {
   "cell_type": "code",
   "execution_count": 66,
   "id": "64df3fff",
   "metadata": {},
   "outputs": [],
   "source": [
    "player_names=player_name[:9]"
   ]
  },
  {
   "cell_type": "code",
   "execution_count": null,
   "id": "2a7f0aa4",
   "metadata": {},
   "outputs": [],
   "source": [
    "player_names"
   ]
  },
  {
   "cell_type": "code",
   "execution_count": 68,
   "id": "68843748",
   "metadata": {},
   "outputs": [],
   "source": [
    "teams=[]"
   ]
  },
  {
   "cell_type": "code",
   "execution_count": 69,
   "id": "92fc6238",
   "metadata": {},
   "outputs": [],
   "source": [
    "for i in soup.findAll('span',class_='table-body__logo-text'):\n",
    "    teams.append(i.text)"
   ]
  },
  {
   "cell_type": "code",
   "execution_count": 73,
   "id": "16e8580c",
   "metadata": {},
   "outputs": [],
   "source": [
    "team=teams[:9]"
   ]
  },
  {
   "cell_type": "code",
   "execution_count": null,
   "id": "743e96f4",
   "metadata": {},
   "outputs": [],
   "source": [
    "team"
   ]
  },
  {
   "cell_type": "code",
   "execution_count": 75,
   "id": "981e89b5",
   "metadata": {},
   "outputs": [],
   "source": [
    "rating=[]"
   ]
  },
  {
   "cell_type": "code",
   "execution_count": 76,
   "id": "1f0c2fb9",
   "metadata": {},
   "outputs": [],
   "source": [
    "for i in soup.findAll('td',class_='table-body__cell rating'):\n",
    "    rating.append(i.text)"
   ]
  },
  {
   "cell_type": "code",
   "execution_count": 78,
   "id": "65031b56",
   "metadata": {},
   "outputs": [],
   "source": [
    "ratings=rating[:9]"
   ]
  },
  {
   "cell_type": "code",
   "execution_count": null,
   "id": "75696232",
   "metadata": {},
   "outputs": [],
   "source": [
    "ratings"
   ]
  },
  {
   "cell_type": "code",
   "execution_count": null,
   "id": "95499c43",
   "metadata": {},
   "outputs": [],
   "source": [
    "print(len(player_names),len(team),len(ratings))"
   ]
  },
  {
   "cell_type": "code",
   "execution_count": 81,
   "id": "d1332f7a",
   "metadata": {},
   "outputs": [],
   "source": [
    "import pandas as pd"
   ]
  },
  {
   "cell_type": "code",
   "execution_count": 82,
   "id": "63832e83",
   "metadata": {},
   "outputs": [],
   "source": [
    "df=pd.DataFrame({'Player Name':player_names,'Team':team,'Rating':ratings})"
   ]
  },
  {
   "cell_type": "code",
   "execution_count": 83,
   "id": "12580d2f",
   "metadata": {},
   "outputs": [
    {
     "data": {
      "text/html": [
       "<div>\n",
       "<style scoped>\n",
       "    .dataframe tbody tr th:only-of-type {\n",
       "        vertical-align: middle;\n",
       "    }\n",
       "\n",
       "    .dataframe tbody tr th {\n",
       "        vertical-align: top;\n",
       "    }\n",
       "\n",
       "    .dataframe thead th {\n",
       "        text-align: right;\n",
       "    }\n",
       "</style>\n",
       "<table border=\"1\" class=\"dataframe\">\n",
       "  <thead>\n",
       "    <tr style=\"text-align: right;\">\n",
       "      <th></th>\n",
       "      <th>Player Name</th>\n",
       "      <th>Team</th>\n",
       "      <th>Rating</th>\n",
       "    </tr>\n",
       "  </thead>\n",
       "  <tbody>\n",
       "    <tr>\n",
       "      <th>0</th>\n",
       "      <td>Ellyse Perry</td>\n",
       "      <td>AUS</td>\n",
       "      <td>374</td>\n",
       "    </tr>\n",
       "    <tr>\n",
       "      <th>1</th>\n",
       "      <td>Marizanne Kapp</td>\n",
       "      <td>SA</td>\n",
       "      <td>359</td>\n",
       "    </tr>\n",
       "    <tr>\n",
       "      <th>2</th>\n",
       "      <td>Hayley Matthews</td>\n",
       "      <td>WI</td>\n",
       "      <td>338</td>\n",
       "    </tr>\n",
       "    <tr>\n",
       "      <th>3</th>\n",
       "      <td>Amelia Kerr</td>\n",
       "      <td>NZ</td>\n",
       "      <td>335</td>\n",
       "    </tr>\n",
       "    <tr>\n",
       "      <th>4</th>\n",
       "      <td>Ashleigh Gardner</td>\n",
       "      <td>AUS</td>\n",
       "      <td>269</td>\n",
       "    </tr>\n",
       "    <tr>\n",
       "      <th>5</th>\n",
       "      <td>Deepti Sharma</td>\n",
       "      <td>IND</td>\n",
       "      <td>249</td>\n",
       "    </tr>\n",
       "    <tr>\n",
       "      <th>6</th>\n",
       "      <td>Jess Jonassen</td>\n",
       "      <td>AUS</td>\n",
       "      <td>245</td>\n",
       "    </tr>\n",
       "    <tr>\n",
       "      <th>7</th>\n",
       "      <td>Katherine Brunt</td>\n",
       "      <td>ENG</td>\n",
       "      <td>221</td>\n",
       "    </tr>\n",
       "    <tr>\n",
       "      <th>8</th>\n",
       "      <td>Jhulan Goswami</td>\n",
       "      <td>IND</td>\n",
       "      <td>217</td>\n",
       "    </tr>\n",
       "  </tbody>\n",
       "</table>\n",
       "</div>"
      ],
      "text/plain": [
       "        Player Name Team Rating\n",
       "0      Ellyse Perry  AUS    374\n",
       "1    Marizanne Kapp   SA    359\n",
       "2   Hayley Matthews   WI    338\n",
       "3       Amelia Kerr   NZ    335\n",
       "4  Ashleigh Gardner  AUS    269\n",
       "5     Deepti Sharma  IND    249\n",
       "6     Jess Jonassen  AUS    245\n",
       "7   Katherine Brunt  ENG    221\n",
       "8    Jhulan Goswami  IND    217"
      ]
     },
     "execution_count": 83,
     "metadata": {},
     "output_type": "execute_result"
    }
   ],
   "source": [
    "df  #dataframe of rest 9 allrounders"
   ]
  },
  {
   "cell_type": "markdown",
   "id": "a25c5f8b",
   "metadata": {},
   "source": [
    "# 7) Write a python program to scrape details of all the posts from coreyms.com. Scrape the heading, date, content and the code for the video from the link for the youtube video from the post.\n"
   ]
  },
  {
   "cell_type": "code",
   "execution_count": 30,
   "id": "8be7dad0",
   "metadata": {},
   "outputs": [],
   "source": [
    "from bs4 import BeautifulSoup\n",
    "import requests"
   ]
  },
  {
   "cell_type": "code",
   "execution_count": 31,
   "id": "d47b4798",
   "metadata": {},
   "outputs": [],
   "source": [
    "page=requests.get('https://coreyms.com/')"
   ]
  },
  {
   "cell_type": "code",
   "execution_count": 32,
   "id": "bc09c531",
   "metadata": {},
   "outputs": [
    {
     "data": {
      "text/plain": [
       "<Response [200]>"
      ]
     },
     "execution_count": 32,
     "metadata": {},
     "output_type": "execute_result"
    }
   ],
   "source": [
    "page"
   ]
  },
  {
   "cell_type": "code",
   "execution_count": null,
   "id": "d4762834",
   "metadata": {},
   "outputs": [],
   "source": [
    "soup=BeautifulSoup(page.content)\n",
    "soup"
   ]
  },
  {
   "cell_type": "code",
   "execution_count": 34,
   "id": "0cac02e7",
   "metadata": {},
   "outputs": [],
   "source": [
    "headings=[]"
   ]
  },
  {
   "cell_type": "code",
   "execution_count": 35,
   "id": "7d6c007e",
   "metadata": {},
   "outputs": [],
   "source": [
    "for i in soup.findAll('a',class_='entry-title-link'):\n",
    "    headings.append(i.text)"
   ]
  },
  {
   "cell_type": "code",
   "execution_count": null,
   "id": "ba90779a",
   "metadata": {},
   "outputs": [],
   "source": [
    "headings"
   ]
  },
  {
   "cell_type": "code",
   "execution_count": 37,
   "id": "b1430f45",
   "metadata": {},
   "outputs": [],
   "source": [
    "date=[]"
   ]
  },
  {
   "cell_type": "code",
   "execution_count": 38,
   "id": "9b56a921",
   "metadata": {},
   "outputs": [],
   "source": [
    "for i in soup.findAll('time',class_='entry-time'):\n",
    "    date.append(i.text)"
   ]
  },
  {
   "cell_type": "code",
   "execution_count": null,
   "id": "0121dd37",
   "metadata": {},
   "outputs": [],
   "source": [
    "date"
   ]
  },
  {
   "cell_type": "code",
   "execution_count": 40,
   "id": "db0b23ff",
   "metadata": {},
   "outputs": [],
   "source": [
    "contents=[]"
   ]
  },
  {
   "cell_type": "code",
   "execution_count": 41,
   "id": "3c030075",
   "metadata": {},
   "outputs": [],
   "source": [
    "for i in soup.find_all('div',class_='entry-content'):\n",
    "    contents.append(i.text.replace('\\n',''))"
   ]
  },
  {
   "cell_type": "code",
   "execution_count": null,
   "id": "0c5970fb",
   "metadata": {},
   "outputs": [],
   "source": [
    "contents"
   ]
  },
  {
   "cell_type": "code",
   "execution_count": 43,
   "id": "9e3518b7",
   "metadata": {},
   "outputs": [],
   "source": [
    "Y_tube=[]"
   ]
  },
  {
   "cell_type": "code",
   "execution_count": 44,
   "id": "da50a1a7",
   "metadata": {},
   "outputs": [],
   "source": [
    "for i in soup.find_all(\"iframe\", class_=\"youtube-player\"):\n",
    "\n",
    "    Y_tube.append(i['src'])"
   ]
  },
  {
   "cell_type": "code",
   "execution_count": null,
   "id": "f3d9a576",
   "metadata": {},
   "outputs": [],
   "source": [
    "Y_tube"
   ]
  },
  {
   "cell_type": "code",
   "execution_count": 46,
   "id": "c6ac2fae",
   "metadata": {},
   "outputs": [],
   "source": [
    "Y_tube.insert(4,'NA')"
   ]
  },
  {
   "cell_type": "code",
   "execution_count": 47,
   "id": "268ae2e3",
   "metadata": {},
   "outputs": [
    {
     "name": "stdout",
     "output_type": "stream",
     "text": [
      "10 10 10 10\n"
     ]
    }
   ],
   "source": [
    "print(len(headings),len(date),len(contents),len(Y_tube))"
   ]
  },
  {
   "cell_type": "code",
   "execution_count": 48,
   "id": "e7985e3f",
   "metadata": {},
   "outputs": [],
   "source": [
    "import pandas as pd"
   ]
  },
  {
   "cell_type": "code",
   "execution_count": 49,
   "id": "ef87b571",
   "metadata": {},
   "outputs": [],
   "source": [
    "df=pd.DataFrame({'Headings':headings,'Date':date,'Contents':contents,'Youtube Link':Y_tube})"
   ]
  },
  {
   "cell_type": "code",
   "execution_count": 50,
   "id": "5bfd2a46",
   "metadata": {},
   "outputs": [
    {
     "data": {
      "text/html": [
       "<div>\n",
       "<style scoped>\n",
       "    .dataframe tbody tr th:only-of-type {\n",
       "        vertical-align: middle;\n",
       "    }\n",
       "\n",
       "    .dataframe tbody tr th {\n",
       "        vertical-align: top;\n",
       "    }\n",
       "\n",
       "    .dataframe thead th {\n",
       "        text-align: right;\n",
       "    }\n",
       "</style>\n",
       "<table border=\"1\" class=\"dataframe\">\n",
       "  <thead>\n",
       "    <tr style=\"text-align: right;\">\n",
       "      <th></th>\n",
       "      <th>Headings</th>\n",
       "      <th>Date</th>\n",
       "      <th>Contents</th>\n",
       "      <th>Youtube Link</th>\n",
       "    </tr>\n",
       "  </thead>\n",
       "  <tbody>\n",
       "    <tr>\n",
       "      <th>0</th>\n",
       "      <td>Python Tutorial: Zip Files – Creating and Extr...</td>\n",
       "      <td>November 19, 2019</td>\n",
       "      <td>In this video, we will be learning how to crea...</td>\n",
       "      <td>https://www.youtube.com/embed/z0gguhEmWiY?vers...</td>\n",
       "    </tr>\n",
       "    <tr>\n",
       "      <th>1</th>\n",
       "      <td>Python Data Science Tutorial: Analyzing the 20...</td>\n",
       "      <td>October 17, 2019</td>\n",
       "      <td>In this Python Programming video, we will be l...</td>\n",
       "      <td>https://www.youtube.com/embed/_P7X8tMplsw?vers...</td>\n",
       "    </tr>\n",
       "    <tr>\n",
       "      <th>2</th>\n",
       "      <td>Python Multiprocessing Tutorial: Run Code in P...</td>\n",
       "      <td>September 21, 2019</td>\n",
       "      <td>In this Python Programming video, we will be l...</td>\n",
       "      <td>https://www.youtube.com/embed/fKl2JW_qrso?vers...</td>\n",
       "    </tr>\n",
       "    <tr>\n",
       "      <th>3</th>\n",
       "      <td>Python Threading Tutorial: Run Code Concurrent...</td>\n",
       "      <td>September 12, 2019</td>\n",
       "      <td>In this Python Programming video, we will be l...</td>\n",
       "      <td>https://www.youtube.com/embed/IEEhzQoKtQU?vers...</td>\n",
       "    </tr>\n",
       "    <tr>\n",
       "      <th>4</th>\n",
       "      <td>Update (2019-09-03)</td>\n",
       "      <td>September 3, 2019</td>\n",
       "      <td>Hey everyone. I wanted to give you an update o...</td>\n",
       "      <td>NA</td>\n",
       "    </tr>\n",
       "    <tr>\n",
       "      <th>5</th>\n",
       "      <td>Python Quick Tip: The Difference Between “==” ...</td>\n",
       "      <td>August 6, 2019</td>\n",
       "      <td>In this Python Programming Tutorial, we will b...</td>\n",
       "      <td>https://www.youtube.com/embed/mO_dS3rXDIs?vers...</td>\n",
       "    </tr>\n",
       "    <tr>\n",
       "      <th>6</th>\n",
       "      <td>Python Tutorial: Calling External Commands Usi...</td>\n",
       "      <td>July 24, 2019</td>\n",
       "      <td>In this Python Programming Tutorial, we will b...</td>\n",
       "      <td>https://www.youtube.com/embed/2Fp1N6dof0Y?vers...</td>\n",
       "    </tr>\n",
       "    <tr>\n",
       "      <th>7</th>\n",
       "      <td>Visual Studio Code (Windows) – Setting up a Py...</td>\n",
       "      <td>May 1, 2019</td>\n",
       "      <td>In this Python Programming Tutorial, we will b...</td>\n",
       "      <td>https://www.youtube.com/embed/-nh9rCzPJ20?vers...</td>\n",
       "    </tr>\n",
       "    <tr>\n",
       "      <th>8</th>\n",
       "      <td>Visual Studio Code (Mac) – Setting up a Python...</td>\n",
       "      <td>May 1, 2019</td>\n",
       "      <td>In this Python Programming Tutorial, we will b...</td>\n",
       "      <td>https://www.youtube.com/embed/06I63_p-2A4?vers...</td>\n",
       "    </tr>\n",
       "    <tr>\n",
       "      <th>9</th>\n",
       "      <td>Clarifying the Issues with Mutable Default Arg...</td>\n",
       "      <td>April 24, 2019</td>\n",
       "      <td>In this Python Programming Tutorial, we will b...</td>\n",
       "      <td>https://www.youtube.com/embed/_JGmemuINww?vers...</td>\n",
       "    </tr>\n",
       "  </tbody>\n",
       "</table>\n",
       "</div>"
      ],
      "text/plain": [
       "                                            Headings                Date  \\\n",
       "0  Python Tutorial: Zip Files – Creating and Extr...   November 19, 2019   \n",
       "1  Python Data Science Tutorial: Analyzing the 20...    October 17, 2019   \n",
       "2  Python Multiprocessing Tutorial: Run Code in P...  September 21, 2019   \n",
       "3  Python Threading Tutorial: Run Code Concurrent...  September 12, 2019   \n",
       "4                                Update (2019-09-03)   September 3, 2019   \n",
       "5  Python Quick Tip: The Difference Between “==” ...      August 6, 2019   \n",
       "6  Python Tutorial: Calling External Commands Usi...       July 24, 2019   \n",
       "7  Visual Studio Code (Windows) – Setting up a Py...         May 1, 2019   \n",
       "8  Visual Studio Code (Mac) – Setting up a Python...         May 1, 2019   \n",
       "9  Clarifying the Issues with Mutable Default Arg...      April 24, 2019   \n",
       "\n",
       "                                            Contents  \\\n",
       "0  In this video, we will be learning how to crea...   \n",
       "1  In this Python Programming video, we will be l...   \n",
       "2  In this Python Programming video, we will be l...   \n",
       "3  In this Python Programming video, we will be l...   \n",
       "4  Hey everyone. I wanted to give you an update o...   \n",
       "5  In this Python Programming Tutorial, we will b...   \n",
       "6  In this Python Programming Tutorial, we will b...   \n",
       "7  In this Python Programming Tutorial, we will b...   \n",
       "8  In this Python Programming Tutorial, we will b...   \n",
       "9  In this Python Programming Tutorial, we will b...   \n",
       "\n",
       "                                        Youtube Link  \n",
       "0  https://www.youtube.com/embed/z0gguhEmWiY?vers...  \n",
       "1  https://www.youtube.com/embed/_P7X8tMplsw?vers...  \n",
       "2  https://www.youtube.com/embed/fKl2JW_qrso?vers...  \n",
       "3  https://www.youtube.com/embed/IEEhzQoKtQU?vers...  \n",
       "4                                                 NA  \n",
       "5  https://www.youtube.com/embed/mO_dS3rXDIs?vers...  \n",
       "6  https://www.youtube.com/embed/2Fp1N6dof0Y?vers...  \n",
       "7  https://www.youtube.com/embed/-nh9rCzPJ20?vers...  \n",
       "8  https://www.youtube.com/embed/06I63_p-2A4?vers...  \n",
       "9  https://www.youtube.com/embed/_JGmemuINww?vers...  "
      ]
     },
     "execution_count": 50,
     "metadata": {},
     "output_type": "execute_result"
    }
   ],
   "source": [
    "df"
   ]
  },
  {
   "cell_type": "markdown",
   "id": "5daebe1b",
   "metadata": {},
   "source": [
    "# 8)Write a python program to scrape house details from mentioned URL. It should include house title, location,areaEMI and price from https://www.nobroker.in/ .Enter three localities which are Indira Nagar, Jayanagar, Rajaji Nagar.\n"
   ]
  },
  {
   "cell_type": "code",
   "execution_count": 1,
   "id": "a5e7aab1",
   "metadata": {},
   "outputs": [],
   "source": [
    "from bs4 import BeautifulSoup\n",
    "import requests"
   ]
  },
  {
   "cell_type": "code",
   "execution_count": 2,
   "id": "2e8a4929",
   "metadata": {},
   "outputs": [],
   "source": [
    "page=requests.get('https://www.nobroker.in/property/sale/hyderabad/multiple?searchParam=W3sibGF0IjoxNy40NDc0NDc1LCJsb24iOjc4LjM1NjkyNzUsInBsYWNlSWQiOiJDaElKZzVwcF9KU1R5enNSaHBYNzU2M2VkX2ciLCJwbGFjZU5hbWUiOiJJbmRpcmEgTmFnYXIifSx7ImxhdCI6MTcuNDk5NzcxNSwibG9uIjo3OC40MDYyNjIzLCJwbGFjZUlkIjoiQ2hJSlA0a3lkZXFSeXpzUjhYMFNocXdoQTNVIiwicGxhY2VOYW1lIjoiSmF5YSBOYWdhciJ9LHsibGF0IjoxNy4zNTk1MzQ4LCJsb24iOjc4LjUxNTg2MDUsInBsYWNlSWQiOiJDaElKQVFBODdXQ1l5enNSS1QtSFdvQ0k3TUUiLCJwbGFjZU5hbWUiOiJKYXlhIE5hZ2FyIn1d&radius=2.0&city=hyderabad&locality=Indira%20Nagar,&locality=Jaya%20Nagar,&locality=Jaya%20Nagar')"
   ]
  },
  {
   "cell_type": "code",
   "execution_count": 3,
   "id": "2f6e71d6",
   "metadata": {},
   "outputs": [
    {
     "data": {
      "text/plain": [
       "<Response [200]>"
      ]
     },
     "execution_count": 3,
     "metadata": {},
     "output_type": "execute_result"
    }
   ],
   "source": [
    "page"
   ]
  },
  {
   "cell_type": "code",
   "execution_count": null,
   "id": "7e3c1fe8",
   "metadata": {},
   "outputs": [],
   "source": [
    "soup=BeautifulSoup(page.content)\n",
    "soup"
   ]
  },
  {
   "cell_type": "code",
   "execution_count": 5,
   "id": "d8e06b0d",
   "metadata": {},
   "outputs": [],
   "source": [
    "title=[]"
   ]
  },
  {
   "cell_type": "code",
   "execution_count": 6,
   "id": "5f68d8da",
   "metadata": {},
   "outputs": [],
   "source": [
    "for i in soup.find_all('h2',class_=\"heading-6 flex items-center font-semi-bold m-0\"):\n",
    "    title.append(i.text)"
   ]
  },
  {
   "cell_type": "code",
   "execution_count": null,
   "id": "64b2ae42",
   "metadata": {},
   "outputs": [],
   "source": [
    "title"
   ]
  },
  {
   "cell_type": "code",
   "execution_count": 7,
   "id": "e11b7faa",
   "metadata": {},
   "outputs": [],
   "source": [
    "location=[]"
   ]
  },
  {
   "cell_type": "code",
   "execution_count": 8,
   "id": "20a01010",
   "metadata": {},
   "outputs": [],
   "source": [
    "for i in soup.find_all('div',class_=\"mt-0.5p overflow-hidden overflow-ellipsis whitespace-nowrap max-w-70 text-gray-light leading-4 po:mb-0 po:max-w-95\"):\n",
    "    location.append(i.text)"
   ]
  },
  {
   "cell_type": "code",
   "execution_count": null,
   "id": "19749b54",
   "metadata": {},
   "outputs": [],
   "source": [
    "location"
   ]
  },
  {
   "cell_type": "code",
   "execution_count": 10,
   "id": "608c4199",
   "metadata": {},
   "outputs": [],
   "source": [
    "area_n_emi=[]"
   ]
  },
  {
   "cell_type": "code",
   "execution_count": 11,
   "id": "f0b80c2e",
   "metadata": {},
   "outputs": [],
   "source": [
    "for i in soup.find_all('div',class_='flex flex-col w-33pe items-center border-r border-r-solid border-card-overview-border-color tp:w-half po:w-full last:border-r-1'):\n",
    "    area_n_emi.append(i.text.replace('Builtup',''))"
   ]
  },
  {
   "cell_type": "code",
   "execution_count": null,
   "id": "3ea5c282",
   "metadata": {},
   "outputs": [],
   "source": [
    "area_n_emi"
   ]
  },
  {
   "cell_type": "code",
   "execution_count": 13,
   "id": "f6ef6197",
   "metadata": {},
   "outputs": [],
   "source": [
    "price=[]"
   ]
  },
  {
   "cell_type": "code",
   "execution_count": 14,
   "id": "9288cac8",
   "metadata": {},
   "outputs": [],
   "source": [
    "for i in soup.find_all('div',class_='flex flex-col w-33pe items-center bo tp:w-half po:w-full border-r-0'):\n",
    "    price.append(i.text)"
   ]
  },
  {
   "cell_type": "code",
   "execution_count": null,
   "id": "71b11084",
   "metadata": {},
   "outputs": [],
   "source": [
    "price"
   ]
  },
  {
   "cell_type": "code",
   "execution_count": 16,
   "id": "b8de66fc",
   "metadata": {},
   "outputs": [],
   "source": [
    "area = []"
   ]
  },
  {
   "cell_type": "code",
   "execution_count": 17,
   "id": "5a1df6ca",
   "metadata": {},
   "outputs": [],
   "source": [
    "for i in range(0,len(area_n_emi),2)[:50]:\n",
    "     area.append(area_n_emi[i])"
   ]
  },
  {
   "cell_type": "code",
   "execution_count": null,
   "id": "12005cf4",
   "metadata": {},
   "outputs": [],
   "source": [
    "area"
   ]
  },
  {
   "cell_type": "code",
   "execution_count": 19,
   "id": "954315d3",
   "metadata": {},
   "outputs": [],
   "source": [
    "emi=[]"
   ]
  },
  {
   "cell_type": "code",
   "execution_count": 20,
   "id": "31121db5",
   "metadata": {},
   "outputs": [],
   "source": [
    "for i in range(1,len(area_n_emi),2)[:50]:\n",
    "               emi.append(area_n_emi[i])"
   ]
  },
  {
   "cell_type": "code",
   "execution_count": null,
   "id": "d172d103",
   "metadata": {},
   "outputs": [],
   "source": [
    "emi"
   ]
  },
  {
   "cell_type": "code",
   "execution_count": 22,
   "id": "6e2bb22d",
   "metadata": {},
   "outputs": [
    {
     "name": "stdout",
     "output_type": "stream",
     "text": [
      "25 25 25 25 25\n"
     ]
    }
   ],
   "source": [
    "print(len(title),len(location),len(area),len(emi),len(price))"
   ]
  },
  {
   "cell_type": "code",
   "execution_count": 23,
   "id": "3130520a",
   "metadata": {},
   "outputs": [],
   "source": [
    "import pandas as pd"
   ]
  },
  {
   "cell_type": "code",
   "execution_count": 24,
   "id": "da30e926",
   "metadata": {},
   "outputs": [],
   "source": [
    "df=pd.DataFrame({'Title':title,'Location':location,'Area':area,'Emi':emi,'Price':price})"
   ]
  },
  {
   "cell_type": "code",
   "execution_count": 25,
   "id": "85acfae1",
   "metadata": {},
   "outputs": [
    {
     "data": {
      "text/html": [
       "<div>\n",
       "<style scoped>\n",
       "    .dataframe tbody tr th:only-of-type {\n",
       "        vertical-align: middle;\n",
       "    }\n",
       "\n",
       "    .dataframe tbody tr th {\n",
       "        vertical-align: top;\n",
       "    }\n",
       "\n",
       "    .dataframe thead th {\n",
       "        text-align: right;\n",
       "    }\n",
       "</style>\n",
       "<table border=\"1\" class=\"dataframe\">\n",
       "  <thead>\n",
       "    <tr style=\"text-align: right;\">\n",
       "      <th></th>\n",
       "      <th>Title</th>\n",
       "      <th>Location</th>\n",
       "      <th>Area</th>\n",
       "      <th>Emi</th>\n",
       "      <th>Price</th>\n",
       "    </tr>\n",
       "  </thead>\n",
       "  <tbody>\n",
       "    <tr>\n",
       "      <th>0</th>\n",
       "      <td>2 BHK Flat  For Sale  In Mumtaz Residency Sbh ...</td>\n",
       "      <td>Near Cambridge High School Karan Bagh Saidabad</td>\n",
       "      <td>890 sqft</td>\n",
       "      <td>₹21,779/MonthEstimated EMI</td>\n",
       "      <td>₹38 Lacs₹4,270 per sq.ft.</td>\n",
       "    </tr>\n",
       "    <tr>\n",
       "      <th>1</th>\n",
       "      <td>3 BHK Flat  For Sale  In Park View Residency, ...</td>\n",
       "      <td>OPP to go gas</td>\n",
       "      <td>1,225 sqft</td>\n",
       "      <td>₹45,851/MonthEstimated EMI</td>\n",
       "      <td>₹80 Lacs₹6,531 per sq.ft.</td>\n",
       "    </tr>\n",
       "    <tr>\n",
       "      <th>2</th>\n",
       "      <td>4+ BHK In Independent House  For Sale  In Jaya...</td>\n",
       "      <td>Independent House, Near New Royal High School ...</td>\n",
       "      <td>2,200 sqft</td>\n",
       "      <td>₹1.32 Lacs/MonthEstimated EMI</td>\n",
       "      <td>₹2.3 Crores₹10,455 per sq.ft.</td>\n",
       "    </tr>\n",
       "    <tr>\n",
       "      <th>3</th>\n",
       "      <td>2 BHK Flat  For Sale  In Vaishnavi Enclave In ...</td>\n",
       "      <td>16-2-835/67, 33/A, M.I.G.H, Karan Bagh, New Sa...</td>\n",
       "      <td>1,050 sqft</td>\n",
       "      <td>₹21,779/MonthEstimated EMI</td>\n",
       "      <td>₹38 Lacs₹3,619 per sq.ft.</td>\n",
       "    </tr>\n",
       "    <tr>\n",
       "      <th>4</th>\n",
       "      <td>2 BHK Flat  For Sale  In Zubair Residency In K...</td>\n",
       "      <td>Saidabad karan bagh cambridge high schoo</td>\n",
       "      <td>850 sqft</td>\n",
       "      <td>₹14,328/MonthEstimated EMI</td>\n",
       "      <td>₹25 Lacs₹2,941 per sq.ft.</td>\n",
       "    </tr>\n",
       "    <tr>\n",
       "      <th>5</th>\n",
       "      <td>2 BHK Flat  For Sale  In Sai Saraswathi Enclav...</td>\n",
       "      <td>Road Number 17, Saraswathi Nagar, Saroor Nagar...</td>\n",
       "      <td>855 sqft</td>\n",
       "      <td>₹14,901/MonthEstimated EMI</td>\n",
       "      <td>₹26 Lacs₹3,041 per sq.ft.</td>\n",
       "    </tr>\n",
       "    <tr>\n",
       "      <th>6</th>\n",
       "      <td>3 BHK In Independent House  For Sale  In Saidabad</td>\n",
       "      <td>Independent House, Laxmi Nagar,Near Singi Redd...</td>\n",
       "      <td>1,500 sqft</td>\n",
       "      <td>₹2.87 Lacs/MonthEstimated EMI</td>\n",
       "      <td>₹5 Crores₹33,333 per sq.ft.</td>\n",
       "    </tr>\n",
       "    <tr>\n",
       "      <th>7</th>\n",
       "      <td>2 BHK Flat  For Sale  In Park View Apartment  ...</td>\n",
       "      <td>Singareni Colony, Saroor Nagar West Near State...</td>\n",
       "      <td>1,060 sqft</td>\n",
       "      <td>₹25,218/MonthEstimated EMI</td>\n",
       "      <td>₹44 Lacs₹4,151 per sq.ft.</td>\n",
       "    </tr>\n",
       "    <tr>\n",
       "      <th>8</th>\n",
       "      <td>2 BHK Flat  For Sale  In Shailaja  Castle Apar...</td>\n",
       "      <td>Madhav nagar,near Saidabad Colony Post Office</td>\n",
       "      <td>900 sqft</td>\n",
       "      <td>₹22,925/MonthEstimated EMI</td>\n",
       "      <td>₹40 Lacs₹4,444 per sq.ft.</td>\n",
       "    </tr>\n",
       "    <tr>\n",
       "      <th>9</th>\n",
       "      <td>4+ BHK In Independent House  For Sale  In Said...</td>\n",
       "      <td>Independent House, Saidabad Colony - Dhobi Gha...</td>\n",
       "      <td>3,330 sqft</td>\n",
       "      <td>₹2.58 Lacs/MonthEstimated EMI</td>\n",
       "      <td>₹4.5 Crores₹13,514 per sq.ft.</td>\n",
       "    </tr>\n",
       "    <tr>\n",
       "      <th>10</th>\n",
       "      <td>3 BHK Flat  For Sale  In Quality Constructions...</td>\n",
       "      <td>Sayeedabad Colony near Singi Reddy Srinivas Re...</td>\n",
       "      <td>1,395 sqft</td>\n",
       "      <td>₹54,448/MonthEstimated EMI</td>\n",
       "      <td>₹95 Lacs₹6,810 per sq.ft.</td>\n",
       "    </tr>\n",
       "    <tr>\n",
       "      <th>11</th>\n",
       "      <td>3 BHK Flat  For Sale  In Pearls Apartment In S...</td>\n",
       "      <td>farah colony</td>\n",
       "      <td>1,370 sqft</td>\n",
       "      <td>₹37,254/MonthEstimated EMI</td>\n",
       "      <td>₹65 Lacs₹4,745 per sq.ft.</td>\n",
       "    </tr>\n",
       "    <tr>\n",
       "      <th>12</th>\n",
       "      <td>3 BHK Flat  For Sale  In Crown Plaza In Saidabad</td>\n",
       "      <td>Saidabad road  Near More Supermarket</td>\n",
       "      <td>1,313 sqft</td>\n",
       "      <td>₹31,522/MonthEstimated EMI</td>\n",
       "      <td>₹55 Lacs₹4,189 per sq.ft.</td>\n",
       "    </tr>\n",
       "    <tr>\n",
       "      <th>13</th>\n",
       "      <td>4+ BHK In Independent House  For Sale  In Saro...</td>\n",
       "      <td>Independent House, Sayeedabad Colony, Saraswat...</td>\n",
       "      <td>3,500 sqft</td>\n",
       "      <td>₹1.89 Lacs/MonthEstimated EMI</td>\n",
       "      <td>₹3.3 Crores₹9,429 per sq.ft.</td>\n",
       "    </tr>\n",
       "    <tr>\n",
       "      <th>14</th>\n",
       "      <td>4+ BHK In Independent House  For Sale  In Shan...</td>\n",
       "      <td>Independent House, Sankeshwar Bazar, Shiva-Gan...</td>\n",
       "      <td>2,600 sqft</td>\n",
       "      <td>₹85,971/MonthEstimated EMI</td>\n",
       "      <td>₹1.5 Crores₹5,769 per sq.ft.</td>\n",
       "    </tr>\n",
       "    <tr>\n",
       "      <th>15</th>\n",
       "      <td>4 BHK In Independent House  For Sale  In Shank...</td>\n",
       "      <td>Independent House, Saidabad</td>\n",
       "      <td>1,900 sqft</td>\n",
       "      <td>₹74,508/MonthEstimated EMI</td>\n",
       "      <td>₹1.3 Crores₹6,842 per sq.ft.</td>\n",
       "    </tr>\n",
       "    <tr>\n",
       "      <th>16</th>\n",
       "      <td>2 BHK Flat  For Sale  In North East Residency ...</td>\n",
       "      <td>Saidabad, Hyderabad, Telangana, INDIA.</td>\n",
       "      <td>1,050 sqft</td>\n",
       "      <td>₹31,522/MonthEstimated EMI</td>\n",
       "      <td>₹55 Lacs₹5,238 per sq.ft.</td>\n",
       "    </tr>\n",
       "    <tr>\n",
       "      <th>17</th>\n",
       "      <td>2 BHK Flat  For Sale  In Eeshwar Samyuktha Res...</td>\n",
       "      <td>Vivekanada Park Road, Sai Ganga Colony, Shanke...</td>\n",
       "      <td>1,057 sqft</td>\n",
       "      <td>₹28,657/MonthEstimated EMI</td>\n",
       "      <td>₹50 Lacs₹4,730 per sq.ft.</td>\n",
       "    </tr>\n",
       "    <tr>\n",
       "      <th>18</th>\n",
       "      <td>1 BHK In Independent House  For Sale  In Saidabad</td>\n",
       "      <td>Vishnu Nagar, Saidabad,Hyderabad</td>\n",
       "      <td>270 sqft</td>\n",
       "      <td>₹17,194/MonthEstimated EMI</td>\n",
       "      <td>₹30 Lacs₹11,111 per sq.ft.</td>\n",
       "    </tr>\n",
       "    <tr>\n",
       "      <th>19</th>\n",
       "      <td>3 BHK Flat  For Sale  In Vgr Towers In Saidabad</td>\n",
       "      <td>Asmangadh near TSSPDCL 33/11 KV Asmangadh Sub ...</td>\n",
       "      <td>1,990 sqft</td>\n",
       "      <td>₹60,180/MonthEstimated EMI</td>\n",
       "      <td>₹1.05 Crores₹5,276 per sq.ft.</td>\n",
       "    </tr>\n",
       "    <tr>\n",
       "      <th>20</th>\n",
       "      <td>2 BHK Flat  For Sale  In Ashirwad Luxury Homes...</td>\n",
       "      <td>Opp More Super Market</td>\n",
       "      <td>1,375 sqft</td>\n",
       "      <td>₹37,254/MonthEstimated EMI</td>\n",
       "      <td>₹65 Lacs₹4,727 per sq.ft.</td>\n",
       "    </tr>\n",
       "    <tr>\n",
       "      <th>21</th>\n",
       "      <td>3 BHK Flat  For Sale  In Laavis Viraaj In Subr...</td>\n",
       "      <td>Saidabad Colony near Sri Padmavathi Mahila Kal...</td>\n",
       "      <td>2,470 sqft</td>\n",
       "      <td>₹94,141/MonthEstimated EMI</td>\n",
       "      <td>₹1.64 Crores₹6,650 per sq.ft.</td>\n",
       "    </tr>\n",
       "    <tr>\n",
       "      <th>22</th>\n",
       "      <td>2 BHK In Independent House  For Sale  In Saida...</td>\n",
       "      <td>Independent House, Subramanyanagar near Sri Pa...</td>\n",
       "      <td>800 sqft</td>\n",
       "      <td>₹40,120/MonthEstimated EMI</td>\n",
       "      <td>₹70 Lacs₹8,750 per sq.ft.</td>\n",
       "    </tr>\n",
       "    <tr>\n",
       "      <th>23</th>\n",
       "      <td>3 BHK Flat  For Sale  In Elegance Wings Enclav...</td>\n",
       "      <td>farha colony, Sai Ganga Colony, Shankeshwar Ba...</td>\n",
       "      <td>1,250 sqft</td>\n",
       "      <td>₹27,510/MonthEstimated EMI</td>\n",
       "      <td>₹48 Lacs₹3,840 per sq.ft.</td>\n",
       "    </tr>\n",
       "    <tr>\n",
       "      <th>24</th>\n",
       "      <td>3 BHK Flat  For Sale  In Marjan Aashiyana In S...</td>\n",
       "      <td>Masjid-e-Quba Rd near Masjid-e-Quba</td>\n",
       "      <td>1,050 sqft</td>\n",
       "      <td>₹31,522/MonthEstimated EMI</td>\n",
       "      <td>₹55 Lacs₹5,238 per sq.ft.</td>\n",
       "    </tr>\n",
       "  </tbody>\n",
       "</table>\n",
       "</div>"
      ],
      "text/plain": [
       "                                                Title  \\\n",
       "0   2 BHK Flat  For Sale  In Mumtaz Residency Sbh ...   \n",
       "1   3 BHK Flat  For Sale  In Park View Residency, ...   \n",
       "2   4+ BHK In Independent House  For Sale  In Jaya...   \n",
       "3   2 BHK Flat  For Sale  In Vaishnavi Enclave In ...   \n",
       "4   2 BHK Flat  For Sale  In Zubair Residency In K...   \n",
       "5   2 BHK Flat  For Sale  In Sai Saraswathi Enclav...   \n",
       "6   3 BHK In Independent House  For Sale  In Saidabad   \n",
       "7   2 BHK Flat  For Sale  In Park View Apartment  ...   \n",
       "8   2 BHK Flat  For Sale  In Shailaja  Castle Apar...   \n",
       "9   4+ BHK In Independent House  For Sale  In Said...   \n",
       "10  3 BHK Flat  For Sale  In Quality Constructions...   \n",
       "11  3 BHK Flat  For Sale  In Pearls Apartment In S...   \n",
       "12   3 BHK Flat  For Sale  In Crown Plaza In Saidabad   \n",
       "13  4+ BHK In Independent House  For Sale  In Saro...   \n",
       "14  4+ BHK In Independent House  For Sale  In Shan...   \n",
       "15  4 BHK In Independent House  For Sale  In Shank...   \n",
       "16  2 BHK Flat  For Sale  In North East Residency ...   \n",
       "17  2 BHK Flat  For Sale  In Eeshwar Samyuktha Res...   \n",
       "18  1 BHK In Independent House  For Sale  In Saidabad   \n",
       "19    3 BHK Flat  For Sale  In Vgr Towers In Saidabad   \n",
       "20  2 BHK Flat  For Sale  In Ashirwad Luxury Homes...   \n",
       "21  3 BHK Flat  For Sale  In Laavis Viraaj In Subr...   \n",
       "22  2 BHK In Independent House  For Sale  In Saida...   \n",
       "23  3 BHK Flat  For Sale  In Elegance Wings Enclav...   \n",
       "24  3 BHK Flat  For Sale  In Marjan Aashiyana In S...   \n",
       "\n",
       "                                             Location        Area  \\\n",
       "0      Near Cambridge High School Karan Bagh Saidabad    890 sqft   \n",
       "1                                       OPP to go gas  1,225 sqft   \n",
       "2   Independent House, Near New Royal High School ...  2,200 sqft   \n",
       "3   16-2-835/67, 33/A, M.I.G.H, Karan Bagh, New Sa...  1,050 sqft   \n",
       "4            Saidabad karan bagh cambridge high schoo    850 sqft   \n",
       "5   Road Number 17, Saraswathi Nagar, Saroor Nagar...    855 sqft   \n",
       "6   Independent House, Laxmi Nagar,Near Singi Redd...  1,500 sqft   \n",
       "7   Singareni Colony, Saroor Nagar West Near State...  1,060 sqft   \n",
       "8       Madhav nagar,near Saidabad Colony Post Office    900 sqft   \n",
       "9   Independent House, Saidabad Colony - Dhobi Gha...  3,330 sqft   \n",
       "10  Sayeedabad Colony near Singi Reddy Srinivas Re...  1,395 sqft   \n",
       "11                                       farah colony  1,370 sqft   \n",
       "12               Saidabad road  Near More Supermarket  1,313 sqft   \n",
       "13  Independent House, Sayeedabad Colony, Saraswat...  3,500 sqft   \n",
       "14  Independent House, Sankeshwar Bazar, Shiva-Gan...  2,600 sqft   \n",
       "15                        Independent House, Saidabad  1,900 sqft   \n",
       "16             Saidabad, Hyderabad, Telangana, INDIA.  1,050 sqft   \n",
       "17  Vivekanada Park Road, Sai Ganga Colony, Shanke...  1,057 sqft   \n",
       "18                   Vishnu Nagar, Saidabad,Hyderabad    270 sqft   \n",
       "19  Asmangadh near TSSPDCL 33/11 KV Asmangadh Sub ...  1,990 sqft   \n",
       "20                              Opp More Super Market  1,375 sqft   \n",
       "21  Saidabad Colony near Sri Padmavathi Mahila Kal...  2,470 sqft   \n",
       "22  Independent House, Subramanyanagar near Sri Pa...    800 sqft   \n",
       "23  farha colony, Sai Ganga Colony, Shankeshwar Ba...  1,250 sqft   \n",
       "24                Masjid-e-Quba Rd near Masjid-e-Quba  1,050 sqft   \n",
       "\n",
       "                              Emi                          Price  \n",
       "0      ₹21,779/MonthEstimated EMI      ₹38 Lacs₹4,270 per sq.ft.  \n",
       "1      ₹45,851/MonthEstimated EMI      ₹80 Lacs₹6,531 per sq.ft.  \n",
       "2   ₹1.32 Lacs/MonthEstimated EMI  ₹2.3 Crores₹10,455 per sq.ft.  \n",
       "3      ₹21,779/MonthEstimated EMI      ₹38 Lacs₹3,619 per sq.ft.  \n",
       "4      ₹14,328/MonthEstimated EMI      ₹25 Lacs₹2,941 per sq.ft.  \n",
       "5      ₹14,901/MonthEstimated EMI      ₹26 Lacs₹3,041 per sq.ft.  \n",
       "6   ₹2.87 Lacs/MonthEstimated EMI    ₹5 Crores₹33,333 per sq.ft.  \n",
       "7      ₹25,218/MonthEstimated EMI      ₹44 Lacs₹4,151 per sq.ft.  \n",
       "8      ₹22,925/MonthEstimated EMI      ₹40 Lacs₹4,444 per sq.ft.  \n",
       "9   ₹2.58 Lacs/MonthEstimated EMI  ₹4.5 Crores₹13,514 per sq.ft.  \n",
       "10     ₹54,448/MonthEstimated EMI      ₹95 Lacs₹6,810 per sq.ft.  \n",
       "11     ₹37,254/MonthEstimated EMI      ₹65 Lacs₹4,745 per sq.ft.  \n",
       "12     ₹31,522/MonthEstimated EMI      ₹55 Lacs₹4,189 per sq.ft.  \n",
       "13  ₹1.89 Lacs/MonthEstimated EMI   ₹3.3 Crores₹9,429 per sq.ft.  \n",
       "14     ₹85,971/MonthEstimated EMI   ₹1.5 Crores₹5,769 per sq.ft.  \n",
       "15     ₹74,508/MonthEstimated EMI   ₹1.3 Crores₹6,842 per sq.ft.  \n",
       "16     ₹31,522/MonthEstimated EMI      ₹55 Lacs₹5,238 per sq.ft.  \n",
       "17     ₹28,657/MonthEstimated EMI      ₹50 Lacs₹4,730 per sq.ft.  \n",
       "18     ₹17,194/MonthEstimated EMI     ₹30 Lacs₹11,111 per sq.ft.  \n",
       "19     ₹60,180/MonthEstimated EMI  ₹1.05 Crores₹5,276 per sq.ft.  \n",
       "20     ₹37,254/MonthEstimated EMI      ₹65 Lacs₹4,727 per sq.ft.  \n",
       "21     ₹94,141/MonthEstimated EMI  ₹1.64 Crores₹6,650 per sq.ft.  \n",
       "22     ₹40,120/MonthEstimated EMI      ₹70 Lacs₹8,750 per sq.ft.  \n",
       "23     ₹27,510/MonthEstimated EMI      ₹48 Lacs₹3,840 per sq.ft.  \n",
       "24     ₹31,522/MonthEstimated EMI      ₹55 Lacs₹5,238 per sq.ft.  "
      ]
     },
     "execution_count": 25,
     "metadata": {},
     "output_type": "execute_result"
    }
   ],
   "source": [
    "df"
   ]
  },
  {
   "cell_type": "markdown",
   "id": "aae8756d",
   "metadata": {},
   "source": [
    "# 9) Write a python program to scrape mentioned details from dineout.co.in :\n"
   ]
  },
  {
   "cell_type": "raw",
   "id": "02cb8fdc",
   "metadata": {},
   "source": [
    "i) Restaurant name\n",
    "ii) Cuisine\n",
    "iii) Location\n",
    "iv) Ratings\n",
    "v) Image URL"
   ]
  },
  {
   "cell_type": "code",
   "execution_count": 33,
   "id": "2bac7e50",
   "metadata": {},
   "outputs": [],
   "source": [
    "from bs4 import BeautifulSoup\n",
    "import requests"
   ]
  },
  {
   "cell_type": "code",
   "execution_count": 34,
   "id": "6dd68e0d",
   "metadata": {},
   "outputs": [
    {
     "data": {
      "text/plain": [
       "<Response [200]>"
      ]
     },
     "execution_count": 34,
     "metadata": {},
     "output_type": "execute_result"
    }
   ],
   "source": [
    "page=requests.get('https://www.dineout.co.in/delhi-restaurants/welcome-back')\n",
    "page"
   ]
  },
  {
   "cell_type": "code",
   "execution_count": null,
   "id": "0b884882",
   "metadata": {},
   "outputs": [],
   "source": [
    "soup=BeautifulSoup(page.content)\n",
    "soup"
   ]
  },
  {
   "cell_type": "raw",
   "id": "6cf28435",
   "metadata": {},
   "source": [
    "i) Restaurant name"
   ]
  },
  {
   "cell_type": "code",
   "execution_count": 37,
   "id": "4e3f221d",
   "metadata": {},
   "outputs": [],
   "source": [
    "restaurant_name=[]"
   ]
  },
  {
   "cell_type": "code",
   "execution_count": 38,
   "id": "79f43bba",
   "metadata": {},
   "outputs": [],
   "source": [
    "for i in soup.find_all('div',class_='restnt-info cursor'):\n",
    "    restaurant_name.append(i.text)"
   ]
  },
  {
   "cell_type": "code",
   "execution_count": null,
   "id": "82a8af87",
   "metadata": {},
   "outputs": [],
   "source": [
    "restaurant_name"
   ]
  },
  {
   "cell_type": "raw",
   "id": "1bf0ebc4",
   "metadata": {},
   "source": [
    "ii) Cuisine"
   ]
  },
  {
   "cell_type": "code",
   "execution_count": 40,
   "id": "828e28d8",
   "metadata": {},
   "outputs": [],
   "source": [
    "#price and cuisine both are attached so here we canot find only cuisin"
   ]
  },
  {
   "cell_type": "code",
   "execution_count": 43,
   "id": "725733c9",
   "metadata": {},
   "outputs": [],
   "source": [
    "price_n_cuisine=[]"
   ]
  },
  {
   "cell_type": "code",
   "execution_count": 45,
   "id": "fb90c7f7",
   "metadata": {},
   "outputs": [],
   "source": [
    "for i in soup.find_all('span',class_='double-line-ellipsis'):\n",
    "    price_n_cuisine.append(i.text)"
   ]
  },
  {
   "cell_type": "code",
   "execution_count": null,
   "id": "f5eee9a2",
   "metadata": {},
   "outputs": [],
   "source": [
    "price_n_cuisine"
   ]
  },
  {
   "cell_type": "raw",
   "id": "c9fa3614",
   "metadata": {},
   "source": [
    "iii) Location"
   ]
  },
  {
   "cell_type": "code",
   "execution_count": 47,
   "id": "ffa3d06c",
   "metadata": {},
   "outputs": [],
   "source": [
    "location=[]"
   ]
  },
  {
   "cell_type": "code",
   "execution_count": 48,
   "id": "4c6ef33a",
   "metadata": {},
   "outputs": [],
   "source": [
    "for i in soup.find_all('div',class_='restnt-loc ellipsis'):\n",
    "    location.append(i.text)"
   ]
  },
  {
   "cell_type": "code",
   "execution_count": null,
   "id": "ab83e4c6",
   "metadata": {},
   "outputs": [],
   "source": [
    "location"
   ]
  },
  {
   "cell_type": "raw",
   "id": "629bc6cb",
   "metadata": {},
   "source": [
    "iv) Ratings"
   ]
  },
  {
   "cell_type": "code",
   "execution_count": 50,
   "id": "8c9b87b4",
   "metadata": {},
   "outputs": [],
   "source": [
    "ratings=[]"
   ]
  },
  {
   "cell_type": "code",
   "execution_count": 52,
   "id": "8cd28639",
   "metadata": {},
   "outputs": [],
   "source": [
    "for i in soup.find_all('div',class_='restnt-rating rating-4'):\n",
    "    ratings.append(i.text)"
   ]
  },
  {
   "cell_type": "code",
   "execution_count": null,
   "id": "7065662f",
   "metadata": {},
   "outputs": [],
   "source": [
    "ratings"
   ]
  },
  {
   "cell_type": "raw",
   "id": "49515406",
   "metadata": {},
   "source": [
    "v) Image URL"
   ]
  },
  {
   "cell_type": "code",
   "execution_count": 54,
   "id": "8f0407f9",
   "metadata": {},
   "outputs": [],
   "source": [
    "image_url=[]"
   ]
  },
  {
   "cell_type": "code",
   "execution_count": 55,
   "id": "531e2137",
   "metadata": {},
   "outputs": [],
   "source": [
    "for i in soup.find_all('img',class_='no-img'):\n",
    "    image_url.append(i['data-src'])"
   ]
  },
  {
   "cell_type": "code",
   "execution_count": null,
   "id": "13e7eaea",
   "metadata": {},
   "outputs": [],
   "source": [
    "image_url"
   ]
  },
  {
   "cell_type": "code",
   "execution_count": 57,
   "id": "77205645",
   "metadata": {},
   "outputs": [
    {
     "name": "stdout",
     "output_type": "stream",
     "text": [
      "21 21 21 21 21\n"
     ]
    }
   ],
   "source": [
    "print(len(restaurant_name),len(price_n_cuisine),len(location),len(ratings),len(image_url))"
   ]
  },
  {
   "cell_type": "code",
   "execution_count": 58,
   "id": "491673c0",
   "metadata": {},
   "outputs": [],
   "source": [
    "import pandas as pd"
   ]
  },
  {
   "cell_type": "code",
   "execution_count": 61,
   "id": "2cc86a5f",
   "metadata": {},
   "outputs": [],
   "source": [
    "df=pd.DataFrame({'Restaurant Name':restaurant_name,'Cuisine & Price':price_n_cuisine,'Location':location,'Ratings':ratings,'Image URL':image_url})"
   ]
  },
  {
   "cell_type": "code",
   "execution_count": 62,
   "id": "1ae160b5",
   "metadata": {},
   "outputs": [
    {
     "data": {
      "text/html": [
       "<div>\n",
       "<style scoped>\n",
       "    .dataframe tbody tr th:only-of-type {\n",
       "        vertical-align: middle;\n",
       "    }\n",
       "\n",
       "    .dataframe tbody tr th {\n",
       "        vertical-align: top;\n",
       "    }\n",
       "\n",
       "    .dataframe thead th {\n",
       "        text-align: right;\n",
       "    }\n",
       "</style>\n",
       "<table border=\"1\" class=\"dataframe\">\n",
       "  <thead>\n",
       "    <tr style=\"text-align: right;\">\n",
       "      <th></th>\n",
       "      <th>Restaurant Name</th>\n",
       "      <th>Cuisine &amp; Price</th>\n",
       "      <th>Location</th>\n",
       "      <th>Ratings</th>\n",
       "      <th>Image URL</th>\n",
       "    </tr>\n",
       "  </thead>\n",
       "  <tbody>\n",
       "    <tr>\n",
       "      <th>0</th>\n",
       "      <td>TamashaConnaught Place, Central Delhi</td>\n",
       "      <td>₹ 2,000 for 2 (approx) | Continental, Asian, I...</td>\n",
       "      <td>Connaught Place, Central Delhi</td>\n",
       "      <td>4.2</td>\n",
       "      <td>https://im1.dineout.co.in/images/uploads/resta...</td>\n",
       "    </tr>\n",
       "    <tr>\n",
       "      <th>1</th>\n",
       "      <td>LocalScindia House,Connaught Place, Central Delhi</td>\n",
       "      <td>₹ 2,000 for 2 (approx) | North Indian, Asian, ...</td>\n",
       "      <td>Scindia House,Connaught Place, Central Delhi</td>\n",
       "      <td>4</td>\n",
       "      <td>https://im1.dineout.co.in/images/uploads/resta...</td>\n",
       "    </tr>\n",
       "    <tr>\n",
       "      <th>2</th>\n",
       "      <td>Unplugged CourtyardConnaught Place, Central Delhi</td>\n",
       "      <td>₹ 3,300 for 2 (approx) | North Indian, Italian...</td>\n",
       "      <td>Connaught Place, Central Delhi</td>\n",
       "      <td>4</td>\n",
       "      <td>https://im1.dineout.co.in/images/uploads/resta...</td>\n",
       "    </tr>\n",
       "    <tr>\n",
       "      <th>3</th>\n",
       "      <td>The G.T. ROADM-Block,Connaught Place, Central ...</td>\n",
       "      <td>₹ 1,400 for 2 (approx) | North Indian</td>\n",
       "      <td>M-Block,Connaught Place, Central Delhi</td>\n",
       "      <td>4.3</td>\n",
       "      <td>https://im1.dineout.co.in/images/uploads/resta...</td>\n",
       "    </tr>\n",
       "    <tr>\n",
       "      <th>4</th>\n",
       "      <td>Ministry Of BeerM-Block,Connaught Place, Centr...</td>\n",
       "      <td>₹ 3,000 for 2 (approx) | North Indian, Contine...</td>\n",
       "      <td>M-Block,Connaught Place, Central Delhi</td>\n",
       "      <td>4</td>\n",
       "      <td>https://im1.dineout.co.in/images/uploads/resta...</td>\n",
       "    </tr>\n",
       "    <tr>\n",
       "      <th>5</th>\n",
       "      <td>Connaught Clubhouse MicrobreweryConnaught Plac...</td>\n",
       "      <td>₹ 1,600 for 2 (approx) | North Indian, Italian...</td>\n",
       "      <td>Connaught Place, Central Delhi</td>\n",
       "      <td>4.2</td>\n",
       "      <td>https://im1.dineout.co.in/images/uploads/resta...</td>\n",
       "    </tr>\n",
       "    <tr>\n",
       "      <th>6</th>\n",
       "      <td>Warehouse CafeConnaught Place, Central Delhi</td>\n",
       "      <td>₹ 2,500 for 2 (approx) | North Indian, Chinese...</td>\n",
       "      <td>Connaught Place, Central Delhi</td>\n",
       "      <td>4.1</td>\n",
       "      <td>https://im1.dineout.co.in/images/uploads/resta...</td>\n",
       "    </tr>\n",
       "    <tr>\n",
       "      <th>7</th>\n",
       "      <td>Chili's American Grill and BarM-Block,Connaugh...</td>\n",
       "      <td>₹ 2,000 for 2 (approx) | Mexican, American, Te...</td>\n",
       "      <td>M-Block,Connaught Place, Central Delhi</td>\n",
       "      <td>4.3</td>\n",
       "      <td>https://im1.dineout.co.in/images/uploads/resta...</td>\n",
       "    </tr>\n",
       "    <tr>\n",
       "      <th>8</th>\n",
       "      <td>Openhouse CafeConnaught Place, Central Delhi</td>\n",
       "      <td>₹ 2,000 for 2 (approx) | North Indian, Asian, ...</td>\n",
       "      <td>Connaught Place, Central Delhi</td>\n",
       "      <td>4.1</td>\n",
       "      <td>https://im1.dineout.co.in/images/uploads/resta...</td>\n",
       "    </tr>\n",
       "    <tr>\n",
       "      <th>9</th>\n",
       "      <td>SandozConnaught Place, Central Delhi</td>\n",
       "      <td>₹ 1,400 for 2 (approx) | North Indian, Chinese...</td>\n",
       "      <td>Connaught Place, Central Delhi</td>\n",
       "      <td>4</td>\n",
       "      <td>https://im1.dineout.co.in/images/uploads/resta...</td>\n",
       "    </tr>\n",
       "    <tr>\n",
       "      <th>10</th>\n",
       "      <td>The Junkyard CafeConnaught Place, Central Delhi</td>\n",
       "      <td>₹ 2,100 for 2 (approx) | North Indian, Contine...</td>\n",
       "      <td>Connaught Place, Central Delhi</td>\n",
       "      <td>4.1</td>\n",
       "      <td>https://im1.dineout.co.in/images/uploads/resta...</td>\n",
       "    </tr>\n",
       "    <tr>\n",
       "      <th>11</th>\n",
       "      <td>Lord of the DrinksConnaught Place, Central Delhi</td>\n",
       "      <td>₹ 2,500 for 2 (approx) | Chinese, North Indian...</td>\n",
       "      <td>Connaught Place, Central Delhi</td>\n",
       "      <td>4.2</td>\n",
       "      <td>https://im1.dineout.co.in/images/uploads/resta...</td>\n",
       "    </tr>\n",
       "    <tr>\n",
       "      <th>12</th>\n",
       "      <td>Berco'sConnaught Place, Central Delhi</td>\n",
       "      <td>₹ 1,300 for 2 (approx) | Chinese</td>\n",
       "      <td>Connaught Place, Central Delhi</td>\n",
       "      <td>4.3</td>\n",
       "      <td>https://im1.dineout.co.in/images/uploads/resta...</td>\n",
       "    </tr>\n",
       "    <tr>\n",
       "      <th>13</th>\n",
       "      <td>QBAConnaught Place, Central Delhi</td>\n",
       "      <td>₹ 2,100 for 2 (approx) | North Indian, Contine...</td>\n",
       "      <td>Connaught Place, Central Delhi</td>\n",
       "      <td>4.3</td>\n",
       "      <td>https://im1.dineout.co.in/images/uploads/resta...</td>\n",
       "    </tr>\n",
       "    <tr>\n",
       "      <th>14</th>\n",
       "      <td>High 5 - Everyday Wholesale BarConnaught Place...</td>\n",
       "      <td>₹ 1,700 for 2 (approx) | North Indian, Contine...</td>\n",
       "      <td>Connaught Place, Central Delhi</td>\n",
       "      <td>3.9</td>\n",
       "      <td>https://im1.dineout.co.in/images/uploads/resta...</td>\n",
       "    </tr>\n",
       "    <tr>\n",
       "      <th>15</th>\n",
       "      <td>The Imperial SpiceM-Block,Connaught Place, Cen...</td>\n",
       "      <td>₹ 3,000 for 2 (approx) | North Indian, Contine...</td>\n",
       "      <td>M-Block,Connaught Place, Central Delhi</td>\n",
       "      <td>4.4</td>\n",
       "      <td>https://im1.dineout.co.in/images/uploads/resta...</td>\n",
       "    </tr>\n",
       "    <tr>\n",
       "      <th>16</th>\n",
       "      <td>ChidoConnaught Place, Central Delhi</td>\n",
       "      <td>₹ 1,800 for 2 (approx) | North Indian, Italian...</td>\n",
       "      <td>Connaught Place, Central Delhi</td>\n",
       "      <td>4.2</td>\n",
       "      <td>https://im1.dineout.co.in/images/uploads/resta...</td>\n",
       "    </tr>\n",
       "    <tr>\n",
       "      <th>17</th>\n",
       "      <td>My Bar SquareConnaught Place, Central Delhi</td>\n",
       "      <td>₹ 2,000 for 2 (approx) | Finger Food, Chinese,...</td>\n",
       "      <td>Connaught Place, Central Delhi</td>\n",
       "      <td>3.8</td>\n",
       "      <td>https://im1.dineout.co.in/images/uploads/resta...</td>\n",
       "    </tr>\n",
       "    <tr>\n",
       "      <th>18</th>\n",
       "      <td>Out Of The Box CourtyardConnaught Place, Centr...</td>\n",
       "      <td>₹ 2,200 for 2 (approx) | North Indian, Mediter...</td>\n",
       "      <td>Connaught Place, Central Delhi</td>\n",
       "      <td>4.1</td>\n",
       "      <td>https://im1.dineout.co.in/images/uploads/resta...</td>\n",
       "    </tr>\n",
       "    <tr>\n",
       "      <th>19</th>\n",
       "      <td>Oh My GodF-Block,Connaught Place, Central Delhi</td>\n",
       "      <td>₹ 1,100 for 2 (approx) | Continental, North In...</td>\n",
       "      <td>F-Block,Connaught Place, Central Delhi</td>\n",
       "      <td>4</td>\n",
       "      <td>https://im1.dineout.co.in/images/uploads/resta...</td>\n",
       "    </tr>\n",
       "    <tr>\n",
       "      <th>20</th>\n",
       "      <td>The Luggage Room By SandozM-Block,Connaught Pl...</td>\n",
       "      <td>₹ 1,600 for 2 (approx) | Chinese, Italian, Nor...</td>\n",
       "      <td>M-Block,Connaught Place, Central Delhi</td>\n",
       "      <td>3.9</td>\n",
       "      <td>https://im1.dineout.co.in/images/uploads/resta...</td>\n",
       "    </tr>\n",
       "  </tbody>\n",
       "</table>\n",
       "</div>"
      ],
      "text/plain": [
       "                                      Restaurant Name  \\\n",
       "0               TamashaConnaught Place, Central Delhi   \n",
       "1   LocalScindia House,Connaught Place, Central Delhi   \n",
       "2   Unplugged CourtyardConnaught Place, Central Delhi   \n",
       "3   The G.T. ROADM-Block,Connaught Place, Central ...   \n",
       "4   Ministry Of BeerM-Block,Connaught Place, Centr...   \n",
       "5   Connaught Clubhouse MicrobreweryConnaught Plac...   \n",
       "6        Warehouse CafeConnaught Place, Central Delhi   \n",
       "7   Chili's American Grill and BarM-Block,Connaugh...   \n",
       "8        Openhouse CafeConnaught Place, Central Delhi   \n",
       "9                SandozConnaught Place, Central Delhi   \n",
       "10    The Junkyard CafeConnaught Place, Central Delhi   \n",
       "11   Lord of the DrinksConnaught Place, Central Delhi   \n",
       "12              Berco'sConnaught Place, Central Delhi   \n",
       "13                  QBAConnaught Place, Central Delhi   \n",
       "14  High 5 - Everyday Wholesale BarConnaught Place...   \n",
       "15  The Imperial SpiceM-Block,Connaught Place, Cen...   \n",
       "16                ChidoConnaught Place, Central Delhi   \n",
       "17        My Bar SquareConnaught Place, Central Delhi   \n",
       "18  Out Of The Box CourtyardConnaught Place, Centr...   \n",
       "19    Oh My GodF-Block,Connaught Place, Central Delhi   \n",
       "20  The Luggage Room By SandozM-Block,Connaught Pl...   \n",
       "\n",
       "                                      Cuisine & Price  \\\n",
       "0   ₹ 2,000 for 2 (approx) | Continental, Asian, I...   \n",
       "1   ₹ 2,000 for 2 (approx) | North Indian, Asian, ...   \n",
       "2   ₹ 3,300 for 2 (approx) | North Indian, Italian...   \n",
       "3               ₹ 1,400 for 2 (approx) | North Indian   \n",
       "4   ₹ 3,000 for 2 (approx) | North Indian, Contine...   \n",
       "5   ₹ 1,600 for 2 (approx) | North Indian, Italian...   \n",
       "6   ₹ 2,500 for 2 (approx) | North Indian, Chinese...   \n",
       "7   ₹ 2,000 for 2 (approx) | Mexican, American, Te...   \n",
       "8   ₹ 2,000 for 2 (approx) | North Indian, Asian, ...   \n",
       "9   ₹ 1,400 for 2 (approx) | North Indian, Chinese...   \n",
       "10  ₹ 2,100 for 2 (approx) | North Indian, Contine...   \n",
       "11  ₹ 2,500 for 2 (approx) | Chinese, North Indian...   \n",
       "12                   ₹ 1,300 for 2 (approx) | Chinese   \n",
       "13  ₹ 2,100 for 2 (approx) | North Indian, Contine...   \n",
       "14  ₹ 1,700 for 2 (approx) | North Indian, Contine...   \n",
       "15  ₹ 3,000 for 2 (approx) | North Indian, Contine...   \n",
       "16  ₹ 1,800 for 2 (approx) | North Indian, Italian...   \n",
       "17  ₹ 2,000 for 2 (approx) | Finger Food, Chinese,...   \n",
       "18  ₹ 2,200 for 2 (approx) | North Indian, Mediter...   \n",
       "19  ₹ 1,100 for 2 (approx) | Continental, North In...   \n",
       "20  ₹ 1,600 for 2 (approx) | Chinese, Italian, Nor...   \n",
       "\n",
       "                                        Location Ratings  \\\n",
       "0                 Connaught Place, Central Delhi     4.2   \n",
       "1   Scindia House,Connaught Place, Central Delhi       4   \n",
       "2                 Connaught Place, Central Delhi       4   \n",
       "3         M-Block,Connaught Place, Central Delhi     4.3   \n",
       "4         M-Block,Connaught Place, Central Delhi       4   \n",
       "5                 Connaught Place, Central Delhi     4.2   \n",
       "6                 Connaught Place, Central Delhi     4.1   \n",
       "7         M-Block,Connaught Place, Central Delhi     4.3   \n",
       "8                 Connaught Place, Central Delhi     4.1   \n",
       "9                 Connaught Place, Central Delhi       4   \n",
       "10                Connaught Place, Central Delhi     4.1   \n",
       "11                Connaught Place, Central Delhi     4.2   \n",
       "12                Connaught Place, Central Delhi     4.3   \n",
       "13                Connaught Place, Central Delhi     4.3   \n",
       "14                Connaught Place, Central Delhi     3.9   \n",
       "15        M-Block,Connaught Place, Central Delhi     4.4   \n",
       "16                Connaught Place, Central Delhi     4.2   \n",
       "17                Connaught Place, Central Delhi     3.8   \n",
       "18                Connaught Place, Central Delhi     4.1   \n",
       "19        F-Block,Connaught Place, Central Delhi       4   \n",
       "20        M-Block,Connaught Place, Central Delhi     3.9   \n",
       "\n",
       "                                            Image URL  \n",
       "0   https://im1.dineout.co.in/images/uploads/resta...  \n",
       "1   https://im1.dineout.co.in/images/uploads/resta...  \n",
       "2   https://im1.dineout.co.in/images/uploads/resta...  \n",
       "3   https://im1.dineout.co.in/images/uploads/resta...  \n",
       "4   https://im1.dineout.co.in/images/uploads/resta...  \n",
       "5   https://im1.dineout.co.in/images/uploads/resta...  \n",
       "6   https://im1.dineout.co.in/images/uploads/resta...  \n",
       "7   https://im1.dineout.co.in/images/uploads/resta...  \n",
       "8   https://im1.dineout.co.in/images/uploads/resta...  \n",
       "9   https://im1.dineout.co.in/images/uploads/resta...  \n",
       "10  https://im1.dineout.co.in/images/uploads/resta...  \n",
       "11  https://im1.dineout.co.in/images/uploads/resta...  \n",
       "12  https://im1.dineout.co.in/images/uploads/resta...  \n",
       "13  https://im1.dineout.co.in/images/uploads/resta...  \n",
       "14  https://im1.dineout.co.in/images/uploads/resta...  \n",
       "15  https://im1.dineout.co.in/images/uploads/resta...  \n",
       "16  https://im1.dineout.co.in/images/uploads/resta...  \n",
       "17  https://im1.dineout.co.in/images/uploads/resta...  \n",
       "18  https://im1.dineout.co.in/images/uploads/resta...  \n",
       "19  https://im1.dineout.co.in/images/uploads/resta...  \n",
       "20  https://im1.dineout.co.in/images/uploads/resta...  "
      ]
     },
     "execution_count": 62,
     "metadata": {},
     "output_type": "execute_result"
    }
   ],
   "source": [
    "df"
   ]
  },
  {
   "cell_type": "markdown",
   "id": "d27fb761",
   "metadata": {},
   "source": [
    "# 10) Write a python program to scrape first 10 product details which include product name , price , Image URL from\n",
    "https://www.bewakoof.com/women-tshirts?ga_q=tshirts ."
   ]
  },
  {
   "cell_type": "code",
   "execution_count": 63,
   "id": "e9c9ee38",
   "metadata": {},
   "outputs": [],
   "source": [
    "from bs4 import BeautifulSoup\n",
    "import requests"
   ]
  },
  {
   "cell_type": "code",
   "execution_count": null,
   "id": "3819e7a8",
   "metadata": {},
   "outputs": [],
   "source": [
    "page=requests.get('https://www.bewakoof.com/women-clothing/category-t-shirt')\n",
    "page"
   ]
  },
  {
   "cell_type": "code",
   "execution_count": null,
   "id": "360c87cc",
   "metadata": {},
   "outputs": [],
   "source": [
    "soup=BeautifulSoup(page.content)\n",
    "soup"
   ]
  },
  {
   "cell_type": "code",
   "execution_count": 66,
   "id": "6048cf1b",
   "metadata": {},
   "outputs": [],
   "source": [
    "product_name=[]"
   ]
  },
  {
   "cell_type": "code",
   "execution_count": 67,
   "id": "b0bdbb95",
   "metadata": {},
   "outputs": [],
   "source": [
    "for i in soup.find_all('div',class_='productCardDetail'):\n",
    "    product_name.append(i.text)"
   ]
  },
  {
   "cell_type": "code",
   "execution_count": null,
   "id": "2ba192ab",
   "metadata": {},
   "outputs": [],
   "source": [
    "product_name"
   ]
  },
  {
   "cell_type": "code",
   "execution_count": 69,
   "id": "58fe1283",
   "metadata": {},
   "outputs": [],
   "source": [
    "price=[]"
   ]
  },
  {
   "cell_type": "code",
   "execution_count": 71,
   "id": "f31ef43c",
   "metadata": {},
   "outputs": [],
   "source": [
    "for i in soup.find_all('span',class_='discountedPriceText'):\n",
    "    price.append(i.text)"
   ]
  },
  {
   "cell_type": "code",
   "execution_count": null,
   "id": "3f5ce3f6",
   "metadata": {},
   "outputs": [],
   "source": [
    "price"
   ]
  },
  {
   "cell_type": "code",
   "execution_count": 73,
   "id": "f4803f15",
   "metadata": {},
   "outputs": [],
   "source": [
    "image_url=[]"
   ]
  },
  {
   "cell_type": "code",
   "execution_count": 74,
   "id": "a5c025a5",
   "metadata": {},
   "outputs": [],
   "source": [
    "for i in soup.find_all('img',class_='productImgTag'):\n",
    "    image_url.append(i['src'])"
   ]
  },
  {
   "cell_type": "code",
   "execution_count": null,
   "id": "8e78172f",
   "metadata": {},
   "outputs": [],
   "source": [
    "image_url"
   ]
  },
  {
   "cell_type": "code",
   "execution_count": null,
   "id": "9a71e85a",
   "metadata": {},
   "outputs": [],
   "source": [
    "print(len(product_name),len(price),len(image_url))"
   ]
  },
  {
   "cell_type": "code",
   "execution_count": 77,
   "id": "e5008a0c",
   "metadata": {},
   "outputs": [],
   "source": [
    "import pandas as pd"
   ]
  },
  {
   "cell_type": "code",
   "execution_count": 78,
   "id": "6e55f73c",
   "metadata": {},
   "outputs": [],
   "source": [
    "df=pd.DataFrame({'Product Name':product_name,'Price':price,'Image URL':image_url})"
   ]
  },
  {
   "cell_type": "code",
   "execution_count": 79,
   "id": "33726fb5",
   "metadata": {},
   "outputs": [
    {
     "data": {
      "text/html": [
       "<div>\n",
       "<style scoped>\n",
       "    .dataframe tbody tr th:only-of-type {\n",
       "        vertical-align: middle;\n",
       "    }\n",
       "\n",
       "    .dataframe tbody tr th {\n",
       "        vertical-align: top;\n",
       "    }\n",
       "\n",
       "    .dataframe thead th {\n",
       "        text-align: right;\n",
       "    }\n",
       "</style>\n",
       "<table border=\"1\" class=\"dataframe\">\n",
       "  <thead>\n",
       "    <tr style=\"text-align: right;\">\n",
       "      <th></th>\n",
       "      <th>Product Name</th>\n",
       "      <th>Price</th>\n",
       "      <th>Image URL</th>\n",
       "    </tr>\n",
       "  </thead>\n",
       "  <tbody>\n",
       "    <tr>\n",
       "      <th>0</th>\n",
       "      <td>Women's Black T-shirt₹ 299399₹269For TriBe Mem...</td>\n",
       "      <td>₹ 299</td>\n",
       "      <td>https://images.bewakoof.com/t320/jet-black-rou...</td>\n",
       "    </tr>\n",
       "    <tr>\n",
       "      <th>1</th>\n",
       "      <td>White Round Neck 3/4th Sleeve T-Shirt₹ 299399₹...</td>\n",
       "      <td>₹ 299</td>\n",
       "      <td>https://images.bewakoof.com/t320/white-round-n...</td>\n",
       "    </tr>\n",
       "    <tr>\n",
       "      <th>2</th>\n",
       "      <td>Women's Blue Slim Fit T-shirt₹ 299399₹269For T...</td>\n",
       "      <td>₹ 299</td>\n",
       "      <td>https://images.bewakoof.com/t320/navy-blue-rou...</td>\n",
       "    </tr>\n",
       "    <tr>\n",
       "      <th>3</th>\n",
       "      <td>Jet Black Full Sleeve T-Shirt₹ 299999FEW LEFT₹...</td>\n",
       "      <td>₹ 299</td>\n",
       "      <td>https://images.bewakoof.com/t320/jet-black-ful...</td>\n",
       "    </tr>\n",
       "    <tr>\n",
       "      <th>4</th>\n",
       "      <td>Women's Black Life is Tough Typography Oversiz...</td>\n",
       "      <td>₹ 699</td>\n",
       "      <td>https://images.bewakoof.com/t320/women-s-black...</td>\n",
       "    </tr>\n",
       "    <tr>\n",
       "      <th>5</th>\n",
       "      <td>Women's Yellow San Francisco Printed Oversized...</td>\n",
       "      <td>₹ 559</td>\n",
       "      <td>https://images.bewakoof.com/t320/women-s-yello...</td>\n",
       "    </tr>\n",
       "    <tr>\n",
       "      <th>6</th>\n",
       "      <td>Women's Orange Bold and Brave Typography Overs...</td>\n",
       "      <td>₹ 559</td>\n",
       "      <td>https://images.bewakoof.com/t320/women-s-orang...</td>\n",
       "    </tr>\n",
       "    <tr>\n",
       "      <th>7</th>\n",
       "      <td>Women's Brown Justice Printed Oversized T-shir...</td>\n",
       "      <td>₹ 559</td>\n",
       "      <td>https://images.bewakoof.com/t320/women-s-brown...</td>\n",
       "    </tr>\n",
       "    <tr>\n",
       "      <th>8</th>\n",
       "      <td>Women's Purple Smiley Faces Printed Oversized ...</td>\n",
       "      <td>₹ 699</td>\n",
       "      <td>https://images.bewakoof.com/t320/women-s-purpl...</td>\n",
       "    </tr>\n",
       "    <tr>\n",
       "      <th>9</th>\n",
       "      <td>Women's Orange Ambassador Printed Oversized T-...</td>\n",
       "      <td>₹ 559</td>\n",
       "      <td>https://images.bewakoof.com/t320/women-s-orang...</td>\n",
       "    </tr>\n",
       "  </tbody>\n",
       "</table>\n",
       "</div>"
      ],
      "text/plain": [
       "                                        Product Name  Price  \\\n",
       "0  Women's Black T-shirt₹ 299399₹269For TriBe Mem...  ₹ 299   \n",
       "1  White Round Neck 3/4th Sleeve T-Shirt₹ 299399₹...  ₹ 299   \n",
       "2  Women's Blue Slim Fit T-shirt₹ 299399₹269For T...  ₹ 299   \n",
       "3  Jet Black Full Sleeve T-Shirt₹ 299999FEW LEFT₹...  ₹ 299   \n",
       "4  Women's Black Life is Tough Typography Oversiz...  ₹ 699   \n",
       "5  Women's Yellow San Francisco Printed Oversized...  ₹ 559   \n",
       "6  Women's Orange Bold and Brave Typography Overs...  ₹ 559   \n",
       "7  Women's Brown Justice Printed Oversized T-shir...  ₹ 559   \n",
       "8  Women's Purple Smiley Faces Printed Oversized ...  ₹ 699   \n",
       "9  Women's Orange Ambassador Printed Oversized T-...  ₹ 559   \n",
       "\n",
       "                                           Image URL  \n",
       "0  https://images.bewakoof.com/t320/jet-black-rou...  \n",
       "1  https://images.bewakoof.com/t320/white-round-n...  \n",
       "2  https://images.bewakoof.com/t320/navy-blue-rou...  \n",
       "3  https://images.bewakoof.com/t320/jet-black-ful...  \n",
       "4  https://images.bewakoof.com/t320/women-s-black...  \n",
       "5  https://images.bewakoof.com/t320/women-s-yello...  \n",
       "6  https://images.bewakoof.com/t320/women-s-orang...  \n",
       "7  https://images.bewakoof.com/t320/women-s-brown...  \n",
       "8  https://images.bewakoof.com/t320/women-s-purpl...  \n",
       "9  https://images.bewakoof.com/t320/women-s-orang...  "
      ]
     },
     "execution_count": 79,
     "metadata": {},
     "output_type": "execute_result"
    }
   ],
   "source": [
    "df"
   ]
  },
  {
   "cell_type": "code",
   "execution_count": null,
   "id": "6a804a6e",
   "metadata": {},
   "outputs": [],
   "source": []
  }
 ],
 "metadata": {
  "kernelspec": {
   "display_name": "Python 3 (ipykernel)",
   "language": "python",
   "name": "python3"
  },
  "language_info": {
   "codemirror_mode": {
    "name": "ipython",
    "version": 3
   },
   "file_extension": ".py",
   "mimetype": "text/x-python",
   "name": "python",
   "nbconvert_exporter": "python",
   "pygments_lexer": "ipython3",
   "version": "3.9.7"
  }
 },
 "nbformat": 4,
 "nbformat_minor": 5
}
